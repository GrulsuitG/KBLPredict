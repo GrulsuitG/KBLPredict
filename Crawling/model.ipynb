{
 "cells": [
  {
   "cell_type": "code",
   "execution_count": 170,
   "metadata": {
    "collapsed": true
   },
   "outputs": [],
   "source": [
    "import numpy as np\n",
    "import matplotlib.pyplot as plt\n",
    "import pandas as pd\n",
    "import seaborn as sns\n",
    "from sklearn.model_selection import train_test_split\n",
    "from sklearn.linear_model import LinearRegression\n",
    "from sklearn.metrics import mean_squared_error"
   ]
  },
  {
   "cell_type": "code",
   "execution_count": 171,
   "metadata": {
    "collapsed": false,
    "pycharm": {
     "name": "#%%\n"
    }
   },
   "outputs": [],
   "source": [
    "import pymysql\n",
    "import json\n",
    "import warnings\n",
    "import DB\n"
   ]
  },
  {
   "cell_type": "code",
   "execution_count": 152,
   "metadata": {
    "collapsed": false,
    "pycharm": {
     "name": "#%%\n"
    }
   },
   "outputs": [
    {
     "name": "stdout",
     "output_type": "stream",
     "text": [
      "Connect!\n"
     ]
    }
   ],
   "source": [
    "# db.cursor.execute('select * from team_record_merge')\n",
    "# data = pd.DataFrame(db.cursor.fetchall())\n"
   ]
  },
  {
   "cell_type": "code",
   "execution_count": 115,
   "metadata": {},
   "outputs": [],
   "source": [
    "# data = data.drop(3911) # 결측치 제거\n",
    "# data = data.drop(3258)"
   ]
  },
  {
   "cell_type": "code",
   "execution_count": 183,
   "metadata": {},
   "outputs": [],
   "source": [
    "def make_data(home, away):\n",
    "  result = pd.DataFrame()\n",
    "  # 어시스트 -> 어시스트 / 필드골 성공\n",
    "  for idx in range(home.shape[0]):\n",
    "    h_data, a_data = home.iloc[idx], away.iloc[idx]\n",
    "    output_data = {}\n",
    "    output_data['ast'] = h_data['ast'] / h_data['fgt']\n",
    "    # 2점\n",
    "    output_data['twop'] = h_data['fg'] / h_data['fgA']\n",
    "    # 3점\n",
    "    output_data['threep'] = h_data['threep'] / h_data['threepA']\n",
    "    # 자유투\n",
    "    output_data['freep'] = h_data['ft'] / h_data['ftA']\n",
    "    # 공격 리바\n",
    "    output_data['offr'] = h_data['offr'] / (h_data['offr'] + a_data['defr'])\n",
    "    # 속공\n",
    "    # output_data['tfb'] = h_data['tfb'] / h_data['fgt']\n",
    "    # 벤치득점\n",
    "    # output_data['bench'] = h_data['benchScoreCn'] / h_data['score']\n",
    "    # 속공득점\n",
    "    # output_data['tfbp'] = h_data['fbScoreCn'] / h_data['score']\n",
    "    # 페인트존 득점\n",
    "    output_data['ppp'] = h_data['pp'] / h_data['ppA']\n",
    "    # 덩크\n",
    "    output_data['dk'] = h_data['dk'] / h_data['dkA']\n",
    "    # 최다 연속 득점 비율\n",
    "    # output_data['maxContiScore'] = h_data['maxContiScoreCn'] / h_data['score']\n",
    "    # 최다 리드 점수차\n",
    "    # output_data['maxLeadScore'] = (h_data['score'] - a_data['score']) / h_data['maxLeadScoreCn']\n",
    "    # 득점 우위 시간\n",
    "    # output_data['scoreHighTime'] = h_data['scoreHighTimeCn'] / 2400\n",
    "    # 세컨찬스 득점\n",
    "    # output_data['secChanceScore'] = h_data['secChanceScoreCn'] / h_data['score']\n",
    "    # 턴오버\n",
    "    # output_data['to'] = (h_data['to'] + h_data['tto']) / (h_data['to'] + h_data['tto'] + a_data['to'] + a_data['tto'])\n",
    "    # output_data['to'] = (h_data['to'] + h_data['tto']) / (h_data['to'] + h_data['tto'] + a_data['to'] + a_data['tto'])\n",
    "\n",
    "    output_data['defr'] = h_data['defr'] / (a_data['offr'] + h_data['defr'])\n",
    "    output_data['stl'] = h_data['stl'] / (h_data['stl'] + a_data['stl'])\n",
    "    output_data['bs'] = h_data['bs'] / a_data['fgtA']\n",
    "    output_data['foul'] = h_data['foul'] / (h_data['foul'] + a_data['foul'])\n",
    "    output_data['tf'] = h_data['tf'] / (h_data['tf'] + a_data['tf'])\n",
    "    output_data['gd'] = h_data['gd'] / (h_data['gd'] + a_data['gd'])\n",
    "\n",
    "    output_data['score'] = h_data['score']\n",
    "    # output_data['teamR'] = h_data['teamR'] / (h_data['teamR'] + a_data['teamR'])\n",
    "    # result.append(output_data, ignore_index=True)\n",
    "    # print(output_data)\n",
    "    result = pd.concat([result, pd.DataFrame([output_data])], ignore_index=True)\n",
    "  return result"
   ]
  },
  {
   "cell_type": "code",
   "execution_count": 184,
   "metadata": {},
   "outputs": [],
   "source": [
    "def make_model(data):\n",
    "    h_data = pd.DataFrame()\n",
    "    a_data = pd.DataFrame()\n",
    "    # 어시스트 -> 어시스트 / 필드골 성공\n",
    "    h_data['ast'] = data['h_ast'] / data['h_fgt']\n",
    "    a_data['ast'] = data['a_ast'] / data['a_fgt']\n",
    "    # 2점\n",
    "    h_data['twop'] = data['h_fg'] / data['h_fgA']\n",
    "    a_data['twop'] = data['a_fg'] / data['a_fgA']\n",
    "\n",
    "    # 3점\n",
    "    h_data['threep'] = data['h_threep'] / data['h_threepA']\n",
    "    a_data['threep'] = data['a_threep'] / data['a_threepA']\n",
    "\n",
    "    # 자유투\n",
    "    h_data['freep'] = data['h_ft'] / data['h_ftA']\n",
    "    a_data['freep'] = data['a_ft'] / data['a_ftA']\n",
    "\n",
    "    # 공격 리바\n",
    "    h_data['offr'] = data['h_offr'] / (data['h_offr'] + data['a_defr'])\n",
    "    a_data['offr'] = data['a_offr'] / (data['a_offr'] + data['h_defr'])\n",
    "    # 속공\n",
    "    h_data['tfb'] = data['h_tfb'] / data['h_fgt']\n",
    "    a_data['tfb'] = data['a_tfb'] / data['a_fgt']\n",
    "\n",
    "    # 벤치득점\n",
    "    h_data['bench'] = data['h_benchScoreCn'] / data['h_score']\n",
    "    a_data['bench'] = data['a_benchScoreCn'] / data['a_score']\n",
    "\n",
    "\n",
    "    # 속공득점\n",
    "    h_data['tfbp'] = data['h_fbScoreCn'] / data['h_score']\n",
    "    a_data['tfbp'] = data['a_fbScoreCn'] / data['a_score']\n",
    "\n",
    "    # 페인트존 득점\n",
    "    h_data['ppp'] = data['h_pp'] / data['h_ppA']\n",
    "    a_data['ppp'] = data['a_pp'] / data['a_ppA']\n",
    "\n",
    "    # 덩크\n",
    "    h_data['dk'] = data['h_dk'] / data['h_dkA']\n",
    "    a_data['dk'] = data['a_dk'] / data['a_dkA']\n",
    "\n",
    "    # 최다 연속 득점 비율\n",
    "    h_data['maxContiScore'] = data['h_maxContiScoreCn'] / data['h_score']\n",
    "    a_data['maxContiScore'] = data['a_maxContiScoreCn'] / data['a_score']\n",
    "\n",
    "    # 최다 리드 점수차\n",
    "    # h_data['maxLeadScore'] = (data['h_score'] - data['a_score']) / data['h_maxLeadScoreCn']\n",
    "    # a_data['maxLeadScore'] = (data['a_score'] - data['h_score']) / data['a_maxLeadScoreCn']\n",
    "    # h_data[h_data['maxLeadScore'] < -1]\n",
    "\n",
    "    # 득점 우위 시간\n",
    "    h_data['scoreHighTime'] = data['h_scoreHighTimeCn'] / 2400\n",
    "    a_data['scoreHighTime'] = data['a_scoreHighTimeCn'] / 2400\n",
    "\n",
    "    # 세컨찬스 득점\n",
    "    h_data['secChanceScore'] = data['h_secChanceScoreCn'] / data['h_score']\n",
    "    a_data['secChanceScore'] = data['a_secChanceScoreCn'] / data['a_score']\n",
    "\n",
    "    # 턴오버\n",
    "    h_data['to'] = (data['h_to'] + data['h_tto']) / (data['h_to'] + data['h_tto'] + data['a_to'] + data['a_tto'])\n",
    "    a_data['to'] = (data['a_to'] + data['a_tto']) / (data['h_to'] + data['h_tto'] + data['a_to'] + data['a_tto'])\n",
    "\n",
    "    h_data['defr'] = data['h_defr'] / (data['a_offr'] + data['h_defr'])\n",
    "    a_data['defr'] = data['a_defr'] / (data['h_offr'] + data['a_defr'])\n",
    "    h_data['stl'] = data['h_stl'] / (data['h_stl'] + data['a_stl'])\n",
    "    a_data['stl'] = data['a_stl'] / (data['h_stl'] + data['a_stl'])\n",
    "    h_data['bs'] = data['h_bs'] / data['a_fgtA']\n",
    "    a_data['bs'] = data['a_bs'] / data['h_fgtA']\n",
    "    h_data['foul'] = data['h_foul'] / (data['h_foul'] + data['a_foul'])\n",
    "    a_data['foul'] = data['a_foul'] / (data['h_foul'] + data['a_foul'])\n",
    "    h_data['tf'] = data['h_tf'] / (data['h_tf'] + data['a_tf'])\n",
    "    a_data['tf'] = data['a_tf'] / (data['h_tf'] + data['a_tf'])\n",
    "    h_data['gd'] = data['h_gd'] / (data['h_gd'] + data['a_gd'])\n",
    "    a_data['gd'] = data['a_gd'] / (data['h_gd'] + data['a_gd'])\n",
    "    h_data['teamR'] = data['h_teamR'] / (data['h_teamR'] + data['a_teamR'])\n",
    "    a_data['teamR'] = data['a_teamR'] / (data['h_teamR'] + data['a_teamR'])\n",
    "\n",
    "    h_data = h_data.fillna(0)\n",
    "    h_data = h_data.replace([np.inf, -np.inf], 0)\n",
    "    h_data['score'] = data['h_score']\n",
    "\n",
    "    a_data = a_data.fillna(0)\n",
    "    a_data = a_data.replace([np.inf, -np.inf], 0)\n",
    "    a_data['score'] = data['a_score']\n",
    "\n",
    "    return h_data.append(a_data, ignore_index=True)"
   ]
  },
  {
   "cell_type": "code",
   "execution_count": 185,
   "metadata": {},
   "outputs": [],
   "source": [
    "#seasonKey : S19G01\n",
    "def get_keyplayer(seasonKey, team):\n",
    "    result = set()\n",
    "    season = str(int(seasonKey[1:3]) -2)\n",
    "    league = seasonKey[4:6]\n",
    "    seasonKey = 'S' + season + 'G' + league\n",
    "    db.cursor.execute('''SELECT *\n",
    "                        FROM player_avg_record\n",
    "                        WHERE seasonCode LIKE 'S{}%' and\n",
    "                        pcode IN (SELECT pcode\n",
    "                                    FROM player\n",
    "                                    WHERE tcode = '{}' and seasonCode = '{}');'''.format(season, team, season))\n",
    "    data = pd.DataFrame(db.cursor.fetchall())\n",
    "    if data.size != 0:\n",
    "        score_top_player = data.sort_values('score',ascending=False)['pcode'][:3]\n",
    "        ast_top_player = data.sort_values('ast')['pcode'][:3]\n",
    "        rb_top_player = data.sort_values('rb')['pcode'][:3]\n",
    "        for player in score_top_player:\n",
    "            result.add(player)\n",
    "        # result.add(score_top_player[0])\n",
    "        for player in ast_top_player:\n",
    "            if player in result:\n",
    "                continue\n",
    "            result.add(player)\n",
    "            # break\n",
    "        for player in rb_top_player:\n",
    "            if player in result:\n",
    "                continue\n",
    "            result.add(player)\n",
    "            # break\n",
    "        return result     \n",
    "    else:\n",
    "        return None"
   ]
  },
  {
   "cell_type": "code",
   "execution_count": 186,
   "metadata": {},
   "outputs": [],
   "source": [
    "def get_recent(players, gameCode):\n",
    "    df = pd.DataFrame()\n",
    "    for player in players:\n",
    "        db.cursor.execute(\"\"\"\n",
    "                        SELECT b.*, a.gameDate \n",
    "                        FROM game_meta a, player_record b\n",
    "                        WHERE a.gmkey = b.gmkey and b.pcode = '{}' and b.gmkey < '{}'\n",
    "                        ORDER BY gameDate desc\n",
    "                        LIMIT 5\"\"\".format(player, gameCode))\n",
    "        temp = pd.DataFrame(db.cursor.fetchall())\n",
    "        df = pd.concat([df, temp])\n",
    "    return df\n",
    "        "
   ]
  },
  {
   "cell_type": "code",
   "execution_count": 187,
   "metadata": {},
   "outputs": [],
   "source": [
    "def player_model():\n",
    "    model = pd.DataFrame()\n",
    "    # h_df = pd.DataFrame()\n",
    "    # a_df = pd.DataFrame()\n",
    "    db.cursor.execute(\"SELECT gmkey, tcodeA, tcodeH FROM hygp.game_meta where gmkey > 'S19G01N1';\")\n",
    "    records = db.cursor.fetchall()\n",
    "    for idx, record in enumerate(records):\n",
    "        gmkey = record['gmkey']\n",
    "        db.cursor.execute(\"SELECT h_score, a_score FROM hygp.team_record_merge where gmkey = '{}';\".format(gmkey))\n",
    "        score = db.cursor.fetchone()\n",
    "        home_keyplayer = get_keyplayer(gmkey[:6], record['tcodeH'])\n",
    "        away_keyplayer = get_keyplayer(gmkey[:6], record['tcodeA'])\n",
    "        if len(home_keyplayer) == 0 or len(away_keyplayer) == 0:\n",
    "            print(\"keyplayer error :\" , gmkey)\n",
    "        h_df = pd.DataFrame(get_recent(home_keyplayer, gmkey).mean(numeric_only=True)).transpose()\n",
    "        a_df = pd.DataFrame(get_recent(away_keyplayer, gmkey).mean(numeric_only=True)).transpose()\n",
    "        if h_df.size == 0 or a_df.size == 0:\n",
    "            print(\"recent error :\", gmkey)\n",
    "        h_df['score'] = score['h_score']\n",
    "        # if a_df is None:\n",
    "            # print(gmkey, away_keyplayer)\n",
    "        a_df['score'] = score['a_score']\n",
    "        model = pd.concat([model, make_data(h_df, a_df), make_data(a_df, h_df)])\n",
    "        print(gmkey)\n",
    "    return model\n"
   ]
  },
  {
   "cell_type": "code",
   "execution_count": 188,
   "metadata": {},
   "outputs": [
    {
     "name": "stdout",
     "output_type": "stream",
     "text": [
      "Connect!\n",
      "S19G01N2\n"
     ]
    },
    {
     "name": "stderr",
     "output_type": "stream",
     "text": [
      "/var/folders/xk/jz0njgws4vqcw913r_s9rxkr0000gn/T/ipykernel_62044/1636465878.py:42: RuntimeWarning: invalid value encountered in double_scalars\n",
      "  output_data['tf'] = h_data['tf'] / (h_data['tf'] + a_data['tf'])\n",
      "/var/folders/xk/jz0njgws4vqcw913r_s9rxkr0000gn/T/ipykernel_62044/1636465878.py:42: RuntimeWarning: invalid value encountered in double_scalars\n",
      "  output_data['tf'] = h_data['tf'] / (h_data['tf'] + a_data['tf'])\n"
     ]
    },
    {
     "name": "stdout",
     "output_type": "stream",
     "text": [
      "S19G01N3\n",
      "S19G01N4\n"
     ]
    },
    {
     "name": "stderr",
     "output_type": "stream",
     "text": [
      "/var/folders/xk/jz0njgws4vqcw913r_s9rxkr0000gn/T/ipykernel_62044/1636465878.py:43: RuntimeWarning: invalid value encountered in double_scalars\n",
      "  output_data['gd'] = h_data['gd'] / (h_data['gd'] + a_data['gd'])\n",
      "/var/folders/xk/jz0njgws4vqcw913r_s9rxkr0000gn/T/ipykernel_62044/1636465878.py:43: RuntimeWarning: invalid value encountered in double_scalars\n",
      "  output_data['gd'] = h_data['gd'] / (h_data['gd'] + a_data['gd'])\n"
     ]
    },
    {
     "name": "stdout",
     "output_type": "stream",
     "text": [
      "S19G01N5\n",
      "S19G01N6\n",
      "S19G01N7\n"
     ]
    },
    {
     "name": "stderr",
     "output_type": "stream",
     "text": [
      "/var/folders/xk/jz0njgws4vqcw913r_s9rxkr0000gn/T/ipykernel_62044/1636465878.py:42: RuntimeWarning: invalid value encountered in double_scalars\n",
      "  output_data['tf'] = h_data['tf'] / (h_data['tf'] + a_data['tf'])\n",
      "/var/folders/xk/jz0njgws4vqcw913r_s9rxkr0000gn/T/ipykernel_62044/1636465878.py:42: RuntimeWarning: invalid value encountered in double_scalars\n",
      "  output_data['tf'] = h_data['tf'] / (h_data['tf'] + a_data['tf'])\n"
     ]
    },
    {
     "name": "stdout",
     "output_type": "stream",
     "text": [
      "S19G01N8\n",
      "S19G01N9\n",
      "S19G01N10\n",
      "S19G01N11\n",
      "S19G01N12\n",
      "S19G01N13\n"
     ]
    },
    {
     "name": "stderr",
     "output_type": "stream",
     "text": [
      "/var/folders/xk/jz0njgws4vqcw913r_s9rxkr0000gn/T/ipykernel_62044/1636465878.py:42: RuntimeWarning: invalid value encountered in double_scalars\n",
      "  output_data['tf'] = h_data['tf'] / (h_data['tf'] + a_data['tf'])\n",
      "/var/folders/xk/jz0njgws4vqcw913r_s9rxkr0000gn/T/ipykernel_62044/1636465878.py:42: RuntimeWarning: invalid value encountered in double_scalars\n",
      "  output_data['tf'] = h_data['tf'] / (h_data['tf'] + a_data['tf'])\n"
     ]
    },
    {
     "name": "stdout",
     "output_type": "stream",
     "text": [
      "S19G01N14\n"
     ]
    },
    {
     "name": "stderr",
     "output_type": "stream",
     "text": [
      "/var/folders/xk/jz0njgws4vqcw913r_s9rxkr0000gn/T/ipykernel_62044/1636465878.py:42: RuntimeWarning: invalid value encountered in double_scalars\n",
      "  output_data['tf'] = h_data['tf'] / (h_data['tf'] + a_data['tf'])\n",
      "/var/folders/xk/jz0njgws4vqcw913r_s9rxkr0000gn/T/ipykernel_62044/1636465878.py:42: RuntimeWarning: invalid value encountered in double_scalars\n",
      "  output_data['tf'] = h_data['tf'] / (h_data['tf'] + a_data['tf'])\n"
     ]
    },
    {
     "name": "stdout",
     "output_type": "stream",
     "text": [
      "S19G01N15\n"
     ]
    },
    {
     "name": "stderr",
     "output_type": "stream",
     "text": [
      "/var/folders/xk/jz0njgws4vqcw913r_s9rxkr0000gn/T/ipykernel_62044/1636465878.py:42: RuntimeWarning: invalid value encountered in double_scalars\n",
      "  output_data['tf'] = h_data['tf'] / (h_data['tf'] + a_data['tf'])\n",
      "/var/folders/xk/jz0njgws4vqcw913r_s9rxkr0000gn/T/ipykernel_62044/1636465878.py:42: RuntimeWarning: invalid value encountered in double_scalars\n",
      "  output_data['tf'] = h_data['tf'] / (h_data['tf'] + a_data['tf'])\n"
     ]
    },
    {
     "name": "stdout",
     "output_type": "stream",
     "text": [
      "S19G01N16\n",
      "S19G01N17\n"
     ]
    },
    {
     "name": "stderr",
     "output_type": "stream",
     "text": [
      "/var/folders/xk/jz0njgws4vqcw913r_s9rxkr0000gn/T/ipykernel_62044/1636465878.py:42: RuntimeWarning: invalid value encountered in double_scalars\n",
      "  output_data['tf'] = h_data['tf'] / (h_data['tf'] + a_data['tf'])\n",
      "/var/folders/xk/jz0njgws4vqcw913r_s9rxkr0000gn/T/ipykernel_62044/1636465878.py:42: RuntimeWarning: invalid value encountered in double_scalars\n",
      "  output_data['tf'] = h_data['tf'] / (h_data['tf'] + a_data['tf'])\n"
     ]
    },
    {
     "name": "stdout",
     "output_type": "stream",
     "text": [
      "S19G01N18\n"
     ]
    },
    {
     "name": "stderr",
     "output_type": "stream",
     "text": [
      "/var/folders/xk/jz0njgws4vqcw913r_s9rxkr0000gn/T/ipykernel_62044/1636465878.py:42: RuntimeWarning: invalid value encountered in double_scalars\n",
      "  output_data['tf'] = h_data['tf'] / (h_data['tf'] + a_data['tf'])\n",
      "/var/folders/xk/jz0njgws4vqcw913r_s9rxkr0000gn/T/ipykernel_62044/1636465878.py:42: RuntimeWarning: invalid value encountered in double_scalars\n",
      "  output_data['tf'] = h_data['tf'] / (h_data['tf'] + a_data['tf'])\n"
     ]
    },
    {
     "name": "stdout",
     "output_type": "stream",
     "text": [
      "S19G01N19\n",
      "S19G01N20\n",
      "S19G01N21\n",
      "S19G01N22\n",
      "S19G01N23\n"
     ]
    },
    {
     "name": "stderr",
     "output_type": "stream",
     "text": [
      "/var/folders/xk/jz0njgws4vqcw913r_s9rxkr0000gn/T/ipykernel_62044/1636465878.py:42: RuntimeWarning: invalid value encountered in double_scalars\n",
      "  output_data['tf'] = h_data['tf'] / (h_data['tf'] + a_data['tf'])\n",
      "/var/folders/xk/jz0njgws4vqcw913r_s9rxkr0000gn/T/ipykernel_62044/1636465878.py:42: RuntimeWarning: invalid value encountered in double_scalars\n",
      "  output_data['tf'] = h_data['tf'] / (h_data['tf'] + a_data['tf'])\n"
     ]
    },
    {
     "name": "stdout",
     "output_type": "stream",
     "text": [
      "S19G01N24\n",
      "S19G01N25\n",
      "S19G01N26\n"
     ]
    },
    {
     "name": "stderr",
     "output_type": "stream",
     "text": [
      "/var/folders/xk/jz0njgws4vqcw913r_s9rxkr0000gn/T/ipykernel_62044/1636465878.py:42: RuntimeWarning: invalid value encountered in double_scalars\n",
      "  output_data['tf'] = h_data['tf'] / (h_data['tf'] + a_data['tf'])\n",
      "/var/folders/xk/jz0njgws4vqcw913r_s9rxkr0000gn/T/ipykernel_62044/1636465878.py:42: RuntimeWarning: invalid value encountered in double_scalars\n",
      "  output_data['tf'] = h_data['tf'] / (h_data['tf'] + a_data['tf'])\n"
     ]
    },
    {
     "name": "stdout",
     "output_type": "stream",
     "text": [
      "S19G01N27\n"
     ]
    },
    {
     "name": "stderr",
     "output_type": "stream",
     "text": [
      "/var/folders/xk/jz0njgws4vqcw913r_s9rxkr0000gn/T/ipykernel_62044/1636465878.py:42: RuntimeWarning: invalid value encountered in double_scalars\n",
      "  output_data['tf'] = h_data['tf'] / (h_data['tf'] + a_data['tf'])\n",
      "/var/folders/xk/jz0njgws4vqcw913r_s9rxkr0000gn/T/ipykernel_62044/1636465878.py:42: RuntimeWarning: invalid value encountered in double_scalars\n",
      "  output_data['tf'] = h_data['tf'] / (h_data['tf'] + a_data['tf'])\n"
     ]
    },
    {
     "name": "stdout",
     "output_type": "stream",
     "text": [
      "S19G01N28\n",
      "S19G01N29\n",
      "S19G01N30\n"
     ]
    },
    {
     "name": "stderr",
     "output_type": "stream",
     "text": [
      "/var/folders/xk/jz0njgws4vqcw913r_s9rxkr0000gn/T/ipykernel_62044/1636465878.py:42: RuntimeWarning: invalid value encountered in double_scalars\n",
      "  output_data['tf'] = h_data['tf'] / (h_data['tf'] + a_data['tf'])\n",
      "/var/folders/xk/jz0njgws4vqcw913r_s9rxkr0000gn/T/ipykernel_62044/1636465878.py:42: RuntimeWarning: invalid value encountered in double_scalars\n",
      "  output_data['tf'] = h_data['tf'] / (h_data['tf'] + a_data['tf'])\n"
     ]
    },
    {
     "name": "stdout",
     "output_type": "stream",
     "text": [
      "S19G01N31\n",
      "S19G01N32\n",
      "S19G01N33\n"
     ]
    },
    {
     "name": "stderr",
     "output_type": "stream",
     "text": [
      "/var/folders/xk/jz0njgws4vqcw913r_s9rxkr0000gn/T/ipykernel_62044/1636465878.py:43: RuntimeWarning: invalid value encountered in double_scalars\n",
      "  output_data['gd'] = h_data['gd'] / (h_data['gd'] + a_data['gd'])\n",
      "/var/folders/xk/jz0njgws4vqcw913r_s9rxkr0000gn/T/ipykernel_62044/1636465878.py:43: RuntimeWarning: invalid value encountered in double_scalars\n",
      "  output_data['gd'] = h_data['gd'] / (h_data['gd'] + a_data['gd'])\n"
     ]
    },
    {
     "name": "stdout",
     "output_type": "stream",
     "text": [
      "S19G01N34\n",
      "S19G01N35\n",
      "S19G01N36\n"
     ]
    },
    {
     "name": "stderr",
     "output_type": "stream",
     "text": [
      "/var/folders/xk/jz0njgws4vqcw913r_s9rxkr0000gn/T/ipykernel_62044/1636465878.py:43: RuntimeWarning: invalid value encountered in double_scalars\n",
      "  output_data['gd'] = h_data['gd'] / (h_data['gd'] + a_data['gd'])\n",
      "/var/folders/xk/jz0njgws4vqcw913r_s9rxkr0000gn/T/ipykernel_62044/1636465878.py:43: RuntimeWarning: invalid value encountered in double_scalars\n",
      "  output_data['gd'] = h_data['gd'] / (h_data['gd'] + a_data['gd'])\n"
     ]
    },
    {
     "name": "stdout",
     "output_type": "stream",
     "text": [
      "S19G01N37\n",
      "S19G01N38\n"
     ]
    },
    {
     "name": "stderr",
     "output_type": "stream",
     "text": [
      "/var/folders/xk/jz0njgws4vqcw913r_s9rxkr0000gn/T/ipykernel_62044/1636465878.py:42: RuntimeWarning: invalid value encountered in double_scalars\n",
      "  output_data['tf'] = h_data['tf'] / (h_data['tf'] + a_data['tf'])\n",
      "/var/folders/xk/jz0njgws4vqcw913r_s9rxkr0000gn/T/ipykernel_62044/1636465878.py:42: RuntimeWarning: invalid value encountered in double_scalars\n",
      "  output_data['tf'] = h_data['tf'] / (h_data['tf'] + a_data['tf'])\n"
     ]
    },
    {
     "name": "stdout",
     "output_type": "stream",
     "text": [
      "S19G01N39\n",
      "S19G01N40\n",
      "S19G01N41\n",
      "S19G01N42\n"
     ]
    },
    {
     "name": "stderr",
     "output_type": "stream",
     "text": [
      "/var/folders/xk/jz0njgws4vqcw913r_s9rxkr0000gn/T/ipykernel_62044/1636465878.py:42: RuntimeWarning: invalid value encountered in double_scalars\n",
      "  output_data['tf'] = h_data['tf'] / (h_data['tf'] + a_data['tf'])\n",
      "/var/folders/xk/jz0njgws4vqcw913r_s9rxkr0000gn/T/ipykernel_62044/1636465878.py:42: RuntimeWarning: invalid value encountered in double_scalars\n",
      "  output_data['tf'] = h_data['tf'] / (h_data['tf'] + a_data['tf'])\n"
     ]
    },
    {
     "name": "stdout",
     "output_type": "stream",
     "text": [
      "S19G01N43\n",
      "S19G01N44\n",
      "S19G01N45\n",
      "S19G01N46\n",
      "S19G01N47\n",
      "S19G01N48\n"
     ]
    },
    {
     "name": "stderr",
     "output_type": "stream",
     "text": [
      "/var/folders/xk/jz0njgws4vqcw913r_s9rxkr0000gn/T/ipykernel_62044/1636465878.py:42: RuntimeWarning: invalid value encountered in double_scalars\n",
      "  output_data['tf'] = h_data['tf'] / (h_data['tf'] + a_data['tf'])\n",
      "/var/folders/xk/jz0njgws4vqcw913r_s9rxkr0000gn/T/ipykernel_62044/1636465878.py:42: RuntimeWarning: invalid value encountered in double_scalars\n",
      "  output_data['tf'] = h_data['tf'] / (h_data['tf'] + a_data['tf'])\n"
     ]
    },
    {
     "name": "stdout",
     "output_type": "stream",
     "text": [
      "S19G01N49\n",
      "S19G01N50\n",
      "S19G01N51\n",
      "S19G01N52\n",
      "S19G01N53\n",
      "S19G01N54\n",
      "S19G01N55\n"
     ]
    },
    {
     "name": "stderr",
     "output_type": "stream",
     "text": [
      "/var/folders/xk/jz0njgws4vqcw913r_s9rxkr0000gn/T/ipykernel_62044/1636465878.py:43: RuntimeWarning: invalid value encountered in double_scalars\n",
      "  output_data['gd'] = h_data['gd'] / (h_data['gd'] + a_data['gd'])\n",
      "/var/folders/xk/jz0njgws4vqcw913r_s9rxkr0000gn/T/ipykernel_62044/1636465878.py:43: RuntimeWarning: invalid value encountered in double_scalars\n",
      "  output_data['gd'] = h_data['gd'] / (h_data['gd'] + a_data['gd'])\n"
     ]
    },
    {
     "name": "stdout",
     "output_type": "stream",
     "text": [
      "S19G01N56\n"
     ]
    },
    {
     "name": "stderr",
     "output_type": "stream",
     "text": [
      "/var/folders/xk/jz0njgws4vqcw913r_s9rxkr0000gn/T/ipykernel_62044/1636465878.py:42: RuntimeWarning: invalid value encountered in double_scalars\n",
      "  output_data['tf'] = h_data['tf'] / (h_data['tf'] + a_data['tf'])\n",
      "/var/folders/xk/jz0njgws4vqcw913r_s9rxkr0000gn/T/ipykernel_62044/1636465878.py:42: RuntimeWarning: invalid value encountered in double_scalars\n",
      "  output_data['tf'] = h_data['tf'] / (h_data['tf'] + a_data['tf'])\n"
     ]
    },
    {
     "name": "stdout",
     "output_type": "stream",
     "text": [
      "S19G01N57\n",
      "S19G01N58\n",
      "S19G01N59\n",
      "S19G01N60\n"
     ]
    },
    {
     "name": "stderr",
     "output_type": "stream",
     "text": [
      "/var/folders/xk/jz0njgws4vqcw913r_s9rxkr0000gn/T/ipykernel_62044/1636465878.py:42: RuntimeWarning: invalid value encountered in double_scalars\n",
      "  output_data['tf'] = h_data['tf'] / (h_data['tf'] + a_data['tf'])\n",
      "/var/folders/xk/jz0njgws4vqcw913r_s9rxkr0000gn/T/ipykernel_62044/1636465878.py:42: RuntimeWarning: invalid value encountered in double_scalars\n",
      "  output_data['tf'] = h_data['tf'] / (h_data['tf'] + a_data['tf'])\n"
     ]
    },
    {
     "name": "stdout",
     "output_type": "stream",
     "text": [
      "S19G01N61\n",
      "S19G01N62\n",
      "S19G01N63\n",
      "S19G01N64\n"
     ]
    },
    {
     "name": "stderr",
     "output_type": "stream",
     "text": [
      "/var/folders/xk/jz0njgws4vqcw913r_s9rxkr0000gn/T/ipykernel_62044/1636465878.py:42: RuntimeWarning: invalid value encountered in double_scalars\n",
      "  output_data['tf'] = h_data['tf'] / (h_data['tf'] + a_data['tf'])\n",
      "/var/folders/xk/jz0njgws4vqcw913r_s9rxkr0000gn/T/ipykernel_62044/1636465878.py:42: RuntimeWarning: invalid value encountered in double_scalars\n",
      "  output_data['tf'] = h_data['tf'] / (h_data['tf'] + a_data['tf'])\n"
     ]
    },
    {
     "name": "stdout",
     "output_type": "stream",
     "text": [
      "S19G01N65\n",
      "S19G01N66\n",
      "S19G01N67\n",
      "S19G01N68\n"
     ]
    },
    {
     "name": "stderr",
     "output_type": "stream",
     "text": [
      "/var/folders/xk/jz0njgws4vqcw913r_s9rxkr0000gn/T/ipykernel_62044/1636465878.py:43: RuntimeWarning: invalid value encountered in double_scalars\n",
      "  output_data['gd'] = h_data['gd'] / (h_data['gd'] + a_data['gd'])\n",
      "/var/folders/xk/jz0njgws4vqcw913r_s9rxkr0000gn/T/ipykernel_62044/1636465878.py:43: RuntimeWarning: invalid value encountered in double_scalars\n",
      "  output_data['gd'] = h_data['gd'] / (h_data['gd'] + a_data['gd'])\n"
     ]
    },
    {
     "name": "stdout",
     "output_type": "stream",
     "text": [
      "S19G01N69\n",
      "S19G01N70\n",
      "S19G01N71\n",
      "S19G01N72\n",
      "S19G01N73\n",
      "S19G01N74\n"
     ]
    },
    {
     "name": "stderr",
     "output_type": "stream",
     "text": [
      "/var/folders/xk/jz0njgws4vqcw913r_s9rxkr0000gn/T/ipykernel_62044/1636465878.py:42: RuntimeWarning: invalid value encountered in double_scalars\n",
      "  output_data['tf'] = h_data['tf'] / (h_data['tf'] + a_data['tf'])\n",
      "/var/folders/xk/jz0njgws4vqcw913r_s9rxkr0000gn/T/ipykernel_62044/1636465878.py:42: RuntimeWarning: invalid value encountered in double_scalars\n",
      "  output_data['tf'] = h_data['tf'] / (h_data['tf'] + a_data['tf'])\n"
     ]
    },
    {
     "name": "stdout",
     "output_type": "stream",
     "text": [
      "S19G01N75\n",
      "S19G01N76\n",
      "S19G01N77\n"
     ]
    },
    {
     "name": "stderr",
     "output_type": "stream",
     "text": [
      "/var/folders/xk/jz0njgws4vqcw913r_s9rxkr0000gn/T/ipykernel_62044/1636465878.py:42: RuntimeWarning: invalid value encountered in double_scalars\n",
      "  output_data['tf'] = h_data['tf'] / (h_data['tf'] + a_data['tf'])\n",
      "/var/folders/xk/jz0njgws4vqcw913r_s9rxkr0000gn/T/ipykernel_62044/1636465878.py:42: RuntimeWarning: invalid value encountered in double_scalars\n",
      "  output_data['tf'] = h_data['tf'] / (h_data['tf'] + a_data['tf'])\n"
     ]
    },
    {
     "name": "stdout",
     "output_type": "stream",
     "text": [
      "S19G01N78\n",
      "S19G01N79\n",
      "S19G01N80\n"
     ]
    },
    {
     "name": "stderr",
     "output_type": "stream",
     "text": [
      "/var/folders/xk/jz0njgws4vqcw913r_s9rxkr0000gn/T/ipykernel_62044/1636465878.py:43: RuntimeWarning: invalid value encountered in double_scalars\n",
      "  output_data['gd'] = h_data['gd'] / (h_data['gd'] + a_data['gd'])\n",
      "/var/folders/xk/jz0njgws4vqcw913r_s9rxkr0000gn/T/ipykernel_62044/1636465878.py:43: RuntimeWarning: invalid value encountered in double_scalars\n",
      "  output_data['gd'] = h_data['gd'] / (h_data['gd'] + a_data['gd'])\n"
     ]
    },
    {
     "name": "stdout",
     "output_type": "stream",
     "text": [
      "S19G01N81\n",
      "S19G01N82\n",
      "S19G01N83\n"
     ]
    },
    {
     "name": "stderr",
     "output_type": "stream",
     "text": [
      "/var/folders/xk/jz0njgws4vqcw913r_s9rxkr0000gn/T/ipykernel_62044/1636465878.py:42: RuntimeWarning: invalid value encountered in double_scalars\n",
      "  output_data['tf'] = h_data['tf'] / (h_data['tf'] + a_data['tf'])\n",
      "/var/folders/xk/jz0njgws4vqcw913r_s9rxkr0000gn/T/ipykernel_62044/1636465878.py:42: RuntimeWarning: invalid value encountered in double_scalars\n",
      "  output_data['tf'] = h_data['tf'] / (h_data['tf'] + a_data['tf'])\n"
     ]
    },
    {
     "name": "stdout",
     "output_type": "stream",
     "text": [
      "S19G01N84\n"
     ]
    },
    {
     "name": "stderr",
     "output_type": "stream",
     "text": [
      "/var/folders/xk/jz0njgws4vqcw913r_s9rxkr0000gn/T/ipykernel_62044/1636465878.py:42: RuntimeWarning: invalid value encountered in double_scalars\n",
      "  output_data['tf'] = h_data['tf'] / (h_data['tf'] + a_data['tf'])\n",
      "/var/folders/xk/jz0njgws4vqcw913r_s9rxkr0000gn/T/ipykernel_62044/1636465878.py:42: RuntimeWarning: invalid value encountered in double_scalars\n",
      "  output_data['tf'] = h_data['tf'] / (h_data['tf'] + a_data['tf'])\n"
     ]
    },
    {
     "name": "stdout",
     "output_type": "stream",
     "text": [
      "S19G01N85\n",
      "S19G01N86\n",
      "S19G01N87\n",
      "S19G01N88\n"
     ]
    },
    {
     "name": "stderr",
     "output_type": "stream",
     "text": [
      "/var/folders/xk/jz0njgws4vqcw913r_s9rxkr0000gn/T/ipykernel_62044/1636465878.py:42: RuntimeWarning: invalid value encountered in double_scalars\n",
      "  output_data['tf'] = h_data['tf'] / (h_data['tf'] + a_data['tf'])\n",
      "/var/folders/xk/jz0njgws4vqcw913r_s9rxkr0000gn/T/ipykernel_62044/1636465878.py:42: RuntimeWarning: invalid value encountered in double_scalars\n",
      "  output_data['tf'] = h_data['tf'] / (h_data['tf'] + a_data['tf'])\n"
     ]
    },
    {
     "name": "stdout",
     "output_type": "stream",
     "text": [
      "S19G01N89\n"
     ]
    },
    {
     "name": "stderr",
     "output_type": "stream",
     "text": [
      "/var/folders/xk/jz0njgws4vqcw913r_s9rxkr0000gn/T/ipykernel_62044/1636465878.py:43: RuntimeWarning: invalid value encountered in double_scalars\n",
      "  output_data['gd'] = h_data['gd'] / (h_data['gd'] + a_data['gd'])\n",
      "/var/folders/xk/jz0njgws4vqcw913r_s9rxkr0000gn/T/ipykernel_62044/1636465878.py:43: RuntimeWarning: invalid value encountered in double_scalars\n",
      "  output_data['gd'] = h_data['gd'] / (h_data['gd'] + a_data['gd'])\n"
     ]
    },
    {
     "name": "stdout",
     "output_type": "stream",
     "text": [
      "S19G01N90\n"
     ]
    },
    {
     "name": "stderr",
     "output_type": "stream",
     "text": [
      "/var/folders/xk/jz0njgws4vqcw913r_s9rxkr0000gn/T/ipykernel_62044/1636465878.py:42: RuntimeWarning: invalid value encountered in double_scalars\n",
      "  output_data['tf'] = h_data['tf'] / (h_data['tf'] + a_data['tf'])\n",
      "/var/folders/xk/jz0njgws4vqcw913r_s9rxkr0000gn/T/ipykernel_62044/1636465878.py:42: RuntimeWarning: invalid value encountered in double_scalars\n",
      "  output_data['tf'] = h_data['tf'] / (h_data['tf'] + a_data['tf'])\n"
     ]
    },
    {
     "name": "stdout",
     "output_type": "stream",
     "text": [
      "S19G01N91\n",
      "S19G01N92\n",
      "S19G01N93\n",
      "S19G01N94\n",
      "S19G01N95\n",
      "S19G01N96\n",
      "S19G01N97\n"
     ]
    },
    {
     "name": "stderr",
     "output_type": "stream",
     "text": [
      "/var/folders/xk/jz0njgws4vqcw913r_s9rxkr0000gn/T/ipykernel_62044/1636465878.py:42: RuntimeWarning: invalid value encountered in double_scalars\n",
      "  output_data['tf'] = h_data['tf'] / (h_data['tf'] + a_data['tf'])\n",
      "/var/folders/xk/jz0njgws4vqcw913r_s9rxkr0000gn/T/ipykernel_62044/1636465878.py:42: RuntimeWarning: invalid value encountered in double_scalars\n",
      "  output_data['tf'] = h_data['tf'] / (h_data['tf'] + a_data['tf'])\n"
     ]
    },
    {
     "name": "stdout",
     "output_type": "stream",
     "text": [
      "S19G01N98\n",
      "S19G01N99\n",
      "S19G01N100\n",
      "S19G01N101\n"
     ]
    },
    {
     "name": "stderr",
     "output_type": "stream",
     "text": [
      "/var/folders/xk/jz0njgws4vqcw913r_s9rxkr0000gn/T/ipykernel_62044/1636465878.py:42: RuntimeWarning: invalid value encountered in double_scalars\n",
      "  output_data['tf'] = h_data['tf'] / (h_data['tf'] + a_data['tf'])\n",
      "/var/folders/xk/jz0njgws4vqcw913r_s9rxkr0000gn/T/ipykernel_62044/1636465878.py:42: RuntimeWarning: invalid value encountered in double_scalars\n",
      "  output_data['tf'] = h_data['tf'] / (h_data['tf'] + a_data['tf'])\n"
     ]
    },
    {
     "name": "stdout",
     "output_type": "stream",
     "text": [
      "S19G01N102\n",
      "S19G01N103\n"
     ]
    },
    {
     "name": "stderr",
     "output_type": "stream",
     "text": [
      "/var/folders/xk/jz0njgws4vqcw913r_s9rxkr0000gn/T/ipykernel_62044/1636465878.py:42: RuntimeWarning: invalid value encountered in double_scalars\n",
      "  output_data['tf'] = h_data['tf'] / (h_data['tf'] + a_data['tf'])\n",
      "/var/folders/xk/jz0njgws4vqcw913r_s9rxkr0000gn/T/ipykernel_62044/1636465878.py:42: RuntimeWarning: invalid value encountered in double_scalars\n",
      "  output_data['tf'] = h_data['tf'] / (h_data['tf'] + a_data['tf'])\n"
     ]
    },
    {
     "name": "stdout",
     "output_type": "stream",
     "text": [
      "S19G01N104\n",
      "S19G01N105\n",
      "S19G01N106\n"
     ]
    },
    {
     "name": "stderr",
     "output_type": "stream",
     "text": [
      "/var/folders/xk/jz0njgws4vqcw913r_s9rxkr0000gn/T/ipykernel_62044/1636465878.py:42: RuntimeWarning: invalid value encountered in double_scalars\n",
      "  output_data['tf'] = h_data['tf'] / (h_data['tf'] + a_data['tf'])\n",
      "/var/folders/xk/jz0njgws4vqcw913r_s9rxkr0000gn/T/ipykernel_62044/1636465878.py:42: RuntimeWarning: invalid value encountered in double_scalars\n",
      "  output_data['tf'] = h_data['tf'] / (h_data['tf'] + a_data['tf'])\n"
     ]
    },
    {
     "name": "stdout",
     "output_type": "stream",
     "text": [
      "S19G01N107\n",
      "S19G01N108\n",
      "S19G01N109\n",
      "S19G01N110\n",
      "S19G01N111\n",
      "S19G01N112\n",
      "S19G01N113\n"
     ]
    },
    {
     "name": "stderr",
     "output_type": "stream",
     "text": [
      "/var/folders/xk/jz0njgws4vqcw913r_s9rxkr0000gn/T/ipykernel_62044/1636465878.py:42: RuntimeWarning: invalid value encountered in double_scalars\n",
      "  output_data['tf'] = h_data['tf'] / (h_data['tf'] + a_data['tf'])\n",
      "/var/folders/xk/jz0njgws4vqcw913r_s9rxkr0000gn/T/ipykernel_62044/1636465878.py:42: RuntimeWarning: invalid value encountered in double_scalars\n",
      "  output_data['tf'] = h_data['tf'] / (h_data['tf'] + a_data['tf'])\n"
     ]
    },
    {
     "name": "stdout",
     "output_type": "stream",
     "text": [
      "S19G01N114\n",
      "S19G01N115\n",
      "S19G01N116\n",
      "S19G01N117\n"
     ]
    },
    {
     "name": "stderr",
     "output_type": "stream",
     "text": [
      "/var/folders/xk/jz0njgws4vqcw913r_s9rxkr0000gn/T/ipykernel_62044/1636465878.py:42: RuntimeWarning: invalid value encountered in double_scalars\n",
      "  output_data['tf'] = h_data['tf'] / (h_data['tf'] + a_data['tf'])\n",
      "/var/folders/xk/jz0njgws4vqcw913r_s9rxkr0000gn/T/ipykernel_62044/1636465878.py:42: RuntimeWarning: invalid value encountered in double_scalars\n",
      "  output_data['tf'] = h_data['tf'] / (h_data['tf'] + a_data['tf'])\n"
     ]
    },
    {
     "name": "stdout",
     "output_type": "stream",
     "text": [
      "S19G01N118\n"
     ]
    },
    {
     "name": "stderr",
     "output_type": "stream",
     "text": [
      "/var/folders/xk/jz0njgws4vqcw913r_s9rxkr0000gn/T/ipykernel_62044/1636465878.py:42: RuntimeWarning: invalid value encountered in double_scalars\n",
      "  output_data['tf'] = h_data['tf'] / (h_data['tf'] + a_data['tf'])\n",
      "/var/folders/xk/jz0njgws4vqcw913r_s9rxkr0000gn/T/ipykernel_62044/1636465878.py:42: RuntimeWarning: invalid value encountered in double_scalars\n",
      "  output_data['tf'] = h_data['tf'] / (h_data['tf'] + a_data['tf'])\n"
     ]
    },
    {
     "name": "stdout",
     "output_type": "stream",
     "text": [
      "S19G01N119\n",
      "S19G01N120\n",
      "S19G01N121\n",
      "S19G01N122\n",
      "S19G01N123\n"
     ]
    },
    {
     "name": "stderr",
     "output_type": "stream",
     "text": [
      "/var/folders/xk/jz0njgws4vqcw913r_s9rxkr0000gn/T/ipykernel_62044/1636465878.py:42: RuntimeWarning: invalid value encountered in double_scalars\n",
      "  output_data['tf'] = h_data['tf'] / (h_data['tf'] + a_data['tf'])\n",
      "/var/folders/xk/jz0njgws4vqcw913r_s9rxkr0000gn/T/ipykernel_62044/1636465878.py:42: RuntimeWarning: invalid value encountered in double_scalars\n",
      "  output_data['tf'] = h_data['tf'] / (h_data['tf'] + a_data['tf'])\n"
     ]
    },
    {
     "name": "stdout",
     "output_type": "stream",
     "text": [
      "S19G01N124\n"
     ]
    },
    {
     "name": "stderr",
     "output_type": "stream",
     "text": [
      "/var/folders/xk/jz0njgws4vqcw913r_s9rxkr0000gn/T/ipykernel_62044/1636465878.py:42: RuntimeWarning: invalid value encountered in double_scalars\n",
      "  output_data['tf'] = h_data['tf'] / (h_data['tf'] + a_data['tf'])\n",
      "/var/folders/xk/jz0njgws4vqcw913r_s9rxkr0000gn/T/ipykernel_62044/1636465878.py:42: RuntimeWarning: invalid value encountered in double_scalars\n",
      "  output_data['tf'] = h_data['tf'] / (h_data['tf'] + a_data['tf'])\n"
     ]
    },
    {
     "name": "stdout",
     "output_type": "stream",
     "text": [
      "S19G01N125\n"
     ]
    },
    {
     "name": "stderr",
     "output_type": "stream",
     "text": [
      "/var/folders/xk/jz0njgws4vqcw913r_s9rxkr0000gn/T/ipykernel_62044/1636465878.py:42: RuntimeWarning: invalid value encountered in double_scalars\n",
      "  output_data['tf'] = h_data['tf'] / (h_data['tf'] + a_data['tf'])\n",
      "/var/folders/xk/jz0njgws4vqcw913r_s9rxkr0000gn/T/ipykernel_62044/1636465878.py:42: RuntimeWarning: invalid value encountered in double_scalars\n",
      "  output_data['tf'] = h_data['tf'] / (h_data['tf'] + a_data['tf'])\n"
     ]
    },
    {
     "name": "stdout",
     "output_type": "stream",
     "text": [
      "S19G01N126\n",
      "S19G01N127\n",
      "S19G01N128\n"
     ]
    },
    {
     "name": "stderr",
     "output_type": "stream",
     "text": [
      "/var/folders/xk/jz0njgws4vqcw913r_s9rxkr0000gn/T/ipykernel_62044/1636465878.py:42: RuntimeWarning: invalid value encountered in double_scalars\n",
      "  output_data['tf'] = h_data['tf'] / (h_data['tf'] + a_data['tf'])\n",
      "/var/folders/xk/jz0njgws4vqcw913r_s9rxkr0000gn/T/ipykernel_62044/1636465878.py:42: RuntimeWarning: invalid value encountered in double_scalars\n",
      "  output_data['tf'] = h_data['tf'] / (h_data['tf'] + a_data['tf'])\n"
     ]
    },
    {
     "name": "stdout",
     "output_type": "stream",
     "text": [
      "S19G01N129\n"
     ]
    },
    {
     "name": "stderr",
     "output_type": "stream",
     "text": [
      "/var/folders/xk/jz0njgws4vqcw913r_s9rxkr0000gn/T/ipykernel_62044/1636465878.py:42: RuntimeWarning: invalid value encountered in double_scalars\n",
      "  output_data['tf'] = h_data['tf'] / (h_data['tf'] + a_data['tf'])\n",
      "/var/folders/xk/jz0njgws4vqcw913r_s9rxkr0000gn/T/ipykernel_62044/1636465878.py:42: RuntimeWarning: invalid value encountered in double_scalars\n",
      "  output_data['tf'] = h_data['tf'] / (h_data['tf'] + a_data['tf'])\n"
     ]
    },
    {
     "name": "stdout",
     "output_type": "stream",
     "text": [
      "S19G01N130\n",
      "S19G01N131\n"
     ]
    },
    {
     "name": "stderr",
     "output_type": "stream",
     "text": [
      "/var/folders/xk/jz0njgws4vqcw913r_s9rxkr0000gn/T/ipykernel_62044/1636465878.py:42: RuntimeWarning: invalid value encountered in double_scalars\n",
      "  output_data['tf'] = h_data['tf'] / (h_data['tf'] + a_data['tf'])\n",
      "/var/folders/xk/jz0njgws4vqcw913r_s9rxkr0000gn/T/ipykernel_62044/1636465878.py:42: RuntimeWarning: invalid value encountered in double_scalars\n",
      "  output_data['tf'] = h_data['tf'] / (h_data['tf'] + a_data['tf'])\n"
     ]
    },
    {
     "name": "stdout",
     "output_type": "stream",
     "text": [
      "S19G01N132\n"
     ]
    },
    {
     "name": "stderr",
     "output_type": "stream",
     "text": [
      "/var/folders/xk/jz0njgws4vqcw913r_s9rxkr0000gn/T/ipykernel_62044/1636465878.py:42: RuntimeWarning: invalid value encountered in double_scalars\n",
      "  output_data['tf'] = h_data['tf'] / (h_data['tf'] + a_data['tf'])\n",
      "/var/folders/xk/jz0njgws4vqcw913r_s9rxkr0000gn/T/ipykernel_62044/1636465878.py:42: RuntimeWarning: invalid value encountered in double_scalars\n",
      "  output_data['tf'] = h_data['tf'] / (h_data['tf'] + a_data['tf'])\n"
     ]
    },
    {
     "name": "stdout",
     "output_type": "stream",
     "text": [
      "S19G01N133\n"
     ]
    },
    {
     "name": "stderr",
     "output_type": "stream",
     "text": [
      "/var/folders/xk/jz0njgws4vqcw913r_s9rxkr0000gn/T/ipykernel_62044/1636465878.py:42: RuntimeWarning: invalid value encountered in double_scalars\n",
      "  output_data['tf'] = h_data['tf'] / (h_data['tf'] + a_data['tf'])\n",
      "/var/folders/xk/jz0njgws4vqcw913r_s9rxkr0000gn/T/ipykernel_62044/1636465878.py:42: RuntimeWarning: invalid value encountered in double_scalars\n",
      "  output_data['tf'] = h_data['tf'] / (h_data['tf'] + a_data['tf'])\n"
     ]
    },
    {
     "name": "stdout",
     "output_type": "stream",
     "text": [
      "S19G01N134\n",
      "S19G01N135\n"
     ]
    },
    {
     "name": "stderr",
     "output_type": "stream",
     "text": [
      "/var/folders/xk/jz0njgws4vqcw913r_s9rxkr0000gn/T/ipykernel_62044/1636465878.py:42: RuntimeWarning: invalid value encountered in double_scalars\n",
      "  output_data['tf'] = h_data['tf'] / (h_data['tf'] + a_data['tf'])\n",
      "/var/folders/xk/jz0njgws4vqcw913r_s9rxkr0000gn/T/ipykernel_62044/1636465878.py:42: RuntimeWarning: invalid value encountered in double_scalars\n",
      "  output_data['tf'] = h_data['tf'] / (h_data['tf'] + a_data['tf'])\n"
     ]
    },
    {
     "name": "stdout",
     "output_type": "stream",
     "text": [
      "S19G01N136\n",
      "S19G01N137\n"
     ]
    },
    {
     "name": "stderr",
     "output_type": "stream",
     "text": [
      "/var/folders/xk/jz0njgws4vqcw913r_s9rxkr0000gn/T/ipykernel_62044/1636465878.py:42: RuntimeWarning: invalid value encountered in double_scalars\n",
      "  output_data['tf'] = h_data['tf'] / (h_data['tf'] + a_data['tf'])\n",
      "/var/folders/xk/jz0njgws4vqcw913r_s9rxkr0000gn/T/ipykernel_62044/1636465878.py:42: RuntimeWarning: invalid value encountered in double_scalars\n",
      "  output_data['tf'] = h_data['tf'] / (h_data['tf'] + a_data['tf'])\n"
     ]
    },
    {
     "name": "stdout",
     "output_type": "stream",
     "text": [
      "S19G01N138\n"
     ]
    },
    {
     "name": "stderr",
     "output_type": "stream",
     "text": [
      "/var/folders/xk/jz0njgws4vqcw913r_s9rxkr0000gn/T/ipykernel_62044/1636465878.py:42: RuntimeWarning: invalid value encountered in double_scalars\n",
      "  output_data['tf'] = h_data['tf'] / (h_data['tf'] + a_data['tf'])\n",
      "/var/folders/xk/jz0njgws4vqcw913r_s9rxkr0000gn/T/ipykernel_62044/1636465878.py:42: RuntimeWarning: invalid value encountered in double_scalars\n",
      "  output_data['tf'] = h_data['tf'] / (h_data['tf'] + a_data['tf'])\n"
     ]
    },
    {
     "name": "stdout",
     "output_type": "stream",
     "text": [
      "S19G01N139\n",
      "S19G01N140\n",
      "S19G01N141\n"
     ]
    },
    {
     "name": "stderr",
     "output_type": "stream",
     "text": [
      "/var/folders/xk/jz0njgws4vqcw913r_s9rxkr0000gn/T/ipykernel_62044/1636465878.py:42: RuntimeWarning: invalid value encountered in double_scalars\n",
      "  output_data['tf'] = h_data['tf'] / (h_data['tf'] + a_data['tf'])\n",
      "/var/folders/xk/jz0njgws4vqcw913r_s9rxkr0000gn/T/ipykernel_62044/1636465878.py:42: RuntimeWarning: invalid value encountered in double_scalars\n",
      "  output_data['tf'] = h_data['tf'] / (h_data['tf'] + a_data['tf'])\n"
     ]
    },
    {
     "name": "stdout",
     "output_type": "stream",
     "text": [
      "S19G01N142\n"
     ]
    },
    {
     "name": "stderr",
     "output_type": "stream",
     "text": [
      "/var/folders/xk/jz0njgws4vqcw913r_s9rxkr0000gn/T/ipykernel_62044/1636465878.py:42: RuntimeWarning: invalid value encountered in double_scalars\n",
      "  output_data['tf'] = h_data['tf'] / (h_data['tf'] + a_data['tf'])\n",
      "/var/folders/xk/jz0njgws4vqcw913r_s9rxkr0000gn/T/ipykernel_62044/1636465878.py:42: RuntimeWarning: invalid value encountered in double_scalars\n",
      "  output_data['tf'] = h_data['tf'] / (h_data['tf'] + a_data['tf'])\n"
     ]
    },
    {
     "name": "stdout",
     "output_type": "stream",
     "text": [
      "S19G01N143\n",
      "S19G01N144\n"
     ]
    },
    {
     "name": "stderr",
     "output_type": "stream",
     "text": [
      "/var/folders/xk/jz0njgws4vqcw913r_s9rxkr0000gn/T/ipykernel_62044/1636465878.py:42: RuntimeWarning: invalid value encountered in double_scalars\n",
      "  output_data['tf'] = h_data['tf'] / (h_data['tf'] + a_data['tf'])\n",
      "/var/folders/xk/jz0njgws4vqcw913r_s9rxkr0000gn/T/ipykernel_62044/1636465878.py:42: RuntimeWarning: invalid value encountered in double_scalars\n",
      "  output_data['tf'] = h_data['tf'] / (h_data['tf'] + a_data['tf'])\n"
     ]
    },
    {
     "name": "stdout",
     "output_type": "stream",
     "text": [
      "S19G01N145\n"
     ]
    },
    {
     "name": "stderr",
     "output_type": "stream",
     "text": [
      "/var/folders/xk/jz0njgws4vqcw913r_s9rxkr0000gn/T/ipykernel_62044/1636465878.py:42: RuntimeWarning: invalid value encountered in double_scalars\n",
      "  output_data['tf'] = h_data['tf'] / (h_data['tf'] + a_data['tf'])\n",
      "/var/folders/xk/jz0njgws4vqcw913r_s9rxkr0000gn/T/ipykernel_62044/1636465878.py:42: RuntimeWarning: invalid value encountered in double_scalars\n",
      "  output_data['tf'] = h_data['tf'] / (h_data['tf'] + a_data['tf'])\n"
     ]
    },
    {
     "name": "stdout",
     "output_type": "stream",
     "text": [
      "S19G01N146\n",
      "S19G01N147\n"
     ]
    },
    {
     "name": "stderr",
     "output_type": "stream",
     "text": [
      "/var/folders/xk/jz0njgws4vqcw913r_s9rxkr0000gn/T/ipykernel_62044/1636465878.py:42: RuntimeWarning: invalid value encountered in double_scalars\n",
      "  output_data['tf'] = h_data['tf'] / (h_data['tf'] + a_data['tf'])\n",
      "/var/folders/xk/jz0njgws4vqcw913r_s9rxkr0000gn/T/ipykernel_62044/1636465878.py:42: RuntimeWarning: invalid value encountered in double_scalars\n",
      "  output_data['tf'] = h_data['tf'] / (h_data['tf'] + a_data['tf'])\n"
     ]
    },
    {
     "name": "stdout",
     "output_type": "stream",
     "text": [
      "S19G01N148\n"
     ]
    },
    {
     "name": "stderr",
     "output_type": "stream",
     "text": [
      "/var/folders/xk/jz0njgws4vqcw913r_s9rxkr0000gn/T/ipykernel_62044/1636465878.py:42: RuntimeWarning: invalid value encountered in double_scalars\n",
      "  output_data['tf'] = h_data['tf'] / (h_data['tf'] + a_data['tf'])\n",
      "/var/folders/xk/jz0njgws4vqcw913r_s9rxkr0000gn/T/ipykernel_62044/1636465878.py:42: RuntimeWarning: invalid value encountered in double_scalars\n",
      "  output_data['tf'] = h_data['tf'] / (h_data['tf'] + a_data['tf'])\n"
     ]
    },
    {
     "name": "stdout",
     "output_type": "stream",
     "text": [
      "S19G01N149\n",
      "S19G01N150\n",
      "S19G01N151\n",
      "S19G01N152\n"
     ]
    },
    {
     "name": "stderr",
     "output_type": "stream",
     "text": [
      "/var/folders/xk/jz0njgws4vqcw913r_s9rxkr0000gn/T/ipykernel_62044/1636465878.py:42: RuntimeWarning: invalid value encountered in double_scalars\n",
      "  output_data['tf'] = h_data['tf'] / (h_data['tf'] + a_data['tf'])\n",
      "/var/folders/xk/jz0njgws4vqcw913r_s9rxkr0000gn/T/ipykernel_62044/1636465878.py:42: RuntimeWarning: invalid value encountered in double_scalars\n",
      "  output_data['tf'] = h_data['tf'] / (h_data['tf'] + a_data['tf'])\n"
     ]
    },
    {
     "name": "stdout",
     "output_type": "stream",
     "text": [
      "S19G01N153\n",
      "S19G01N154\n",
      "S19G01N155\n",
      "S19G01N156\n"
     ]
    },
    {
     "name": "stderr",
     "output_type": "stream",
     "text": [
      "/var/folders/xk/jz0njgws4vqcw913r_s9rxkr0000gn/T/ipykernel_62044/1636465878.py:42: RuntimeWarning: invalid value encountered in double_scalars\n",
      "  output_data['tf'] = h_data['tf'] / (h_data['tf'] + a_data['tf'])\n",
      "/var/folders/xk/jz0njgws4vqcw913r_s9rxkr0000gn/T/ipykernel_62044/1636465878.py:42: RuntimeWarning: invalid value encountered in double_scalars\n",
      "  output_data['tf'] = h_data['tf'] / (h_data['tf'] + a_data['tf'])\n"
     ]
    },
    {
     "name": "stdout",
     "output_type": "stream",
     "text": [
      "S19G01N157\n"
     ]
    },
    {
     "name": "stderr",
     "output_type": "stream",
     "text": [
      "/var/folders/xk/jz0njgws4vqcw913r_s9rxkr0000gn/T/ipykernel_62044/1636465878.py:42: RuntimeWarning: invalid value encountered in double_scalars\n",
      "  output_data['tf'] = h_data['tf'] / (h_data['tf'] + a_data['tf'])\n",
      "/var/folders/xk/jz0njgws4vqcw913r_s9rxkr0000gn/T/ipykernel_62044/1636465878.py:42: RuntimeWarning: invalid value encountered in double_scalars\n",
      "  output_data['tf'] = h_data['tf'] / (h_data['tf'] + a_data['tf'])\n"
     ]
    },
    {
     "name": "stdout",
     "output_type": "stream",
     "text": [
      "S19G01N158\n",
      "S19G01N159\n"
     ]
    },
    {
     "name": "stderr",
     "output_type": "stream",
     "text": [
      "/var/folders/xk/jz0njgws4vqcw913r_s9rxkr0000gn/T/ipykernel_62044/1636465878.py:42: RuntimeWarning: invalid value encountered in double_scalars\n",
      "  output_data['tf'] = h_data['tf'] / (h_data['tf'] + a_data['tf'])\n",
      "/var/folders/xk/jz0njgws4vqcw913r_s9rxkr0000gn/T/ipykernel_62044/1636465878.py:42: RuntimeWarning: invalid value encountered in double_scalars\n",
      "  output_data['tf'] = h_data['tf'] / (h_data['tf'] + a_data['tf'])\n"
     ]
    },
    {
     "name": "stdout",
     "output_type": "stream",
     "text": [
      "S19G01N160\n",
      "S19G01N161\n"
     ]
    },
    {
     "name": "stderr",
     "output_type": "stream",
     "text": [
      "/var/folders/xk/jz0njgws4vqcw913r_s9rxkr0000gn/T/ipykernel_62044/1636465878.py:42: RuntimeWarning: invalid value encountered in double_scalars\n",
      "  output_data['tf'] = h_data['tf'] / (h_data['tf'] + a_data['tf'])\n",
      "/var/folders/xk/jz0njgws4vqcw913r_s9rxkr0000gn/T/ipykernel_62044/1636465878.py:42: RuntimeWarning: invalid value encountered in double_scalars\n",
      "  output_data['tf'] = h_data['tf'] / (h_data['tf'] + a_data['tf'])\n"
     ]
    },
    {
     "name": "stdout",
     "output_type": "stream",
     "text": [
      "S19G01N162\n",
      "S19G01N163\n"
     ]
    },
    {
     "name": "stderr",
     "output_type": "stream",
     "text": [
      "/var/folders/xk/jz0njgws4vqcw913r_s9rxkr0000gn/T/ipykernel_62044/1636465878.py:42: RuntimeWarning: invalid value encountered in double_scalars\n",
      "  output_data['tf'] = h_data['tf'] / (h_data['tf'] + a_data['tf'])\n",
      "/var/folders/xk/jz0njgws4vqcw913r_s9rxkr0000gn/T/ipykernel_62044/1636465878.py:42: RuntimeWarning: invalid value encountered in double_scalars\n",
      "  output_data['tf'] = h_data['tf'] / (h_data['tf'] + a_data['tf'])\n"
     ]
    },
    {
     "name": "stdout",
     "output_type": "stream",
     "text": [
      "S19G01N164\n"
     ]
    },
    {
     "name": "stderr",
     "output_type": "stream",
     "text": [
      "/var/folders/xk/jz0njgws4vqcw913r_s9rxkr0000gn/T/ipykernel_62044/1636465878.py:42: RuntimeWarning: invalid value encountered in double_scalars\n",
      "  output_data['tf'] = h_data['tf'] / (h_data['tf'] + a_data['tf'])\n",
      "/var/folders/xk/jz0njgws4vqcw913r_s9rxkr0000gn/T/ipykernel_62044/1636465878.py:42: RuntimeWarning: invalid value encountered in double_scalars\n",
      "  output_data['tf'] = h_data['tf'] / (h_data['tf'] + a_data['tf'])\n"
     ]
    },
    {
     "name": "stdout",
     "output_type": "stream",
     "text": [
      "S19G01N165\n"
     ]
    },
    {
     "name": "stderr",
     "output_type": "stream",
     "text": [
      "/var/folders/xk/jz0njgws4vqcw913r_s9rxkr0000gn/T/ipykernel_62044/1636465878.py:42: RuntimeWarning: invalid value encountered in double_scalars\n",
      "  output_data['tf'] = h_data['tf'] / (h_data['tf'] + a_data['tf'])\n",
      "/var/folders/xk/jz0njgws4vqcw913r_s9rxkr0000gn/T/ipykernel_62044/1636465878.py:42: RuntimeWarning: invalid value encountered in double_scalars\n",
      "  output_data['tf'] = h_data['tf'] / (h_data['tf'] + a_data['tf'])\n"
     ]
    },
    {
     "name": "stdout",
     "output_type": "stream",
     "text": [
      "S19G01N166\n",
      "S19G01N167\n",
      "S19G01N168\n",
      "S19G01N169\n"
     ]
    },
    {
     "name": "stderr",
     "output_type": "stream",
     "text": [
      "/var/folders/xk/jz0njgws4vqcw913r_s9rxkr0000gn/T/ipykernel_62044/1636465878.py:42: RuntimeWarning: invalid value encountered in double_scalars\n",
      "  output_data['tf'] = h_data['tf'] / (h_data['tf'] + a_data['tf'])\n",
      "/var/folders/xk/jz0njgws4vqcw913r_s9rxkr0000gn/T/ipykernel_62044/1636465878.py:42: RuntimeWarning: invalid value encountered in double_scalars\n",
      "  output_data['tf'] = h_data['tf'] / (h_data['tf'] + a_data['tf'])\n"
     ]
    },
    {
     "name": "stdout",
     "output_type": "stream",
     "text": [
      "S19G01N170\n",
      "S19G01N171\n"
     ]
    },
    {
     "name": "stderr",
     "output_type": "stream",
     "text": [
      "/var/folders/xk/jz0njgws4vqcw913r_s9rxkr0000gn/T/ipykernel_62044/1636465878.py:42: RuntimeWarning: invalid value encountered in double_scalars\n",
      "  output_data['tf'] = h_data['tf'] / (h_data['tf'] + a_data['tf'])\n",
      "/var/folders/xk/jz0njgws4vqcw913r_s9rxkr0000gn/T/ipykernel_62044/1636465878.py:42: RuntimeWarning: invalid value encountered in double_scalars\n",
      "  output_data['tf'] = h_data['tf'] / (h_data['tf'] + a_data['tf'])\n"
     ]
    },
    {
     "name": "stdout",
     "output_type": "stream",
     "text": [
      "S19G01N172\n",
      "S19G01N173\n"
     ]
    },
    {
     "name": "stderr",
     "output_type": "stream",
     "text": [
      "/var/folders/xk/jz0njgws4vqcw913r_s9rxkr0000gn/T/ipykernel_62044/1636465878.py:42: RuntimeWarning: invalid value encountered in double_scalars\n",
      "  output_data['tf'] = h_data['tf'] / (h_data['tf'] + a_data['tf'])\n",
      "/var/folders/xk/jz0njgws4vqcw913r_s9rxkr0000gn/T/ipykernel_62044/1636465878.py:42: RuntimeWarning: invalid value encountered in double_scalars\n",
      "  output_data['tf'] = h_data['tf'] / (h_data['tf'] + a_data['tf'])\n"
     ]
    },
    {
     "name": "stdout",
     "output_type": "stream",
     "text": [
      "S19G01N174\n",
      "S19G01N175\n",
      "S19G01N176\n"
     ]
    },
    {
     "name": "stderr",
     "output_type": "stream",
     "text": [
      "/var/folders/xk/jz0njgws4vqcw913r_s9rxkr0000gn/T/ipykernel_62044/1636465878.py:42: RuntimeWarning: invalid value encountered in double_scalars\n",
      "  output_data['tf'] = h_data['tf'] / (h_data['tf'] + a_data['tf'])\n",
      "/var/folders/xk/jz0njgws4vqcw913r_s9rxkr0000gn/T/ipykernel_62044/1636465878.py:42: RuntimeWarning: invalid value encountered in double_scalars\n",
      "  output_data['tf'] = h_data['tf'] / (h_data['tf'] + a_data['tf'])\n"
     ]
    },
    {
     "name": "stdout",
     "output_type": "stream",
     "text": [
      "S19G01N177\n",
      "S19G01N178\n",
      "S19G01N179\n",
      "S19G01N180\n",
      "S19G01N181\n"
     ]
    },
    {
     "name": "stderr",
     "output_type": "stream",
     "text": [
      "/var/folders/xk/jz0njgws4vqcw913r_s9rxkr0000gn/T/ipykernel_62044/1636465878.py:42: RuntimeWarning: invalid value encountered in double_scalars\n",
      "  output_data['tf'] = h_data['tf'] / (h_data['tf'] + a_data['tf'])\n",
      "/var/folders/xk/jz0njgws4vqcw913r_s9rxkr0000gn/T/ipykernel_62044/1636465878.py:42: RuntimeWarning: invalid value encountered in double_scalars\n",
      "  output_data['tf'] = h_data['tf'] / (h_data['tf'] + a_data['tf'])\n"
     ]
    },
    {
     "name": "stdout",
     "output_type": "stream",
     "text": [
      "S19G01N182\n",
      "S19G01N183\n"
     ]
    },
    {
     "name": "stderr",
     "output_type": "stream",
     "text": [
      "/var/folders/xk/jz0njgws4vqcw913r_s9rxkr0000gn/T/ipykernel_62044/1636465878.py:42: RuntimeWarning: invalid value encountered in double_scalars\n",
      "  output_data['tf'] = h_data['tf'] / (h_data['tf'] + a_data['tf'])\n",
      "/var/folders/xk/jz0njgws4vqcw913r_s9rxkr0000gn/T/ipykernel_62044/1636465878.py:42: RuntimeWarning: invalid value encountered in double_scalars\n",
      "  output_data['tf'] = h_data['tf'] / (h_data['tf'] + a_data['tf'])\n"
     ]
    },
    {
     "name": "stdout",
     "output_type": "stream",
     "text": [
      "S19G01N184\n",
      "S19G01N185\n"
     ]
    },
    {
     "name": "stderr",
     "output_type": "stream",
     "text": [
      "/var/folders/xk/jz0njgws4vqcw913r_s9rxkr0000gn/T/ipykernel_62044/1636465878.py:42: RuntimeWarning: invalid value encountered in double_scalars\n",
      "  output_data['tf'] = h_data['tf'] / (h_data['tf'] + a_data['tf'])\n",
      "/var/folders/xk/jz0njgws4vqcw913r_s9rxkr0000gn/T/ipykernel_62044/1636465878.py:42: RuntimeWarning: invalid value encountered in double_scalars\n",
      "  output_data['tf'] = h_data['tf'] / (h_data['tf'] + a_data['tf'])\n"
     ]
    },
    {
     "name": "stdout",
     "output_type": "stream",
     "text": [
      "S19G01N186\n",
      "S19G01N187\n",
      "S19G01N188\n",
      "S19G01N189\n"
     ]
    },
    {
     "name": "stderr",
     "output_type": "stream",
     "text": [
      "/var/folders/xk/jz0njgws4vqcw913r_s9rxkr0000gn/T/ipykernel_62044/1636465878.py:42: RuntimeWarning: invalid value encountered in double_scalars\n",
      "  output_data['tf'] = h_data['tf'] / (h_data['tf'] + a_data['tf'])\n",
      "/var/folders/xk/jz0njgws4vqcw913r_s9rxkr0000gn/T/ipykernel_62044/1636465878.py:42: RuntimeWarning: invalid value encountered in double_scalars\n",
      "  output_data['tf'] = h_data['tf'] / (h_data['tf'] + a_data['tf'])\n"
     ]
    },
    {
     "name": "stdout",
     "output_type": "stream",
     "text": [
      "S19G01N190\n",
      "S19G01N191\n",
      "S19G01N192\n",
      "S19G01N193\n",
      "S19G01N194\n",
      "S19G01N195\n"
     ]
    },
    {
     "name": "stderr",
     "output_type": "stream",
     "text": [
      "/var/folders/xk/jz0njgws4vqcw913r_s9rxkr0000gn/T/ipykernel_62044/1636465878.py:42: RuntimeWarning: invalid value encountered in double_scalars\n",
      "  output_data['tf'] = h_data['tf'] / (h_data['tf'] + a_data['tf'])\n",
      "/var/folders/xk/jz0njgws4vqcw913r_s9rxkr0000gn/T/ipykernel_62044/1636465878.py:42: RuntimeWarning: invalid value encountered in double_scalars\n",
      "  output_data['tf'] = h_data['tf'] / (h_data['tf'] + a_data['tf'])\n"
     ]
    },
    {
     "name": "stdout",
     "output_type": "stream",
     "text": [
      "S19G01N196\n",
      "S19G01N197\n"
     ]
    },
    {
     "name": "stderr",
     "output_type": "stream",
     "text": [
      "/var/folders/xk/jz0njgws4vqcw913r_s9rxkr0000gn/T/ipykernel_62044/1636465878.py:42: RuntimeWarning: invalid value encountered in double_scalars\n",
      "  output_data['tf'] = h_data['tf'] / (h_data['tf'] + a_data['tf'])\n",
      "/var/folders/xk/jz0njgws4vqcw913r_s9rxkr0000gn/T/ipykernel_62044/1636465878.py:42: RuntimeWarning: invalid value encountered in double_scalars\n",
      "  output_data['tf'] = h_data['tf'] / (h_data['tf'] + a_data['tf'])\n"
     ]
    },
    {
     "name": "stdout",
     "output_type": "stream",
     "text": [
      "S19G01N198\n"
     ]
    },
    {
     "name": "stderr",
     "output_type": "stream",
     "text": [
      "/var/folders/xk/jz0njgws4vqcw913r_s9rxkr0000gn/T/ipykernel_62044/1636465878.py:42: RuntimeWarning: invalid value encountered in double_scalars\n",
      "  output_data['tf'] = h_data['tf'] / (h_data['tf'] + a_data['tf'])\n",
      "/var/folders/xk/jz0njgws4vqcw913r_s9rxkr0000gn/T/ipykernel_62044/1636465878.py:42: RuntimeWarning: invalid value encountered in double_scalars\n",
      "  output_data['tf'] = h_data['tf'] / (h_data['tf'] + a_data['tf'])\n"
     ]
    },
    {
     "name": "stdout",
     "output_type": "stream",
     "text": [
      "S19G01N199\n",
      "S19G01N200\n",
      "S19G01N201\n",
      "S19G01N202\n"
     ]
    },
    {
     "name": "stderr",
     "output_type": "stream",
     "text": [
      "/var/folders/xk/jz0njgws4vqcw913r_s9rxkr0000gn/T/ipykernel_62044/1636465878.py:42: RuntimeWarning: invalid value encountered in double_scalars\n",
      "  output_data['tf'] = h_data['tf'] / (h_data['tf'] + a_data['tf'])\n",
      "/var/folders/xk/jz0njgws4vqcw913r_s9rxkr0000gn/T/ipykernel_62044/1636465878.py:42: RuntimeWarning: invalid value encountered in double_scalars\n",
      "  output_data['tf'] = h_data['tf'] / (h_data['tf'] + a_data['tf'])\n"
     ]
    },
    {
     "name": "stdout",
     "output_type": "stream",
     "text": [
      "S19G01N203\n"
     ]
    },
    {
     "name": "stderr",
     "output_type": "stream",
     "text": [
      "/var/folders/xk/jz0njgws4vqcw913r_s9rxkr0000gn/T/ipykernel_62044/1636465878.py:42: RuntimeWarning: invalid value encountered in double_scalars\n",
      "  output_data['tf'] = h_data['tf'] / (h_data['tf'] + a_data['tf'])\n",
      "/var/folders/xk/jz0njgws4vqcw913r_s9rxkr0000gn/T/ipykernel_62044/1636465878.py:42: RuntimeWarning: invalid value encountered in double_scalars\n",
      "  output_data['tf'] = h_data['tf'] / (h_data['tf'] + a_data['tf'])\n"
     ]
    },
    {
     "name": "stdout",
     "output_type": "stream",
     "text": [
      "S19G01N204\n",
      "S19G01N205\n"
     ]
    },
    {
     "name": "stderr",
     "output_type": "stream",
     "text": [
      "/var/folders/xk/jz0njgws4vqcw913r_s9rxkr0000gn/T/ipykernel_62044/1636465878.py:42: RuntimeWarning: invalid value encountered in double_scalars\n",
      "  output_data['tf'] = h_data['tf'] / (h_data['tf'] + a_data['tf'])\n",
      "/var/folders/xk/jz0njgws4vqcw913r_s9rxkr0000gn/T/ipykernel_62044/1636465878.py:42: RuntimeWarning: invalid value encountered in double_scalars\n",
      "  output_data['tf'] = h_data['tf'] / (h_data['tf'] + a_data['tf'])\n"
     ]
    },
    {
     "name": "stdout",
     "output_type": "stream",
     "text": [
      "S19G01N206\n",
      "S19G01N207\n",
      "S19G01N208\n"
     ]
    },
    {
     "name": "stderr",
     "output_type": "stream",
     "text": [
      "/var/folders/xk/jz0njgws4vqcw913r_s9rxkr0000gn/T/ipykernel_62044/1636465878.py:42: RuntimeWarning: invalid value encountered in double_scalars\n",
      "  output_data['tf'] = h_data['tf'] / (h_data['tf'] + a_data['tf'])\n",
      "/var/folders/xk/jz0njgws4vqcw913r_s9rxkr0000gn/T/ipykernel_62044/1636465878.py:42: RuntimeWarning: invalid value encountered in double_scalars\n",
      "  output_data['tf'] = h_data['tf'] / (h_data['tf'] + a_data['tf'])\n"
     ]
    },
    {
     "name": "stdout",
     "output_type": "stream",
     "text": [
      "S19G01N209\n",
      "S19G01N210\n"
     ]
    },
    {
     "name": "stderr",
     "output_type": "stream",
     "text": [
      "/var/folders/xk/jz0njgws4vqcw913r_s9rxkr0000gn/T/ipykernel_62044/1636465878.py:42: RuntimeWarning: invalid value encountered in double_scalars\n",
      "  output_data['tf'] = h_data['tf'] / (h_data['tf'] + a_data['tf'])\n",
      "/var/folders/xk/jz0njgws4vqcw913r_s9rxkr0000gn/T/ipykernel_62044/1636465878.py:42: RuntimeWarning: invalid value encountered in double_scalars\n",
      "  output_data['tf'] = h_data['tf'] / (h_data['tf'] + a_data['tf'])\n"
     ]
    },
    {
     "name": "stdout",
     "output_type": "stream",
     "text": [
      "S19G01N211\n"
     ]
    },
    {
     "name": "stderr",
     "output_type": "stream",
     "text": [
      "/var/folders/xk/jz0njgws4vqcw913r_s9rxkr0000gn/T/ipykernel_62044/1636465878.py:42: RuntimeWarning: invalid value encountered in double_scalars\n",
      "  output_data['tf'] = h_data['tf'] / (h_data['tf'] + a_data['tf'])\n",
      "/var/folders/xk/jz0njgws4vqcw913r_s9rxkr0000gn/T/ipykernel_62044/1636465878.py:42: RuntimeWarning: invalid value encountered in double_scalars\n",
      "  output_data['tf'] = h_data['tf'] / (h_data['tf'] + a_data['tf'])\n"
     ]
    },
    {
     "name": "stdout",
     "output_type": "stream",
     "text": [
      "S19G01N212\n",
      "S19G01N213\n",
      "S19G01N214\n",
      "S19G01N215\n",
      "S19G01N216\n",
      "S19G01N217\n",
      "S19G01N218\n"
     ]
    },
    {
     "name": "stderr",
     "output_type": "stream",
     "text": [
      "/var/folders/xk/jz0njgws4vqcw913r_s9rxkr0000gn/T/ipykernel_62044/1636465878.py:42: RuntimeWarning: invalid value encountered in double_scalars\n",
      "  output_data['tf'] = h_data['tf'] / (h_data['tf'] + a_data['tf'])\n",
      "/var/folders/xk/jz0njgws4vqcw913r_s9rxkr0000gn/T/ipykernel_62044/1636465878.py:42: RuntimeWarning: invalid value encountered in double_scalars\n",
      "  output_data['tf'] = h_data['tf'] / (h_data['tf'] + a_data['tf'])\n"
     ]
    },
    {
     "name": "stdout",
     "output_type": "stream",
     "text": [
      "S19G01N219\n",
      "S19G01N220\n",
      "S19G01N221\n"
     ]
    },
    {
     "name": "stderr",
     "output_type": "stream",
     "text": [
      "/var/folders/xk/jz0njgws4vqcw913r_s9rxkr0000gn/T/ipykernel_62044/1636465878.py:42: RuntimeWarning: invalid value encountered in double_scalars\n",
      "  output_data['tf'] = h_data['tf'] / (h_data['tf'] + a_data['tf'])\n",
      "/var/folders/xk/jz0njgws4vqcw913r_s9rxkr0000gn/T/ipykernel_62044/1636465878.py:42: RuntimeWarning: invalid value encountered in double_scalars\n",
      "  output_data['tf'] = h_data['tf'] / (h_data['tf'] + a_data['tf'])\n"
     ]
    },
    {
     "name": "stdout",
     "output_type": "stream",
     "text": [
      "S19G01N222\n",
      "S19G01N223\n"
     ]
    },
    {
     "name": "stderr",
     "output_type": "stream",
     "text": [
      "/var/folders/xk/jz0njgws4vqcw913r_s9rxkr0000gn/T/ipykernel_62044/1636465878.py:42: RuntimeWarning: invalid value encountered in double_scalars\n",
      "  output_data['tf'] = h_data['tf'] / (h_data['tf'] + a_data['tf'])\n",
      "/var/folders/xk/jz0njgws4vqcw913r_s9rxkr0000gn/T/ipykernel_62044/1636465878.py:42: RuntimeWarning: invalid value encountered in double_scalars\n",
      "  output_data['tf'] = h_data['tf'] / (h_data['tf'] + a_data['tf'])\n"
     ]
    },
    {
     "name": "stdout",
     "output_type": "stream",
     "text": [
      "S19G01N224\n",
      "S19G01N225\n"
     ]
    },
    {
     "name": "stderr",
     "output_type": "stream",
     "text": [
      "/var/folders/xk/jz0njgws4vqcw913r_s9rxkr0000gn/T/ipykernel_62044/1636465878.py:42: RuntimeWarning: invalid value encountered in double_scalars\n",
      "  output_data['tf'] = h_data['tf'] / (h_data['tf'] + a_data['tf'])\n",
      "/var/folders/xk/jz0njgws4vqcw913r_s9rxkr0000gn/T/ipykernel_62044/1636465878.py:42: RuntimeWarning: invalid value encountered in double_scalars\n",
      "  output_data['tf'] = h_data['tf'] / (h_data['tf'] + a_data['tf'])\n"
     ]
    },
    {
     "name": "stdout",
     "output_type": "stream",
     "text": [
      "S19G01N226\n",
      "S19G01N227\n"
     ]
    },
    {
     "name": "stderr",
     "output_type": "stream",
     "text": [
      "/var/folders/xk/jz0njgws4vqcw913r_s9rxkr0000gn/T/ipykernel_62044/1636465878.py:42: RuntimeWarning: invalid value encountered in double_scalars\n",
      "  output_data['tf'] = h_data['tf'] / (h_data['tf'] + a_data['tf'])\n",
      "/var/folders/xk/jz0njgws4vqcw913r_s9rxkr0000gn/T/ipykernel_62044/1636465878.py:42: RuntimeWarning: invalid value encountered in double_scalars\n",
      "  output_data['tf'] = h_data['tf'] / (h_data['tf'] + a_data['tf'])\n"
     ]
    },
    {
     "name": "stdout",
     "output_type": "stream",
     "text": [
      "S19G01N228\n",
      "S19G01N229\n",
      "S19G01N230\n",
      "S19G01N231\n",
      "S19G01N232\n",
      "S19G01N233\n",
      "S19G01N234\n",
      "S19G01N235\n",
      "S19G01N236\n",
      "S19G01N237\n"
     ]
    },
    {
     "name": "stderr",
     "output_type": "stream",
     "text": [
      "/var/folders/xk/jz0njgws4vqcw913r_s9rxkr0000gn/T/ipykernel_62044/1636465878.py:42: RuntimeWarning: invalid value encountered in double_scalars\n",
      "  output_data['tf'] = h_data['tf'] / (h_data['tf'] + a_data['tf'])\n",
      "/var/folders/xk/jz0njgws4vqcw913r_s9rxkr0000gn/T/ipykernel_62044/1636465878.py:42: RuntimeWarning: invalid value encountered in double_scalars\n",
      "  output_data['tf'] = h_data['tf'] / (h_data['tf'] + a_data['tf'])\n"
     ]
    },
    {
     "name": "stdout",
     "output_type": "stream",
     "text": [
      "S19G01N238\n",
      "S19G01N239\n",
      "S19G01N240\n"
     ]
    },
    {
     "name": "stderr",
     "output_type": "stream",
     "text": [
      "/var/folders/xk/jz0njgws4vqcw913r_s9rxkr0000gn/T/ipykernel_62044/1636465878.py:42: RuntimeWarning: invalid value encountered in double_scalars\n",
      "  output_data['tf'] = h_data['tf'] / (h_data['tf'] + a_data['tf'])\n",
      "/var/folders/xk/jz0njgws4vqcw913r_s9rxkr0000gn/T/ipykernel_62044/1636465878.py:42: RuntimeWarning: invalid value encountered in double_scalars\n",
      "  output_data['tf'] = h_data['tf'] / (h_data['tf'] + a_data['tf'])\n"
     ]
    },
    {
     "name": "stdout",
     "output_type": "stream",
     "text": [
      "S19G01N241\n",
      "S19G01N242\n",
      "S19G01N243\n",
      "S19G01N244\n",
      "S19G01N245\n",
      "S19G01N246\n"
     ]
    },
    {
     "name": "stderr",
     "output_type": "stream",
     "text": [
      "/var/folders/xk/jz0njgws4vqcw913r_s9rxkr0000gn/T/ipykernel_62044/1636465878.py:42: RuntimeWarning: invalid value encountered in double_scalars\n",
      "  output_data['tf'] = h_data['tf'] / (h_data['tf'] + a_data['tf'])\n",
      "/var/folders/xk/jz0njgws4vqcw913r_s9rxkr0000gn/T/ipykernel_62044/1636465878.py:42: RuntimeWarning: invalid value encountered in double_scalars\n",
      "  output_data['tf'] = h_data['tf'] / (h_data['tf'] + a_data['tf'])\n"
     ]
    },
    {
     "name": "stdout",
     "output_type": "stream",
     "text": [
      "S19G01N247\n",
      "S19G01N248\n"
     ]
    },
    {
     "name": "stderr",
     "output_type": "stream",
     "text": [
      "/var/folders/xk/jz0njgws4vqcw913r_s9rxkr0000gn/T/ipykernel_62044/1636465878.py:42: RuntimeWarning: invalid value encountered in double_scalars\n",
      "  output_data['tf'] = h_data['tf'] / (h_data['tf'] + a_data['tf'])\n",
      "/var/folders/xk/jz0njgws4vqcw913r_s9rxkr0000gn/T/ipykernel_62044/1636465878.py:42: RuntimeWarning: invalid value encountered in double_scalars\n",
      "  output_data['tf'] = h_data['tf'] / (h_data['tf'] + a_data['tf'])\n"
     ]
    },
    {
     "name": "stdout",
     "output_type": "stream",
     "text": [
      "S19G01N249\n",
      "S19G01N250\n",
      "S19G01N251\n"
     ]
    },
    {
     "name": "stderr",
     "output_type": "stream",
     "text": [
      "/var/folders/xk/jz0njgws4vqcw913r_s9rxkr0000gn/T/ipykernel_62044/1636465878.py:42: RuntimeWarning: invalid value encountered in double_scalars\n",
      "  output_data['tf'] = h_data['tf'] / (h_data['tf'] + a_data['tf'])\n",
      "/var/folders/xk/jz0njgws4vqcw913r_s9rxkr0000gn/T/ipykernel_62044/1636465878.py:42: RuntimeWarning: invalid value encountered in double_scalars\n",
      "  output_data['tf'] = h_data['tf'] / (h_data['tf'] + a_data['tf'])\n"
     ]
    },
    {
     "name": "stdout",
     "output_type": "stream",
     "text": [
      "S19G01N252\n"
     ]
    },
    {
     "name": "stderr",
     "output_type": "stream",
     "text": [
      "/var/folders/xk/jz0njgws4vqcw913r_s9rxkr0000gn/T/ipykernel_62044/1636465878.py:42: RuntimeWarning: invalid value encountered in double_scalars\n",
      "  output_data['tf'] = h_data['tf'] / (h_data['tf'] + a_data['tf'])\n",
      "/var/folders/xk/jz0njgws4vqcw913r_s9rxkr0000gn/T/ipykernel_62044/1636465878.py:42: RuntimeWarning: invalid value encountered in double_scalars\n",
      "  output_data['tf'] = h_data['tf'] / (h_data['tf'] + a_data['tf'])\n"
     ]
    },
    {
     "name": "stdout",
     "output_type": "stream",
     "text": [
      "S19G01N253\n",
      "S19G01N254\n",
      "S19G01N255\n",
      "S19G01N256\n"
     ]
    },
    {
     "name": "stderr",
     "output_type": "stream",
     "text": [
      "/var/folders/xk/jz0njgws4vqcw913r_s9rxkr0000gn/T/ipykernel_62044/1636465878.py:42: RuntimeWarning: invalid value encountered in double_scalars\n",
      "  output_data['tf'] = h_data['tf'] / (h_data['tf'] + a_data['tf'])\n",
      "/var/folders/xk/jz0njgws4vqcw913r_s9rxkr0000gn/T/ipykernel_62044/1636465878.py:42: RuntimeWarning: invalid value encountered in double_scalars\n",
      "  output_data['tf'] = h_data['tf'] / (h_data['tf'] + a_data['tf'])\n"
     ]
    },
    {
     "name": "stdout",
     "output_type": "stream",
     "text": [
      "S19G01N257\n"
     ]
    },
    {
     "name": "stderr",
     "output_type": "stream",
     "text": [
      "/var/folders/xk/jz0njgws4vqcw913r_s9rxkr0000gn/T/ipykernel_62044/1636465878.py:42: RuntimeWarning: invalid value encountered in double_scalars\n",
      "  output_data['tf'] = h_data['tf'] / (h_data['tf'] + a_data['tf'])\n",
      "/var/folders/xk/jz0njgws4vqcw913r_s9rxkr0000gn/T/ipykernel_62044/1636465878.py:42: RuntimeWarning: invalid value encountered in double_scalars\n",
      "  output_data['tf'] = h_data['tf'] / (h_data['tf'] + a_data['tf'])\n"
     ]
    },
    {
     "name": "stdout",
     "output_type": "stream",
     "text": [
      "S19G01N258\n",
      "S19G01N259\n",
      "S19G01N260\n",
      "S19G01N261\n",
      "S19G01N262\n"
     ]
    },
    {
     "name": "stderr",
     "output_type": "stream",
     "text": [
      "/var/folders/xk/jz0njgws4vqcw913r_s9rxkr0000gn/T/ipykernel_62044/1636465878.py:42: RuntimeWarning: invalid value encountered in double_scalars\n",
      "  output_data['tf'] = h_data['tf'] / (h_data['tf'] + a_data['tf'])\n",
      "/var/folders/xk/jz0njgws4vqcw913r_s9rxkr0000gn/T/ipykernel_62044/1636465878.py:42: RuntimeWarning: invalid value encountered in double_scalars\n",
      "  output_data['tf'] = h_data['tf'] / (h_data['tf'] + a_data['tf'])\n"
     ]
    },
    {
     "name": "stdout",
     "output_type": "stream",
     "text": [
      "S19G01N263\n",
      "S19G01N264\n"
     ]
    },
    {
     "name": "stderr",
     "output_type": "stream",
     "text": [
      "/var/folders/xk/jz0njgws4vqcw913r_s9rxkr0000gn/T/ipykernel_62044/1636465878.py:42: RuntimeWarning: invalid value encountered in double_scalars\n",
      "  output_data['tf'] = h_data['tf'] / (h_data['tf'] + a_data['tf'])\n",
      "/var/folders/xk/jz0njgws4vqcw913r_s9rxkr0000gn/T/ipykernel_62044/1636465878.py:42: RuntimeWarning: invalid value encountered in double_scalars\n",
      "  output_data['tf'] = h_data['tf'] / (h_data['tf'] + a_data['tf'])\n"
     ]
    },
    {
     "name": "stdout",
     "output_type": "stream",
     "text": [
      "S19G01N265\n",
      "S19G01N266\n",
      "S19G01N267\n",
      "S19G01N268\n",
      "S19G01N269\n",
      "S19G01N270\n",
      "S19G03N1\n"
     ]
    },
    {
     "name": "stderr",
     "output_type": "stream",
     "text": [
      "/var/folders/xk/jz0njgws4vqcw913r_s9rxkr0000gn/T/ipykernel_62044/1636465878.py:43: RuntimeWarning: invalid value encountered in double_scalars\n",
      "  output_data['gd'] = h_data['gd'] / (h_data['gd'] + a_data['gd'])\n",
      "/var/folders/xk/jz0njgws4vqcw913r_s9rxkr0000gn/T/ipykernel_62044/1636465878.py:43: RuntimeWarning: invalid value encountered in double_scalars\n",
      "  output_data['gd'] = h_data['gd'] / (h_data['gd'] + a_data['gd'])\n"
     ]
    },
    {
     "name": "stdout",
     "output_type": "stream",
     "text": [
      "S19G03N2\n",
      "S19G03N3\n"
     ]
    },
    {
     "name": "stderr",
     "output_type": "stream",
     "text": [
      "/var/folders/xk/jz0njgws4vqcw913r_s9rxkr0000gn/T/ipykernel_62044/1636465878.py:43: RuntimeWarning: invalid value encountered in double_scalars\n",
      "  output_data['gd'] = h_data['gd'] / (h_data['gd'] + a_data['gd'])\n",
      "/var/folders/xk/jz0njgws4vqcw913r_s9rxkr0000gn/T/ipykernel_62044/1636465878.py:43: RuntimeWarning: invalid value encountered in double_scalars\n",
      "  output_data['gd'] = h_data['gd'] / (h_data['gd'] + a_data['gd'])\n"
     ]
    },
    {
     "name": "stdout",
     "output_type": "stream",
     "text": [
      "S19G03N4\n",
      "S19G03N5\n"
     ]
    },
    {
     "name": "stderr",
     "output_type": "stream",
     "text": [
      "/var/folders/xk/jz0njgws4vqcw913r_s9rxkr0000gn/T/ipykernel_62044/1636465878.py:43: RuntimeWarning: invalid value encountered in double_scalars\n",
      "  output_data['gd'] = h_data['gd'] / (h_data['gd'] + a_data['gd'])\n",
      "/var/folders/xk/jz0njgws4vqcw913r_s9rxkr0000gn/T/ipykernel_62044/1636465878.py:43: RuntimeWarning: invalid value encountered in double_scalars\n",
      "  output_data['gd'] = h_data['gd'] / (h_data['gd'] + a_data['gd'])\n"
     ]
    },
    {
     "name": "stdout",
     "output_type": "stream",
     "text": [
      "S19G03N6\n",
      "S19G04N1\n",
      "S19G04N2\n",
      "S19G04N3\n",
      "S19G04N4\n",
      "S19G04N5\n",
      "S19G04N6\n"
     ]
    },
    {
     "name": "stderr",
     "output_type": "stream",
     "text": [
      "/var/folders/xk/jz0njgws4vqcw913r_s9rxkr0000gn/T/ipykernel_62044/1636465878.py:25: RuntimeWarning: invalid value encountered in double_scalars\n",
      "  output_data['dk'] = h_data['dk'] / h_data['dkA']\n",
      "/var/folders/xk/jz0njgws4vqcw913r_s9rxkr0000gn/T/ipykernel_62044/1636465878.py:42: RuntimeWarning: invalid value encountered in double_scalars\n",
      "  output_data['tf'] = h_data['tf'] / (h_data['tf'] + a_data['tf'])\n",
      "/var/folders/xk/jz0njgws4vqcw913r_s9rxkr0000gn/T/ipykernel_62044/1636465878.py:23: RuntimeWarning: invalid value encountered in double_scalars\n",
      "  output_data['ppp'] = h_data['pp'] / h_data['ppA']\n",
      "/var/folders/xk/jz0njgws4vqcw913r_s9rxkr0000gn/T/ipykernel_62044/1636465878.py:25: RuntimeWarning: invalid value encountered in double_scalars\n",
      "  output_data['dk'] = h_data['dk'] / h_data['dkA']\n",
      "/var/folders/xk/jz0njgws4vqcw913r_s9rxkr0000gn/T/ipykernel_62044/1636465878.py:42: RuntimeWarning: invalid value encountered in double_scalars\n",
      "  output_data['tf'] = h_data['tf'] / (h_data['tf'] + a_data['tf'])\n"
     ]
    },
    {
     "name": "stdout",
     "output_type": "stream",
     "text": [
      "S20G01N1\n",
      "S20G01N2\n"
     ]
    },
    {
     "name": "stderr",
     "output_type": "stream",
     "text": [
      "/var/folders/xk/jz0njgws4vqcw913r_s9rxkr0000gn/T/ipykernel_62044/1636465878.py:23: RuntimeWarning: invalid value encountered in double_scalars\n",
      "  output_data['ppp'] = h_data['pp'] / h_data['ppA']\n",
      "/var/folders/xk/jz0njgws4vqcw913r_s9rxkr0000gn/T/ipykernel_62044/1636465878.py:25: RuntimeWarning: invalid value encountered in double_scalars\n",
      "  output_data['dk'] = h_data['dk'] / h_data['dkA']\n",
      "/var/folders/xk/jz0njgws4vqcw913r_s9rxkr0000gn/T/ipykernel_62044/1636465878.py:42: RuntimeWarning: invalid value encountered in double_scalars\n",
      "  output_data['tf'] = h_data['tf'] / (h_data['tf'] + a_data['tf'])\n",
      "/var/folders/xk/jz0njgws4vqcw913r_s9rxkr0000gn/T/ipykernel_62044/1636465878.py:42: RuntimeWarning: invalid value encountered in double_scalars\n",
      "  output_data['tf'] = h_data['tf'] / (h_data['tf'] + a_data['tf'])\n"
     ]
    },
    {
     "name": "stdout",
     "output_type": "stream",
     "text": [
      "S20G01N3\n"
     ]
    },
    {
     "name": "stderr",
     "output_type": "stream",
     "text": [
      "/var/folders/xk/jz0njgws4vqcw913r_s9rxkr0000gn/T/ipykernel_62044/1636465878.py:25: RuntimeWarning: invalid value encountered in double_scalars\n",
      "  output_data['dk'] = h_data['dk'] / h_data['dkA']\n",
      "/var/folders/xk/jz0njgws4vqcw913r_s9rxkr0000gn/T/ipykernel_62044/1636465878.py:42: RuntimeWarning: invalid value encountered in double_scalars\n",
      "  output_data['tf'] = h_data['tf'] / (h_data['tf'] + a_data['tf'])\n",
      "/var/folders/xk/jz0njgws4vqcw913r_s9rxkr0000gn/T/ipykernel_62044/1636465878.py:25: RuntimeWarning: invalid value encountered in double_scalars\n",
      "  output_data['dk'] = h_data['dk'] / h_data['dkA']\n",
      "/var/folders/xk/jz0njgws4vqcw913r_s9rxkr0000gn/T/ipykernel_62044/1636465878.py:42: RuntimeWarning: invalid value encountered in double_scalars\n",
      "  output_data['tf'] = h_data['tf'] / (h_data['tf'] + a_data['tf'])\n"
     ]
    },
    {
     "name": "stdout",
     "output_type": "stream",
     "text": [
      "S20G01N4\n"
     ]
    },
    {
     "name": "stderr",
     "output_type": "stream",
     "text": [
      "/var/folders/xk/jz0njgws4vqcw913r_s9rxkr0000gn/T/ipykernel_62044/1636465878.py:23: RuntimeWarning: invalid value encountered in double_scalars\n",
      "  output_data['ppp'] = h_data['pp'] / h_data['ppA']\n",
      "/var/folders/xk/jz0njgws4vqcw913r_s9rxkr0000gn/T/ipykernel_62044/1636465878.py:25: RuntimeWarning: invalid value encountered in double_scalars\n",
      "  output_data['dk'] = h_data['dk'] / h_data['dkA']\n",
      "/var/folders/xk/jz0njgws4vqcw913r_s9rxkr0000gn/T/ipykernel_62044/1636465878.py:42: RuntimeWarning: invalid value encountered in double_scalars\n",
      "  output_data['tf'] = h_data['tf'] / (h_data['tf'] + a_data['tf'])\n",
      "/var/folders/xk/jz0njgws4vqcw913r_s9rxkr0000gn/T/ipykernel_62044/1636465878.py:25: RuntimeWarning: invalid value encountered in double_scalars\n",
      "  output_data['dk'] = h_data['dk'] / h_data['dkA']\n",
      "/var/folders/xk/jz0njgws4vqcw913r_s9rxkr0000gn/T/ipykernel_62044/1636465878.py:42: RuntimeWarning: invalid value encountered in double_scalars\n",
      "  output_data['tf'] = h_data['tf'] / (h_data['tf'] + a_data['tf'])\n"
     ]
    },
    {
     "name": "stdout",
     "output_type": "stream",
     "text": [
      "S20G01N5\n"
     ]
    },
    {
     "name": "stderr",
     "output_type": "stream",
     "text": [
      "/var/folders/xk/jz0njgws4vqcw913r_s9rxkr0000gn/T/ipykernel_62044/1636465878.py:42: RuntimeWarning: invalid value encountered in double_scalars\n",
      "  output_data['tf'] = h_data['tf'] / (h_data['tf'] + a_data['tf'])\n",
      "/var/folders/xk/jz0njgws4vqcw913r_s9rxkr0000gn/T/ipykernel_62044/1636465878.py:25: RuntimeWarning: invalid value encountered in double_scalars\n",
      "  output_data['dk'] = h_data['dk'] / h_data['dkA']\n",
      "/var/folders/xk/jz0njgws4vqcw913r_s9rxkr0000gn/T/ipykernel_62044/1636465878.py:42: RuntimeWarning: invalid value encountered in double_scalars\n",
      "  output_data['tf'] = h_data['tf'] / (h_data['tf'] + a_data['tf'])\n"
     ]
    },
    {
     "name": "stdout",
     "output_type": "stream",
     "text": [
      "S20G01N6\n"
     ]
    },
    {
     "name": "stderr",
     "output_type": "stream",
     "text": [
      "/var/folders/xk/jz0njgws4vqcw913r_s9rxkr0000gn/T/ipykernel_62044/1636465878.py:25: RuntimeWarning: invalid value encountered in double_scalars\n",
      "  output_data['dk'] = h_data['dk'] / h_data['dkA']\n",
      "/var/folders/xk/jz0njgws4vqcw913r_s9rxkr0000gn/T/ipykernel_62044/1636465878.py:42: RuntimeWarning: invalid value encountered in double_scalars\n",
      "  output_data['tf'] = h_data['tf'] / (h_data['tf'] + a_data['tf'])\n",
      "/var/folders/xk/jz0njgws4vqcw913r_s9rxkr0000gn/T/ipykernel_62044/1636465878.py:25: RuntimeWarning: invalid value encountered in double_scalars\n",
      "  output_data['dk'] = h_data['dk'] / h_data['dkA']\n",
      "/var/folders/xk/jz0njgws4vqcw913r_s9rxkr0000gn/T/ipykernel_62044/1636465878.py:42: RuntimeWarning: invalid value encountered in double_scalars\n",
      "  output_data['tf'] = h_data['tf'] / (h_data['tf'] + a_data['tf'])\n"
     ]
    },
    {
     "name": "stdout",
     "output_type": "stream",
     "text": [
      "S20G01N7\n"
     ]
    },
    {
     "name": "stderr",
     "output_type": "stream",
     "text": [
      "/var/folders/xk/jz0njgws4vqcw913r_s9rxkr0000gn/T/ipykernel_62044/1636465878.py:23: RuntimeWarning: invalid value encountered in double_scalars\n",
      "  output_data['ppp'] = h_data['pp'] / h_data['ppA']\n",
      "/var/folders/xk/jz0njgws4vqcw913r_s9rxkr0000gn/T/ipykernel_62044/1636465878.py:25: RuntimeWarning: invalid value encountered in double_scalars\n",
      "  output_data['dk'] = h_data['dk'] / h_data['dkA']\n",
      "/var/folders/xk/jz0njgws4vqcw913r_s9rxkr0000gn/T/ipykernel_62044/1636465878.py:42: RuntimeWarning: invalid value encountered in double_scalars\n",
      "  output_data['tf'] = h_data['tf'] / (h_data['tf'] + a_data['tf'])\n",
      "/var/folders/xk/jz0njgws4vqcw913r_s9rxkr0000gn/T/ipykernel_62044/1636465878.py:25: RuntimeWarning: invalid value encountered in double_scalars\n",
      "  output_data['dk'] = h_data['dk'] / h_data['dkA']\n",
      "/var/folders/xk/jz0njgws4vqcw913r_s9rxkr0000gn/T/ipykernel_62044/1636465878.py:42: RuntimeWarning: invalid value encountered in double_scalars\n",
      "  output_data['tf'] = h_data['tf'] / (h_data['tf'] + a_data['tf'])\n"
     ]
    },
    {
     "name": "stdout",
     "output_type": "stream",
     "text": [
      "S20G01N8\n"
     ]
    },
    {
     "name": "stderr",
     "output_type": "stream",
     "text": [
      "/var/folders/xk/jz0njgws4vqcw913r_s9rxkr0000gn/T/ipykernel_62044/1636465878.py:25: RuntimeWarning: invalid value encountered in double_scalars\n",
      "  output_data['dk'] = h_data['dk'] / h_data['dkA']\n",
      "/var/folders/xk/jz0njgws4vqcw913r_s9rxkr0000gn/T/ipykernel_62044/1636465878.py:42: RuntimeWarning: invalid value encountered in double_scalars\n",
      "  output_data['tf'] = h_data['tf'] / (h_data['tf'] + a_data['tf'])\n",
      "/var/folders/xk/jz0njgws4vqcw913r_s9rxkr0000gn/T/ipykernel_62044/1636465878.py:42: RuntimeWarning: invalid value encountered in double_scalars\n",
      "  output_data['tf'] = h_data['tf'] / (h_data['tf'] + a_data['tf'])\n"
     ]
    },
    {
     "name": "stdout",
     "output_type": "stream",
     "text": [
      "S20G01N9\n"
     ]
    },
    {
     "name": "stderr",
     "output_type": "stream",
     "text": [
      "/var/folders/xk/jz0njgws4vqcw913r_s9rxkr0000gn/T/ipykernel_62044/1636465878.py:25: RuntimeWarning: invalid value encountered in double_scalars\n",
      "  output_data['dk'] = h_data['dk'] / h_data['dkA']\n",
      "/var/folders/xk/jz0njgws4vqcw913r_s9rxkr0000gn/T/ipykernel_62044/1636465878.py:42: RuntimeWarning: invalid value encountered in double_scalars\n",
      "  output_data['tf'] = h_data['tf'] / (h_data['tf'] + a_data['tf'])\n",
      "/var/folders/xk/jz0njgws4vqcw913r_s9rxkr0000gn/T/ipykernel_62044/1636465878.py:25: RuntimeWarning: invalid value encountered in double_scalars\n",
      "  output_data['dk'] = h_data['dk'] / h_data['dkA']\n",
      "/var/folders/xk/jz0njgws4vqcw913r_s9rxkr0000gn/T/ipykernel_62044/1636465878.py:42: RuntimeWarning: invalid value encountered in double_scalars\n",
      "  output_data['tf'] = h_data['tf'] / (h_data['tf'] + a_data['tf'])\n"
     ]
    },
    {
     "name": "stdout",
     "output_type": "stream",
     "text": [
      "S20G01N10\n"
     ]
    },
    {
     "name": "stderr",
     "output_type": "stream",
     "text": [
      "/var/folders/xk/jz0njgws4vqcw913r_s9rxkr0000gn/T/ipykernel_62044/1636465878.py:25: RuntimeWarning: invalid value encountered in double_scalars\n",
      "  output_data['dk'] = h_data['dk'] / h_data['dkA']\n",
      "/var/folders/xk/jz0njgws4vqcw913r_s9rxkr0000gn/T/ipykernel_62044/1636465878.py:42: RuntimeWarning: invalid value encountered in double_scalars\n",
      "  output_data['tf'] = h_data['tf'] / (h_data['tf'] + a_data['tf'])\n",
      "/var/folders/xk/jz0njgws4vqcw913r_s9rxkr0000gn/T/ipykernel_62044/1636465878.py:23: RuntimeWarning: invalid value encountered in double_scalars\n",
      "  output_data['ppp'] = h_data['pp'] / h_data['ppA']\n",
      "/var/folders/xk/jz0njgws4vqcw913r_s9rxkr0000gn/T/ipykernel_62044/1636465878.py:25: RuntimeWarning: invalid value encountered in double_scalars\n",
      "  output_data['dk'] = h_data['dk'] / h_data['dkA']\n",
      "/var/folders/xk/jz0njgws4vqcw913r_s9rxkr0000gn/T/ipykernel_62044/1636465878.py:42: RuntimeWarning: invalid value encountered in double_scalars\n",
      "  output_data['tf'] = h_data['tf'] / (h_data['tf'] + a_data['tf'])\n"
     ]
    },
    {
     "name": "stdout",
     "output_type": "stream",
     "text": [
      "S20G01N11\n"
     ]
    },
    {
     "name": "stderr",
     "output_type": "stream",
     "text": [
      "/var/folders/xk/jz0njgws4vqcw913r_s9rxkr0000gn/T/ipykernel_62044/1636465878.py:25: RuntimeWarning: invalid value encountered in double_scalars\n",
      "  output_data['dk'] = h_data['dk'] / h_data['dkA']\n",
      "/var/folders/xk/jz0njgws4vqcw913r_s9rxkr0000gn/T/ipykernel_62044/1636465878.py:42: RuntimeWarning: invalid value encountered in double_scalars\n",
      "  output_data['tf'] = h_data['tf'] / (h_data['tf'] + a_data['tf'])\n",
      "/var/folders/xk/jz0njgws4vqcw913r_s9rxkr0000gn/T/ipykernel_62044/1636465878.py:42: RuntimeWarning: invalid value encountered in double_scalars\n",
      "  output_data['tf'] = h_data['tf'] / (h_data['tf'] + a_data['tf'])\n"
     ]
    },
    {
     "name": "stdout",
     "output_type": "stream",
     "text": [
      "S20G01N12\n"
     ]
    },
    {
     "name": "stderr",
     "output_type": "stream",
     "text": [
      "/var/folders/xk/jz0njgws4vqcw913r_s9rxkr0000gn/T/ipykernel_62044/1636465878.py:23: RuntimeWarning: invalid value encountered in double_scalars\n",
      "  output_data['ppp'] = h_data['pp'] / h_data['ppA']\n",
      "/var/folders/xk/jz0njgws4vqcw913r_s9rxkr0000gn/T/ipykernel_62044/1636465878.py:25: RuntimeWarning: invalid value encountered in double_scalars\n",
      "  output_data['dk'] = h_data['dk'] / h_data['dkA']\n",
      "/var/folders/xk/jz0njgws4vqcw913r_s9rxkr0000gn/T/ipykernel_62044/1636465878.py:42: RuntimeWarning: invalid value encountered in double_scalars\n",
      "  output_data['tf'] = h_data['tf'] / (h_data['tf'] + a_data['tf'])\n",
      "/var/folders/xk/jz0njgws4vqcw913r_s9rxkr0000gn/T/ipykernel_62044/1636465878.py:42: RuntimeWarning: invalid value encountered in double_scalars\n",
      "  output_data['tf'] = h_data['tf'] / (h_data['tf'] + a_data['tf'])\n"
     ]
    },
    {
     "name": "stdout",
     "output_type": "stream",
     "text": [
      "S20G01N13\n"
     ]
    },
    {
     "name": "stderr",
     "output_type": "stream",
     "text": [
      "/var/folders/xk/jz0njgws4vqcw913r_s9rxkr0000gn/T/ipykernel_62044/1636465878.py:25: RuntimeWarning: invalid value encountered in double_scalars\n",
      "  output_data['dk'] = h_data['dk'] / h_data['dkA']\n",
      "/var/folders/xk/jz0njgws4vqcw913r_s9rxkr0000gn/T/ipykernel_62044/1636465878.py:42: RuntimeWarning: invalid value encountered in double_scalars\n",
      "  output_data['tf'] = h_data['tf'] / (h_data['tf'] + a_data['tf'])\n",
      "/var/folders/xk/jz0njgws4vqcw913r_s9rxkr0000gn/T/ipykernel_62044/1636465878.py:25: RuntimeWarning: invalid value encountered in double_scalars\n",
      "  output_data['dk'] = h_data['dk'] / h_data['dkA']\n",
      "/var/folders/xk/jz0njgws4vqcw913r_s9rxkr0000gn/T/ipykernel_62044/1636465878.py:42: RuntimeWarning: invalid value encountered in double_scalars\n",
      "  output_data['tf'] = h_data['tf'] / (h_data['tf'] + a_data['tf'])\n"
     ]
    },
    {
     "name": "stdout",
     "output_type": "stream",
     "text": [
      "S20G01N14\n"
     ]
    },
    {
     "name": "stderr",
     "output_type": "stream",
     "text": [
      "/var/folders/xk/jz0njgws4vqcw913r_s9rxkr0000gn/T/ipykernel_62044/1636465878.py:25: RuntimeWarning: invalid value encountered in double_scalars\n",
      "  output_data['dk'] = h_data['dk'] / h_data['dkA']\n",
      "/var/folders/xk/jz0njgws4vqcw913r_s9rxkr0000gn/T/ipykernel_62044/1636465878.py:42: RuntimeWarning: invalid value encountered in double_scalars\n",
      "  output_data['tf'] = h_data['tf'] / (h_data['tf'] + a_data['tf'])\n",
      "/var/folders/xk/jz0njgws4vqcw913r_s9rxkr0000gn/T/ipykernel_62044/1636465878.py:42: RuntimeWarning: invalid value encountered in double_scalars\n",
      "  output_data['tf'] = h_data['tf'] / (h_data['tf'] + a_data['tf'])\n"
     ]
    },
    {
     "name": "stdout",
     "output_type": "stream",
     "text": [
      "S20G01N15\n"
     ]
    },
    {
     "name": "stderr",
     "output_type": "stream",
     "text": [
      "/var/folders/xk/jz0njgws4vqcw913r_s9rxkr0000gn/T/ipykernel_62044/1636465878.py:25: RuntimeWarning: invalid value encountered in double_scalars\n",
      "  output_data['dk'] = h_data['dk'] / h_data['dkA']\n"
     ]
    },
    {
     "name": "stdout",
     "output_type": "stream",
     "text": [
      "S20G01N16\n"
     ]
    },
    {
     "name": "stderr",
     "output_type": "stream",
     "text": [
      "/var/folders/xk/jz0njgws4vqcw913r_s9rxkr0000gn/T/ipykernel_62044/1636465878.py:23: RuntimeWarning: invalid value encountered in double_scalars\n",
      "  output_data['ppp'] = h_data['pp'] / h_data['ppA']\n",
      "/var/folders/xk/jz0njgws4vqcw913r_s9rxkr0000gn/T/ipykernel_62044/1636465878.py:25: RuntimeWarning: invalid value encountered in double_scalars\n",
      "  output_data['dk'] = h_data['dk'] / h_data['dkA']\n",
      "/var/folders/xk/jz0njgws4vqcw913r_s9rxkr0000gn/T/ipykernel_62044/1636465878.py:42: RuntimeWarning: invalid value encountered in double_scalars\n",
      "  output_data['tf'] = h_data['tf'] / (h_data['tf'] + a_data['tf'])\n",
      "/var/folders/xk/jz0njgws4vqcw913r_s9rxkr0000gn/T/ipykernel_62044/1636465878.py:25: RuntimeWarning: invalid value encountered in double_scalars\n",
      "  output_data['dk'] = h_data['dk'] / h_data['dkA']\n",
      "/var/folders/xk/jz0njgws4vqcw913r_s9rxkr0000gn/T/ipykernel_62044/1636465878.py:42: RuntimeWarning: invalid value encountered in double_scalars\n",
      "  output_data['tf'] = h_data['tf'] / (h_data['tf'] + a_data['tf'])\n"
     ]
    },
    {
     "name": "stdout",
     "output_type": "stream",
     "text": [
      "S20G01N17\n"
     ]
    },
    {
     "name": "stderr",
     "output_type": "stream",
     "text": [
      "/var/folders/xk/jz0njgws4vqcw913r_s9rxkr0000gn/T/ipykernel_62044/1636465878.py:25: RuntimeWarning: invalid value encountered in double_scalars\n",
      "  output_data['dk'] = h_data['dk'] / h_data['dkA']\n"
     ]
    },
    {
     "name": "stdout",
     "output_type": "stream",
     "text": [
      "S20G01N18\n"
     ]
    },
    {
     "name": "stderr",
     "output_type": "stream",
     "text": [
      "/var/folders/xk/jz0njgws4vqcw913r_s9rxkr0000gn/T/ipykernel_62044/1636465878.py:23: RuntimeWarning: invalid value encountered in double_scalars\n",
      "  output_data['ppp'] = h_data['pp'] / h_data['ppA']\n",
      "/var/folders/xk/jz0njgws4vqcw913r_s9rxkr0000gn/T/ipykernel_62044/1636465878.py:25: RuntimeWarning: invalid value encountered in double_scalars\n",
      "  output_data['dk'] = h_data['dk'] / h_data['dkA']\n"
     ]
    },
    {
     "name": "stdout",
     "output_type": "stream",
     "text": [
      "S20G01N19\n"
     ]
    },
    {
     "name": "stderr",
     "output_type": "stream",
     "text": [
      "/var/folders/xk/jz0njgws4vqcw913r_s9rxkr0000gn/T/ipykernel_62044/1636465878.py:42: RuntimeWarning: invalid value encountered in double_scalars\n",
      "  output_data['tf'] = h_data['tf'] / (h_data['tf'] + a_data['tf'])\n",
      "/var/folders/xk/jz0njgws4vqcw913r_s9rxkr0000gn/T/ipykernel_62044/1636465878.py:25: RuntimeWarning: invalid value encountered in double_scalars\n",
      "  output_data['dk'] = h_data['dk'] / h_data['dkA']\n",
      "/var/folders/xk/jz0njgws4vqcw913r_s9rxkr0000gn/T/ipykernel_62044/1636465878.py:42: RuntimeWarning: invalid value encountered in double_scalars\n",
      "  output_data['tf'] = h_data['tf'] / (h_data['tf'] + a_data['tf'])\n"
     ]
    },
    {
     "name": "stdout",
     "output_type": "stream",
     "text": [
      "S20G01N20\n"
     ]
    },
    {
     "name": "stderr",
     "output_type": "stream",
     "text": [
      "/var/folders/xk/jz0njgws4vqcw913r_s9rxkr0000gn/T/ipykernel_62044/1636465878.py:23: RuntimeWarning: invalid value encountered in double_scalars\n",
      "  output_data['ppp'] = h_data['pp'] / h_data['ppA']\n",
      "/var/folders/xk/jz0njgws4vqcw913r_s9rxkr0000gn/T/ipykernel_62044/1636465878.py:25: RuntimeWarning: invalid value encountered in double_scalars\n",
      "  output_data['dk'] = h_data['dk'] / h_data['dkA']\n"
     ]
    },
    {
     "name": "stdout",
     "output_type": "stream",
     "text": [
      "S20G01N21\n"
     ]
    },
    {
     "name": "stderr",
     "output_type": "stream",
     "text": [
      "/var/folders/xk/jz0njgws4vqcw913r_s9rxkr0000gn/T/ipykernel_62044/1636465878.py:42: RuntimeWarning: invalid value encountered in double_scalars\n",
      "  output_data['tf'] = h_data['tf'] / (h_data['tf'] + a_data['tf'])\n",
      "/var/folders/xk/jz0njgws4vqcw913r_s9rxkr0000gn/T/ipykernel_62044/1636465878.py:25: RuntimeWarning: invalid value encountered in double_scalars\n",
      "  output_data['dk'] = h_data['dk'] / h_data['dkA']\n",
      "/var/folders/xk/jz0njgws4vqcw913r_s9rxkr0000gn/T/ipykernel_62044/1636465878.py:42: RuntimeWarning: invalid value encountered in double_scalars\n",
      "  output_data['tf'] = h_data['tf'] / (h_data['tf'] + a_data['tf'])\n"
     ]
    },
    {
     "name": "stdout",
     "output_type": "stream",
     "text": [
      "S20G01N22\n",
      "S20G01N23\n"
     ]
    },
    {
     "name": "stderr",
     "output_type": "stream",
     "text": [
      "/var/folders/xk/jz0njgws4vqcw913r_s9rxkr0000gn/T/ipykernel_62044/1636465878.py:25: RuntimeWarning: invalid value encountered in double_scalars\n",
      "  output_data['dk'] = h_data['dk'] / h_data['dkA']\n",
      "/var/folders/xk/jz0njgws4vqcw913r_s9rxkr0000gn/T/ipykernel_62044/1636465878.py:42: RuntimeWarning: invalid value encountered in double_scalars\n",
      "  output_data['tf'] = h_data['tf'] / (h_data['tf'] + a_data['tf'])\n",
      "/var/folders/xk/jz0njgws4vqcw913r_s9rxkr0000gn/T/ipykernel_62044/1636465878.py:23: RuntimeWarning: invalid value encountered in double_scalars\n",
      "  output_data['ppp'] = h_data['pp'] / h_data['ppA']\n",
      "/var/folders/xk/jz0njgws4vqcw913r_s9rxkr0000gn/T/ipykernel_62044/1636465878.py:25: RuntimeWarning: invalid value encountered in double_scalars\n",
      "  output_data['dk'] = h_data['dk'] / h_data['dkA']\n",
      "/var/folders/xk/jz0njgws4vqcw913r_s9rxkr0000gn/T/ipykernel_62044/1636465878.py:42: RuntimeWarning: invalid value encountered in double_scalars\n",
      "  output_data['tf'] = h_data['tf'] / (h_data['tf'] + a_data['tf'])\n"
     ]
    },
    {
     "name": "stdout",
     "output_type": "stream",
     "text": [
      "S20G01N24\n"
     ]
    },
    {
     "name": "stderr",
     "output_type": "stream",
     "text": [
      "/var/folders/xk/jz0njgws4vqcw913r_s9rxkr0000gn/T/ipykernel_62044/1636465878.py:25: RuntimeWarning: invalid value encountered in double_scalars\n",
      "  output_data['dk'] = h_data['dk'] / h_data['dkA']\n",
      "/var/folders/xk/jz0njgws4vqcw913r_s9rxkr0000gn/T/ipykernel_62044/1636465878.py:42: RuntimeWarning: invalid value encountered in double_scalars\n",
      "  output_data['tf'] = h_data['tf'] / (h_data['tf'] + a_data['tf'])\n",
      "/var/folders/xk/jz0njgws4vqcw913r_s9rxkr0000gn/T/ipykernel_62044/1636465878.py:25: RuntimeWarning: invalid value encountered in double_scalars\n",
      "  output_data['dk'] = h_data['dk'] / h_data['dkA']\n",
      "/var/folders/xk/jz0njgws4vqcw913r_s9rxkr0000gn/T/ipykernel_62044/1636465878.py:42: RuntimeWarning: invalid value encountered in double_scalars\n",
      "  output_data['tf'] = h_data['tf'] / (h_data['tf'] + a_data['tf'])\n"
     ]
    },
    {
     "name": "stdout",
     "output_type": "stream",
     "text": [
      "S20G01N25\n"
     ]
    },
    {
     "name": "stderr",
     "output_type": "stream",
     "text": [
      "/var/folders/xk/jz0njgws4vqcw913r_s9rxkr0000gn/T/ipykernel_62044/1636465878.py:23: RuntimeWarning: invalid value encountered in double_scalars\n",
      "  output_data['ppp'] = h_data['pp'] / h_data['ppA']\n",
      "/var/folders/xk/jz0njgws4vqcw913r_s9rxkr0000gn/T/ipykernel_62044/1636465878.py:25: RuntimeWarning: invalid value encountered in double_scalars\n",
      "  output_data['dk'] = h_data['dk'] / h_data['dkA']\n",
      "/var/folders/xk/jz0njgws4vqcw913r_s9rxkr0000gn/T/ipykernel_62044/1636465878.py:42: RuntimeWarning: invalid value encountered in double_scalars\n",
      "  output_data['tf'] = h_data['tf'] / (h_data['tf'] + a_data['tf'])\n",
      "/var/folders/xk/jz0njgws4vqcw913r_s9rxkr0000gn/T/ipykernel_62044/1636465878.py:42: RuntimeWarning: invalid value encountered in double_scalars\n",
      "  output_data['tf'] = h_data['tf'] / (h_data['tf'] + a_data['tf'])\n"
     ]
    },
    {
     "name": "stdout",
     "output_type": "stream",
     "text": [
      "S20G01N26\n"
     ]
    },
    {
     "name": "stderr",
     "output_type": "stream",
     "text": [
      "/var/folders/xk/jz0njgws4vqcw913r_s9rxkr0000gn/T/ipykernel_62044/1636465878.py:23: RuntimeWarning: invalid value encountered in double_scalars\n",
      "  output_data['ppp'] = h_data['pp'] / h_data['ppA']\n",
      "/var/folders/xk/jz0njgws4vqcw913r_s9rxkr0000gn/T/ipykernel_62044/1636465878.py:25: RuntimeWarning: invalid value encountered in double_scalars\n",
      "  output_data['dk'] = h_data['dk'] / h_data['dkA']\n",
      "/var/folders/xk/jz0njgws4vqcw913r_s9rxkr0000gn/T/ipykernel_62044/1636465878.py:42: RuntimeWarning: invalid value encountered in double_scalars\n",
      "  output_data['tf'] = h_data['tf'] / (h_data['tf'] + a_data['tf'])\n",
      "/var/folders/xk/jz0njgws4vqcw913r_s9rxkr0000gn/T/ipykernel_62044/1636465878.py:25: RuntimeWarning: invalid value encountered in double_scalars\n",
      "  output_data['dk'] = h_data['dk'] / h_data['dkA']\n",
      "/var/folders/xk/jz0njgws4vqcw913r_s9rxkr0000gn/T/ipykernel_62044/1636465878.py:42: RuntimeWarning: invalid value encountered in double_scalars\n",
      "  output_data['tf'] = h_data['tf'] / (h_data['tf'] + a_data['tf'])\n"
     ]
    },
    {
     "name": "stdout",
     "output_type": "stream",
     "text": [
      "S20G01N27\n"
     ]
    },
    {
     "name": "stderr",
     "output_type": "stream",
     "text": [
      "/var/folders/xk/jz0njgws4vqcw913r_s9rxkr0000gn/T/ipykernel_62044/1636465878.py:25: RuntimeWarning: invalid value encountered in double_scalars\n",
      "  output_data['dk'] = h_data['dk'] / h_data['dkA']\n",
      "/var/folders/xk/jz0njgws4vqcw913r_s9rxkr0000gn/T/ipykernel_62044/1636465878.py:25: RuntimeWarning: invalid value encountered in double_scalars\n",
      "  output_data['dk'] = h_data['dk'] / h_data['dkA']\n"
     ]
    },
    {
     "name": "stdout",
     "output_type": "stream",
     "text": [
      "S20G01N28\n"
     ]
    },
    {
     "name": "stderr",
     "output_type": "stream",
     "text": [
      "/var/folders/xk/jz0njgws4vqcw913r_s9rxkr0000gn/T/ipykernel_62044/1636465878.py:25: RuntimeWarning: invalid value encountered in double_scalars\n",
      "  output_data['dk'] = h_data['dk'] / h_data['dkA']\n",
      "/var/folders/xk/jz0njgws4vqcw913r_s9rxkr0000gn/T/ipykernel_62044/1636465878.py:25: RuntimeWarning: invalid value encountered in double_scalars\n",
      "  output_data['dk'] = h_data['dk'] / h_data['dkA']\n"
     ]
    },
    {
     "name": "stdout",
     "output_type": "stream",
     "text": [
      "S20G01N29\n"
     ]
    },
    {
     "name": "stderr",
     "output_type": "stream",
     "text": [
      "/var/folders/xk/jz0njgws4vqcw913r_s9rxkr0000gn/T/ipykernel_62044/1636465878.py:25: RuntimeWarning: invalid value encountered in double_scalars\n",
      "  output_data['dk'] = h_data['dk'] / h_data['dkA']\n",
      "/var/folders/xk/jz0njgws4vqcw913r_s9rxkr0000gn/T/ipykernel_62044/1636465878.py:42: RuntimeWarning: invalid value encountered in double_scalars\n",
      "  output_data['tf'] = h_data['tf'] / (h_data['tf'] + a_data['tf'])\n",
      "/var/folders/xk/jz0njgws4vqcw913r_s9rxkr0000gn/T/ipykernel_62044/1636465878.py:42: RuntimeWarning: invalid value encountered in double_scalars\n",
      "  output_data['tf'] = h_data['tf'] / (h_data['tf'] + a_data['tf'])\n"
     ]
    },
    {
     "name": "stdout",
     "output_type": "stream",
     "text": [
      "S20G01N30\n"
     ]
    },
    {
     "name": "stderr",
     "output_type": "stream",
     "text": [
      "/var/folders/xk/jz0njgws4vqcw913r_s9rxkr0000gn/T/ipykernel_62044/1636465878.py:25: RuntimeWarning: invalid value encountered in double_scalars\n",
      "  output_data['dk'] = h_data['dk'] / h_data['dkA']\n"
     ]
    },
    {
     "name": "stdout",
     "output_type": "stream",
     "text": [
      "S20G01N31\n"
     ]
    },
    {
     "name": "stderr",
     "output_type": "stream",
     "text": [
      "/var/folders/xk/jz0njgws4vqcw913r_s9rxkr0000gn/T/ipykernel_62044/1636465878.py:25: RuntimeWarning: invalid value encountered in double_scalars\n",
      "  output_data['dk'] = h_data['dk'] / h_data['dkA']\n",
      "/var/folders/xk/jz0njgws4vqcw913r_s9rxkr0000gn/T/ipykernel_62044/1636465878.py:42: RuntimeWarning: invalid value encountered in double_scalars\n",
      "  output_data['tf'] = h_data['tf'] / (h_data['tf'] + a_data['tf'])\n",
      "/var/folders/xk/jz0njgws4vqcw913r_s9rxkr0000gn/T/ipykernel_62044/1636465878.py:23: RuntimeWarning: invalid value encountered in double_scalars\n",
      "  output_data['ppp'] = h_data['pp'] / h_data['ppA']\n",
      "/var/folders/xk/jz0njgws4vqcw913r_s9rxkr0000gn/T/ipykernel_62044/1636465878.py:25: RuntimeWarning: invalid value encountered in double_scalars\n",
      "  output_data['dk'] = h_data['dk'] / h_data['dkA']\n",
      "/var/folders/xk/jz0njgws4vqcw913r_s9rxkr0000gn/T/ipykernel_62044/1636465878.py:42: RuntimeWarning: invalid value encountered in double_scalars\n",
      "  output_data['tf'] = h_data['tf'] / (h_data['tf'] + a_data['tf'])\n"
     ]
    },
    {
     "name": "stdout",
     "output_type": "stream",
     "text": [
      "S20G01N32\n"
     ]
    },
    {
     "name": "stderr",
     "output_type": "stream",
     "text": [
      "/var/folders/xk/jz0njgws4vqcw913r_s9rxkr0000gn/T/ipykernel_62044/1636465878.py:25: RuntimeWarning: invalid value encountered in double_scalars\n",
      "  output_data['dk'] = h_data['dk'] / h_data['dkA']\n",
      "/var/folders/xk/jz0njgws4vqcw913r_s9rxkr0000gn/T/ipykernel_62044/1636465878.py:42: RuntimeWarning: invalid value encountered in double_scalars\n",
      "  output_data['tf'] = h_data['tf'] / (h_data['tf'] + a_data['tf'])\n",
      "/var/folders/xk/jz0njgws4vqcw913r_s9rxkr0000gn/T/ipykernel_62044/1636465878.py:25: RuntimeWarning: invalid value encountered in double_scalars\n",
      "  output_data['dk'] = h_data['dk'] / h_data['dkA']\n",
      "/var/folders/xk/jz0njgws4vqcw913r_s9rxkr0000gn/T/ipykernel_62044/1636465878.py:42: RuntimeWarning: invalid value encountered in double_scalars\n",
      "  output_data['tf'] = h_data['tf'] / (h_data['tf'] + a_data['tf'])\n"
     ]
    },
    {
     "name": "stdout",
     "output_type": "stream",
     "text": [
      "S20G01N33\n"
     ]
    },
    {
     "name": "stderr",
     "output_type": "stream",
     "text": [
      "/var/folders/xk/jz0njgws4vqcw913r_s9rxkr0000gn/T/ipykernel_62044/1636465878.py:23: RuntimeWarning: invalid value encountered in double_scalars\n",
      "  output_data['ppp'] = h_data['pp'] / h_data['ppA']\n",
      "/var/folders/xk/jz0njgws4vqcw913r_s9rxkr0000gn/T/ipykernel_62044/1636465878.py:25: RuntimeWarning: invalid value encountered in double_scalars\n",
      "  output_data['dk'] = h_data['dk'] / h_data['dkA']\n",
      "/var/folders/xk/jz0njgws4vqcw913r_s9rxkr0000gn/T/ipykernel_62044/1636465878.py:42: RuntimeWarning: invalid value encountered in double_scalars\n",
      "  output_data['tf'] = h_data['tf'] / (h_data['tf'] + a_data['tf'])\n",
      "/var/folders/xk/jz0njgws4vqcw913r_s9rxkr0000gn/T/ipykernel_62044/1636465878.py:42: RuntimeWarning: invalid value encountered in double_scalars\n",
      "  output_data['tf'] = h_data['tf'] / (h_data['tf'] + a_data['tf'])\n"
     ]
    },
    {
     "name": "stdout",
     "output_type": "stream",
     "text": [
      "S20G01N34\n"
     ]
    },
    {
     "name": "stderr",
     "output_type": "stream",
     "text": [
      "/var/folders/xk/jz0njgws4vqcw913r_s9rxkr0000gn/T/ipykernel_62044/1636465878.py:42: RuntimeWarning: invalid value encountered in double_scalars\n",
      "  output_data['tf'] = h_data['tf'] / (h_data['tf'] + a_data['tf'])\n",
      "/var/folders/xk/jz0njgws4vqcw913r_s9rxkr0000gn/T/ipykernel_62044/1636465878.py:25: RuntimeWarning: invalid value encountered in double_scalars\n",
      "  output_data['dk'] = h_data['dk'] / h_data['dkA']\n",
      "/var/folders/xk/jz0njgws4vqcw913r_s9rxkr0000gn/T/ipykernel_62044/1636465878.py:42: RuntimeWarning: invalid value encountered in double_scalars\n",
      "  output_data['tf'] = h_data['tf'] / (h_data['tf'] + a_data['tf'])\n"
     ]
    },
    {
     "name": "stdout",
     "output_type": "stream",
     "text": [
      "S20G01N35\n"
     ]
    },
    {
     "name": "stderr",
     "output_type": "stream",
     "text": [
      "/var/folders/xk/jz0njgws4vqcw913r_s9rxkr0000gn/T/ipykernel_62044/1636465878.py:23: RuntimeWarning: invalid value encountered in double_scalars\n",
      "  output_data['ppp'] = h_data['pp'] / h_data['ppA']\n",
      "/var/folders/xk/jz0njgws4vqcw913r_s9rxkr0000gn/T/ipykernel_62044/1636465878.py:25: RuntimeWarning: invalid value encountered in double_scalars\n",
      "  output_data['dk'] = h_data['dk'] / h_data['dkA']\n",
      "/var/folders/xk/jz0njgws4vqcw913r_s9rxkr0000gn/T/ipykernel_62044/1636465878.py:25: RuntimeWarning: invalid value encountered in double_scalars\n",
      "  output_data['dk'] = h_data['dk'] / h_data['dkA']\n"
     ]
    },
    {
     "name": "stdout",
     "output_type": "stream",
     "text": [
      "S20G01N36\n"
     ]
    },
    {
     "name": "stderr",
     "output_type": "stream",
     "text": [
      "/var/folders/xk/jz0njgws4vqcw913r_s9rxkr0000gn/T/ipykernel_62044/1636465878.py:23: RuntimeWarning: invalid value encountered in double_scalars\n",
      "  output_data['ppp'] = h_data['pp'] / h_data['ppA']\n",
      "/var/folders/xk/jz0njgws4vqcw913r_s9rxkr0000gn/T/ipykernel_62044/1636465878.py:25: RuntimeWarning: invalid value encountered in double_scalars\n",
      "  output_data['dk'] = h_data['dk'] / h_data['dkA']\n",
      "/var/folders/xk/jz0njgws4vqcw913r_s9rxkr0000gn/T/ipykernel_62044/1636465878.py:42: RuntimeWarning: invalid value encountered in double_scalars\n",
      "  output_data['tf'] = h_data['tf'] / (h_data['tf'] + a_data['tf'])\n",
      "/var/folders/xk/jz0njgws4vqcw913r_s9rxkr0000gn/T/ipykernel_62044/1636465878.py:25: RuntimeWarning: invalid value encountered in double_scalars\n",
      "  output_data['dk'] = h_data['dk'] / h_data['dkA']\n",
      "/var/folders/xk/jz0njgws4vqcw913r_s9rxkr0000gn/T/ipykernel_62044/1636465878.py:42: RuntimeWarning: invalid value encountered in double_scalars\n",
      "  output_data['tf'] = h_data['tf'] / (h_data['tf'] + a_data['tf'])\n"
     ]
    },
    {
     "name": "stdout",
     "output_type": "stream",
     "text": [
      "S20G01N37\n"
     ]
    },
    {
     "name": "stderr",
     "output_type": "stream",
     "text": [
      "/var/folders/xk/jz0njgws4vqcw913r_s9rxkr0000gn/T/ipykernel_62044/1636465878.py:25: RuntimeWarning: invalid value encountered in double_scalars\n",
      "  output_data['dk'] = h_data['dk'] / h_data['dkA']\n",
      "/var/folders/xk/jz0njgws4vqcw913r_s9rxkr0000gn/T/ipykernel_62044/1636465878.py:42: RuntimeWarning: invalid value encountered in double_scalars\n",
      "  output_data['tf'] = h_data['tf'] / (h_data['tf'] + a_data['tf'])\n",
      "/var/folders/xk/jz0njgws4vqcw913r_s9rxkr0000gn/T/ipykernel_62044/1636465878.py:25: RuntimeWarning: invalid value encountered in double_scalars\n",
      "  output_data['dk'] = h_data['dk'] / h_data['dkA']\n",
      "/var/folders/xk/jz0njgws4vqcw913r_s9rxkr0000gn/T/ipykernel_62044/1636465878.py:42: RuntimeWarning: invalid value encountered in double_scalars\n",
      "  output_data['tf'] = h_data['tf'] / (h_data['tf'] + a_data['tf'])\n"
     ]
    },
    {
     "name": "stdout",
     "output_type": "stream",
     "text": [
      "S20G01N38\n"
     ]
    },
    {
     "name": "stderr",
     "output_type": "stream",
     "text": [
      "/var/folders/xk/jz0njgws4vqcw913r_s9rxkr0000gn/T/ipykernel_62044/1636465878.py:25: RuntimeWarning: invalid value encountered in double_scalars\n",
      "  output_data['dk'] = h_data['dk'] / h_data['dkA']\n",
      "/var/folders/xk/jz0njgws4vqcw913r_s9rxkr0000gn/T/ipykernel_62044/1636465878.py:42: RuntimeWarning: invalid value encountered in double_scalars\n",
      "  output_data['tf'] = h_data['tf'] / (h_data['tf'] + a_data['tf'])\n",
      "/var/folders/xk/jz0njgws4vqcw913r_s9rxkr0000gn/T/ipykernel_62044/1636465878.py:25: RuntimeWarning: invalid value encountered in double_scalars\n",
      "  output_data['dk'] = h_data['dk'] / h_data['dkA']\n",
      "/var/folders/xk/jz0njgws4vqcw913r_s9rxkr0000gn/T/ipykernel_62044/1636465878.py:42: RuntimeWarning: invalid value encountered in double_scalars\n",
      "  output_data['tf'] = h_data['tf'] / (h_data['tf'] + a_data['tf'])\n"
     ]
    },
    {
     "name": "stdout",
     "output_type": "stream",
     "text": [
      "S20G01N39\n"
     ]
    },
    {
     "name": "stderr",
     "output_type": "stream",
     "text": [
      "/var/folders/xk/jz0njgws4vqcw913r_s9rxkr0000gn/T/ipykernel_62044/1636465878.py:25: RuntimeWarning: invalid value encountered in double_scalars\n",
      "  output_data['dk'] = h_data['dk'] / h_data['dkA']\n",
      "/var/folders/xk/jz0njgws4vqcw913r_s9rxkr0000gn/T/ipykernel_62044/1636465878.py:42: RuntimeWarning: invalid value encountered in double_scalars\n",
      "  output_data['tf'] = h_data['tf'] / (h_data['tf'] + a_data['tf'])\n",
      "/var/folders/xk/jz0njgws4vqcw913r_s9rxkr0000gn/T/ipykernel_62044/1636465878.py:42: RuntimeWarning: invalid value encountered in double_scalars\n",
      "  output_data['tf'] = h_data['tf'] / (h_data['tf'] + a_data['tf'])\n"
     ]
    },
    {
     "name": "stdout",
     "output_type": "stream",
     "text": [
      "S20G01N40\n"
     ]
    },
    {
     "name": "stderr",
     "output_type": "stream",
     "text": [
      "/var/folders/xk/jz0njgws4vqcw913r_s9rxkr0000gn/T/ipykernel_62044/1636465878.py:25: RuntimeWarning: invalid value encountered in double_scalars\n",
      "  output_data['dk'] = h_data['dk'] / h_data['dkA']\n",
      "/var/folders/xk/jz0njgws4vqcw913r_s9rxkr0000gn/T/ipykernel_62044/1636465878.py:42: RuntimeWarning: invalid value encountered in double_scalars\n",
      "  output_data['tf'] = h_data['tf'] / (h_data['tf'] + a_data['tf'])\n",
      "/var/folders/xk/jz0njgws4vqcw913r_s9rxkr0000gn/T/ipykernel_62044/1636465878.py:42: RuntimeWarning: invalid value encountered in double_scalars\n",
      "  output_data['tf'] = h_data['tf'] / (h_data['tf'] + a_data['tf'])\n"
     ]
    },
    {
     "name": "stdout",
     "output_type": "stream",
     "text": [
      "S20G01N41\n"
     ]
    },
    {
     "name": "stderr",
     "output_type": "stream",
     "text": [
      "/var/folders/xk/jz0njgws4vqcw913r_s9rxkr0000gn/T/ipykernel_62044/1636465878.py:25: RuntimeWarning: invalid value encountered in double_scalars\n",
      "  output_data['dk'] = h_data['dk'] / h_data['dkA']\n",
      "/var/folders/xk/jz0njgws4vqcw913r_s9rxkr0000gn/T/ipykernel_62044/1636465878.py:42: RuntimeWarning: invalid value encountered in double_scalars\n",
      "  output_data['tf'] = h_data['tf'] / (h_data['tf'] + a_data['tf'])\n",
      "/var/folders/xk/jz0njgws4vqcw913r_s9rxkr0000gn/T/ipykernel_62044/1636465878.py:23: RuntimeWarning: invalid value encountered in double_scalars\n",
      "  output_data['ppp'] = h_data['pp'] / h_data['ppA']\n",
      "/var/folders/xk/jz0njgws4vqcw913r_s9rxkr0000gn/T/ipykernel_62044/1636465878.py:25: RuntimeWarning: invalid value encountered in double_scalars\n",
      "  output_data['dk'] = h_data['dk'] / h_data['dkA']\n",
      "/var/folders/xk/jz0njgws4vqcw913r_s9rxkr0000gn/T/ipykernel_62044/1636465878.py:42: RuntimeWarning: invalid value encountered in double_scalars\n",
      "  output_data['tf'] = h_data['tf'] / (h_data['tf'] + a_data['tf'])\n"
     ]
    },
    {
     "name": "stdout",
     "output_type": "stream",
     "text": [
      "S20G01N42\n"
     ]
    },
    {
     "name": "stderr",
     "output_type": "stream",
     "text": [
      "/var/folders/xk/jz0njgws4vqcw913r_s9rxkr0000gn/T/ipykernel_62044/1636465878.py:25: RuntimeWarning: invalid value encountered in double_scalars\n",
      "  output_data['dk'] = h_data['dk'] / h_data['dkA']\n",
      "/var/folders/xk/jz0njgws4vqcw913r_s9rxkr0000gn/T/ipykernel_62044/1636465878.py:42: RuntimeWarning: invalid value encountered in double_scalars\n",
      "  output_data['tf'] = h_data['tf'] / (h_data['tf'] + a_data['tf'])\n",
      "/var/folders/xk/jz0njgws4vqcw913r_s9rxkr0000gn/T/ipykernel_62044/1636465878.py:25: RuntimeWarning: invalid value encountered in double_scalars\n",
      "  output_data['dk'] = h_data['dk'] / h_data['dkA']\n",
      "/var/folders/xk/jz0njgws4vqcw913r_s9rxkr0000gn/T/ipykernel_62044/1636465878.py:42: RuntimeWarning: invalid value encountered in double_scalars\n",
      "  output_data['tf'] = h_data['tf'] / (h_data['tf'] + a_data['tf'])\n"
     ]
    },
    {
     "name": "stdout",
     "output_type": "stream",
     "text": [
      "S20G01N43\n"
     ]
    },
    {
     "name": "stderr",
     "output_type": "stream",
     "text": [
      "/var/folders/xk/jz0njgws4vqcw913r_s9rxkr0000gn/T/ipykernel_62044/1636465878.py:23: RuntimeWarning: invalid value encountered in double_scalars\n",
      "  output_data['ppp'] = h_data['pp'] / h_data['ppA']\n",
      "/var/folders/xk/jz0njgws4vqcw913r_s9rxkr0000gn/T/ipykernel_62044/1636465878.py:25: RuntimeWarning: invalid value encountered in double_scalars\n",
      "  output_data['dk'] = h_data['dk'] / h_data['dkA']\n",
      "/var/folders/xk/jz0njgws4vqcw913r_s9rxkr0000gn/T/ipykernel_62044/1636465878.py:42: RuntimeWarning: invalid value encountered in double_scalars\n",
      "  output_data['tf'] = h_data['tf'] / (h_data['tf'] + a_data['tf'])\n",
      "/var/folders/xk/jz0njgws4vqcw913r_s9rxkr0000gn/T/ipykernel_62044/1636465878.py:42: RuntimeWarning: invalid value encountered in double_scalars\n",
      "  output_data['tf'] = h_data['tf'] / (h_data['tf'] + a_data['tf'])\n"
     ]
    },
    {
     "name": "stdout",
     "output_type": "stream",
     "text": [
      "S20G01N44\n"
     ]
    },
    {
     "name": "stderr",
     "output_type": "stream",
     "text": [
      "/var/folders/xk/jz0njgws4vqcw913r_s9rxkr0000gn/T/ipykernel_62044/1636465878.py:42: RuntimeWarning: invalid value encountered in double_scalars\n",
      "  output_data['tf'] = h_data['tf'] / (h_data['tf'] + a_data['tf'])\n",
      "/var/folders/xk/jz0njgws4vqcw913r_s9rxkr0000gn/T/ipykernel_62044/1636465878.py:25: RuntimeWarning: invalid value encountered in double_scalars\n",
      "  output_data['dk'] = h_data['dk'] / h_data['dkA']\n",
      "/var/folders/xk/jz0njgws4vqcw913r_s9rxkr0000gn/T/ipykernel_62044/1636465878.py:42: RuntimeWarning: invalid value encountered in double_scalars\n",
      "  output_data['tf'] = h_data['tf'] / (h_data['tf'] + a_data['tf'])\n"
     ]
    },
    {
     "name": "stdout",
     "output_type": "stream",
     "text": [
      "S20G01N45\n"
     ]
    },
    {
     "name": "stderr",
     "output_type": "stream",
     "text": [
      "/var/folders/xk/jz0njgws4vqcw913r_s9rxkr0000gn/T/ipykernel_62044/1636465878.py:23: RuntimeWarning: invalid value encountered in double_scalars\n",
      "  output_data['ppp'] = h_data['pp'] / h_data['ppA']\n",
      "/var/folders/xk/jz0njgws4vqcw913r_s9rxkr0000gn/T/ipykernel_62044/1636465878.py:25: RuntimeWarning: invalid value encountered in double_scalars\n",
      "  output_data['dk'] = h_data['dk'] / h_data['dkA']\n",
      "/var/folders/xk/jz0njgws4vqcw913r_s9rxkr0000gn/T/ipykernel_62044/1636465878.py:42: RuntimeWarning: invalid value encountered in double_scalars\n",
      "  output_data['tf'] = h_data['tf'] / (h_data['tf'] + a_data['tf'])\n",
      "/var/folders/xk/jz0njgws4vqcw913r_s9rxkr0000gn/T/ipykernel_62044/1636465878.py:25: RuntimeWarning: invalid value encountered in double_scalars\n",
      "  output_data['dk'] = h_data['dk'] / h_data['dkA']\n",
      "/var/folders/xk/jz0njgws4vqcw913r_s9rxkr0000gn/T/ipykernel_62044/1636465878.py:42: RuntimeWarning: invalid value encountered in double_scalars\n",
      "  output_data['tf'] = h_data['tf'] / (h_data['tf'] + a_data['tf'])\n"
     ]
    },
    {
     "name": "stdout",
     "output_type": "stream",
     "text": [
      "S20G01N46\n"
     ]
    },
    {
     "name": "stderr",
     "output_type": "stream",
     "text": [
      "/var/folders/xk/jz0njgws4vqcw913r_s9rxkr0000gn/T/ipykernel_62044/1636465878.py:25: RuntimeWarning: invalid value encountered in double_scalars\n",
      "  output_data['dk'] = h_data['dk'] / h_data['dkA']\n",
      "/var/folders/xk/jz0njgws4vqcw913r_s9rxkr0000gn/T/ipykernel_62044/1636465878.py:42: RuntimeWarning: invalid value encountered in double_scalars\n",
      "  output_data['tf'] = h_data['tf'] / (h_data['tf'] + a_data['tf'])\n",
      "/var/folders/xk/jz0njgws4vqcw913r_s9rxkr0000gn/T/ipykernel_62044/1636465878.py:25: RuntimeWarning: invalid value encountered in double_scalars\n",
      "  output_data['dk'] = h_data['dk'] / h_data['dkA']\n",
      "/var/folders/xk/jz0njgws4vqcw913r_s9rxkr0000gn/T/ipykernel_62044/1636465878.py:42: RuntimeWarning: invalid value encountered in double_scalars\n",
      "  output_data['tf'] = h_data['tf'] / (h_data['tf'] + a_data['tf'])\n"
     ]
    },
    {
     "name": "stdout",
     "output_type": "stream",
     "text": [
      "S20G01N47\n"
     ]
    },
    {
     "name": "stderr",
     "output_type": "stream",
     "text": [
      "/var/folders/xk/jz0njgws4vqcw913r_s9rxkr0000gn/T/ipykernel_62044/1636465878.py:23: RuntimeWarning: invalid value encountered in double_scalars\n",
      "  output_data['ppp'] = h_data['pp'] / h_data['ppA']\n",
      "/var/folders/xk/jz0njgws4vqcw913r_s9rxkr0000gn/T/ipykernel_62044/1636465878.py:25: RuntimeWarning: invalid value encountered in double_scalars\n",
      "  output_data['dk'] = h_data['dk'] / h_data['dkA']\n",
      "/var/folders/xk/jz0njgws4vqcw913r_s9rxkr0000gn/T/ipykernel_62044/1636465878.py:42: RuntimeWarning: invalid value encountered in double_scalars\n",
      "  output_data['tf'] = h_data['tf'] / (h_data['tf'] + a_data['tf'])\n",
      "/var/folders/xk/jz0njgws4vqcw913r_s9rxkr0000gn/T/ipykernel_62044/1636465878.py:25: RuntimeWarning: invalid value encountered in double_scalars\n",
      "  output_data['dk'] = h_data['dk'] / h_data['dkA']\n",
      "/var/folders/xk/jz0njgws4vqcw913r_s9rxkr0000gn/T/ipykernel_62044/1636465878.py:42: RuntimeWarning: invalid value encountered in double_scalars\n",
      "  output_data['tf'] = h_data['tf'] / (h_data['tf'] + a_data['tf'])\n"
     ]
    },
    {
     "name": "stdout",
     "output_type": "stream",
     "text": [
      "S20G01N48\n"
     ]
    },
    {
     "name": "stderr",
     "output_type": "stream",
     "text": [
      "/var/folders/xk/jz0njgws4vqcw913r_s9rxkr0000gn/T/ipykernel_62044/1636465878.py:25: RuntimeWarning: invalid value encountered in double_scalars\n",
      "  output_data['dk'] = h_data['dk'] / h_data['dkA']\n",
      "/var/folders/xk/jz0njgws4vqcw913r_s9rxkr0000gn/T/ipykernel_62044/1636465878.py:42: RuntimeWarning: invalid value encountered in double_scalars\n",
      "  output_data['tf'] = h_data['tf'] / (h_data['tf'] + a_data['tf'])\n",
      "/var/folders/xk/jz0njgws4vqcw913r_s9rxkr0000gn/T/ipykernel_62044/1636465878.py:42: RuntimeWarning: invalid value encountered in double_scalars\n",
      "  output_data['tf'] = h_data['tf'] / (h_data['tf'] + a_data['tf'])\n"
     ]
    },
    {
     "name": "stdout",
     "output_type": "stream",
     "text": [
      "S20G01N49\n"
     ]
    },
    {
     "name": "stderr",
     "output_type": "stream",
     "text": [
      "/var/folders/xk/jz0njgws4vqcw913r_s9rxkr0000gn/T/ipykernel_62044/1636465878.py:25: RuntimeWarning: invalid value encountered in double_scalars\n",
      "  output_data['dk'] = h_data['dk'] / h_data['dkA']\n",
      "/var/folders/xk/jz0njgws4vqcw913r_s9rxkr0000gn/T/ipykernel_62044/1636465878.py:42: RuntimeWarning: invalid value encountered in double_scalars\n",
      "  output_data['tf'] = h_data['tf'] / (h_data['tf'] + a_data['tf'])\n",
      "/var/folders/xk/jz0njgws4vqcw913r_s9rxkr0000gn/T/ipykernel_62044/1636465878.py:25: RuntimeWarning: invalid value encountered in double_scalars\n",
      "  output_data['dk'] = h_data['dk'] / h_data['dkA']\n",
      "/var/folders/xk/jz0njgws4vqcw913r_s9rxkr0000gn/T/ipykernel_62044/1636465878.py:42: RuntimeWarning: invalid value encountered in double_scalars\n",
      "  output_data['tf'] = h_data['tf'] / (h_data['tf'] + a_data['tf'])\n"
     ]
    },
    {
     "name": "stdout",
     "output_type": "stream",
     "text": [
      "S20G01N50\n"
     ]
    },
    {
     "name": "stderr",
     "output_type": "stream",
     "text": [
      "/var/folders/xk/jz0njgws4vqcw913r_s9rxkr0000gn/T/ipykernel_62044/1636465878.py:25: RuntimeWarning: invalid value encountered in double_scalars\n",
      "  output_data['dk'] = h_data['dk'] / h_data['dkA']\n",
      "/var/folders/xk/jz0njgws4vqcw913r_s9rxkr0000gn/T/ipykernel_62044/1636465878.py:42: RuntimeWarning: invalid value encountered in double_scalars\n",
      "  output_data['tf'] = h_data['tf'] / (h_data['tf'] + a_data['tf'])\n",
      "/var/folders/xk/jz0njgws4vqcw913r_s9rxkr0000gn/T/ipykernel_62044/1636465878.py:23: RuntimeWarning: invalid value encountered in double_scalars\n",
      "  output_data['ppp'] = h_data['pp'] / h_data['ppA']\n",
      "/var/folders/xk/jz0njgws4vqcw913r_s9rxkr0000gn/T/ipykernel_62044/1636465878.py:25: RuntimeWarning: invalid value encountered in double_scalars\n",
      "  output_data['dk'] = h_data['dk'] / h_data['dkA']\n",
      "/var/folders/xk/jz0njgws4vqcw913r_s9rxkr0000gn/T/ipykernel_62044/1636465878.py:42: RuntimeWarning: invalid value encountered in double_scalars\n",
      "  output_data['tf'] = h_data['tf'] / (h_data['tf'] + a_data['tf'])\n"
     ]
    },
    {
     "name": "stdout",
     "output_type": "stream",
     "text": [
      "S20G04N1\n"
     ]
    },
    {
     "name": "stderr",
     "output_type": "stream",
     "text": [
      "/var/folders/xk/jz0njgws4vqcw913r_s9rxkr0000gn/T/ipykernel_62044/1636465878.py:23: RuntimeWarning: invalid value encountered in double_scalars\n",
      "  output_data['ppp'] = h_data['pp'] / h_data['ppA']\n",
      "/var/folders/xk/jz0njgws4vqcw913r_s9rxkr0000gn/T/ipykernel_62044/1636465878.py:25: RuntimeWarning: invalid value encountered in double_scalars\n",
      "  output_data['dk'] = h_data['dk'] / h_data['dkA']\n",
      "/var/folders/xk/jz0njgws4vqcw913r_s9rxkr0000gn/T/ipykernel_62044/1636465878.py:42: RuntimeWarning: invalid value encountered in double_scalars\n",
      "  output_data['tf'] = h_data['tf'] / (h_data['tf'] + a_data['tf'])\n",
      "/var/folders/xk/jz0njgws4vqcw913r_s9rxkr0000gn/T/ipykernel_62044/1636465878.py:25: RuntimeWarning: invalid value encountered in double_scalars\n",
      "  output_data['dk'] = h_data['dk'] / h_data['dkA']\n",
      "/var/folders/xk/jz0njgws4vqcw913r_s9rxkr0000gn/T/ipykernel_62044/1636465878.py:42: RuntimeWarning: invalid value encountered in double_scalars\n",
      "  output_data['tf'] = h_data['tf'] / (h_data['tf'] + a_data['tf'])\n"
     ]
    },
    {
     "name": "stdout",
     "output_type": "stream",
     "text": [
      "S20G04N2\n",
      "S21G01N1\n",
      "S21G01N2\n",
      "S21G01N3\n",
      "S21G01N4\n",
      "S21G01N5\n"
     ]
    },
    {
     "name": "stderr",
     "output_type": "stream",
     "text": [
      "/var/folders/xk/jz0njgws4vqcw913r_s9rxkr0000gn/T/ipykernel_62044/1636465878.py:42: RuntimeWarning: invalid value encountered in double_scalars\n",
      "  output_data['tf'] = h_data['tf'] / (h_data['tf'] + a_data['tf'])\n",
      "/var/folders/xk/jz0njgws4vqcw913r_s9rxkr0000gn/T/ipykernel_62044/1636465878.py:42: RuntimeWarning: invalid value encountered in double_scalars\n",
      "  output_data['tf'] = h_data['tf'] / (h_data['tf'] + a_data['tf'])\n"
     ]
    },
    {
     "name": "stdout",
     "output_type": "stream",
     "text": [
      "S21G01N6\n",
      "S21G01N7\n"
     ]
    },
    {
     "name": "stderr",
     "output_type": "stream",
     "text": [
      "/var/folders/xk/jz0njgws4vqcw913r_s9rxkr0000gn/T/ipykernel_62044/1636465878.py:25: RuntimeWarning: invalid value encountered in double_scalars\n",
      "  output_data['dk'] = h_data['dk'] / h_data['dkA']\n"
     ]
    },
    {
     "name": "stdout",
     "output_type": "stream",
     "text": [
      "S21G01N8\n",
      "S21G01N9\n",
      "S21G01N10\n",
      "S21G01N11\n",
      "S21G01N12\n",
      "S21G01N13\n",
      "S21G01N14\n",
      "S21G01N15\n",
      "S21G01N16\n"
     ]
    },
    {
     "name": "stderr",
     "output_type": "stream",
     "text": [
      "/var/folders/xk/jz0njgws4vqcw913r_s9rxkr0000gn/T/ipykernel_62044/1636465878.py:42: RuntimeWarning: invalid value encountered in double_scalars\n",
      "  output_data['tf'] = h_data['tf'] / (h_data['tf'] + a_data['tf'])\n",
      "/var/folders/xk/jz0njgws4vqcw913r_s9rxkr0000gn/T/ipykernel_62044/1636465878.py:42: RuntimeWarning: invalid value encountered in double_scalars\n",
      "  output_data['tf'] = h_data['tf'] / (h_data['tf'] + a_data['tf'])\n"
     ]
    },
    {
     "name": "stdout",
     "output_type": "stream",
     "text": [
      "S21G01N17\n",
      "S21G01N18\n",
      "S21G01N19\n"
     ]
    },
    {
     "name": "stderr",
     "output_type": "stream",
     "text": [
      "/var/folders/xk/jz0njgws4vqcw913r_s9rxkr0000gn/T/ipykernel_62044/1636465878.py:42: RuntimeWarning: invalid value encountered in double_scalars\n",
      "  output_data['tf'] = h_data['tf'] / (h_data['tf'] + a_data['tf'])\n",
      "/var/folders/xk/jz0njgws4vqcw913r_s9rxkr0000gn/T/ipykernel_62044/1636465878.py:42: RuntimeWarning: invalid value encountered in double_scalars\n",
      "  output_data['tf'] = h_data['tf'] / (h_data['tf'] + a_data['tf'])\n"
     ]
    },
    {
     "name": "stdout",
     "output_type": "stream",
     "text": [
      "S21G01N20\n",
      "S21G01N21\n",
      "S21G01N22\n",
      "S21G01N23\n",
      "S21G01N24\n"
     ]
    },
    {
     "name": "stderr",
     "output_type": "stream",
     "text": [
      "/var/folders/xk/jz0njgws4vqcw913r_s9rxkr0000gn/T/ipykernel_62044/1636465878.py:42: RuntimeWarning: invalid value encountered in double_scalars\n",
      "  output_data['tf'] = h_data['tf'] / (h_data['tf'] + a_data['tf'])\n",
      "/var/folders/xk/jz0njgws4vqcw913r_s9rxkr0000gn/T/ipykernel_62044/1636465878.py:42: RuntimeWarning: invalid value encountered in double_scalars\n",
      "  output_data['tf'] = h_data['tf'] / (h_data['tf'] + a_data['tf'])\n"
     ]
    },
    {
     "name": "stdout",
     "output_type": "stream",
     "text": [
      "S21G01N25\n",
      "S21G01N26\n",
      "S21G01N27\n",
      "S21G01N28\n"
     ]
    },
    {
     "name": "stderr",
     "output_type": "stream",
     "text": [
      "/var/folders/xk/jz0njgws4vqcw913r_s9rxkr0000gn/T/ipykernel_62044/1636465878.py:42: RuntimeWarning: invalid value encountered in double_scalars\n",
      "  output_data['tf'] = h_data['tf'] / (h_data['tf'] + a_data['tf'])\n",
      "/var/folders/xk/jz0njgws4vqcw913r_s9rxkr0000gn/T/ipykernel_62044/1636465878.py:42: RuntimeWarning: invalid value encountered in double_scalars\n",
      "  output_data['tf'] = h_data['tf'] / (h_data['tf'] + a_data['tf'])\n"
     ]
    },
    {
     "name": "stdout",
     "output_type": "stream",
     "text": [
      "S21G01N29\n",
      "S21G01N30\n",
      "S21G01N31\n",
      "S21G01N32\n",
      "S21G01N33\n",
      "S21G01N34\n",
      "S21G01N35\n",
      "S21G01N36\n",
      "S21G01N37\n",
      "S21G01N38\n",
      "S21G01N39\n",
      "S21G01N40\n",
      "S21G01N41\n",
      "S21G01N42\n",
      "S21G01N43\n",
      "S21G01N44\n",
      "S21G01N45\n",
      "S21G01N46\n",
      "S21G01N47\n",
      "S21G01N48\n",
      "S21G01N49\n",
      "S21G01N50\n"
     ]
    },
    {
     "name": "stderr",
     "output_type": "stream",
     "text": [
      "/var/folders/xk/jz0njgws4vqcw913r_s9rxkr0000gn/T/ipykernel_62044/1636465878.py:42: RuntimeWarning: invalid value encountered in double_scalars\n",
      "  output_data['tf'] = h_data['tf'] / (h_data['tf'] + a_data['tf'])\n",
      "/var/folders/xk/jz0njgws4vqcw913r_s9rxkr0000gn/T/ipykernel_62044/1636465878.py:42: RuntimeWarning: invalid value encountered in double_scalars\n",
      "  output_data['tf'] = h_data['tf'] / (h_data['tf'] + a_data['tf'])\n"
     ]
    },
    {
     "name": "stdout",
     "output_type": "stream",
     "text": [
      "S21G01N51\n",
      "S21G01N52\n",
      "S21G01N53\n",
      "S21G01N54\n",
      "S21G01N55\n",
      "S21G01N56\n",
      "S21G01N57\n",
      "S21G01N58\n"
     ]
    },
    {
     "name": "stderr",
     "output_type": "stream",
     "text": [
      "/var/folders/xk/jz0njgws4vqcw913r_s9rxkr0000gn/T/ipykernel_62044/1636465878.py:42: RuntimeWarning: invalid value encountered in double_scalars\n",
      "  output_data['tf'] = h_data['tf'] / (h_data['tf'] + a_data['tf'])\n",
      "/var/folders/xk/jz0njgws4vqcw913r_s9rxkr0000gn/T/ipykernel_62044/1636465878.py:42: RuntimeWarning: invalid value encountered in double_scalars\n",
      "  output_data['tf'] = h_data['tf'] / (h_data['tf'] + a_data['tf'])\n"
     ]
    },
    {
     "name": "stdout",
     "output_type": "stream",
     "text": [
      "S21G01N59\n",
      "S21G01N60\n",
      "S21G01N61\n",
      "S21G01N62\n",
      "S21G01N63\n",
      "S21G01N64\n",
      "S21G01N65\n",
      "S21G01N66\n",
      "S21G01N67\n",
      "S21G01N68\n"
     ]
    },
    {
     "name": "stderr",
     "output_type": "stream",
     "text": [
      "/var/folders/xk/jz0njgws4vqcw913r_s9rxkr0000gn/T/ipykernel_62044/1636465878.py:25: RuntimeWarning: invalid value encountered in double_scalars\n",
      "  output_data['dk'] = h_data['dk'] / h_data['dkA']\n"
     ]
    },
    {
     "name": "stdout",
     "output_type": "stream",
     "text": [
      "S21G01N69\n",
      "S21G01N70\n",
      "S21G01N71\n",
      "S21G01N72\n",
      "S21G01N73\n",
      "S21G01N74\n"
     ]
    },
    {
     "name": "stderr",
     "output_type": "stream",
     "text": [
      "/var/folders/xk/jz0njgws4vqcw913r_s9rxkr0000gn/T/ipykernel_62044/1636465878.py:25: RuntimeWarning: invalid value encountered in double_scalars\n",
      "  output_data['dk'] = h_data['dk'] / h_data['dkA']\n"
     ]
    },
    {
     "name": "stdout",
     "output_type": "stream",
     "text": [
      "S21G01N75\n",
      "S21G01N76\n"
     ]
    },
    {
     "name": "stderr",
     "output_type": "stream",
     "text": [
      "/var/folders/xk/jz0njgws4vqcw913r_s9rxkr0000gn/T/ipykernel_62044/1636465878.py:25: RuntimeWarning: invalid value encountered in double_scalars\n",
      "  output_data['dk'] = h_data['dk'] / h_data['dkA']\n"
     ]
    },
    {
     "name": "stdout",
     "output_type": "stream",
     "text": [
      "S21G01N77\n",
      "S21G01N78\n",
      "S21G01N79\n",
      "S21G01N80\n",
      "S21G01N81\n",
      "S21G01N82\n",
      "S21G01N83\n"
     ]
    },
    {
     "name": "stderr",
     "output_type": "stream",
     "text": [
      "/var/folders/xk/jz0njgws4vqcw913r_s9rxkr0000gn/T/ipykernel_62044/1636465878.py:25: RuntimeWarning: invalid value encountered in double_scalars\n",
      "  output_data['dk'] = h_data['dk'] / h_data['dkA']\n"
     ]
    },
    {
     "name": "stdout",
     "output_type": "stream",
     "text": [
      "S21G01N84\n",
      "S21G01N85\n",
      "S21G01N86\n",
      "S21G01N87\n"
     ]
    },
    {
     "name": "stderr",
     "output_type": "stream",
     "text": [
      "/var/folders/xk/jz0njgws4vqcw913r_s9rxkr0000gn/T/ipykernel_62044/1636465878.py:42: RuntimeWarning: invalid value encountered in double_scalars\n",
      "  output_data['tf'] = h_data['tf'] / (h_data['tf'] + a_data['tf'])\n",
      "/var/folders/xk/jz0njgws4vqcw913r_s9rxkr0000gn/T/ipykernel_62044/1636465878.py:42: RuntimeWarning: invalid value encountered in double_scalars\n",
      "  output_data['tf'] = h_data['tf'] / (h_data['tf'] + a_data['tf'])\n"
     ]
    },
    {
     "name": "stdout",
     "output_type": "stream",
     "text": [
      "S21G01N88\n",
      "S21G01N89\n",
      "S21G01N90\n"
     ]
    },
    {
     "name": "stderr",
     "output_type": "stream",
     "text": [
      "/var/folders/xk/jz0njgws4vqcw913r_s9rxkr0000gn/T/ipykernel_62044/1636465878.py:25: RuntimeWarning: invalid value encountered in double_scalars\n",
      "  output_data['dk'] = h_data['dk'] / h_data['dkA']\n"
     ]
    },
    {
     "name": "stdout",
     "output_type": "stream",
     "text": [
      "S21G01N91\n",
      "S21G01N92\n",
      "S21G01N93\n",
      "S21G01N94\n",
      "S21G01N95\n"
     ]
    },
    {
     "name": "stderr",
     "output_type": "stream",
     "text": [
      "/var/folders/xk/jz0njgws4vqcw913r_s9rxkr0000gn/T/ipykernel_62044/1636465878.py:25: RuntimeWarning: invalid value encountered in double_scalars\n",
      "  output_data['dk'] = h_data['dk'] / h_data['dkA']\n"
     ]
    },
    {
     "name": "stdout",
     "output_type": "stream",
     "text": [
      "S21G01N96\n",
      "S21G01N97\n",
      "S21G01N98\n",
      "S21G01N99\n"
     ]
    },
    {
     "name": "stderr",
     "output_type": "stream",
     "text": [
      "/var/folders/xk/jz0njgws4vqcw913r_s9rxkr0000gn/T/ipykernel_62044/1636465878.py:42: RuntimeWarning: invalid value encountered in double_scalars\n",
      "  output_data['tf'] = h_data['tf'] / (h_data['tf'] + a_data['tf'])\n",
      "/var/folders/xk/jz0njgws4vqcw913r_s9rxkr0000gn/T/ipykernel_62044/1636465878.py:42: RuntimeWarning: invalid value encountered in double_scalars\n",
      "  output_data['tf'] = h_data['tf'] / (h_data['tf'] + a_data['tf'])\n"
     ]
    },
    {
     "name": "stdout",
     "output_type": "stream",
     "text": [
      "S21G01N100\n",
      "S21G01N101\n",
      "S21G01N102\n",
      "S21G01N103\n",
      "S21G01N104\n",
      "S21G01N105\n",
      "S21G01N106\n",
      "S21G01N107\n"
     ]
    },
    {
     "name": "stderr",
     "output_type": "stream",
     "text": [
      "/var/folders/xk/jz0njgws4vqcw913r_s9rxkr0000gn/T/ipykernel_62044/1636465878.py:42: RuntimeWarning: invalid value encountered in double_scalars\n",
      "  output_data['tf'] = h_data['tf'] / (h_data['tf'] + a_data['tf'])\n",
      "/var/folders/xk/jz0njgws4vqcw913r_s9rxkr0000gn/T/ipykernel_62044/1636465878.py:42: RuntimeWarning: invalid value encountered in double_scalars\n",
      "  output_data['tf'] = h_data['tf'] / (h_data['tf'] + a_data['tf'])\n"
     ]
    },
    {
     "name": "stdout",
     "output_type": "stream",
     "text": [
      "S21G01N108\n",
      "S21G01N109\n"
     ]
    },
    {
     "name": "stderr",
     "output_type": "stream",
     "text": [
      "/var/folders/xk/jz0njgws4vqcw913r_s9rxkr0000gn/T/ipykernel_62044/1636465878.py:42: RuntimeWarning: invalid value encountered in double_scalars\n",
      "  output_data['tf'] = h_data['tf'] / (h_data['tf'] + a_data['tf'])\n",
      "/var/folders/xk/jz0njgws4vqcw913r_s9rxkr0000gn/T/ipykernel_62044/1636465878.py:42: RuntimeWarning: invalid value encountered in double_scalars\n",
      "  output_data['tf'] = h_data['tf'] / (h_data['tf'] + a_data['tf'])\n"
     ]
    },
    {
     "name": "stdout",
     "output_type": "stream",
     "text": [
      "S21G01N110\n",
      "S21G01N111\n",
      "S21G01N112\n"
     ]
    },
    {
     "name": "stderr",
     "output_type": "stream",
     "text": [
      "/var/folders/xk/jz0njgws4vqcw913r_s9rxkr0000gn/T/ipykernel_62044/1636465878.py:42: RuntimeWarning: invalid value encountered in double_scalars\n",
      "  output_data['tf'] = h_data['tf'] / (h_data['tf'] + a_data['tf'])\n",
      "/var/folders/xk/jz0njgws4vqcw913r_s9rxkr0000gn/T/ipykernel_62044/1636465878.py:42: RuntimeWarning: invalid value encountered in double_scalars\n",
      "  output_data['tf'] = h_data['tf'] / (h_data['tf'] + a_data['tf'])\n"
     ]
    },
    {
     "name": "stdout",
     "output_type": "stream",
     "text": [
      "S21G01N113\n"
     ]
    },
    {
     "name": "stderr",
     "output_type": "stream",
     "text": [
      "/var/folders/xk/jz0njgws4vqcw913r_s9rxkr0000gn/T/ipykernel_62044/1636465878.py:42: RuntimeWarning: invalid value encountered in double_scalars\n",
      "  output_data['tf'] = h_data['tf'] / (h_data['tf'] + a_data['tf'])\n",
      "/var/folders/xk/jz0njgws4vqcw913r_s9rxkr0000gn/T/ipykernel_62044/1636465878.py:42: RuntimeWarning: invalid value encountered in double_scalars\n",
      "  output_data['tf'] = h_data['tf'] / (h_data['tf'] + a_data['tf'])\n"
     ]
    },
    {
     "name": "stdout",
     "output_type": "stream",
     "text": [
      "S21G01N114\n",
      "S21G01N115\n"
     ]
    },
    {
     "name": "stderr",
     "output_type": "stream",
     "text": [
      "/var/folders/xk/jz0njgws4vqcw913r_s9rxkr0000gn/T/ipykernel_62044/1636465878.py:42: RuntimeWarning: invalid value encountered in double_scalars\n",
      "  output_data['tf'] = h_data['tf'] / (h_data['tf'] + a_data['tf'])\n",
      "/var/folders/xk/jz0njgws4vqcw913r_s9rxkr0000gn/T/ipykernel_62044/1636465878.py:42: RuntimeWarning: invalid value encountered in double_scalars\n",
      "  output_data['tf'] = h_data['tf'] / (h_data['tf'] + a_data['tf'])\n"
     ]
    },
    {
     "name": "stdout",
     "output_type": "stream",
     "text": [
      "S21G01N116\n",
      "S21G01N117\n",
      "S21G01N118\n",
      "S21G01N119\n",
      "S21G01N120\n",
      "S21G01N121\n"
     ]
    },
    {
     "name": "stderr",
     "output_type": "stream",
     "text": [
      "/var/folders/xk/jz0njgws4vqcw913r_s9rxkr0000gn/T/ipykernel_62044/1636465878.py:42: RuntimeWarning: invalid value encountered in double_scalars\n",
      "  output_data['tf'] = h_data['tf'] / (h_data['tf'] + a_data['tf'])\n",
      "/var/folders/xk/jz0njgws4vqcw913r_s9rxkr0000gn/T/ipykernel_62044/1636465878.py:42: RuntimeWarning: invalid value encountered in double_scalars\n",
      "  output_data['tf'] = h_data['tf'] / (h_data['tf'] + a_data['tf'])\n"
     ]
    },
    {
     "name": "stdout",
     "output_type": "stream",
     "text": [
      "S21G01N122\n",
      "S21G01N123\n"
     ]
    },
    {
     "name": "stderr",
     "output_type": "stream",
     "text": [
      "/var/folders/xk/jz0njgws4vqcw913r_s9rxkr0000gn/T/ipykernel_62044/1636465878.py:42: RuntimeWarning: invalid value encountered in double_scalars\n",
      "  output_data['tf'] = h_data['tf'] / (h_data['tf'] + a_data['tf'])\n",
      "/var/folders/xk/jz0njgws4vqcw913r_s9rxkr0000gn/T/ipykernel_62044/1636465878.py:43: RuntimeWarning: invalid value encountered in double_scalars\n",
      "  output_data['gd'] = h_data['gd'] / (h_data['gd'] + a_data['gd'])\n",
      "/var/folders/xk/jz0njgws4vqcw913r_s9rxkr0000gn/T/ipykernel_62044/1636465878.py:42: RuntimeWarning: invalid value encountered in double_scalars\n",
      "  output_data['tf'] = h_data['tf'] / (h_data['tf'] + a_data['tf'])\n",
      "/var/folders/xk/jz0njgws4vqcw913r_s9rxkr0000gn/T/ipykernel_62044/1636465878.py:43: RuntimeWarning: invalid value encountered in double_scalars\n",
      "  output_data['gd'] = h_data['gd'] / (h_data['gd'] + a_data['gd'])\n"
     ]
    },
    {
     "name": "stdout",
     "output_type": "stream",
     "text": [
      "S21G01N124\n",
      "S21G01N125\n",
      "S21G01N126\n"
     ]
    },
    {
     "name": "stderr",
     "output_type": "stream",
     "text": [
      "/var/folders/xk/jz0njgws4vqcw913r_s9rxkr0000gn/T/ipykernel_62044/1636465878.py:42: RuntimeWarning: invalid value encountered in double_scalars\n",
      "  output_data['tf'] = h_data['tf'] / (h_data['tf'] + a_data['tf'])\n",
      "/var/folders/xk/jz0njgws4vqcw913r_s9rxkr0000gn/T/ipykernel_62044/1636465878.py:42: RuntimeWarning: invalid value encountered in double_scalars\n",
      "  output_data['tf'] = h_data['tf'] / (h_data['tf'] + a_data['tf'])\n"
     ]
    },
    {
     "name": "stdout",
     "output_type": "stream",
     "text": [
      "S21G01N127\n",
      "S21G01N128\n",
      "S21G01N129\n",
      "S21G01N130\n"
     ]
    },
    {
     "name": "stderr",
     "output_type": "stream",
     "text": [
      "/var/folders/xk/jz0njgws4vqcw913r_s9rxkr0000gn/T/ipykernel_62044/1636465878.py:42: RuntimeWarning: invalid value encountered in double_scalars\n",
      "  output_data['tf'] = h_data['tf'] / (h_data['tf'] + a_data['tf'])\n",
      "/var/folders/xk/jz0njgws4vqcw913r_s9rxkr0000gn/T/ipykernel_62044/1636465878.py:42: RuntimeWarning: invalid value encountered in double_scalars\n",
      "  output_data['tf'] = h_data['tf'] / (h_data['tf'] + a_data['tf'])\n"
     ]
    },
    {
     "name": "stdout",
     "output_type": "stream",
     "text": [
      "S21G01N131\n",
      "S21G01N132\n",
      "S21G01N133\n",
      "S21G01N134\n",
      "S21G01N135\n",
      "S21G01N136\n"
     ]
    },
    {
     "name": "stderr",
     "output_type": "stream",
     "text": [
      "/var/folders/xk/jz0njgws4vqcw913r_s9rxkr0000gn/T/ipykernel_62044/1636465878.py:42: RuntimeWarning: invalid value encountered in double_scalars\n",
      "  output_data['tf'] = h_data['tf'] / (h_data['tf'] + a_data['tf'])\n",
      "/var/folders/xk/jz0njgws4vqcw913r_s9rxkr0000gn/T/ipykernel_62044/1636465878.py:42: RuntimeWarning: invalid value encountered in double_scalars\n",
      "  output_data['tf'] = h_data['tf'] / (h_data['tf'] + a_data['tf'])\n"
     ]
    },
    {
     "name": "stdout",
     "output_type": "stream",
     "text": [
      "S21G01N137\n",
      "S21G01N138\n",
      "S21G01N139\n"
     ]
    },
    {
     "name": "stderr",
     "output_type": "stream",
     "text": [
      "/var/folders/xk/jz0njgws4vqcw913r_s9rxkr0000gn/T/ipykernel_62044/1636465878.py:42: RuntimeWarning: invalid value encountered in double_scalars\n",
      "  output_data['tf'] = h_data['tf'] / (h_data['tf'] + a_data['tf'])\n",
      "/var/folders/xk/jz0njgws4vqcw913r_s9rxkr0000gn/T/ipykernel_62044/1636465878.py:42: RuntimeWarning: invalid value encountered in double_scalars\n",
      "  output_data['tf'] = h_data['tf'] / (h_data['tf'] + a_data['tf'])\n"
     ]
    },
    {
     "name": "stdout",
     "output_type": "stream",
     "text": [
      "S21G01N140\n",
      "S21G01N141\n",
      "S21G01N142\n",
      "S21G01N143\n",
      "S21G01N144\n",
      "S21G01N145\n",
      "S21G01N146\n",
      "S21G01N147\n",
      "S21G01N148\n",
      "S21G01N149\n",
      "S21G01N150\n"
     ]
    },
    {
     "name": "stderr",
     "output_type": "stream",
     "text": [
      "/var/folders/xk/jz0njgws4vqcw913r_s9rxkr0000gn/T/ipykernel_62044/1636465878.py:42: RuntimeWarning: invalid value encountered in double_scalars\n",
      "  output_data['tf'] = h_data['tf'] / (h_data['tf'] + a_data['tf'])\n",
      "/var/folders/xk/jz0njgws4vqcw913r_s9rxkr0000gn/T/ipykernel_62044/1636465878.py:42: RuntimeWarning: invalid value encountered in double_scalars\n",
      "  output_data['tf'] = h_data['tf'] / (h_data['tf'] + a_data['tf'])\n"
     ]
    },
    {
     "name": "stdout",
     "output_type": "stream",
     "text": [
      "S21G01N151\n",
      "S21G01N152\n",
      "S21G01N153\n",
      "S21G01N154\n",
      "S21G01N155\n",
      "S21G01N156\n",
      "S21G01N157\n",
      "S21G01N158\n",
      "S21G01N159\n",
      "S21G01N160\n",
      "S21G01N161\n",
      "S21G01N162\n"
     ]
    },
    {
     "name": "stderr",
     "output_type": "stream",
     "text": [
      "/var/folders/xk/jz0njgws4vqcw913r_s9rxkr0000gn/T/ipykernel_62044/1636465878.py:42: RuntimeWarning: invalid value encountered in double_scalars\n",
      "  output_data['tf'] = h_data['tf'] / (h_data['tf'] + a_data['tf'])\n",
      "/var/folders/xk/jz0njgws4vqcw913r_s9rxkr0000gn/T/ipykernel_62044/1636465878.py:42: RuntimeWarning: invalid value encountered in double_scalars\n",
      "  output_data['tf'] = h_data['tf'] / (h_data['tf'] + a_data['tf'])\n"
     ]
    },
    {
     "name": "stdout",
     "output_type": "stream",
     "text": [
      "S21G01N163\n",
      "S21G01N164\n",
      "S21G01N165\n",
      "S21G01N166\n",
      "S21G01N167\n",
      "S21G01N168\n"
     ]
    },
    {
     "name": "stderr",
     "output_type": "stream",
     "text": [
      "/var/folders/xk/jz0njgws4vqcw913r_s9rxkr0000gn/T/ipykernel_62044/1636465878.py:42: RuntimeWarning: invalid value encountered in double_scalars\n",
      "  output_data['tf'] = h_data['tf'] / (h_data['tf'] + a_data['tf'])\n",
      "/var/folders/xk/jz0njgws4vqcw913r_s9rxkr0000gn/T/ipykernel_62044/1636465878.py:42: RuntimeWarning: invalid value encountered in double_scalars\n",
      "  output_data['tf'] = h_data['tf'] / (h_data['tf'] + a_data['tf'])\n"
     ]
    },
    {
     "name": "stdout",
     "output_type": "stream",
     "text": [
      "S21G01N169\n",
      "S21G01N170\n",
      "S21G01N171\n"
     ]
    },
    {
     "name": "stderr",
     "output_type": "stream",
     "text": [
      "/var/folders/xk/jz0njgws4vqcw913r_s9rxkr0000gn/T/ipykernel_62044/1636465878.py:42: RuntimeWarning: invalid value encountered in double_scalars\n",
      "  output_data['tf'] = h_data['tf'] / (h_data['tf'] + a_data['tf'])\n",
      "/var/folders/xk/jz0njgws4vqcw913r_s9rxkr0000gn/T/ipykernel_62044/1636465878.py:42: RuntimeWarning: invalid value encountered in double_scalars\n",
      "  output_data['tf'] = h_data['tf'] / (h_data['tf'] + a_data['tf'])\n"
     ]
    },
    {
     "name": "stdout",
     "output_type": "stream",
     "text": [
      "S21G01N172\n",
      "S21G01N173\n",
      "S21G01N174\n"
     ]
    },
    {
     "name": "stderr",
     "output_type": "stream",
     "text": [
      "/var/folders/xk/jz0njgws4vqcw913r_s9rxkr0000gn/T/ipykernel_62044/1636465878.py:42: RuntimeWarning: invalid value encountered in double_scalars\n",
      "  output_data['tf'] = h_data['tf'] / (h_data['tf'] + a_data['tf'])\n",
      "/var/folders/xk/jz0njgws4vqcw913r_s9rxkr0000gn/T/ipykernel_62044/1636465878.py:42: RuntimeWarning: invalid value encountered in double_scalars\n",
      "  output_data['tf'] = h_data['tf'] / (h_data['tf'] + a_data['tf'])\n"
     ]
    },
    {
     "name": "stdout",
     "output_type": "stream",
     "text": [
      "S21G01N175\n",
      "S21G01N176\n",
      "S21G01N177\n",
      "S21G01N178\n"
     ]
    },
    {
     "name": "stderr",
     "output_type": "stream",
     "text": [
      "/var/folders/xk/jz0njgws4vqcw913r_s9rxkr0000gn/T/ipykernel_62044/1636465878.py:42: RuntimeWarning: invalid value encountered in double_scalars\n",
      "  output_data['tf'] = h_data['tf'] / (h_data['tf'] + a_data['tf'])\n",
      "/var/folders/xk/jz0njgws4vqcw913r_s9rxkr0000gn/T/ipykernel_62044/1636465878.py:42: RuntimeWarning: invalid value encountered in double_scalars\n",
      "  output_data['tf'] = h_data['tf'] / (h_data['tf'] + a_data['tf'])\n"
     ]
    },
    {
     "name": "stdout",
     "output_type": "stream",
     "text": [
      "S21G01N179\n"
     ]
    },
    {
     "name": "stderr",
     "output_type": "stream",
     "text": [
      "/var/folders/xk/jz0njgws4vqcw913r_s9rxkr0000gn/T/ipykernel_62044/1636465878.py:42: RuntimeWarning: invalid value encountered in double_scalars\n",
      "  output_data['tf'] = h_data['tf'] / (h_data['tf'] + a_data['tf'])\n",
      "/var/folders/xk/jz0njgws4vqcw913r_s9rxkr0000gn/T/ipykernel_62044/1636465878.py:42: RuntimeWarning: invalid value encountered in double_scalars\n",
      "  output_data['tf'] = h_data['tf'] / (h_data['tf'] + a_data['tf'])\n"
     ]
    },
    {
     "name": "stdout",
     "output_type": "stream",
     "text": [
      "S21G01N180\n",
      "S21G01N181\n",
      "S21G01N182\n",
      "S21G01N183\n"
     ]
    },
    {
     "name": "stderr",
     "output_type": "stream",
     "text": [
      "/var/folders/xk/jz0njgws4vqcw913r_s9rxkr0000gn/T/ipykernel_62044/1636465878.py:42: RuntimeWarning: invalid value encountered in double_scalars\n",
      "  output_data['tf'] = h_data['tf'] / (h_data['tf'] + a_data['tf'])\n",
      "/var/folders/xk/jz0njgws4vqcw913r_s9rxkr0000gn/T/ipykernel_62044/1636465878.py:42: RuntimeWarning: invalid value encountered in double_scalars\n",
      "  output_data['tf'] = h_data['tf'] / (h_data['tf'] + a_data['tf'])\n"
     ]
    },
    {
     "name": "stdout",
     "output_type": "stream",
     "text": [
      "S21G01N184\n"
     ]
    },
    {
     "name": "stderr",
     "output_type": "stream",
     "text": [
      "/var/folders/xk/jz0njgws4vqcw913r_s9rxkr0000gn/T/ipykernel_62044/1636465878.py:42: RuntimeWarning: invalid value encountered in double_scalars\n",
      "  output_data['tf'] = h_data['tf'] / (h_data['tf'] + a_data['tf'])\n",
      "/var/folders/xk/jz0njgws4vqcw913r_s9rxkr0000gn/T/ipykernel_62044/1636465878.py:42: RuntimeWarning: invalid value encountered in double_scalars\n",
      "  output_data['tf'] = h_data['tf'] / (h_data['tf'] + a_data['tf'])\n"
     ]
    },
    {
     "name": "stdout",
     "output_type": "stream",
     "text": [
      "S21G01N185\n",
      "S21G01N186\n",
      "S21G01N187\n"
     ]
    },
    {
     "name": "stderr",
     "output_type": "stream",
     "text": [
      "/var/folders/xk/jz0njgws4vqcw913r_s9rxkr0000gn/T/ipykernel_62044/1636465878.py:42: RuntimeWarning: invalid value encountered in double_scalars\n",
      "  output_data['tf'] = h_data['tf'] / (h_data['tf'] + a_data['tf'])\n",
      "/var/folders/xk/jz0njgws4vqcw913r_s9rxkr0000gn/T/ipykernel_62044/1636465878.py:42: RuntimeWarning: invalid value encountered in double_scalars\n",
      "  output_data['tf'] = h_data['tf'] / (h_data['tf'] + a_data['tf'])\n"
     ]
    },
    {
     "name": "stdout",
     "output_type": "stream",
     "text": [
      "S21G01N188\n",
      "S21G01N189\n",
      "S21G01N190\n"
     ]
    },
    {
     "name": "stderr",
     "output_type": "stream",
     "text": [
      "/var/folders/xk/jz0njgws4vqcw913r_s9rxkr0000gn/T/ipykernel_62044/1636465878.py:42: RuntimeWarning: invalid value encountered in double_scalars\n",
      "  output_data['tf'] = h_data['tf'] / (h_data['tf'] + a_data['tf'])\n",
      "/var/folders/xk/jz0njgws4vqcw913r_s9rxkr0000gn/T/ipykernel_62044/1636465878.py:42: RuntimeWarning: invalid value encountered in double_scalars\n",
      "  output_data['tf'] = h_data['tf'] / (h_data['tf'] + a_data['tf'])\n"
     ]
    },
    {
     "name": "stdout",
     "output_type": "stream",
     "text": [
      "S21G01N191\n",
      "S21G01N192\n",
      "S21G01N193\n",
      "S21G01N194\n",
      "S21G01N195\n",
      "S21G01N196\n"
     ]
    },
    {
     "name": "stderr",
     "output_type": "stream",
     "text": [
      "/var/folders/xk/jz0njgws4vqcw913r_s9rxkr0000gn/T/ipykernel_62044/1636465878.py:43: RuntimeWarning: invalid value encountered in double_scalars\n",
      "  output_data['gd'] = h_data['gd'] / (h_data['gd'] + a_data['gd'])\n",
      "/var/folders/xk/jz0njgws4vqcw913r_s9rxkr0000gn/T/ipykernel_62044/1636465878.py:43: RuntimeWarning: invalid value encountered in double_scalars\n",
      "  output_data['gd'] = h_data['gd'] / (h_data['gd'] + a_data['gd'])\n"
     ]
    },
    {
     "name": "stdout",
     "output_type": "stream",
     "text": [
      "S21G01N197\n",
      "S21G01N198\n",
      "S21G01N199\n"
     ]
    },
    {
     "name": "stderr",
     "output_type": "stream",
     "text": [
      "/var/folders/xk/jz0njgws4vqcw913r_s9rxkr0000gn/T/ipykernel_62044/1636465878.py:42: RuntimeWarning: invalid value encountered in double_scalars\n",
      "  output_data['tf'] = h_data['tf'] / (h_data['tf'] + a_data['tf'])\n",
      "/var/folders/xk/jz0njgws4vqcw913r_s9rxkr0000gn/T/ipykernel_62044/1636465878.py:42: RuntimeWarning: invalid value encountered in double_scalars\n",
      "  output_data['tf'] = h_data['tf'] / (h_data['tf'] + a_data['tf'])\n"
     ]
    },
    {
     "name": "stdout",
     "output_type": "stream",
     "text": [
      "S21G01N200\n",
      "S21G01N201\n"
     ]
    },
    {
     "name": "stderr",
     "output_type": "stream",
     "text": [
      "/var/folders/xk/jz0njgws4vqcw913r_s9rxkr0000gn/T/ipykernel_62044/1636465878.py:42: RuntimeWarning: invalid value encountered in double_scalars\n",
      "  output_data['tf'] = h_data['tf'] / (h_data['tf'] + a_data['tf'])\n",
      "/var/folders/xk/jz0njgws4vqcw913r_s9rxkr0000gn/T/ipykernel_62044/1636465878.py:42: RuntimeWarning: invalid value encountered in double_scalars\n",
      "  output_data['tf'] = h_data['tf'] / (h_data['tf'] + a_data['tf'])\n"
     ]
    },
    {
     "name": "stdout",
     "output_type": "stream",
     "text": [
      "S21G01N202\n",
      "S21G01N203\n",
      "S21G01N204\n",
      "S21G01N205\n",
      "S21G01N206\n",
      "S21G01N207\n",
      "S21G01N208\n",
      "S21G01N209\n",
      "S21G01N210\n",
      "S21G01N211\n",
      "S21G01N212\n",
      "S21G01N213\n",
      "S21G01N214\n",
      "S21G01N215\n",
      "S21G01N216\n",
      "S21G01N217\n"
     ]
    },
    {
     "name": "stderr",
     "output_type": "stream",
     "text": [
      "/var/folders/xk/jz0njgws4vqcw913r_s9rxkr0000gn/T/ipykernel_62044/1636465878.py:42: RuntimeWarning: invalid value encountered in double_scalars\n",
      "  output_data['tf'] = h_data['tf'] / (h_data['tf'] + a_data['tf'])\n",
      "/var/folders/xk/jz0njgws4vqcw913r_s9rxkr0000gn/T/ipykernel_62044/1636465878.py:42: RuntimeWarning: invalid value encountered in double_scalars\n",
      "  output_data['tf'] = h_data['tf'] / (h_data['tf'] + a_data['tf'])\n"
     ]
    },
    {
     "name": "stdout",
     "output_type": "stream",
     "text": [
      "S21G01N218\n",
      "S21G01N219\n",
      "S21G01N220\n",
      "S21G01N221\n",
      "S21G01N222\n",
      "S21G01N223\n",
      "S21G01N224\n",
      "S21G01N225\n",
      "S21G01N226\n",
      "S21G01N227\n",
      "S21G01N228\n",
      "S21G01N229\n",
      "S21G01N230\n",
      "S21G01N231\n",
      "S21G01N232\n",
      "S21G01N233\n",
      "S21G01N234\n",
      "S21G01N235\n",
      "S21G01N236\n",
      "S21G01N237\n",
      "S21G01N238\n",
      "S21G01N239\n",
      "S21G01N240\n",
      "S21G01N241\n",
      "S21G01N242\n",
      "S21G01N243\n",
      "S21G01N244\n",
      "S21G01N245\n",
      "S21G01N246\n",
      "S21G01N247\n"
     ]
    },
    {
     "name": "stderr",
     "output_type": "stream",
     "text": [
      "/var/folders/xk/jz0njgws4vqcw913r_s9rxkr0000gn/T/ipykernel_62044/1636465878.py:42: RuntimeWarning: invalid value encountered in double_scalars\n",
      "  output_data['tf'] = h_data['tf'] / (h_data['tf'] + a_data['tf'])\n",
      "/var/folders/xk/jz0njgws4vqcw913r_s9rxkr0000gn/T/ipykernel_62044/1636465878.py:42: RuntimeWarning: invalid value encountered in double_scalars\n",
      "  output_data['tf'] = h_data['tf'] / (h_data['tf'] + a_data['tf'])\n"
     ]
    },
    {
     "name": "stdout",
     "output_type": "stream",
     "text": [
      "S21G01N248\n",
      "S21G01N249\n",
      "S21G01N250\n"
     ]
    },
    {
     "name": "stderr",
     "output_type": "stream",
     "text": [
      "/var/folders/xk/jz0njgws4vqcw913r_s9rxkr0000gn/T/ipykernel_62044/1636465878.py:42: RuntimeWarning: invalid value encountered in double_scalars\n",
      "  output_data['tf'] = h_data['tf'] / (h_data['tf'] + a_data['tf'])\n",
      "/var/folders/xk/jz0njgws4vqcw913r_s9rxkr0000gn/T/ipykernel_62044/1636465878.py:42: RuntimeWarning: invalid value encountered in double_scalars\n",
      "  output_data['tf'] = h_data['tf'] / (h_data['tf'] + a_data['tf'])\n"
     ]
    },
    {
     "name": "stdout",
     "output_type": "stream",
     "text": [
      "S21G01N251\n",
      "S21G01N252\n"
     ]
    },
    {
     "name": "stderr",
     "output_type": "stream",
     "text": [
      "/var/folders/xk/jz0njgws4vqcw913r_s9rxkr0000gn/T/ipykernel_62044/1636465878.py:43: RuntimeWarning: invalid value encountered in double_scalars\n",
      "  output_data['gd'] = h_data['gd'] / (h_data['gd'] + a_data['gd'])\n",
      "/var/folders/xk/jz0njgws4vqcw913r_s9rxkr0000gn/T/ipykernel_62044/1636465878.py:43: RuntimeWarning: invalid value encountered in double_scalars\n",
      "  output_data['gd'] = h_data['gd'] / (h_data['gd'] + a_data['gd'])\n"
     ]
    },
    {
     "name": "stdout",
     "output_type": "stream",
     "text": [
      "S21G01N253\n",
      "S21G01N254\n"
     ]
    },
    {
     "name": "stderr",
     "output_type": "stream",
     "text": [
      "/var/folders/xk/jz0njgws4vqcw913r_s9rxkr0000gn/T/ipykernel_62044/1636465878.py:42: RuntimeWarning: invalid value encountered in double_scalars\n",
      "  output_data['tf'] = h_data['tf'] / (h_data['tf'] + a_data['tf'])\n",
      "/var/folders/xk/jz0njgws4vqcw913r_s9rxkr0000gn/T/ipykernel_62044/1636465878.py:42: RuntimeWarning: invalid value encountered in double_scalars\n",
      "  output_data['tf'] = h_data['tf'] / (h_data['tf'] + a_data['tf'])\n"
     ]
    },
    {
     "name": "stdout",
     "output_type": "stream",
     "text": [
      "S21G01N255\n",
      "S21G01N256\n",
      "S21G01N257\n",
      "S21G01N258\n",
      "S21G01N259\n",
      "S21G01N260\n"
     ]
    },
    {
     "name": "stderr",
     "output_type": "stream",
     "text": [
      "/var/folders/xk/jz0njgws4vqcw913r_s9rxkr0000gn/T/ipykernel_62044/1636465878.py:42: RuntimeWarning: invalid value encountered in double_scalars\n",
      "  output_data['tf'] = h_data['tf'] / (h_data['tf'] + a_data['tf'])\n",
      "/var/folders/xk/jz0njgws4vqcw913r_s9rxkr0000gn/T/ipykernel_62044/1636465878.py:42: RuntimeWarning: invalid value encountered in double_scalars\n",
      "  output_data['tf'] = h_data['tf'] / (h_data['tf'] + a_data['tf'])\n"
     ]
    },
    {
     "name": "stdout",
     "output_type": "stream",
     "text": [
      "S21G01N261\n",
      "S21G01N262\n"
     ]
    },
    {
     "name": "stderr",
     "output_type": "stream",
     "text": [
      "/var/folders/xk/jz0njgws4vqcw913r_s9rxkr0000gn/T/ipykernel_62044/1636465878.py:42: RuntimeWarning: invalid value encountered in double_scalars\n",
      "  output_data['tf'] = h_data['tf'] / (h_data['tf'] + a_data['tf'])\n",
      "/var/folders/xk/jz0njgws4vqcw913r_s9rxkr0000gn/T/ipykernel_62044/1636465878.py:42: RuntimeWarning: invalid value encountered in double_scalars\n",
      "  output_data['tf'] = h_data['tf'] / (h_data['tf'] + a_data['tf'])\n"
     ]
    },
    {
     "name": "stdout",
     "output_type": "stream",
     "text": [
      "S21G01N263\n",
      "S21G01N264\n",
      "S21G01N265\n",
      "S21G01N266\n",
      "S21G01N267\n"
     ]
    },
    {
     "name": "stderr",
     "output_type": "stream",
     "text": [
      "/var/folders/xk/jz0njgws4vqcw913r_s9rxkr0000gn/T/ipykernel_62044/1636465878.py:42: RuntimeWarning: invalid value encountered in double_scalars\n",
      "  output_data['tf'] = h_data['tf'] / (h_data['tf'] + a_data['tf'])\n",
      "/var/folders/xk/jz0njgws4vqcw913r_s9rxkr0000gn/T/ipykernel_62044/1636465878.py:42: RuntimeWarning: invalid value encountered in double_scalars\n",
      "  output_data['tf'] = h_data['tf'] / (h_data['tf'] + a_data['tf'])\n"
     ]
    },
    {
     "name": "stdout",
     "output_type": "stream",
     "text": [
      "S21G01N268\n",
      "S21G01N269\n",
      "S21G01N270\n"
     ]
    },
    {
     "name": "stderr",
     "output_type": "stream",
     "text": [
      "/var/folders/xk/jz0njgws4vqcw913r_s9rxkr0000gn/T/ipykernel_62044/1636465878.py:42: RuntimeWarning: invalid value encountered in double_scalars\n",
      "  output_data['tf'] = h_data['tf'] / (h_data['tf'] + a_data['tf'])\n",
      "/var/folders/xk/jz0njgws4vqcw913r_s9rxkr0000gn/T/ipykernel_62044/1636465878.py:42: RuntimeWarning: invalid value encountered in double_scalars\n",
      "  output_data['tf'] = h_data['tf'] / (h_data['tf'] + a_data['tf'])\n"
     ]
    },
    {
     "name": "stdout",
     "output_type": "stream",
     "text": [
      "S21G03N1\n",
      "S21G03N2\n"
     ]
    },
    {
     "name": "stderr",
     "output_type": "stream",
     "text": [
      "/var/folders/xk/jz0njgws4vqcw913r_s9rxkr0000gn/T/ipykernel_62044/1636465878.py:42: RuntimeWarning: invalid value encountered in double_scalars\n",
      "  output_data['tf'] = h_data['tf'] / (h_data['tf'] + a_data['tf'])\n",
      "/var/folders/xk/jz0njgws4vqcw913r_s9rxkr0000gn/T/ipykernel_62044/1636465878.py:42: RuntimeWarning: invalid value encountered in double_scalars\n",
      "  output_data['tf'] = h_data['tf'] / (h_data['tf'] + a_data['tf'])\n"
     ]
    },
    {
     "name": "stdout",
     "output_type": "stream",
     "text": [
      "S21G03N3\n",
      "S21G03N4\n"
     ]
    },
    {
     "name": "stderr",
     "output_type": "stream",
     "text": [
      "/var/folders/xk/jz0njgws4vqcw913r_s9rxkr0000gn/T/ipykernel_62044/1636465878.py:42: RuntimeWarning: invalid value encountered in double_scalars\n",
      "  output_data['tf'] = h_data['tf'] / (h_data['tf'] + a_data['tf'])\n",
      "/var/folders/xk/jz0njgws4vqcw913r_s9rxkr0000gn/T/ipykernel_62044/1636465878.py:42: RuntimeWarning: invalid value encountered in double_scalars\n",
      "  output_data['tf'] = h_data['tf'] / (h_data['tf'] + a_data['tf'])\n"
     ]
    },
    {
     "name": "stdout",
     "output_type": "stream",
     "text": [
      "S21G03N5\n",
      "S21G03N6\n"
     ]
    },
    {
     "name": "stderr",
     "output_type": "stream",
     "text": [
      "/var/folders/xk/jz0njgws4vqcw913r_s9rxkr0000gn/T/ipykernel_62044/1636465878.py:42: RuntimeWarning: invalid value encountered in double_scalars\n",
      "  output_data['tf'] = h_data['tf'] / (h_data['tf'] + a_data['tf'])\n",
      "/var/folders/xk/jz0njgws4vqcw913r_s9rxkr0000gn/T/ipykernel_62044/1636465878.py:42: RuntimeWarning: invalid value encountered in double_scalars\n",
      "  output_data['tf'] = h_data['tf'] / (h_data['tf'] + a_data['tf'])\n"
     ]
    },
    {
     "name": "stdout",
     "output_type": "stream",
     "text": [
      "S21G03N7\n"
     ]
    },
    {
     "name": "stderr",
     "output_type": "stream",
     "text": [
      "/var/folders/xk/jz0njgws4vqcw913r_s9rxkr0000gn/T/ipykernel_62044/1636465878.py:25: RuntimeWarning: invalid value encountered in double_scalars\n",
      "  output_data['dk'] = h_data['dk'] / h_data['dkA']\n"
     ]
    },
    {
     "name": "stdout",
     "output_type": "stream",
     "text": [
      "S21G04N1\n"
     ]
    },
    {
     "name": "stderr",
     "output_type": "stream",
     "text": [
      "/var/folders/xk/jz0njgws4vqcw913r_s9rxkr0000gn/T/ipykernel_62044/1636465878.py:25: RuntimeWarning: invalid value encountered in double_scalars\n",
      "  output_data['dk'] = h_data['dk'] / h_data['dkA']\n"
     ]
    },
    {
     "name": "stdout",
     "output_type": "stream",
     "text": [
      "S21G04N2\n"
     ]
    },
    {
     "name": "stderr",
     "output_type": "stream",
     "text": [
      "/var/folders/xk/jz0njgws4vqcw913r_s9rxkr0000gn/T/ipykernel_62044/1636465878.py:25: RuntimeWarning: invalid value encountered in double_scalars\n",
      "  output_data['dk'] = h_data['dk'] / h_data['dkA']\n"
     ]
    },
    {
     "name": "stdout",
     "output_type": "stream",
     "text": [
      "S21G04N3\n"
     ]
    },
    {
     "name": "stderr",
     "output_type": "stream",
     "text": [
      "/var/folders/xk/jz0njgws4vqcw913r_s9rxkr0000gn/T/ipykernel_62044/1636465878.py:25: RuntimeWarning: invalid value encountered in double_scalars\n",
      "  output_data['dk'] = h_data['dk'] / h_data['dkA']\n"
     ]
    },
    {
     "name": "stdout",
     "output_type": "stream",
     "text": [
      "S21G04N4\n"
     ]
    },
    {
     "name": "stderr",
     "output_type": "stream",
     "text": [
      "/var/folders/xk/jz0njgws4vqcw913r_s9rxkr0000gn/T/ipykernel_62044/1636465878.py:42: RuntimeWarning: invalid value encountered in double_scalars\n",
      "  output_data['tf'] = h_data['tf'] / (h_data['tf'] + a_data['tf'])\n",
      "/var/folders/xk/jz0njgws4vqcw913r_s9rxkr0000gn/T/ipykernel_62044/1636465878.py:42: RuntimeWarning: invalid value encountered in double_scalars\n",
      "  output_data['tf'] = h_data['tf'] / (h_data['tf'] + a_data['tf'])\n"
     ]
    },
    {
     "name": "stdout",
     "output_type": "stream",
     "text": [
      "S22G01N1\n"
     ]
    },
    {
     "name": "stderr",
     "output_type": "stream",
     "text": [
      "/var/folders/xk/jz0njgws4vqcw913r_s9rxkr0000gn/T/ipykernel_62044/1636465878.py:25: RuntimeWarning: invalid value encountered in double_scalars\n",
      "  output_data['dk'] = h_data['dk'] / h_data['dkA']\n"
     ]
    },
    {
     "name": "stdout",
     "output_type": "stream",
     "text": [
      "S22G01N2\n"
     ]
    },
    {
     "name": "stderr",
     "output_type": "stream",
     "text": [
      "/var/folders/xk/jz0njgws4vqcw913r_s9rxkr0000gn/T/ipykernel_62044/1636465878.py:25: RuntimeWarning: invalid value encountered in double_scalars\n",
      "  output_data['dk'] = h_data['dk'] / h_data['dkA']\n",
      "/var/folders/xk/jz0njgws4vqcw913r_s9rxkr0000gn/T/ipykernel_62044/1636465878.py:42: RuntimeWarning: invalid value encountered in double_scalars\n",
      "  output_data['tf'] = h_data['tf'] / (h_data['tf'] + a_data['tf'])\n",
      "/var/folders/xk/jz0njgws4vqcw913r_s9rxkr0000gn/T/ipykernel_62044/1636465878.py:42: RuntimeWarning: invalid value encountered in double_scalars\n",
      "  output_data['tf'] = h_data['tf'] / (h_data['tf'] + a_data['tf'])\n"
     ]
    },
    {
     "name": "stdout",
     "output_type": "stream",
     "text": [
      "S22G01N3\n"
     ]
    },
    {
     "name": "stderr",
     "output_type": "stream",
     "text": [
      "/var/folders/xk/jz0njgws4vqcw913r_s9rxkr0000gn/T/ipykernel_62044/1636465878.py:25: RuntimeWarning: invalid value encountered in double_scalars\n",
      "  output_data['dk'] = h_data['dk'] / h_data['dkA']\n"
     ]
    },
    {
     "name": "stdout",
     "output_type": "stream",
     "text": [
      "S22G01N4\n"
     ]
    },
    {
     "name": "stderr",
     "output_type": "stream",
     "text": [
      "/var/folders/xk/jz0njgws4vqcw913r_s9rxkr0000gn/T/ipykernel_62044/1636465878.py:25: RuntimeWarning: invalid value encountered in double_scalars\n",
      "  output_data['dk'] = h_data['dk'] / h_data['dkA']\n"
     ]
    },
    {
     "name": "stdout",
     "output_type": "stream",
     "text": [
      "S22G01N5\n"
     ]
    },
    {
     "name": "stderr",
     "output_type": "stream",
     "text": [
      "/var/folders/xk/jz0njgws4vqcw913r_s9rxkr0000gn/T/ipykernel_62044/1636465878.py:42: RuntimeWarning: invalid value encountered in double_scalars\n",
      "  output_data['tf'] = h_data['tf'] / (h_data['tf'] + a_data['tf'])\n",
      "/var/folders/xk/jz0njgws4vqcw913r_s9rxkr0000gn/T/ipykernel_62044/1636465878.py:25: RuntimeWarning: invalid value encountered in double_scalars\n",
      "  output_data['dk'] = h_data['dk'] / h_data['dkA']\n",
      "/var/folders/xk/jz0njgws4vqcw913r_s9rxkr0000gn/T/ipykernel_62044/1636465878.py:42: RuntimeWarning: invalid value encountered in double_scalars\n",
      "  output_data['tf'] = h_data['tf'] / (h_data['tf'] + a_data['tf'])\n"
     ]
    },
    {
     "name": "stdout",
     "output_type": "stream",
     "text": [
      "S22G01N6\n"
     ]
    },
    {
     "name": "stderr",
     "output_type": "stream",
     "text": [
      "/var/folders/xk/jz0njgws4vqcw913r_s9rxkr0000gn/T/ipykernel_62044/1636465878.py:25: RuntimeWarning: invalid value encountered in double_scalars\n",
      "  output_data['dk'] = h_data['dk'] / h_data['dkA']\n",
      "/var/folders/xk/jz0njgws4vqcw913r_s9rxkr0000gn/T/ipykernel_62044/1636465878.py:25: RuntimeWarning: invalid value encountered in double_scalars\n",
      "  output_data['dk'] = h_data['dk'] / h_data['dkA']\n"
     ]
    },
    {
     "name": "stdout",
     "output_type": "stream",
     "text": [
      "S22G01N7\n"
     ]
    },
    {
     "name": "stderr",
     "output_type": "stream",
     "text": [
      "/var/folders/xk/jz0njgws4vqcw913r_s9rxkr0000gn/T/ipykernel_62044/1636465878.py:42: RuntimeWarning: invalid value encountered in double_scalars\n",
      "  output_data['tf'] = h_data['tf'] / (h_data['tf'] + a_data['tf'])\n",
      "/var/folders/xk/jz0njgws4vqcw913r_s9rxkr0000gn/T/ipykernel_62044/1636465878.py:42: RuntimeWarning: invalid value encountered in double_scalars\n",
      "  output_data['tf'] = h_data['tf'] / (h_data['tf'] + a_data['tf'])\n"
     ]
    },
    {
     "name": "stdout",
     "output_type": "stream",
     "text": [
      "S22G01N8\n"
     ]
    },
    {
     "name": "stderr",
     "output_type": "stream",
     "text": [
      "/var/folders/xk/jz0njgws4vqcw913r_s9rxkr0000gn/T/ipykernel_62044/1636465878.py:25: RuntimeWarning: invalid value encountered in double_scalars\n",
      "  output_data['dk'] = h_data['dk'] / h_data['dkA']\n"
     ]
    },
    {
     "name": "stdout",
     "output_type": "stream",
     "text": [
      "S22G01N9\n"
     ]
    },
    {
     "name": "stderr",
     "output_type": "stream",
     "text": [
      "/var/folders/xk/jz0njgws4vqcw913r_s9rxkr0000gn/T/ipykernel_62044/1636465878.py:25: RuntimeWarning: invalid value encountered in double_scalars\n",
      "  output_data['dk'] = h_data['dk'] / h_data['dkA']\n",
      "/var/folders/xk/jz0njgws4vqcw913r_s9rxkr0000gn/T/ipykernel_62044/1636465878.py:42: RuntimeWarning: invalid value encountered in double_scalars\n",
      "  output_data['tf'] = h_data['tf'] / (h_data['tf'] + a_data['tf'])\n",
      "/var/folders/xk/jz0njgws4vqcw913r_s9rxkr0000gn/T/ipykernel_62044/1636465878.py:42: RuntimeWarning: invalid value encountered in double_scalars\n",
      "  output_data['tf'] = h_data['tf'] / (h_data['tf'] + a_data['tf'])\n"
     ]
    },
    {
     "name": "stdout",
     "output_type": "stream",
     "text": [
      "S22G01N10\n"
     ]
    },
    {
     "name": "stderr",
     "output_type": "stream",
     "text": [
      "/var/folders/xk/jz0njgws4vqcw913r_s9rxkr0000gn/T/ipykernel_62044/1636465878.py:25: RuntimeWarning: invalid value encountered in double_scalars\n",
      "  output_data['dk'] = h_data['dk'] / h_data['dkA']\n",
      "/var/folders/xk/jz0njgws4vqcw913r_s9rxkr0000gn/T/ipykernel_62044/1636465878.py:42: RuntimeWarning: invalid value encountered in double_scalars\n",
      "  output_data['tf'] = h_data['tf'] / (h_data['tf'] + a_data['tf'])\n",
      "/var/folders/xk/jz0njgws4vqcw913r_s9rxkr0000gn/T/ipykernel_62044/1636465878.py:42: RuntimeWarning: invalid value encountered in double_scalars\n",
      "  output_data['tf'] = h_data['tf'] / (h_data['tf'] + a_data['tf'])\n"
     ]
    },
    {
     "name": "stdout",
     "output_type": "stream",
     "text": [
      "S22G01N11\n",
      "S22G01N12\n"
     ]
    },
    {
     "name": "stderr",
     "output_type": "stream",
     "text": [
      "/var/folders/xk/jz0njgws4vqcw913r_s9rxkr0000gn/T/ipykernel_62044/1636465878.py:42: RuntimeWarning: invalid value encountered in double_scalars\n",
      "  output_data['tf'] = h_data['tf'] / (h_data['tf'] + a_data['tf'])\n",
      "/var/folders/xk/jz0njgws4vqcw913r_s9rxkr0000gn/T/ipykernel_62044/1636465878.py:42: RuntimeWarning: invalid value encountered in double_scalars\n",
      "  output_data['tf'] = h_data['tf'] / (h_data['tf'] + a_data['tf'])\n"
     ]
    },
    {
     "name": "stdout",
     "output_type": "stream",
     "text": [
      "S22G01N13\n"
     ]
    },
    {
     "name": "stderr",
     "output_type": "stream",
     "text": [
      "/var/folders/xk/jz0njgws4vqcw913r_s9rxkr0000gn/T/ipykernel_62044/1636465878.py:25: RuntimeWarning: invalid value encountered in double_scalars\n",
      "  output_data['dk'] = h_data['dk'] / h_data['dkA']\n"
     ]
    },
    {
     "name": "stdout",
     "output_type": "stream",
     "text": [
      "S22G01N14\n"
     ]
    },
    {
     "name": "stderr",
     "output_type": "stream",
     "text": [
      "/var/folders/xk/jz0njgws4vqcw913r_s9rxkr0000gn/T/ipykernel_62044/1636465878.py:25: RuntimeWarning: invalid value encountered in double_scalars\n",
      "  output_data['dk'] = h_data['dk'] / h_data['dkA']\n",
      "/var/folders/xk/jz0njgws4vqcw913r_s9rxkr0000gn/T/ipykernel_62044/1636465878.py:42: RuntimeWarning: invalid value encountered in double_scalars\n",
      "  output_data['tf'] = h_data['tf'] / (h_data['tf'] + a_data['tf'])\n",
      "/var/folders/xk/jz0njgws4vqcw913r_s9rxkr0000gn/T/ipykernel_62044/1636465878.py:42: RuntimeWarning: invalid value encountered in double_scalars\n",
      "  output_data['tf'] = h_data['tf'] / (h_data['tf'] + a_data['tf'])\n"
     ]
    },
    {
     "name": "stdout",
     "output_type": "stream",
     "text": [
      "S22G01N15\n",
      "S22G01N16\n",
      "S22G01N17\n"
     ]
    },
    {
     "name": "stderr",
     "output_type": "stream",
     "text": [
      "/var/folders/xk/jz0njgws4vqcw913r_s9rxkr0000gn/T/ipykernel_62044/1636465878.py:42: RuntimeWarning: invalid value encountered in double_scalars\n",
      "  output_data['tf'] = h_data['tf'] / (h_data['tf'] + a_data['tf'])\n",
      "/var/folders/xk/jz0njgws4vqcw913r_s9rxkr0000gn/T/ipykernel_62044/1636465878.py:25: RuntimeWarning: invalid value encountered in double_scalars\n",
      "  output_data['dk'] = h_data['dk'] / h_data['dkA']\n",
      "/var/folders/xk/jz0njgws4vqcw913r_s9rxkr0000gn/T/ipykernel_62044/1636465878.py:42: RuntimeWarning: invalid value encountered in double_scalars\n",
      "  output_data['tf'] = h_data['tf'] / (h_data['tf'] + a_data['tf'])\n"
     ]
    },
    {
     "name": "stdout",
     "output_type": "stream",
     "text": [
      "S22G01N18\n"
     ]
    },
    {
     "name": "stderr",
     "output_type": "stream",
     "text": [
      "/var/folders/xk/jz0njgws4vqcw913r_s9rxkr0000gn/T/ipykernel_62044/1636465878.py:25: RuntimeWarning: invalid value encountered in double_scalars\n",
      "  output_data['dk'] = h_data['dk'] / h_data['dkA']\n"
     ]
    },
    {
     "name": "stdout",
     "output_type": "stream",
     "text": [
      "S22G01N19\n"
     ]
    },
    {
     "name": "stderr",
     "output_type": "stream",
     "text": [
      "/var/folders/xk/jz0njgws4vqcw913r_s9rxkr0000gn/T/ipykernel_62044/1636465878.py:42: RuntimeWarning: invalid value encountered in double_scalars\n",
      "  output_data['tf'] = h_data['tf'] / (h_data['tf'] + a_data['tf'])\n",
      "/var/folders/xk/jz0njgws4vqcw913r_s9rxkr0000gn/T/ipykernel_62044/1636465878.py:42: RuntimeWarning: invalid value encountered in double_scalars\n",
      "  output_data['tf'] = h_data['tf'] / (h_data['tf'] + a_data['tf'])\n"
     ]
    },
    {
     "name": "stdout",
     "output_type": "stream",
     "text": [
      "S22G01N20\n",
      "S22G01N21\n"
     ]
    },
    {
     "name": "stderr",
     "output_type": "stream",
     "text": [
      "/var/folders/xk/jz0njgws4vqcw913r_s9rxkr0000gn/T/ipykernel_62044/1636465878.py:25: RuntimeWarning: invalid value encountered in double_scalars\n",
      "  output_data['dk'] = h_data['dk'] / h_data['dkA']\n",
      "/var/folders/xk/jz0njgws4vqcw913r_s9rxkr0000gn/T/ipykernel_62044/1636465878.py:42: RuntimeWarning: invalid value encountered in double_scalars\n",
      "  output_data['tf'] = h_data['tf'] / (h_data['tf'] + a_data['tf'])\n",
      "/var/folders/xk/jz0njgws4vqcw913r_s9rxkr0000gn/T/ipykernel_62044/1636465878.py:42: RuntimeWarning: invalid value encountered in double_scalars\n",
      "  output_data['tf'] = h_data['tf'] / (h_data['tf'] + a_data['tf'])\n"
     ]
    },
    {
     "name": "stdout",
     "output_type": "stream",
     "text": [
      "S22G01N22\n",
      "S22G01N23\n"
     ]
    },
    {
     "name": "stderr",
     "output_type": "stream",
     "text": [
      "/var/folders/xk/jz0njgws4vqcw913r_s9rxkr0000gn/T/ipykernel_62044/1636465878.py:25: RuntimeWarning: invalid value encountered in double_scalars\n",
      "  output_data['dk'] = h_data['dk'] / h_data['dkA']\n",
      "/var/folders/xk/jz0njgws4vqcw913r_s9rxkr0000gn/T/ipykernel_62044/1636465878.py:42: RuntimeWarning: invalid value encountered in double_scalars\n",
      "  output_data['tf'] = h_data['tf'] / (h_data['tf'] + a_data['tf'])\n",
      "/var/folders/xk/jz0njgws4vqcw913r_s9rxkr0000gn/T/ipykernel_62044/1636465878.py:42: RuntimeWarning: invalid value encountered in double_scalars\n",
      "  output_data['tf'] = h_data['tf'] / (h_data['tf'] + a_data['tf'])\n"
     ]
    },
    {
     "name": "stdout",
     "output_type": "stream",
     "text": [
      "S22G01N24\n"
     ]
    },
    {
     "name": "stderr",
     "output_type": "stream",
     "text": [
      "/var/folders/xk/jz0njgws4vqcw913r_s9rxkr0000gn/T/ipykernel_62044/1636465878.py:42: RuntimeWarning: invalid value encountered in double_scalars\n",
      "  output_data['tf'] = h_data['tf'] / (h_data['tf'] + a_data['tf'])\n",
      "/var/folders/xk/jz0njgws4vqcw913r_s9rxkr0000gn/T/ipykernel_62044/1636465878.py:42: RuntimeWarning: invalid value encountered in double_scalars\n",
      "  output_data['tf'] = h_data['tf'] / (h_data['tf'] + a_data['tf'])\n"
     ]
    },
    {
     "name": "stdout",
     "output_type": "stream",
     "text": [
      "S22G01N25\n"
     ]
    },
    {
     "name": "stderr",
     "output_type": "stream",
     "text": [
      "/var/folders/xk/jz0njgws4vqcw913r_s9rxkr0000gn/T/ipykernel_62044/1636465878.py:25: RuntimeWarning: invalid value encountered in double_scalars\n",
      "  output_data['dk'] = h_data['dk'] / h_data['dkA']\n"
     ]
    },
    {
     "name": "stdout",
     "output_type": "stream",
     "text": [
      "S22G01N26\n"
     ]
    },
    {
     "name": "stderr",
     "output_type": "stream",
     "text": [
      "/var/folders/xk/jz0njgws4vqcw913r_s9rxkr0000gn/T/ipykernel_62044/1636465878.py:25: RuntimeWarning: invalid value encountered in double_scalars\n",
      "  output_data['dk'] = h_data['dk'] / h_data['dkA']\n",
      "/var/folders/xk/jz0njgws4vqcw913r_s9rxkr0000gn/T/ipykernel_62044/1636465878.py:42: RuntimeWarning: invalid value encountered in double_scalars\n",
      "  output_data['tf'] = h_data['tf'] / (h_data['tf'] + a_data['tf'])\n",
      "/var/folders/xk/jz0njgws4vqcw913r_s9rxkr0000gn/T/ipykernel_62044/1636465878.py:42: RuntimeWarning: invalid value encountered in double_scalars\n",
      "  output_data['tf'] = h_data['tf'] / (h_data['tf'] + a_data['tf'])\n"
     ]
    },
    {
     "name": "stdout",
     "output_type": "stream",
     "text": [
      "S22G01N27\n",
      "S22G01N28\n",
      "S22G01N29\n"
     ]
    },
    {
     "name": "stderr",
     "output_type": "stream",
     "text": [
      "/var/folders/xk/jz0njgws4vqcw913r_s9rxkr0000gn/T/ipykernel_62044/1636465878.py:42: RuntimeWarning: invalid value encountered in double_scalars\n",
      "  output_data['tf'] = h_data['tf'] / (h_data['tf'] + a_data['tf'])\n",
      "/var/folders/xk/jz0njgws4vqcw913r_s9rxkr0000gn/T/ipykernel_62044/1636465878.py:25: RuntimeWarning: invalid value encountered in double_scalars\n",
      "  output_data['dk'] = h_data['dk'] / h_data['dkA']\n",
      "/var/folders/xk/jz0njgws4vqcw913r_s9rxkr0000gn/T/ipykernel_62044/1636465878.py:42: RuntimeWarning: invalid value encountered in double_scalars\n",
      "  output_data['tf'] = h_data['tf'] / (h_data['tf'] + a_data['tf'])\n"
     ]
    },
    {
     "name": "stdout",
     "output_type": "stream",
     "text": [
      "S22G01N30\n"
     ]
    },
    {
     "name": "stderr",
     "output_type": "stream",
     "text": [
      "/var/folders/xk/jz0njgws4vqcw913r_s9rxkr0000gn/T/ipykernel_62044/1636465878.py:25: RuntimeWarning: invalid value encountered in double_scalars\n",
      "  output_data['dk'] = h_data['dk'] / h_data['dkA']\n"
     ]
    },
    {
     "name": "stdout",
     "output_type": "stream",
     "text": [
      "S22G01N31\n"
     ]
    },
    {
     "name": "stderr",
     "output_type": "stream",
     "text": [
      "/var/folders/xk/jz0njgws4vqcw913r_s9rxkr0000gn/T/ipykernel_62044/1636465878.py:42: RuntimeWarning: invalid value encountered in double_scalars\n",
      "  output_data['tf'] = h_data['tf'] / (h_data['tf'] + a_data['tf'])\n",
      "/var/folders/xk/jz0njgws4vqcw913r_s9rxkr0000gn/T/ipykernel_62044/1636465878.py:42: RuntimeWarning: invalid value encountered in double_scalars\n",
      "  output_data['tf'] = h_data['tf'] / (h_data['tf'] + a_data['tf'])\n"
     ]
    },
    {
     "name": "stdout",
     "output_type": "stream",
     "text": [
      "S22G01N32\n",
      "S22G01N33\n"
     ]
    },
    {
     "name": "stderr",
     "output_type": "stream",
     "text": [
      "/var/folders/xk/jz0njgws4vqcw913r_s9rxkr0000gn/T/ipykernel_62044/1636465878.py:25: RuntimeWarning: invalid value encountered in double_scalars\n",
      "  output_data['dk'] = h_data['dk'] / h_data['dkA']\n",
      "/var/folders/xk/jz0njgws4vqcw913r_s9rxkr0000gn/T/ipykernel_62044/1636465878.py:42: RuntimeWarning: invalid value encountered in double_scalars\n",
      "  output_data['tf'] = h_data['tf'] / (h_data['tf'] + a_data['tf'])\n",
      "/var/folders/xk/jz0njgws4vqcw913r_s9rxkr0000gn/T/ipykernel_62044/1636465878.py:42: RuntimeWarning: invalid value encountered in double_scalars\n",
      "  output_data['tf'] = h_data['tf'] / (h_data['tf'] + a_data['tf'])\n"
     ]
    },
    {
     "name": "stdout",
     "output_type": "stream",
     "text": [
      "S22G01N34\n"
     ]
    },
    {
     "name": "stderr",
     "output_type": "stream",
     "text": [
      "/var/folders/xk/jz0njgws4vqcw913r_s9rxkr0000gn/T/ipykernel_62044/1636465878.py:25: RuntimeWarning: invalid value encountered in double_scalars\n",
      "  output_data['dk'] = h_data['dk'] / h_data['dkA']\n",
      "/var/folders/xk/jz0njgws4vqcw913r_s9rxkr0000gn/T/ipykernel_62044/1636465878.py:42: RuntimeWarning: invalid value encountered in double_scalars\n",
      "  output_data['tf'] = h_data['tf'] / (h_data['tf'] + a_data['tf'])\n",
      "/var/folders/xk/jz0njgws4vqcw913r_s9rxkr0000gn/T/ipykernel_62044/1636465878.py:42: RuntimeWarning: invalid value encountered in double_scalars\n",
      "  output_data['tf'] = h_data['tf'] / (h_data['tf'] + a_data['tf'])\n"
     ]
    },
    {
     "name": "stdout",
     "output_type": "stream",
     "text": [
      "S22G01N35\n"
     ]
    },
    {
     "name": "stderr",
     "output_type": "stream",
     "text": [
      "/var/folders/xk/jz0njgws4vqcw913r_s9rxkr0000gn/T/ipykernel_62044/1636465878.py:25: RuntimeWarning: invalid value encountered in double_scalars\n",
      "  output_data['dk'] = h_data['dk'] / h_data['dkA']\n"
     ]
    },
    {
     "name": "stdout",
     "output_type": "stream",
     "text": [
      "S22G01N36\n"
     ]
    },
    {
     "name": "stderr",
     "output_type": "stream",
     "text": [
      "/var/folders/xk/jz0njgws4vqcw913r_s9rxkr0000gn/T/ipykernel_62044/1636465878.py:42: RuntimeWarning: invalid value encountered in double_scalars\n",
      "  output_data['tf'] = h_data['tf'] / (h_data['tf'] + a_data['tf'])\n",
      "/var/folders/xk/jz0njgws4vqcw913r_s9rxkr0000gn/T/ipykernel_62044/1636465878.py:25: RuntimeWarning: invalid value encountered in double_scalars\n",
      "  output_data['dk'] = h_data['dk'] / h_data['dkA']\n",
      "/var/folders/xk/jz0njgws4vqcw913r_s9rxkr0000gn/T/ipykernel_62044/1636465878.py:42: RuntimeWarning: invalid value encountered in double_scalars\n",
      "  output_data['tf'] = h_data['tf'] / (h_data['tf'] + a_data['tf'])\n"
     ]
    },
    {
     "name": "stdout",
     "output_type": "stream",
     "text": [
      "S22G04N1\n"
     ]
    },
    {
     "name": "stderr",
     "output_type": "stream",
     "text": [
      "/var/folders/xk/jz0njgws4vqcw913r_s9rxkr0000gn/T/ipykernel_62044/1636465878.py:25: RuntimeWarning: invalid value encountered in double_scalars\n",
      "  output_data['dk'] = h_data['dk'] / h_data['dkA']\n",
      "/var/folders/xk/jz0njgws4vqcw913r_s9rxkr0000gn/T/ipykernel_62044/1636465878.py:42: RuntimeWarning: invalid value encountered in double_scalars\n",
      "  output_data['tf'] = h_data['tf'] / (h_data['tf'] + a_data['tf'])\n",
      "/var/folders/xk/jz0njgws4vqcw913r_s9rxkr0000gn/T/ipykernel_62044/1636465878.py:42: RuntimeWarning: invalid value encountered in double_scalars\n",
      "  output_data['tf'] = h_data['tf'] / (h_data['tf'] + a_data['tf'])\n"
     ]
    },
    {
     "name": "stdout",
     "output_type": "stream",
     "text": [
      "S22G04N2\n",
      "S23G01N1\n",
      "S23G01N2\n"
     ]
    },
    {
     "name": "stderr",
     "output_type": "stream",
     "text": [
      "/var/folders/xk/jz0njgws4vqcw913r_s9rxkr0000gn/T/ipykernel_62044/1636465878.py:42: RuntimeWarning: invalid value encountered in double_scalars\n",
      "  output_data['tf'] = h_data['tf'] / (h_data['tf'] + a_data['tf'])\n",
      "/var/folders/xk/jz0njgws4vqcw913r_s9rxkr0000gn/T/ipykernel_62044/1636465878.py:42: RuntimeWarning: invalid value encountered in double_scalars\n",
      "  output_data['tf'] = h_data['tf'] / (h_data['tf'] + a_data['tf'])\n"
     ]
    },
    {
     "name": "stdout",
     "output_type": "stream",
     "text": [
      "S23G01N3\n"
     ]
    },
    {
     "name": "stderr",
     "output_type": "stream",
     "text": [
      "/var/folders/xk/jz0njgws4vqcw913r_s9rxkr0000gn/T/ipykernel_62044/1636465878.py:42: RuntimeWarning: invalid value encountered in double_scalars\n",
      "  output_data['tf'] = h_data['tf'] / (h_data['tf'] + a_data['tf'])\n",
      "/var/folders/xk/jz0njgws4vqcw913r_s9rxkr0000gn/T/ipykernel_62044/1636465878.py:42: RuntimeWarning: invalid value encountered in double_scalars\n",
      "  output_data['tf'] = h_data['tf'] / (h_data['tf'] + a_data['tf'])\n"
     ]
    },
    {
     "name": "stdout",
     "output_type": "stream",
     "text": [
      "S23G01N4\n"
     ]
    },
    {
     "name": "stderr",
     "output_type": "stream",
     "text": [
      "/var/folders/xk/jz0njgws4vqcw913r_s9rxkr0000gn/T/ipykernel_62044/1636465878.py:42: RuntimeWarning: invalid value encountered in double_scalars\n",
      "  output_data['tf'] = h_data['tf'] / (h_data['tf'] + a_data['tf'])\n",
      "/var/folders/xk/jz0njgws4vqcw913r_s9rxkr0000gn/T/ipykernel_62044/1636465878.py:42: RuntimeWarning: invalid value encountered in double_scalars\n",
      "  output_data['tf'] = h_data['tf'] / (h_data['tf'] + a_data['tf'])\n"
     ]
    },
    {
     "name": "stdout",
     "output_type": "stream",
     "text": [
      "S23G01N5\n",
      "S23G01N6\n",
      "S23G01N7\n"
     ]
    },
    {
     "name": "stderr",
     "output_type": "stream",
     "text": [
      "/var/folders/xk/jz0njgws4vqcw913r_s9rxkr0000gn/T/ipykernel_62044/1636465878.py:42: RuntimeWarning: invalid value encountered in double_scalars\n",
      "  output_data['tf'] = h_data['tf'] / (h_data['tf'] + a_data['tf'])\n",
      "/var/folders/xk/jz0njgws4vqcw913r_s9rxkr0000gn/T/ipykernel_62044/1636465878.py:42: RuntimeWarning: invalid value encountered in double_scalars\n",
      "  output_data['tf'] = h_data['tf'] / (h_data['tf'] + a_data['tf'])\n"
     ]
    },
    {
     "name": "stdout",
     "output_type": "stream",
     "text": [
      "S23G01N8\n"
     ]
    },
    {
     "name": "stderr",
     "output_type": "stream",
     "text": [
      "/var/folders/xk/jz0njgws4vqcw913r_s9rxkr0000gn/T/ipykernel_62044/1636465878.py:42: RuntimeWarning: invalid value encountered in double_scalars\n",
      "  output_data['tf'] = h_data['tf'] / (h_data['tf'] + a_data['tf'])\n",
      "/var/folders/xk/jz0njgws4vqcw913r_s9rxkr0000gn/T/ipykernel_62044/1636465878.py:42: RuntimeWarning: invalid value encountered in double_scalars\n",
      "  output_data['tf'] = h_data['tf'] / (h_data['tf'] + a_data['tf'])\n"
     ]
    },
    {
     "name": "stdout",
     "output_type": "stream",
     "text": [
      "S23G01N9\n",
      "S23G01N10\n",
      "S23G01N11\n",
      "S23G01N12\n",
      "S23G01N13\n",
      "S23G01N14\n"
     ]
    },
    {
     "name": "stderr",
     "output_type": "stream",
     "text": [
      "/var/folders/xk/jz0njgws4vqcw913r_s9rxkr0000gn/T/ipykernel_62044/1636465878.py:25: RuntimeWarning: invalid value encountered in double_scalars\n",
      "  output_data['dk'] = h_data['dk'] / h_data['dkA']\n",
      "/var/folders/xk/jz0njgws4vqcw913r_s9rxkr0000gn/T/ipykernel_62044/1636465878.py:43: RuntimeWarning: invalid value encountered in double_scalars\n",
      "  output_data['gd'] = h_data['gd'] / (h_data['gd'] + a_data['gd'])\n",
      "/var/folders/xk/jz0njgws4vqcw913r_s9rxkr0000gn/T/ipykernel_62044/1636465878.py:43: RuntimeWarning: invalid value encountered in double_scalars\n",
      "  output_data['gd'] = h_data['gd'] / (h_data['gd'] + a_data['gd'])\n"
     ]
    },
    {
     "name": "stdout",
     "output_type": "stream",
     "text": [
      "S23G01N15\n"
     ]
    },
    {
     "name": "stderr",
     "output_type": "stream",
     "text": [
      "/var/folders/xk/jz0njgws4vqcw913r_s9rxkr0000gn/T/ipykernel_62044/1636465878.py:42: RuntimeWarning: invalid value encountered in double_scalars\n",
      "  output_data['tf'] = h_data['tf'] / (h_data['tf'] + a_data['tf'])\n",
      "/var/folders/xk/jz0njgws4vqcw913r_s9rxkr0000gn/T/ipykernel_62044/1636465878.py:42: RuntimeWarning: invalid value encountered in double_scalars\n",
      "  output_data['tf'] = h_data['tf'] / (h_data['tf'] + a_data['tf'])\n"
     ]
    },
    {
     "name": "stdout",
     "output_type": "stream",
     "text": [
      "S23G01N16\n",
      "S23G01N17\n",
      "S23G01N18\n"
     ]
    },
    {
     "name": "stderr",
     "output_type": "stream",
     "text": [
      "/var/folders/xk/jz0njgws4vqcw913r_s9rxkr0000gn/T/ipykernel_62044/1636465878.py:42: RuntimeWarning: invalid value encountered in double_scalars\n",
      "  output_data['tf'] = h_data['tf'] / (h_data['tf'] + a_data['tf'])\n",
      "/var/folders/xk/jz0njgws4vqcw913r_s9rxkr0000gn/T/ipykernel_62044/1636465878.py:42: RuntimeWarning: invalid value encountered in double_scalars\n",
      "  output_data['tf'] = h_data['tf'] / (h_data['tf'] + a_data['tf'])\n"
     ]
    },
    {
     "name": "stdout",
     "output_type": "stream",
     "text": [
      "S23G01N19\n"
     ]
    },
    {
     "name": "stderr",
     "output_type": "stream",
     "text": [
      "/var/folders/xk/jz0njgws4vqcw913r_s9rxkr0000gn/T/ipykernel_62044/1636465878.py:42: RuntimeWarning: invalid value encountered in double_scalars\n",
      "  output_data['tf'] = h_data['tf'] / (h_data['tf'] + a_data['tf'])\n",
      "/var/folders/xk/jz0njgws4vqcw913r_s9rxkr0000gn/T/ipykernel_62044/1636465878.py:43: RuntimeWarning: invalid value encountered in double_scalars\n",
      "  output_data['gd'] = h_data['gd'] / (h_data['gd'] + a_data['gd'])\n",
      "/var/folders/xk/jz0njgws4vqcw913r_s9rxkr0000gn/T/ipykernel_62044/1636465878.py:42: RuntimeWarning: invalid value encountered in double_scalars\n",
      "  output_data['tf'] = h_data['tf'] / (h_data['tf'] + a_data['tf'])\n",
      "/var/folders/xk/jz0njgws4vqcw913r_s9rxkr0000gn/T/ipykernel_62044/1636465878.py:43: RuntimeWarning: invalid value encountered in double_scalars\n",
      "  output_data['gd'] = h_data['gd'] / (h_data['gd'] + a_data['gd'])\n"
     ]
    },
    {
     "name": "stdout",
     "output_type": "stream",
     "text": [
      "S23G01N20\n"
     ]
    },
    {
     "name": "stderr",
     "output_type": "stream",
     "text": [
      "/var/folders/xk/jz0njgws4vqcw913r_s9rxkr0000gn/T/ipykernel_62044/1636465878.py:42: RuntimeWarning: invalid value encountered in double_scalars\n",
      "  output_data['tf'] = h_data['tf'] / (h_data['tf'] + a_data['tf'])\n",
      "/var/folders/xk/jz0njgws4vqcw913r_s9rxkr0000gn/T/ipykernel_62044/1636465878.py:42: RuntimeWarning: invalid value encountered in double_scalars\n",
      "  output_data['tf'] = h_data['tf'] / (h_data['tf'] + a_data['tf'])\n"
     ]
    },
    {
     "name": "stdout",
     "output_type": "stream",
     "text": [
      "S23G01N21\n",
      "S23G01N22\n"
     ]
    },
    {
     "name": "stderr",
     "output_type": "stream",
     "text": [
      "/var/folders/xk/jz0njgws4vqcw913r_s9rxkr0000gn/T/ipykernel_62044/1636465878.py:25: RuntimeWarning: invalid value encountered in double_scalars\n",
      "  output_data['dk'] = h_data['dk'] / h_data['dkA']\n"
     ]
    },
    {
     "name": "stdout",
     "output_type": "stream",
     "text": [
      "S23G01N23\n",
      "S23G01N24\n"
     ]
    },
    {
     "name": "stderr",
     "output_type": "stream",
     "text": [
      "/var/folders/xk/jz0njgws4vqcw913r_s9rxkr0000gn/T/ipykernel_62044/1636465878.py:42: RuntimeWarning: invalid value encountered in double_scalars\n",
      "  output_data['tf'] = h_data['tf'] / (h_data['tf'] + a_data['tf'])\n",
      "/var/folders/xk/jz0njgws4vqcw913r_s9rxkr0000gn/T/ipykernel_62044/1636465878.py:42: RuntimeWarning: invalid value encountered in double_scalars\n",
      "  output_data['tf'] = h_data['tf'] / (h_data['tf'] + a_data['tf'])\n"
     ]
    },
    {
     "name": "stdout",
     "output_type": "stream",
     "text": [
      "S23G01N25\n",
      "S23G01N26\n"
     ]
    },
    {
     "name": "stderr",
     "output_type": "stream",
     "text": [
      "/var/folders/xk/jz0njgws4vqcw913r_s9rxkr0000gn/T/ipykernel_62044/1636465878.py:42: RuntimeWarning: invalid value encountered in double_scalars\n",
      "  output_data['tf'] = h_data['tf'] / (h_data['tf'] + a_data['tf'])\n",
      "/var/folders/xk/jz0njgws4vqcw913r_s9rxkr0000gn/T/ipykernel_62044/1636465878.py:42: RuntimeWarning: invalid value encountered in double_scalars\n",
      "  output_data['tf'] = h_data['tf'] / (h_data['tf'] + a_data['tf'])\n"
     ]
    },
    {
     "name": "stdout",
     "output_type": "stream",
     "text": [
      "S23G01N27\n"
     ]
    },
    {
     "name": "stderr",
     "output_type": "stream",
     "text": [
      "/var/folders/xk/jz0njgws4vqcw913r_s9rxkr0000gn/T/ipykernel_62044/1636465878.py:42: RuntimeWarning: invalid value encountered in double_scalars\n",
      "  output_data['tf'] = h_data['tf'] / (h_data['tf'] + a_data['tf'])\n",
      "/var/folders/xk/jz0njgws4vqcw913r_s9rxkr0000gn/T/ipykernel_62044/1636465878.py:42: RuntimeWarning: invalid value encountered in double_scalars\n",
      "  output_data['tf'] = h_data['tf'] / (h_data['tf'] + a_data['tf'])\n"
     ]
    },
    {
     "name": "stdout",
     "output_type": "stream",
     "text": [
      "S23G01N28\n",
      "S23G01N29\n",
      "S23G01N30\n"
     ]
    },
    {
     "name": "stderr",
     "output_type": "stream",
     "text": [
      "/var/folders/xk/jz0njgws4vqcw913r_s9rxkr0000gn/T/ipykernel_62044/1636465878.py:42: RuntimeWarning: invalid value encountered in double_scalars\n",
      "  output_data['tf'] = h_data['tf'] / (h_data['tf'] + a_data['tf'])\n",
      "/var/folders/xk/jz0njgws4vqcw913r_s9rxkr0000gn/T/ipykernel_62044/1636465878.py:42: RuntimeWarning: invalid value encountered in double_scalars\n",
      "  output_data['tf'] = h_data['tf'] / (h_data['tf'] + a_data['tf'])\n"
     ]
    },
    {
     "name": "stdout",
     "output_type": "stream",
     "text": [
      "S23G01N31\n"
     ]
    },
    {
     "name": "stderr",
     "output_type": "stream",
     "text": [
      "/var/folders/xk/jz0njgws4vqcw913r_s9rxkr0000gn/T/ipykernel_62044/1636465878.py:42: RuntimeWarning: invalid value encountered in double_scalars\n",
      "  output_data['tf'] = h_data['tf'] / (h_data['tf'] + a_data['tf'])\n",
      "/var/folders/xk/jz0njgws4vqcw913r_s9rxkr0000gn/T/ipykernel_62044/1636465878.py:42: RuntimeWarning: invalid value encountered in double_scalars\n",
      "  output_data['tf'] = h_data['tf'] / (h_data['tf'] + a_data['tf'])\n"
     ]
    },
    {
     "name": "stdout",
     "output_type": "stream",
     "text": [
      "S23G01N32\n"
     ]
    },
    {
     "name": "stderr",
     "output_type": "stream",
     "text": [
      "/var/folders/xk/jz0njgws4vqcw913r_s9rxkr0000gn/T/ipykernel_62044/1636465878.py:42: RuntimeWarning: invalid value encountered in double_scalars\n",
      "  output_data['tf'] = h_data['tf'] / (h_data['tf'] + a_data['tf'])\n",
      "/var/folders/xk/jz0njgws4vqcw913r_s9rxkr0000gn/T/ipykernel_62044/1636465878.py:42: RuntimeWarning: invalid value encountered in double_scalars\n",
      "  output_data['tf'] = h_data['tf'] / (h_data['tf'] + a_data['tf'])\n"
     ]
    },
    {
     "name": "stdout",
     "output_type": "stream",
     "text": [
      "S23G01N33\n",
      "S23G01N34\n",
      "S23G01N35\n"
     ]
    },
    {
     "name": "stderr",
     "output_type": "stream",
     "text": [
      "/var/folders/xk/jz0njgws4vqcw913r_s9rxkr0000gn/T/ipykernel_62044/1636465878.py:42: RuntimeWarning: invalid value encountered in double_scalars\n",
      "  output_data['tf'] = h_data['tf'] / (h_data['tf'] + a_data['tf'])\n",
      "/var/folders/xk/jz0njgws4vqcw913r_s9rxkr0000gn/T/ipykernel_62044/1636465878.py:42: RuntimeWarning: invalid value encountered in double_scalars\n",
      "  output_data['tf'] = h_data['tf'] / (h_data['tf'] + a_data['tf'])\n"
     ]
    },
    {
     "name": "stdout",
     "output_type": "stream",
     "text": [
      "S23G01N36\n",
      "S23G01N37\n"
     ]
    },
    {
     "name": "stderr",
     "output_type": "stream",
     "text": [
      "/var/folders/xk/jz0njgws4vqcw913r_s9rxkr0000gn/T/ipykernel_62044/1636465878.py:42: RuntimeWarning: invalid value encountered in double_scalars\n",
      "  output_data['tf'] = h_data['tf'] / (h_data['tf'] + a_data['tf'])\n",
      "/var/folders/xk/jz0njgws4vqcw913r_s9rxkr0000gn/T/ipykernel_62044/1636465878.py:42: RuntimeWarning: invalid value encountered in double_scalars\n",
      "  output_data['tf'] = h_data['tf'] / (h_data['tf'] + a_data['tf'])\n"
     ]
    },
    {
     "name": "stdout",
     "output_type": "stream",
     "text": [
      "S23G01N38\n",
      "S23G01N39\n"
     ]
    },
    {
     "name": "stderr",
     "output_type": "stream",
     "text": [
      "/var/folders/xk/jz0njgws4vqcw913r_s9rxkr0000gn/T/ipykernel_62044/1636465878.py:42: RuntimeWarning: invalid value encountered in double_scalars\n",
      "  output_data['tf'] = h_data['tf'] / (h_data['tf'] + a_data['tf'])\n",
      "/var/folders/xk/jz0njgws4vqcw913r_s9rxkr0000gn/T/ipykernel_62044/1636465878.py:42: RuntimeWarning: invalid value encountered in double_scalars\n",
      "  output_data['tf'] = h_data['tf'] / (h_data['tf'] + a_data['tf'])\n"
     ]
    },
    {
     "name": "stdout",
     "output_type": "stream",
     "text": [
      "S23G01N40\n"
     ]
    },
    {
     "name": "stderr",
     "output_type": "stream",
     "text": [
      "/var/folders/xk/jz0njgws4vqcw913r_s9rxkr0000gn/T/ipykernel_62044/1636465878.py:42: RuntimeWarning: invalid value encountered in double_scalars\n",
      "  output_data['tf'] = h_data['tf'] / (h_data['tf'] + a_data['tf'])\n",
      "/var/folders/xk/jz0njgws4vqcw913r_s9rxkr0000gn/T/ipykernel_62044/1636465878.py:42: RuntimeWarning: invalid value encountered in double_scalars\n",
      "  output_data['tf'] = h_data['tf'] / (h_data['tf'] + a_data['tf'])\n"
     ]
    },
    {
     "name": "stdout",
     "output_type": "stream",
     "text": [
      "S23G01N41\n",
      "S23G01N42\n"
     ]
    },
    {
     "name": "stderr",
     "output_type": "stream",
     "text": [
      "/var/folders/xk/jz0njgws4vqcw913r_s9rxkr0000gn/T/ipykernel_62044/1636465878.py:42: RuntimeWarning: invalid value encountered in double_scalars\n",
      "  output_data['tf'] = h_data['tf'] / (h_data['tf'] + a_data['tf'])\n",
      "/var/folders/xk/jz0njgws4vqcw913r_s9rxkr0000gn/T/ipykernel_62044/1636465878.py:42: RuntimeWarning: invalid value encountered in double_scalars\n",
      "  output_data['tf'] = h_data['tf'] / (h_data['tf'] + a_data['tf'])\n"
     ]
    },
    {
     "name": "stdout",
     "output_type": "stream",
     "text": [
      "S23G01N43\n"
     ]
    },
    {
     "name": "stderr",
     "output_type": "stream",
     "text": [
      "/var/folders/xk/jz0njgws4vqcw913r_s9rxkr0000gn/T/ipykernel_62044/1636465878.py:42: RuntimeWarning: invalid value encountered in double_scalars\n",
      "  output_data['tf'] = h_data['tf'] / (h_data['tf'] + a_data['tf'])\n",
      "/var/folders/xk/jz0njgws4vqcw913r_s9rxkr0000gn/T/ipykernel_62044/1636465878.py:42: RuntimeWarning: invalid value encountered in double_scalars\n",
      "  output_data['tf'] = h_data['tf'] / (h_data['tf'] + a_data['tf'])\n"
     ]
    },
    {
     "name": "stdout",
     "output_type": "stream",
     "text": [
      "S23G01N44\n"
     ]
    },
    {
     "name": "stderr",
     "output_type": "stream",
     "text": [
      "/var/folders/xk/jz0njgws4vqcw913r_s9rxkr0000gn/T/ipykernel_62044/1636465878.py:42: RuntimeWarning: invalid value encountered in double_scalars\n",
      "  output_data['tf'] = h_data['tf'] / (h_data['tf'] + a_data['tf'])\n",
      "/var/folders/xk/jz0njgws4vqcw913r_s9rxkr0000gn/T/ipykernel_62044/1636465878.py:42: RuntimeWarning: invalid value encountered in double_scalars\n",
      "  output_data['tf'] = h_data['tf'] / (h_data['tf'] + a_data['tf'])\n"
     ]
    },
    {
     "name": "stdout",
     "output_type": "stream",
     "text": [
      "S23G01N45\n"
     ]
    },
    {
     "name": "stderr",
     "output_type": "stream",
     "text": [
      "/var/folders/xk/jz0njgws4vqcw913r_s9rxkr0000gn/T/ipykernel_62044/1636465878.py:42: RuntimeWarning: invalid value encountered in double_scalars\n",
      "  output_data['tf'] = h_data['tf'] / (h_data['tf'] + a_data['tf'])\n",
      "/var/folders/xk/jz0njgws4vqcw913r_s9rxkr0000gn/T/ipykernel_62044/1636465878.py:42: RuntimeWarning: invalid value encountered in double_scalars\n",
      "  output_data['tf'] = h_data['tf'] / (h_data['tf'] + a_data['tf'])\n"
     ]
    },
    {
     "name": "stdout",
     "output_type": "stream",
     "text": [
      "S23G01N46\n",
      "S23G01N47\n",
      "S23G01N48\n"
     ]
    },
    {
     "name": "stderr",
     "output_type": "stream",
     "text": [
      "/var/folders/xk/jz0njgws4vqcw913r_s9rxkr0000gn/T/ipykernel_62044/1636465878.py:42: RuntimeWarning: invalid value encountered in double_scalars\n",
      "  output_data['tf'] = h_data['tf'] / (h_data['tf'] + a_data['tf'])\n",
      "/var/folders/xk/jz0njgws4vqcw913r_s9rxkr0000gn/T/ipykernel_62044/1636465878.py:42: RuntimeWarning: invalid value encountered in double_scalars\n",
      "  output_data['tf'] = h_data['tf'] / (h_data['tf'] + a_data['tf'])\n"
     ]
    },
    {
     "name": "stdout",
     "output_type": "stream",
     "text": [
      "S23G01N49\n"
     ]
    },
    {
     "name": "stderr",
     "output_type": "stream",
     "text": [
      "/var/folders/xk/jz0njgws4vqcw913r_s9rxkr0000gn/T/ipykernel_62044/1636465878.py:42: RuntimeWarning: invalid value encountered in double_scalars\n",
      "  output_data['tf'] = h_data['tf'] / (h_data['tf'] + a_data['tf'])\n",
      "/var/folders/xk/jz0njgws4vqcw913r_s9rxkr0000gn/T/ipykernel_62044/1636465878.py:42: RuntimeWarning: invalid value encountered in double_scalars\n",
      "  output_data['tf'] = h_data['tf'] / (h_data['tf'] + a_data['tf'])\n"
     ]
    },
    {
     "name": "stdout",
     "output_type": "stream",
     "text": [
      "S23G01N50\n",
      "S23G01N51\n",
      "S23G01N52\n"
     ]
    },
    {
     "name": "stderr",
     "output_type": "stream",
     "text": [
      "/var/folders/xk/jz0njgws4vqcw913r_s9rxkr0000gn/T/ipykernel_62044/1636465878.py:42: RuntimeWarning: invalid value encountered in double_scalars\n",
      "  output_data['tf'] = h_data['tf'] / (h_data['tf'] + a_data['tf'])\n",
      "/var/folders/xk/jz0njgws4vqcw913r_s9rxkr0000gn/T/ipykernel_62044/1636465878.py:42: RuntimeWarning: invalid value encountered in double_scalars\n",
      "  output_data['tf'] = h_data['tf'] / (h_data['tf'] + a_data['tf'])\n"
     ]
    },
    {
     "name": "stdout",
     "output_type": "stream",
     "text": [
      "S23G01N53\n"
     ]
    },
    {
     "name": "stderr",
     "output_type": "stream",
     "text": [
      "/var/folders/xk/jz0njgws4vqcw913r_s9rxkr0000gn/T/ipykernel_62044/1636465878.py:42: RuntimeWarning: invalid value encountered in double_scalars\n",
      "  output_data['tf'] = h_data['tf'] / (h_data['tf'] + a_data['tf'])\n",
      "/var/folders/xk/jz0njgws4vqcw913r_s9rxkr0000gn/T/ipykernel_62044/1636465878.py:42: RuntimeWarning: invalid value encountered in double_scalars\n",
      "  output_data['tf'] = h_data['tf'] / (h_data['tf'] + a_data['tf'])\n"
     ]
    },
    {
     "name": "stdout",
     "output_type": "stream",
     "text": [
      "S23G01N54\n"
     ]
    },
    {
     "name": "stderr",
     "output_type": "stream",
     "text": [
      "/var/folders/xk/jz0njgws4vqcw913r_s9rxkr0000gn/T/ipykernel_62044/1636465878.py:42: RuntimeWarning: invalid value encountered in double_scalars\n",
      "  output_data['tf'] = h_data['tf'] / (h_data['tf'] + a_data['tf'])\n",
      "/var/folders/xk/jz0njgws4vqcw913r_s9rxkr0000gn/T/ipykernel_62044/1636465878.py:42: RuntimeWarning: invalid value encountered in double_scalars\n",
      "  output_data['tf'] = h_data['tf'] / (h_data['tf'] + a_data['tf'])\n"
     ]
    },
    {
     "name": "stdout",
     "output_type": "stream",
     "text": [
      "S23G01N55\n",
      "S23G01N56\n"
     ]
    },
    {
     "name": "stderr",
     "output_type": "stream",
     "text": [
      "/var/folders/xk/jz0njgws4vqcw913r_s9rxkr0000gn/T/ipykernel_62044/1636465878.py:42: RuntimeWarning: invalid value encountered in double_scalars\n",
      "  output_data['tf'] = h_data['tf'] / (h_data['tf'] + a_data['tf'])\n",
      "/var/folders/xk/jz0njgws4vqcw913r_s9rxkr0000gn/T/ipykernel_62044/1636465878.py:42: RuntimeWarning: invalid value encountered in double_scalars\n",
      "  output_data['tf'] = h_data['tf'] / (h_data['tf'] + a_data['tf'])\n"
     ]
    },
    {
     "name": "stdout",
     "output_type": "stream",
     "text": [
      "S23G01N57\n",
      "S23G01N58\n"
     ]
    },
    {
     "name": "stderr",
     "output_type": "stream",
     "text": [
      "/var/folders/xk/jz0njgws4vqcw913r_s9rxkr0000gn/T/ipykernel_62044/1636465878.py:42: RuntimeWarning: invalid value encountered in double_scalars\n",
      "  output_data['tf'] = h_data['tf'] / (h_data['tf'] + a_data['tf'])\n",
      "/var/folders/xk/jz0njgws4vqcw913r_s9rxkr0000gn/T/ipykernel_62044/1636465878.py:42: RuntimeWarning: invalid value encountered in double_scalars\n",
      "  output_data['tf'] = h_data['tf'] / (h_data['tf'] + a_data['tf'])\n"
     ]
    },
    {
     "name": "stdout",
     "output_type": "stream",
     "text": [
      "S23G01N59\n"
     ]
    },
    {
     "name": "stderr",
     "output_type": "stream",
     "text": [
      "/var/folders/xk/jz0njgws4vqcw913r_s9rxkr0000gn/T/ipykernel_62044/1636465878.py:42: RuntimeWarning: invalid value encountered in double_scalars\n",
      "  output_data['tf'] = h_data['tf'] / (h_data['tf'] + a_data['tf'])\n",
      "/var/folders/xk/jz0njgws4vqcw913r_s9rxkr0000gn/T/ipykernel_62044/1636465878.py:42: RuntimeWarning: invalid value encountered in double_scalars\n",
      "  output_data['tf'] = h_data['tf'] / (h_data['tf'] + a_data['tf'])\n"
     ]
    },
    {
     "name": "stdout",
     "output_type": "stream",
     "text": [
      "S23G01N60\n"
     ]
    },
    {
     "name": "stderr",
     "output_type": "stream",
     "text": [
      "/var/folders/xk/jz0njgws4vqcw913r_s9rxkr0000gn/T/ipykernel_62044/1636465878.py:42: RuntimeWarning: invalid value encountered in double_scalars\n",
      "  output_data['tf'] = h_data['tf'] / (h_data['tf'] + a_data['tf'])\n",
      "/var/folders/xk/jz0njgws4vqcw913r_s9rxkr0000gn/T/ipykernel_62044/1636465878.py:42: RuntimeWarning: invalid value encountered in double_scalars\n",
      "  output_data['tf'] = h_data['tf'] / (h_data['tf'] + a_data['tf'])\n"
     ]
    },
    {
     "name": "stdout",
     "output_type": "stream",
     "text": [
      "S23G01N61\n",
      "S23G01N62\n"
     ]
    },
    {
     "name": "stderr",
     "output_type": "stream",
     "text": [
      "/var/folders/xk/jz0njgws4vqcw913r_s9rxkr0000gn/T/ipykernel_62044/1636465878.py:42: RuntimeWarning: invalid value encountered in double_scalars\n",
      "  output_data['tf'] = h_data['tf'] / (h_data['tf'] + a_data['tf'])\n",
      "/var/folders/xk/jz0njgws4vqcw913r_s9rxkr0000gn/T/ipykernel_62044/1636465878.py:42: RuntimeWarning: invalid value encountered in double_scalars\n",
      "  output_data['tf'] = h_data['tf'] / (h_data['tf'] + a_data['tf'])\n"
     ]
    },
    {
     "name": "stdout",
     "output_type": "stream",
     "text": [
      "S23G01N63\n",
      "S23G01N64\n"
     ]
    },
    {
     "name": "stderr",
     "output_type": "stream",
     "text": [
      "/var/folders/xk/jz0njgws4vqcw913r_s9rxkr0000gn/T/ipykernel_62044/1636465878.py:42: RuntimeWarning: invalid value encountered in double_scalars\n",
      "  output_data['tf'] = h_data['tf'] / (h_data['tf'] + a_data['tf'])\n",
      "/var/folders/xk/jz0njgws4vqcw913r_s9rxkr0000gn/T/ipykernel_62044/1636465878.py:42: RuntimeWarning: invalid value encountered in double_scalars\n",
      "  output_data['tf'] = h_data['tf'] / (h_data['tf'] + a_data['tf'])\n"
     ]
    },
    {
     "name": "stdout",
     "output_type": "stream",
     "text": [
      "S23G01N65\n"
     ]
    },
    {
     "name": "stderr",
     "output_type": "stream",
     "text": [
      "/var/folders/xk/jz0njgws4vqcw913r_s9rxkr0000gn/T/ipykernel_62044/1636465878.py:42: RuntimeWarning: invalid value encountered in double_scalars\n",
      "  output_data['tf'] = h_data['tf'] / (h_data['tf'] + a_data['tf'])\n",
      "/var/folders/xk/jz0njgws4vqcw913r_s9rxkr0000gn/T/ipykernel_62044/1636465878.py:42: RuntimeWarning: invalid value encountered in double_scalars\n",
      "  output_data['tf'] = h_data['tf'] / (h_data['tf'] + a_data['tf'])\n"
     ]
    },
    {
     "name": "stdout",
     "output_type": "stream",
     "text": [
      "S23G01N66\n"
     ]
    },
    {
     "name": "stderr",
     "output_type": "stream",
     "text": [
      "/var/folders/xk/jz0njgws4vqcw913r_s9rxkr0000gn/T/ipykernel_62044/1636465878.py:42: RuntimeWarning: invalid value encountered in double_scalars\n",
      "  output_data['tf'] = h_data['tf'] / (h_data['tf'] + a_data['tf'])\n",
      "/var/folders/xk/jz0njgws4vqcw913r_s9rxkr0000gn/T/ipykernel_62044/1636465878.py:42: RuntimeWarning: invalid value encountered in double_scalars\n",
      "  output_data['tf'] = h_data['tf'] / (h_data['tf'] + a_data['tf'])\n"
     ]
    },
    {
     "name": "stdout",
     "output_type": "stream",
     "text": [
      "S23G01N67\n"
     ]
    },
    {
     "name": "stderr",
     "output_type": "stream",
     "text": [
      "/var/folders/xk/jz0njgws4vqcw913r_s9rxkr0000gn/T/ipykernel_62044/1636465878.py:42: RuntimeWarning: invalid value encountered in double_scalars\n",
      "  output_data['tf'] = h_data['tf'] / (h_data['tf'] + a_data['tf'])\n",
      "/var/folders/xk/jz0njgws4vqcw913r_s9rxkr0000gn/T/ipykernel_62044/1636465878.py:42: RuntimeWarning: invalid value encountered in double_scalars\n",
      "  output_data['tf'] = h_data['tf'] / (h_data['tf'] + a_data['tf'])\n"
     ]
    },
    {
     "name": "stdout",
     "output_type": "stream",
     "text": [
      "S23G01N68\n"
     ]
    },
    {
     "name": "stderr",
     "output_type": "stream",
     "text": [
      "/var/folders/xk/jz0njgws4vqcw913r_s9rxkr0000gn/T/ipykernel_62044/1636465878.py:42: RuntimeWarning: invalid value encountered in double_scalars\n",
      "  output_data['tf'] = h_data['tf'] / (h_data['tf'] + a_data['tf'])\n",
      "/var/folders/xk/jz0njgws4vqcw913r_s9rxkr0000gn/T/ipykernel_62044/1636465878.py:42: RuntimeWarning: invalid value encountered in double_scalars\n",
      "  output_data['tf'] = h_data['tf'] / (h_data['tf'] + a_data['tf'])\n"
     ]
    },
    {
     "name": "stdout",
     "output_type": "stream",
     "text": [
      "S23G01N69\n"
     ]
    },
    {
     "name": "stderr",
     "output_type": "stream",
     "text": [
      "/var/folders/xk/jz0njgws4vqcw913r_s9rxkr0000gn/T/ipykernel_62044/1636465878.py:42: RuntimeWarning: invalid value encountered in double_scalars\n",
      "  output_data['tf'] = h_data['tf'] / (h_data['tf'] + a_data['tf'])\n",
      "/var/folders/xk/jz0njgws4vqcw913r_s9rxkr0000gn/T/ipykernel_62044/1636465878.py:42: RuntimeWarning: invalid value encountered in double_scalars\n",
      "  output_data['tf'] = h_data['tf'] / (h_data['tf'] + a_data['tf'])\n"
     ]
    },
    {
     "name": "stdout",
     "output_type": "stream",
     "text": [
      "S23G01N70\n"
     ]
    },
    {
     "name": "stderr",
     "output_type": "stream",
     "text": [
      "/var/folders/xk/jz0njgws4vqcw913r_s9rxkr0000gn/T/ipykernel_62044/1636465878.py:42: RuntimeWarning: invalid value encountered in double_scalars\n",
      "  output_data['tf'] = h_data['tf'] / (h_data['tf'] + a_data['tf'])\n",
      "/var/folders/xk/jz0njgws4vqcw913r_s9rxkr0000gn/T/ipykernel_62044/1636465878.py:42: RuntimeWarning: invalid value encountered in double_scalars\n",
      "  output_data['tf'] = h_data['tf'] / (h_data['tf'] + a_data['tf'])\n"
     ]
    },
    {
     "name": "stdout",
     "output_type": "stream",
     "text": [
      "S23G01N71\n",
      "S23G01N72\n"
     ]
    },
    {
     "name": "stderr",
     "output_type": "stream",
     "text": [
      "/var/folders/xk/jz0njgws4vqcw913r_s9rxkr0000gn/T/ipykernel_62044/1636465878.py:42: RuntimeWarning: invalid value encountered in double_scalars\n",
      "  output_data['tf'] = h_data['tf'] / (h_data['tf'] + a_data['tf'])\n",
      "/var/folders/xk/jz0njgws4vqcw913r_s9rxkr0000gn/T/ipykernel_62044/1636465878.py:42: RuntimeWarning: invalid value encountered in double_scalars\n",
      "  output_data['tf'] = h_data['tf'] / (h_data['tf'] + a_data['tf'])\n"
     ]
    },
    {
     "name": "stdout",
     "output_type": "stream",
     "text": [
      "S23G01N73\n"
     ]
    },
    {
     "name": "stderr",
     "output_type": "stream",
     "text": [
      "/var/folders/xk/jz0njgws4vqcw913r_s9rxkr0000gn/T/ipykernel_62044/1636465878.py:42: RuntimeWarning: invalid value encountered in double_scalars\n",
      "  output_data['tf'] = h_data['tf'] / (h_data['tf'] + a_data['tf'])\n",
      "/var/folders/xk/jz0njgws4vqcw913r_s9rxkr0000gn/T/ipykernel_62044/1636465878.py:42: RuntimeWarning: invalid value encountered in double_scalars\n",
      "  output_data['tf'] = h_data['tf'] / (h_data['tf'] + a_data['tf'])\n"
     ]
    },
    {
     "name": "stdout",
     "output_type": "stream",
     "text": [
      "S23G01N74\n",
      "S23G01N75\n"
     ]
    },
    {
     "name": "stderr",
     "output_type": "stream",
     "text": [
      "/var/folders/xk/jz0njgws4vqcw913r_s9rxkr0000gn/T/ipykernel_62044/1636465878.py:42: RuntimeWarning: invalid value encountered in double_scalars\n",
      "  output_data['tf'] = h_data['tf'] / (h_data['tf'] + a_data['tf'])\n",
      "/var/folders/xk/jz0njgws4vqcw913r_s9rxkr0000gn/T/ipykernel_62044/1636465878.py:42: RuntimeWarning: invalid value encountered in double_scalars\n",
      "  output_data['tf'] = h_data['tf'] / (h_data['tf'] + a_data['tf'])\n"
     ]
    },
    {
     "name": "stdout",
     "output_type": "stream",
     "text": [
      "S23G01N76\n"
     ]
    },
    {
     "name": "stderr",
     "output_type": "stream",
     "text": [
      "/var/folders/xk/jz0njgws4vqcw913r_s9rxkr0000gn/T/ipykernel_62044/1636465878.py:42: RuntimeWarning: invalid value encountered in double_scalars\n",
      "  output_data['tf'] = h_data['tf'] / (h_data['tf'] + a_data['tf'])\n",
      "/var/folders/xk/jz0njgws4vqcw913r_s9rxkr0000gn/T/ipykernel_62044/1636465878.py:42: RuntimeWarning: invalid value encountered in double_scalars\n",
      "  output_data['tf'] = h_data['tf'] / (h_data['tf'] + a_data['tf'])\n"
     ]
    },
    {
     "name": "stdout",
     "output_type": "stream",
     "text": [
      "S23G01N77\n"
     ]
    },
    {
     "name": "stderr",
     "output_type": "stream",
     "text": [
      "/var/folders/xk/jz0njgws4vqcw913r_s9rxkr0000gn/T/ipykernel_62044/1636465878.py:42: RuntimeWarning: invalid value encountered in double_scalars\n",
      "  output_data['tf'] = h_data['tf'] / (h_data['tf'] + a_data['tf'])\n",
      "/var/folders/xk/jz0njgws4vqcw913r_s9rxkr0000gn/T/ipykernel_62044/1636465878.py:42: RuntimeWarning: invalid value encountered in double_scalars\n",
      "  output_data['tf'] = h_data['tf'] / (h_data['tf'] + a_data['tf'])\n"
     ]
    },
    {
     "name": "stdout",
     "output_type": "stream",
     "text": [
      "S23G01N78\n",
      "S23G01N79\n"
     ]
    },
    {
     "name": "stderr",
     "output_type": "stream",
     "text": [
      "/var/folders/xk/jz0njgws4vqcw913r_s9rxkr0000gn/T/ipykernel_62044/1636465878.py:42: RuntimeWarning: invalid value encountered in double_scalars\n",
      "  output_data['tf'] = h_data['tf'] / (h_data['tf'] + a_data['tf'])\n",
      "/var/folders/xk/jz0njgws4vqcw913r_s9rxkr0000gn/T/ipykernel_62044/1636465878.py:42: RuntimeWarning: invalid value encountered in double_scalars\n",
      "  output_data['tf'] = h_data['tf'] / (h_data['tf'] + a_data['tf'])\n"
     ]
    },
    {
     "name": "stdout",
     "output_type": "stream",
     "text": [
      "S23G01N80\n"
     ]
    },
    {
     "name": "stderr",
     "output_type": "stream",
     "text": [
      "/var/folders/xk/jz0njgws4vqcw913r_s9rxkr0000gn/T/ipykernel_62044/1636465878.py:42: RuntimeWarning: invalid value encountered in double_scalars\n",
      "  output_data['tf'] = h_data['tf'] / (h_data['tf'] + a_data['tf'])\n",
      "/var/folders/xk/jz0njgws4vqcw913r_s9rxkr0000gn/T/ipykernel_62044/1636465878.py:42: RuntimeWarning: invalid value encountered in double_scalars\n",
      "  output_data['tf'] = h_data['tf'] / (h_data['tf'] + a_data['tf'])\n"
     ]
    },
    {
     "name": "stdout",
     "output_type": "stream",
     "text": [
      "S23G01N81\n"
     ]
    },
    {
     "name": "stderr",
     "output_type": "stream",
     "text": [
      "/var/folders/xk/jz0njgws4vqcw913r_s9rxkr0000gn/T/ipykernel_62044/1636465878.py:42: RuntimeWarning: invalid value encountered in double_scalars\n",
      "  output_data['tf'] = h_data['tf'] / (h_data['tf'] + a_data['tf'])\n",
      "/var/folders/xk/jz0njgws4vqcw913r_s9rxkr0000gn/T/ipykernel_62044/1636465878.py:42: RuntimeWarning: invalid value encountered in double_scalars\n",
      "  output_data['tf'] = h_data['tf'] / (h_data['tf'] + a_data['tf'])\n"
     ]
    },
    {
     "name": "stdout",
     "output_type": "stream",
     "text": [
      "S23G01N82\n"
     ]
    },
    {
     "name": "stderr",
     "output_type": "stream",
     "text": [
      "/var/folders/xk/jz0njgws4vqcw913r_s9rxkr0000gn/T/ipykernel_62044/1636465878.py:42: RuntimeWarning: invalid value encountered in double_scalars\n",
      "  output_data['tf'] = h_data['tf'] / (h_data['tf'] + a_data['tf'])\n",
      "/var/folders/xk/jz0njgws4vqcw913r_s9rxkr0000gn/T/ipykernel_62044/1636465878.py:42: RuntimeWarning: invalid value encountered in double_scalars\n",
      "  output_data['tf'] = h_data['tf'] / (h_data['tf'] + a_data['tf'])\n"
     ]
    },
    {
     "name": "stdout",
     "output_type": "stream",
     "text": [
      "S23G01N83\n",
      "S23G01N84\n"
     ]
    },
    {
     "name": "stderr",
     "output_type": "stream",
     "text": [
      "/var/folders/xk/jz0njgws4vqcw913r_s9rxkr0000gn/T/ipykernel_62044/1636465878.py:42: RuntimeWarning: invalid value encountered in double_scalars\n",
      "  output_data['tf'] = h_data['tf'] / (h_data['tf'] + a_data['tf'])\n",
      "/var/folders/xk/jz0njgws4vqcw913r_s9rxkr0000gn/T/ipykernel_62044/1636465878.py:42: RuntimeWarning: invalid value encountered in double_scalars\n",
      "  output_data['tf'] = h_data['tf'] / (h_data['tf'] + a_data['tf'])\n"
     ]
    },
    {
     "name": "stdout",
     "output_type": "stream",
     "text": [
      "S23G01N85\n"
     ]
    },
    {
     "name": "stderr",
     "output_type": "stream",
     "text": [
      "/var/folders/xk/jz0njgws4vqcw913r_s9rxkr0000gn/T/ipykernel_62044/1636465878.py:42: RuntimeWarning: invalid value encountered in double_scalars\n",
      "  output_data['tf'] = h_data['tf'] / (h_data['tf'] + a_data['tf'])\n",
      "/var/folders/xk/jz0njgws4vqcw913r_s9rxkr0000gn/T/ipykernel_62044/1636465878.py:43: RuntimeWarning: invalid value encountered in double_scalars\n",
      "  output_data['gd'] = h_data['gd'] / (h_data['gd'] + a_data['gd'])\n",
      "/var/folders/xk/jz0njgws4vqcw913r_s9rxkr0000gn/T/ipykernel_62044/1636465878.py:42: RuntimeWarning: invalid value encountered in double_scalars\n",
      "  output_data['tf'] = h_data['tf'] / (h_data['tf'] + a_data['tf'])\n",
      "/var/folders/xk/jz0njgws4vqcw913r_s9rxkr0000gn/T/ipykernel_62044/1636465878.py:43: RuntimeWarning: invalid value encountered in double_scalars\n",
      "  output_data['gd'] = h_data['gd'] / (h_data['gd'] + a_data['gd'])\n"
     ]
    },
    {
     "name": "stdout",
     "output_type": "stream",
     "text": [
      "S23G01N86\n"
     ]
    },
    {
     "name": "stderr",
     "output_type": "stream",
     "text": [
      "/var/folders/xk/jz0njgws4vqcw913r_s9rxkr0000gn/T/ipykernel_62044/1636465878.py:42: RuntimeWarning: invalid value encountered in double_scalars\n",
      "  output_data['tf'] = h_data['tf'] / (h_data['tf'] + a_data['tf'])\n",
      "/var/folders/xk/jz0njgws4vqcw913r_s9rxkr0000gn/T/ipykernel_62044/1636465878.py:42: RuntimeWarning: invalid value encountered in double_scalars\n",
      "  output_data['tf'] = h_data['tf'] / (h_data['tf'] + a_data['tf'])\n"
     ]
    },
    {
     "name": "stdout",
     "output_type": "stream",
     "text": [
      "S23G01N87\n"
     ]
    },
    {
     "name": "stderr",
     "output_type": "stream",
     "text": [
      "/var/folders/xk/jz0njgws4vqcw913r_s9rxkr0000gn/T/ipykernel_62044/1636465878.py:42: RuntimeWarning: invalid value encountered in double_scalars\n",
      "  output_data['tf'] = h_data['tf'] / (h_data['tf'] + a_data['tf'])\n",
      "/var/folders/xk/jz0njgws4vqcw913r_s9rxkr0000gn/T/ipykernel_62044/1636465878.py:42: RuntimeWarning: invalid value encountered in double_scalars\n",
      "  output_data['tf'] = h_data['tf'] / (h_data['tf'] + a_data['tf'])\n"
     ]
    },
    {
     "name": "stdout",
     "output_type": "stream",
     "text": [
      "S23G01N88\n"
     ]
    },
    {
     "name": "stderr",
     "output_type": "stream",
     "text": [
      "/var/folders/xk/jz0njgws4vqcw913r_s9rxkr0000gn/T/ipykernel_62044/1636465878.py:42: RuntimeWarning: invalid value encountered in double_scalars\n",
      "  output_data['tf'] = h_data['tf'] / (h_data['tf'] + a_data['tf'])\n",
      "/var/folders/xk/jz0njgws4vqcw913r_s9rxkr0000gn/T/ipykernel_62044/1636465878.py:42: RuntimeWarning: invalid value encountered in double_scalars\n",
      "  output_data['tf'] = h_data['tf'] / (h_data['tf'] + a_data['tf'])\n"
     ]
    },
    {
     "name": "stdout",
     "output_type": "stream",
     "text": [
      "S23G01N89\n",
      "S23G01N90\n"
     ]
    },
    {
     "name": "stderr",
     "output_type": "stream",
     "text": [
      "/var/folders/xk/jz0njgws4vqcw913r_s9rxkr0000gn/T/ipykernel_62044/1636465878.py:42: RuntimeWarning: invalid value encountered in double_scalars\n",
      "  output_data['tf'] = h_data['tf'] / (h_data['tf'] + a_data['tf'])\n",
      "/var/folders/xk/jz0njgws4vqcw913r_s9rxkr0000gn/T/ipykernel_62044/1636465878.py:42: RuntimeWarning: invalid value encountered in double_scalars\n",
      "  output_data['tf'] = h_data['tf'] / (h_data['tf'] + a_data['tf'])\n"
     ]
    },
    {
     "name": "stdout",
     "output_type": "stream",
     "text": [
      "S23G01N91\n"
     ]
    },
    {
     "name": "stderr",
     "output_type": "stream",
     "text": [
      "/var/folders/xk/jz0njgws4vqcw913r_s9rxkr0000gn/T/ipykernel_62044/1636465878.py:42: RuntimeWarning: invalid value encountered in double_scalars\n",
      "  output_data['tf'] = h_data['tf'] / (h_data['tf'] + a_data['tf'])\n",
      "/var/folders/xk/jz0njgws4vqcw913r_s9rxkr0000gn/T/ipykernel_62044/1636465878.py:42: RuntimeWarning: invalid value encountered in double_scalars\n",
      "  output_data['tf'] = h_data['tf'] / (h_data['tf'] + a_data['tf'])\n"
     ]
    },
    {
     "name": "stdout",
     "output_type": "stream",
     "text": [
      "S23G01N92\n"
     ]
    },
    {
     "name": "stderr",
     "output_type": "stream",
     "text": [
      "/var/folders/xk/jz0njgws4vqcw913r_s9rxkr0000gn/T/ipykernel_62044/1636465878.py:42: RuntimeWarning: invalid value encountered in double_scalars\n",
      "  output_data['tf'] = h_data['tf'] / (h_data['tf'] + a_data['tf'])\n",
      "/var/folders/xk/jz0njgws4vqcw913r_s9rxkr0000gn/T/ipykernel_62044/1636465878.py:42: RuntimeWarning: invalid value encountered in double_scalars\n",
      "  output_data['tf'] = h_data['tf'] / (h_data['tf'] + a_data['tf'])\n"
     ]
    },
    {
     "name": "stdout",
     "output_type": "stream",
     "text": [
      "S23G01N93\n"
     ]
    },
    {
     "name": "stderr",
     "output_type": "stream",
     "text": [
      "/var/folders/xk/jz0njgws4vqcw913r_s9rxkr0000gn/T/ipykernel_62044/1636465878.py:42: RuntimeWarning: invalid value encountered in double_scalars\n",
      "  output_data['tf'] = h_data['tf'] / (h_data['tf'] + a_data['tf'])\n",
      "/var/folders/xk/jz0njgws4vqcw913r_s9rxkr0000gn/T/ipykernel_62044/1636465878.py:42: RuntimeWarning: invalid value encountered in double_scalars\n",
      "  output_data['tf'] = h_data['tf'] / (h_data['tf'] + a_data['tf'])\n"
     ]
    },
    {
     "name": "stdout",
     "output_type": "stream",
     "text": [
      "S23G01N94\n",
      "S23G01N95\n"
     ]
    },
    {
     "name": "stderr",
     "output_type": "stream",
     "text": [
      "/var/folders/xk/jz0njgws4vqcw913r_s9rxkr0000gn/T/ipykernel_62044/1636465878.py:42: RuntimeWarning: invalid value encountered in double_scalars\n",
      "  output_data['tf'] = h_data['tf'] / (h_data['tf'] + a_data['tf'])\n",
      "/var/folders/xk/jz0njgws4vqcw913r_s9rxkr0000gn/T/ipykernel_62044/1636465878.py:42: RuntimeWarning: invalid value encountered in double_scalars\n",
      "  output_data['tf'] = h_data['tf'] / (h_data['tf'] + a_data['tf'])\n"
     ]
    },
    {
     "name": "stdout",
     "output_type": "stream",
     "text": [
      "S23G01N96\n"
     ]
    },
    {
     "name": "stderr",
     "output_type": "stream",
     "text": [
      "/var/folders/xk/jz0njgws4vqcw913r_s9rxkr0000gn/T/ipykernel_62044/1636465878.py:42: RuntimeWarning: invalid value encountered in double_scalars\n",
      "  output_data['tf'] = h_data['tf'] / (h_data['tf'] + a_data['tf'])\n",
      "/var/folders/xk/jz0njgws4vqcw913r_s9rxkr0000gn/T/ipykernel_62044/1636465878.py:42: RuntimeWarning: invalid value encountered in double_scalars\n",
      "  output_data['tf'] = h_data['tf'] / (h_data['tf'] + a_data['tf'])\n"
     ]
    },
    {
     "name": "stdout",
     "output_type": "stream",
     "text": [
      "S23G01N97\n"
     ]
    },
    {
     "name": "stderr",
     "output_type": "stream",
     "text": [
      "/var/folders/xk/jz0njgws4vqcw913r_s9rxkr0000gn/T/ipykernel_62044/1636465878.py:42: RuntimeWarning: invalid value encountered in double_scalars\n",
      "  output_data['tf'] = h_data['tf'] / (h_data['tf'] + a_data['tf'])\n",
      "/var/folders/xk/jz0njgws4vqcw913r_s9rxkr0000gn/T/ipykernel_62044/1636465878.py:42: RuntimeWarning: invalid value encountered in double_scalars\n",
      "  output_data['tf'] = h_data['tf'] / (h_data['tf'] + a_data['tf'])\n"
     ]
    },
    {
     "name": "stdout",
     "output_type": "stream",
     "text": [
      "S23G01N98\n"
     ]
    },
    {
     "name": "stderr",
     "output_type": "stream",
     "text": [
      "/var/folders/xk/jz0njgws4vqcw913r_s9rxkr0000gn/T/ipykernel_62044/1636465878.py:42: RuntimeWarning: invalid value encountered in double_scalars\n",
      "  output_data['tf'] = h_data['tf'] / (h_data['tf'] + a_data['tf'])\n",
      "/var/folders/xk/jz0njgws4vqcw913r_s9rxkr0000gn/T/ipykernel_62044/1636465878.py:42: RuntimeWarning: invalid value encountered in double_scalars\n",
      "  output_data['tf'] = h_data['tf'] / (h_data['tf'] + a_data['tf'])\n"
     ]
    },
    {
     "name": "stdout",
     "output_type": "stream",
     "text": [
      "S23G01N99\n",
      "S23G01N100\n",
      "S23G01N101\n",
      "S23G01N102\n",
      "S23G01N103\n",
      "S23G01N104\n"
     ]
    },
    {
     "name": "stderr",
     "output_type": "stream",
     "text": [
      "/var/folders/xk/jz0njgws4vqcw913r_s9rxkr0000gn/T/ipykernel_62044/1636465878.py:42: RuntimeWarning: invalid value encountered in double_scalars\n",
      "  output_data['tf'] = h_data['tf'] / (h_data['tf'] + a_data['tf'])\n",
      "/var/folders/xk/jz0njgws4vqcw913r_s9rxkr0000gn/T/ipykernel_62044/1636465878.py:42: RuntimeWarning: invalid value encountered in double_scalars\n",
      "  output_data['tf'] = h_data['tf'] / (h_data['tf'] + a_data['tf'])\n"
     ]
    },
    {
     "name": "stdout",
     "output_type": "stream",
     "text": [
      "S23G01N105\n",
      "S23G01N106\n",
      "S23G01N107\n",
      "S23G01N108\n",
      "S23G01N109\n",
      "S23G01N110\n",
      "S23G01N111\n"
     ]
    },
    {
     "name": "stderr",
     "output_type": "stream",
     "text": [
      "/var/folders/xk/jz0njgws4vqcw913r_s9rxkr0000gn/T/ipykernel_62044/1636465878.py:42: RuntimeWarning: invalid value encountered in double_scalars\n",
      "  output_data['tf'] = h_data['tf'] / (h_data['tf'] + a_data['tf'])\n",
      "/var/folders/xk/jz0njgws4vqcw913r_s9rxkr0000gn/T/ipykernel_62044/1636465878.py:42: RuntimeWarning: invalid value encountered in double_scalars\n",
      "  output_data['tf'] = h_data['tf'] / (h_data['tf'] + a_data['tf'])\n"
     ]
    },
    {
     "name": "stdout",
     "output_type": "stream",
     "text": [
      "S23G01N112\n",
      "S23G01N113\n",
      "S23G01N114\n",
      "S23G01N115\n"
     ]
    },
    {
     "name": "stderr",
     "output_type": "stream",
     "text": [
      "/var/folders/xk/jz0njgws4vqcw913r_s9rxkr0000gn/T/ipykernel_62044/1636465878.py:42: RuntimeWarning: invalid value encountered in double_scalars\n",
      "  output_data['tf'] = h_data['tf'] / (h_data['tf'] + a_data['tf'])\n",
      "/var/folders/xk/jz0njgws4vqcw913r_s9rxkr0000gn/T/ipykernel_62044/1636465878.py:42: RuntimeWarning: invalid value encountered in double_scalars\n",
      "  output_data['tf'] = h_data['tf'] / (h_data['tf'] + a_data['tf'])\n"
     ]
    },
    {
     "name": "stdout",
     "output_type": "stream",
     "text": [
      "S23G01N116\n"
     ]
    },
    {
     "name": "stderr",
     "output_type": "stream",
     "text": [
      "/var/folders/xk/jz0njgws4vqcw913r_s9rxkr0000gn/T/ipykernel_62044/1636465878.py:25: RuntimeWarning: invalid value encountered in double_scalars\n",
      "  output_data['dk'] = h_data['dk'] / h_data['dkA']\n"
     ]
    },
    {
     "name": "stdout",
     "output_type": "stream",
     "text": [
      "S23G01N117\n",
      "S23G01N118\n",
      "S23G01N119\n",
      "S23G01N120\n",
      "S23G01N121\n"
     ]
    },
    {
     "name": "stderr",
     "output_type": "stream",
     "text": [
      "/var/folders/xk/jz0njgws4vqcw913r_s9rxkr0000gn/T/ipykernel_62044/1636465878.py:43: RuntimeWarning: invalid value encountered in double_scalars\n",
      "  output_data['gd'] = h_data['gd'] / (h_data['gd'] + a_data['gd'])\n",
      "/var/folders/xk/jz0njgws4vqcw913r_s9rxkr0000gn/T/ipykernel_62044/1636465878.py:43: RuntimeWarning: invalid value encountered in double_scalars\n",
      "  output_data['gd'] = h_data['gd'] / (h_data['gd'] + a_data['gd'])\n"
     ]
    },
    {
     "name": "stdout",
     "output_type": "stream",
     "text": [
      "S23G01N122\n"
     ]
    },
    {
     "name": "stderr",
     "output_type": "stream",
     "text": [
      "/var/folders/xk/jz0njgws4vqcw913r_s9rxkr0000gn/T/ipykernel_62044/1636465878.py:42: RuntimeWarning: invalid value encountered in double_scalars\n",
      "  output_data['tf'] = h_data['tf'] / (h_data['tf'] + a_data['tf'])\n",
      "/var/folders/xk/jz0njgws4vqcw913r_s9rxkr0000gn/T/ipykernel_62044/1636465878.py:42: RuntimeWarning: invalid value encountered in double_scalars\n",
      "  output_data['tf'] = h_data['tf'] / (h_data['tf'] + a_data['tf'])\n"
     ]
    },
    {
     "name": "stdout",
     "output_type": "stream",
     "text": [
      "S23G01N123\n"
     ]
    },
    {
     "name": "stderr",
     "output_type": "stream",
     "text": [
      "/var/folders/xk/jz0njgws4vqcw913r_s9rxkr0000gn/T/ipykernel_62044/1636465878.py:42: RuntimeWarning: invalid value encountered in double_scalars\n",
      "  output_data['tf'] = h_data['tf'] / (h_data['tf'] + a_data['tf'])\n",
      "/var/folders/xk/jz0njgws4vqcw913r_s9rxkr0000gn/T/ipykernel_62044/1636465878.py:42: RuntimeWarning: invalid value encountered in double_scalars\n",
      "  output_data['tf'] = h_data['tf'] / (h_data['tf'] + a_data['tf'])\n"
     ]
    },
    {
     "name": "stdout",
     "output_type": "stream",
     "text": [
      "S23G01N124\n"
     ]
    },
    {
     "name": "stderr",
     "output_type": "stream",
     "text": [
      "/var/folders/xk/jz0njgws4vqcw913r_s9rxkr0000gn/T/ipykernel_62044/1636465878.py:42: RuntimeWarning: invalid value encountered in double_scalars\n",
      "  output_data['tf'] = h_data['tf'] / (h_data['tf'] + a_data['tf'])\n",
      "/var/folders/xk/jz0njgws4vqcw913r_s9rxkr0000gn/T/ipykernel_62044/1636465878.py:42: RuntimeWarning: invalid value encountered in double_scalars\n",
      "  output_data['tf'] = h_data['tf'] / (h_data['tf'] + a_data['tf'])\n"
     ]
    },
    {
     "name": "stdout",
     "output_type": "stream",
     "text": [
      "S23G01N125\n",
      "S23G01N126\n",
      "S23G01N127\n",
      "S23G01N128\n",
      "S23G01N129\n",
      "S23G01N130\n",
      "S23G01N131\n",
      "S23G01N132\n",
      "S23G01N133\n",
      "S23G01N134\n",
      "S23G01N135\n",
      "S23G01N136\n",
      "S23G01N137\n",
      "S23G01N138\n",
      "S23G01N139\n"
     ]
    },
    {
     "name": "stderr",
     "output_type": "stream",
     "text": [
      "/var/folders/xk/jz0njgws4vqcw913r_s9rxkr0000gn/T/ipykernel_62044/1636465878.py:43: RuntimeWarning: invalid value encountered in double_scalars\n",
      "  output_data['gd'] = h_data['gd'] / (h_data['gd'] + a_data['gd'])\n",
      "/var/folders/xk/jz0njgws4vqcw913r_s9rxkr0000gn/T/ipykernel_62044/1636465878.py:43: RuntimeWarning: invalid value encountered in double_scalars\n",
      "  output_data['gd'] = h_data['gd'] / (h_data['gd'] + a_data['gd'])\n"
     ]
    },
    {
     "name": "stdout",
     "output_type": "stream",
     "text": [
      "S23G01N140\n",
      "S23G01N141\n",
      "S23G01N142\n",
      "S23G01N143\n"
     ]
    },
    {
     "name": "stderr",
     "output_type": "stream",
     "text": [
      "/var/folders/xk/jz0njgws4vqcw913r_s9rxkr0000gn/T/ipykernel_62044/1636465878.py:43: RuntimeWarning: invalid value encountered in double_scalars\n",
      "  output_data['gd'] = h_data['gd'] / (h_data['gd'] + a_data['gd'])\n",
      "/var/folders/xk/jz0njgws4vqcw913r_s9rxkr0000gn/T/ipykernel_62044/1636465878.py:43: RuntimeWarning: invalid value encountered in double_scalars\n",
      "  output_data['gd'] = h_data['gd'] / (h_data['gd'] + a_data['gd'])\n"
     ]
    },
    {
     "name": "stdout",
     "output_type": "stream",
     "text": [
      "S23G01N144\n",
      "S23G01N145\n",
      "S23G01N146\n"
     ]
    },
    {
     "name": "stderr",
     "output_type": "stream",
     "text": [
      "/var/folders/xk/jz0njgws4vqcw913r_s9rxkr0000gn/T/ipykernel_62044/1636465878.py:43: RuntimeWarning: invalid value encountered in double_scalars\n",
      "  output_data['gd'] = h_data['gd'] / (h_data['gd'] + a_data['gd'])\n",
      "/var/folders/xk/jz0njgws4vqcw913r_s9rxkr0000gn/T/ipykernel_62044/1636465878.py:43: RuntimeWarning: invalid value encountered in double_scalars\n",
      "  output_data['gd'] = h_data['gd'] / (h_data['gd'] + a_data['gd'])\n"
     ]
    },
    {
     "name": "stdout",
     "output_type": "stream",
     "text": [
      "S23G01N147\n",
      "S23G01N148\n"
     ]
    },
    {
     "name": "stderr",
     "output_type": "stream",
     "text": [
      "/var/folders/xk/jz0njgws4vqcw913r_s9rxkr0000gn/T/ipykernel_62044/1636465878.py:43: RuntimeWarning: invalid value encountered in double_scalars\n",
      "  output_data['gd'] = h_data['gd'] / (h_data['gd'] + a_data['gd'])\n",
      "/var/folders/xk/jz0njgws4vqcw913r_s9rxkr0000gn/T/ipykernel_62044/1636465878.py:25: RuntimeWarning: invalid value encountered in double_scalars\n",
      "  output_data['dk'] = h_data['dk'] / h_data['dkA']\n",
      "/var/folders/xk/jz0njgws4vqcw913r_s9rxkr0000gn/T/ipykernel_62044/1636465878.py:43: RuntimeWarning: invalid value encountered in double_scalars\n",
      "  output_data['gd'] = h_data['gd'] / (h_data['gd'] + a_data['gd'])\n"
     ]
    },
    {
     "name": "stdout",
     "output_type": "stream",
     "text": [
      "S23G01N149\n"
     ]
    },
    {
     "name": "stderr",
     "output_type": "stream",
     "text": [
      "/var/folders/xk/jz0njgws4vqcw913r_s9rxkr0000gn/T/ipykernel_62044/1636465878.py:42: RuntimeWarning: invalid value encountered in double_scalars\n",
      "  output_data['tf'] = h_data['tf'] / (h_data['tf'] + a_data['tf'])\n",
      "/var/folders/xk/jz0njgws4vqcw913r_s9rxkr0000gn/T/ipykernel_62044/1636465878.py:42: RuntimeWarning: invalid value encountered in double_scalars\n",
      "  output_data['tf'] = h_data['tf'] / (h_data['tf'] + a_data['tf'])\n"
     ]
    },
    {
     "name": "stdout",
     "output_type": "stream",
     "text": [
      "S23G01N150\n",
      "S23G01N151\n"
     ]
    },
    {
     "name": "stderr",
     "output_type": "stream",
     "text": [
      "/var/folders/xk/jz0njgws4vqcw913r_s9rxkr0000gn/T/ipykernel_62044/1636465878.py:25: RuntimeWarning: invalid value encountered in double_scalars\n",
      "  output_data['dk'] = h_data['dk'] / h_data['dkA']\n"
     ]
    },
    {
     "name": "stdout",
     "output_type": "stream",
     "text": [
      "S23G01N152\n"
     ]
    },
    {
     "name": "stderr",
     "output_type": "stream",
     "text": [
      "/var/folders/xk/jz0njgws4vqcw913r_s9rxkr0000gn/T/ipykernel_62044/1636465878.py:42: RuntimeWarning: invalid value encountered in double_scalars\n",
      "  output_data['tf'] = h_data['tf'] / (h_data['tf'] + a_data['tf'])\n",
      "/var/folders/xk/jz0njgws4vqcw913r_s9rxkr0000gn/T/ipykernel_62044/1636465878.py:42: RuntimeWarning: invalid value encountered in double_scalars\n",
      "  output_data['tf'] = h_data['tf'] / (h_data['tf'] + a_data['tf'])\n"
     ]
    },
    {
     "name": "stdout",
     "output_type": "stream",
     "text": [
      "S23G01N153\n",
      "S23G01N154\n"
     ]
    },
    {
     "name": "stderr",
     "output_type": "stream",
     "text": [
      "/var/folders/xk/jz0njgws4vqcw913r_s9rxkr0000gn/T/ipykernel_62044/1636465878.py:25: RuntimeWarning: invalid value encountered in double_scalars\n",
      "  output_data['dk'] = h_data['dk'] / h_data['dkA']\n",
      "/var/folders/xk/jz0njgws4vqcw913r_s9rxkr0000gn/T/ipykernel_62044/1636465878.py:42: RuntimeWarning: invalid value encountered in double_scalars\n",
      "  output_data['tf'] = h_data['tf'] / (h_data['tf'] + a_data['tf'])\n",
      "/var/folders/xk/jz0njgws4vqcw913r_s9rxkr0000gn/T/ipykernel_62044/1636465878.py:42: RuntimeWarning: invalid value encountered in double_scalars\n",
      "  output_data['tf'] = h_data['tf'] / (h_data['tf'] + a_data['tf'])\n"
     ]
    },
    {
     "name": "stdout",
     "output_type": "stream",
     "text": [
      "S23G01N155\n"
     ]
    },
    {
     "name": "stderr",
     "output_type": "stream",
     "text": [
      "/var/folders/xk/jz0njgws4vqcw913r_s9rxkr0000gn/T/ipykernel_62044/1636465878.py:42: RuntimeWarning: invalid value encountered in double_scalars\n",
      "  output_data['tf'] = h_data['tf'] / (h_data['tf'] + a_data['tf'])\n",
      "/var/folders/xk/jz0njgws4vqcw913r_s9rxkr0000gn/T/ipykernel_62044/1636465878.py:42: RuntimeWarning: invalid value encountered in double_scalars\n",
      "  output_data['tf'] = h_data['tf'] / (h_data['tf'] + a_data['tf'])\n"
     ]
    },
    {
     "name": "stdout",
     "output_type": "stream",
     "text": [
      "S23G01N156\n",
      "S23G01N157\n",
      "S23G01N158\n",
      "S23G01N159\n"
     ]
    },
    {
     "name": "stderr",
     "output_type": "stream",
     "text": [
      "/var/folders/xk/jz0njgws4vqcw913r_s9rxkr0000gn/T/ipykernel_62044/1636465878.py:25: RuntimeWarning: invalid value encountered in double_scalars\n",
      "  output_data['dk'] = h_data['dk'] / h_data['dkA']\n"
     ]
    },
    {
     "name": "stdout",
     "output_type": "stream",
     "text": [
      "S23G01N160\n",
      "S23G01N161\n",
      "S23G01N162\n"
     ]
    },
    {
     "name": "stderr",
     "output_type": "stream",
     "text": [
      "/var/folders/xk/jz0njgws4vqcw913r_s9rxkr0000gn/T/ipykernel_62044/1636465878.py:42: RuntimeWarning: invalid value encountered in double_scalars\n",
      "  output_data['tf'] = h_data['tf'] / (h_data['tf'] + a_data['tf'])\n",
      "/var/folders/xk/jz0njgws4vqcw913r_s9rxkr0000gn/T/ipykernel_62044/1636465878.py:42: RuntimeWarning: invalid value encountered in double_scalars\n",
      "  output_data['tf'] = h_data['tf'] / (h_data['tf'] + a_data['tf'])\n"
     ]
    },
    {
     "name": "stdout",
     "output_type": "stream",
     "text": [
      "S23G01N163\n"
     ]
    },
    {
     "name": "stderr",
     "output_type": "stream",
     "text": [
      "/var/folders/xk/jz0njgws4vqcw913r_s9rxkr0000gn/T/ipykernel_62044/1636465878.py:42: RuntimeWarning: invalid value encountered in double_scalars\n",
      "  output_data['tf'] = h_data['tf'] / (h_data['tf'] + a_data['tf'])\n",
      "/var/folders/xk/jz0njgws4vqcw913r_s9rxkr0000gn/T/ipykernel_62044/1636465878.py:25: RuntimeWarning: invalid value encountered in double_scalars\n",
      "  output_data['dk'] = h_data['dk'] / h_data['dkA']\n",
      "/var/folders/xk/jz0njgws4vqcw913r_s9rxkr0000gn/T/ipykernel_62044/1636465878.py:42: RuntimeWarning: invalid value encountered in double_scalars\n",
      "  output_data['tf'] = h_data['tf'] / (h_data['tf'] + a_data['tf'])\n"
     ]
    },
    {
     "name": "stdout",
     "output_type": "stream",
     "text": [
      "S23G01N164\n",
      "S23G01N165\n"
     ]
    },
    {
     "name": "stderr",
     "output_type": "stream",
     "text": [
      "/var/folders/xk/jz0njgws4vqcw913r_s9rxkr0000gn/T/ipykernel_62044/1636465878.py:43: RuntimeWarning: invalid value encountered in double_scalars\n",
      "  output_data['gd'] = h_data['gd'] / (h_data['gd'] + a_data['gd'])\n",
      "/var/folders/xk/jz0njgws4vqcw913r_s9rxkr0000gn/T/ipykernel_62044/1636465878.py:43: RuntimeWarning: invalid value encountered in double_scalars\n",
      "  output_data['gd'] = h_data['gd'] / (h_data['gd'] + a_data['gd'])\n"
     ]
    },
    {
     "name": "stdout",
     "output_type": "stream",
     "text": [
      "S23G01N166\n"
     ]
    },
    {
     "name": "stderr",
     "output_type": "stream",
     "text": [
      "/var/folders/xk/jz0njgws4vqcw913r_s9rxkr0000gn/T/ipykernel_62044/1636465878.py:43: RuntimeWarning: invalid value encountered in double_scalars\n",
      "  output_data['gd'] = h_data['gd'] / (h_data['gd'] + a_data['gd'])\n",
      "/var/folders/xk/jz0njgws4vqcw913r_s9rxkr0000gn/T/ipykernel_62044/1636465878.py:43: RuntimeWarning: invalid value encountered in double_scalars\n",
      "  output_data['gd'] = h_data['gd'] / (h_data['gd'] + a_data['gd'])\n"
     ]
    },
    {
     "name": "stdout",
     "output_type": "stream",
     "text": [
      "S23G01N167\n",
      "S23G01N168\n",
      "S23G01N169\n"
     ]
    },
    {
     "name": "stderr",
     "output_type": "stream",
     "text": [
      "/var/folders/xk/jz0njgws4vqcw913r_s9rxkr0000gn/T/ipykernel_62044/1636465878.py:25: RuntimeWarning: invalid value encountered in double_scalars\n",
      "  output_data['dk'] = h_data['dk'] / h_data['dkA']\n",
      "/var/folders/xk/jz0njgws4vqcw913r_s9rxkr0000gn/T/ipykernel_62044/1636465878.py:42: RuntimeWarning: invalid value encountered in double_scalars\n",
      "  output_data['tf'] = h_data['tf'] / (h_data['tf'] + a_data['tf'])\n",
      "/var/folders/xk/jz0njgws4vqcw913r_s9rxkr0000gn/T/ipykernel_62044/1636465878.py:42: RuntimeWarning: invalid value encountered in double_scalars\n",
      "  output_data['tf'] = h_data['tf'] / (h_data['tf'] + a_data['tf'])\n"
     ]
    },
    {
     "name": "stdout",
     "output_type": "stream",
     "text": [
      "S23G01N170\n"
     ]
    },
    {
     "name": "stderr",
     "output_type": "stream",
     "text": [
      "/var/folders/xk/jz0njgws4vqcw913r_s9rxkr0000gn/T/ipykernel_62044/1636465878.py:42: RuntimeWarning: invalid value encountered in double_scalars\n",
      "  output_data['tf'] = h_data['tf'] / (h_data['tf'] + a_data['tf'])\n",
      "/var/folders/xk/jz0njgws4vqcw913r_s9rxkr0000gn/T/ipykernel_62044/1636465878.py:42: RuntimeWarning: invalid value encountered in double_scalars\n",
      "  output_data['tf'] = h_data['tf'] / (h_data['tf'] + a_data['tf'])\n"
     ]
    },
    {
     "name": "stdout",
     "output_type": "stream",
     "text": [
      "S23G01N171\n",
      "S23G01N172\n"
     ]
    },
    {
     "name": "stderr",
     "output_type": "stream",
     "text": [
      "/var/folders/xk/jz0njgws4vqcw913r_s9rxkr0000gn/T/ipykernel_62044/1636465878.py:43: RuntimeWarning: invalid value encountered in double_scalars\n",
      "  output_data['gd'] = h_data['gd'] / (h_data['gd'] + a_data['gd'])\n",
      "/var/folders/xk/jz0njgws4vqcw913r_s9rxkr0000gn/T/ipykernel_62044/1636465878.py:43: RuntimeWarning: invalid value encountered in double_scalars\n",
      "  output_data['gd'] = h_data['gd'] / (h_data['gd'] + a_data['gd'])\n"
     ]
    },
    {
     "name": "stdout",
     "output_type": "stream",
     "text": [
      "S23G01N173\n"
     ]
    },
    {
     "name": "stderr",
     "output_type": "stream",
     "text": [
      "/var/folders/xk/jz0njgws4vqcw913r_s9rxkr0000gn/T/ipykernel_62044/1636465878.py:42: RuntimeWarning: invalid value encountered in double_scalars\n",
      "  output_data['tf'] = h_data['tf'] / (h_data['tf'] + a_data['tf'])\n",
      "/var/folders/xk/jz0njgws4vqcw913r_s9rxkr0000gn/T/ipykernel_62044/1636465878.py:42: RuntimeWarning: invalid value encountered in double_scalars\n",
      "  output_data['tf'] = h_data['tf'] / (h_data['tf'] + a_data['tf'])\n"
     ]
    },
    {
     "name": "stdout",
     "output_type": "stream",
     "text": [
      "S23G01N174\n"
     ]
    },
    {
     "name": "stderr",
     "output_type": "stream",
     "text": [
      "/var/folders/xk/jz0njgws4vqcw913r_s9rxkr0000gn/T/ipykernel_62044/1636465878.py:42: RuntimeWarning: invalid value encountered in double_scalars\n",
      "  output_data['tf'] = h_data['tf'] / (h_data['tf'] + a_data['tf'])\n",
      "/var/folders/xk/jz0njgws4vqcw913r_s9rxkr0000gn/T/ipykernel_62044/1636465878.py:42: RuntimeWarning: invalid value encountered in double_scalars\n",
      "  output_data['tf'] = h_data['tf'] / (h_data['tf'] + a_data['tf'])\n"
     ]
    },
    {
     "name": "stdout",
     "output_type": "stream",
     "text": [
      "S23G01N175\n"
     ]
    },
    {
     "name": "stderr",
     "output_type": "stream",
     "text": [
      "/var/folders/xk/jz0njgws4vqcw913r_s9rxkr0000gn/T/ipykernel_62044/1636465878.py:42: RuntimeWarning: invalid value encountered in double_scalars\n",
      "  output_data['tf'] = h_data['tf'] / (h_data['tf'] + a_data['tf'])\n",
      "/var/folders/xk/jz0njgws4vqcw913r_s9rxkr0000gn/T/ipykernel_62044/1636465878.py:42: RuntimeWarning: invalid value encountered in double_scalars\n",
      "  output_data['tf'] = h_data['tf'] / (h_data['tf'] + a_data['tf'])\n"
     ]
    },
    {
     "name": "stdout",
     "output_type": "stream",
     "text": [
      "S23G01N176\n",
      "S23G01N177\n",
      "S23G01N178\n"
     ]
    },
    {
     "name": "stderr",
     "output_type": "stream",
     "text": [
      "/var/folders/xk/jz0njgws4vqcw913r_s9rxkr0000gn/T/ipykernel_62044/1636465878.py:42: RuntimeWarning: invalid value encountered in double_scalars\n",
      "  output_data['tf'] = h_data['tf'] / (h_data['tf'] + a_data['tf'])\n",
      "/var/folders/xk/jz0njgws4vqcw913r_s9rxkr0000gn/T/ipykernel_62044/1636465878.py:42: RuntimeWarning: invalid value encountered in double_scalars\n",
      "  output_data['tf'] = h_data['tf'] / (h_data['tf'] + a_data['tf'])\n"
     ]
    },
    {
     "name": "stdout",
     "output_type": "stream",
     "text": [
      "S23G01N179\n"
     ]
    },
    {
     "name": "stderr",
     "output_type": "stream",
     "text": [
      "/var/folders/xk/jz0njgws4vqcw913r_s9rxkr0000gn/T/ipykernel_62044/1636465878.py:42: RuntimeWarning: invalid value encountered in double_scalars\n",
      "  output_data['tf'] = h_data['tf'] / (h_data['tf'] + a_data['tf'])\n",
      "/var/folders/xk/jz0njgws4vqcw913r_s9rxkr0000gn/T/ipykernel_62044/1636465878.py:42: RuntimeWarning: invalid value encountered in double_scalars\n",
      "  output_data['tf'] = h_data['tf'] / (h_data['tf'] + a_data['tf'])\n"
     ]
    },
    {
     "name": "stdout",
     "output_type": "stream",
     "text": [
      "S23G01N180\n"
     ]
    },
    {
     "name": "stderr",
     "output_type": "stream",
     "text": [
      "/var/folders/xk/jz0njgws4vqcw913r_s9rxkr0000gn/T/ipykernel_62044/1636465878.py:42: RuntimeWarning: invalid value encountered in double_scalars\n",
      "  output_data['tf'] = h_data['tf'] / (h_data['tf'] + a_data['tf'])\n",
      "/var/folders/xk/jz0njgws4vqcw913r_s9rxkr0000gn/T/ipykernel_62044/1636465878.py:42: RuntimeWarning: invalid value encountered in double_scalars\n",
      "  output_data['tf'] = h_data['tf'] / (h_data['tf'] + a_data['tf'])\n"
     ]
    },
    {
     "name": "stdout",
     "output_type": "stream",
     "text": [
      "S23G01N181\n",
      "S23G01N182\n",
      "S23G01N183\n"
     ]
    },
    {
     "name": "stderr",
     "output_type": "stream",
     "text": [
      "/var/folders/xk/jz0njgws4vqcw913r_s9rxkr0000gn/T/ipykernel_62044/1636465878.py:42: RuntimeWarning: invalid value encountered in double_scalars\n",
      "  output_data['tf'] = h_data['tf'] / (h_data['tf'] + a_data['tf'])\n",
      "/var/folders/xk/jz0njgws4vqcw913r_s9rxkr0000gn/T/ipykernel_62044/1636465878.py:42: RuntimeWarning: invalid value encountered in double_scalars\n",
      "  output_data['tf'] = h_data['tf'] / (h_data['tf'] + a_data['tf'])\n"
     ]
    },
    {
     "name": "stdout",
     "output_type": "stream",
     "text": [
      "S23G01N184\n"
     ]
    },
    {
     "name": "stderr",
     "output_type": "stream",
     "text": [
      "/var/folders/xk/jz0njgws4vqcw913r_s9rxkr0000gn/T/ipykernel_62044/1636465878.py:42: RuntimeWarning: invalid value encountered in double_scalars\n",
      "  output_data['tf'] = h_data['tf'] / (h_data['tf'] + a_data['tf'])\n",
      "/var/folders/xk/jz0njgws4vqcw913r_s9rxkr0000gn/T/ipykernel_62044/1636465878.py:42: RuntimeWarning: invalid value encountered in double_scalars\n",
      "  output_data['tf'] = h_data['tf'] / (h_data['tf'] + a_data['tf'])\n"
     ]
    },
    {
     "name": "stdout",
     "output_type": "stream",
     "text": [
      "S23G01N185\n"
     ]
    },
    {
     "name": "stderr",
     "output_type": "stream",
     "text": [
      "/var/folders/xk/jz0njgws4vqcw913r_s9rxkr0000gn/T/ipykernel_62044/1636465878.py:42: RuntimeWarning: invalid value encountered in double_scalars\n",
      "  output_data['tf'] = h_data['tf'] / (h_data['tf'] + a_data['tf'])\n",
      "/var/folders/xk/jz0njgws4vqcw913r_s9rxkr0000gn/T/ipykernel_62044/1636465878.py:42: RuntimeWarning: invalid value encountered in double_scalars\n",
      "  output_data['tf'] = h_data['tf'] / (h_data['tf'] + a_data['tf'])\n"
     ]
    },
    {
     "name": "stdout",
     "output_type": "stream",
     "text": [
      "S23G01N186\n"
     ]
    },
    {
     "name": "stderr",
     "output_type": "stream",
     "text": [
      "/var/folders/xk/jz0njgws4vqcw913r_s9rxkr0000gn/T/ipykernel_62044/1636465878.py:42: RuntimeWarning: invalid value encountered in double_scalars\n",
      "  output_data['tf'] = h_data['tf'] / (h_data['tf'] + a_data['tf'])\n",
      "/var/folders/xk/jz0njgws4vqcw913r_s9rxkr0000gn/T/ipykernel_62044/1636465878.py:43: RuntimeWarning: invalid value encountered in double_scalars\n",
      "  output_data['gd'] = h_data['gd'] / (h_data['gd'] + a_data['gd'])\n",
      "/var/folders/xk/jz0njgws4vqcw913r_s9rxkr0000gn/T/ipykernel_62044/1636465878.py:42: RuntimeWarning: invalid value encountered in double_scalars\n",
      "  output_data['tf'] = h_data['tf'] / (h_data['tf'] + a_data['tf'])\n",
      "/var/folders/xk/jz0njgws4vqcw913r_s9rxkr0000gn/T/ipykernel_62044/1636465878.py:43: RuntimeWarning: invalid value encountered in double_scalars\n",
      "  output_data['gd'] = h_data['gd'] / (h_data['gd'] + a_data['gd'])\n"
     ]
    },
    {
     "name": "stdout",
     "output_type": "stream",
     "text": [
      "S23G01N187\n",
      "S23G01N188\n",
      "S23G01N189\n"
     ]
    },
    {
     "name": "stderr",
     "output_type": "stream",
     "text": [
      "/var/folders/xk/jz0njgws4vqcw913r_s9rxkr0000gn/T/ipykernel_62044/1636465878.py:42: RuntimeWarning: invalid value encountered in double_scalars\n",
      "  output_data['tf'] = h_data['tf'] / (h_data['tf'] + a_data['tf'])\n",
      "/var/folders/xk/jz0njgws4vqcw913r_s9rxkr0000gn/T/ipykernel_62044/1636465878.py:42: RuntimeWarning: invalid value encountered in double_scalars\n",
      "  output_data['tf'] = h_data['tf'] / (h_data['tf'] + a_data['tf'])\n"
     ]
    },
    {
     "name": "stdout",
     "output_type": "stream",
     "text": [
      "S23G01N190\n"
     ]
    },
    {
     "name": "stderr",
     "output_type": "stream",
     "text": [
      "/var/folders/xk/jz0njgws4vqcw913r_s9rxkr0000gn/T/ipykernel_62044/1636465878.py:42: RuntimeWarning: invalid value encountered in double_scalars\n",
      "  output_data['tf'] = h_data['tf'] / (h_data['tf'] + a_data['tf'])\n",
      "/var/folders/xk/jz0njgws4vqcw913r_s9rxkr0000gn/T/ipykernel_62044/1636465878.py:42: RuntimeWarning: invalid value encountered in double_scalars\n",
      "  output_data['tf'] = h_data['tf'] / (h_data['tf'] + a_data['tf'])\n"
     ]
    },
    {
     "name": "stdout",
     "output_type": "stream",
     "text": [
      "S23G01N191\n"
     ]
    },
    {
     "name": "stderr",
     "output_type": "stream",
     "text": [
      "/var/folders/xk/jz0njgws4vqcw913r_s9rxkr0000gn/T/ipykernel_62044/1636465878.py:42: RuntimeWarning: invalid value encountered in double_scalars\n",
      "  output_data['tf'] = h_data['tf'] / (h_data['tf'] + a_data['tf'])\n",
      "/var/folders/xk/jz0njgws4vqcw913r_s9rxkr0000gn/T/ipykernel_62044/1636465878.py:42: RuntimeWarning: invalid value encountered in double_scalars\n",
      "  output_data['tf'] = h_data['tf'] / (h_data['tf'] + a_data['tf'])\n"
     ]
    },
    {
     "name": "stdout",
     "output_type": "stream",
     "text": [
      "S23G01N192\n",
      "S23G01N193\n"
     ]
    },
    {
     "name": "stderr",
     "output_type": "stream",
     "text": [
      "/var/folders/xk/jz0njgws4vqcw913r_s9rxkr0000gn/T/ipykernel_62044/1636465878.py:42: RuntimeWarning: invalid value encountered in double_scalars\n",
      "  output_data['tf'] = h_data['tf'] / (h_data['tf'] + a_data['tf'])\n",
      "/var/folders/xk/jz0njgws4vqcw913r_s9rxkr0000gn/T/ipykernel_62044/1636465878.py:42: RuntimeWarning: invalid value encountered in double_scalars\n",
      "  output_data['tf'] = h_data['tf'] / (h_data['tf'] + a_data['tf'])\n"
     ]
    },
    {
     "name": "stdout",
     "output_type": "stream",
     "text": [
      "S23G01N194\n"
     ]
    },
    {
     "name": "stderr",
     "output_type": "stream",
     "text": [
      "/var/folders/xk/jz0njgws4vqcw913r_s9rxkr0000gn/T/ipykernel_62044/1636465878.py:42: RuntimeWarning: invalid value encountered in double_scalars\n",
      "  output_data['tf'] = h_data['tf'] / (h_data['tf'] + a_data['tf'])\n",
      "/var/folders/xk/jz0njgws4vqcw913r_s9rxkr0000gn/T/ipykernel_62044/1636465878.py:42: RuntimeWarning: invalid value encountered in double_scalars\n",
      "  output_data['tf'] = h_data['tf'] / (h_data['tf'] + a_data['tf'])\n"
     ]
    },
    {
     "name": "stdout",
     "output_type": "stream",
     "text": [
      "S23G01N195\n"
     ]
    },
    {
     "name": "stderr",
     "output_type": "stream",
     "text": [
      "/var/folders/xk/jz0njgws4vqcw913r_s9rxkr0000gn/T/ipykernel_62044/1636465878.py:42: RuntimeWarning: invalid value encountered in double_scalars\n",
      "  output_data['tf'] = h_data['tf'] / (h_data['tf'] + a_data['tf'])\n",
      "/var/folders/xk/jz0njgws4vqcw913r_s9rxkr0000gn/T/ipykernel_62044/1636465878.py:42: RuntimeWarning: invalid value encountered in double_scalars\n",
      "  output_data['tf'] = h_data['tf'] / (h_data['tf'] + a_data['tf'])\n"
     ]
    },
    {
     "name": "stdout",
     "output_type": "stream",
     "text": [
      "S23G01N196\n"
     ]
    },
    {
     "name": "stderr",
     "output_type": "stream",
     "text": [
      "/var/folders/xk/jz0njgws4vqcw913r_s9rxkr0000gn/T/ipykernel_62044/1636465878.py:42: RuntimeWarning: invalid value encountered in double_scalars\n",
      "  output_data['tf'] = h_data['tf'] / (h_data['tf'] + a_data['tf'])\n",
      "/var/folders/xk/jz0njgws4vqcw913r_s9rxkr0000gn/T/ipykernel_62044/1636465878.py:42: RuntimeWarning: invalid value encountered in double_scalars\n",
      "  output_data['tf'] = h_data['tf'] / (h_data['tf'] + a_data['tf'])\n"
     ]
    },
    {
     "name": "stdout",
     "output_type": "stream",
     "text": [
      "S23G01N197\n"
     ]
    },
    {
     "name": "stderr",
     "output_type": "stream",
     "text": [
      "/var/folders/xk/jz0njgws4vqcw913r_s9rxkr0000gn/T/ipykernel_62044/1636465878.py:42: RuntimeWarning: invalid value encountered in double_scalars\n",
      "  output_data['tf'] = h_data['tf'] / (h_data['tf'] + a_data['tf'])\n",
      "/var/folders/xk/jz0njgws4vqcw913r_s9rxkr0000gn/T/ipykernel_62044/1636465878.py:42: RuntimeWarning: invalid value encountered in double_scalars\n",
      "  output_data['tf'] = h_data['tf'] / (h_data['tf'] + a_data['tf'])\n"
     ]
    },
    {
     "name": "stdout",
     "output_type": "stream",
     "text": [
      "S23G01N198\n"
     ]
    },
    {
     "name": "stderr",
     "output_type": "stream",
     "text": [
      "/var/folders/xk/jz0njgws4vqcw913r_s9rxkr0000gn/T/ipykernel_62044/1636465878.py:43: RuntimeWarning: invalid value encountered in double_scalars\n",
      "  output_data['gd'] = h_data['gd'] / (h_data['gd'] + a_data['gd'])\n",
      "/var/folders/xk/jz0njgws4vqcw913r_s9rxkr0000gn/T/ipykernel_62044/1636465878.py:43: RuntimeWarning: invalid value encountered in double_scalars\n",
      "  output_data['gd'] = h_data['gd'] / (h_data['gd'] + a_data['gd'])\n"
     ]
    },
    {
     "name": "stdout",
     "output_type": "stream",
     "text": [
      "S23G01N199\n",
      "S23G01N200\n"
     ]
    },
    {
     "name": "stderr",
     "output_type": "stream",
     "text": [
      "/var/folders/xk/jz0njgws4vqcw913r_s9rxkr0000gn/T/ipykernel_62044/1636465878.py:42: RuntimeWarning: invalid value encountered in double_scalars\n",
      "  output_data['tf'] = h_data['tf'] / (h_data['tf'] + a_data['tf'])\n",
      "/var/folders/xk/jz0njgws4vqcw913r_s9rxkr0000gn/T/ipykernel_62044/1636465878.py:42: RuntimeWarning: invalid value encountered in double_scalars\n",
      "  output_data['tf'] = h_data['tf'] / (h_data['tf'] + a_data['tf'])\n"
     ]
    },
    {
     "name": "stdout",
     "output_type": "stream",
     "text": [
      "S23G01N201\n"
     ]
    },
    {
     "name": "stderr",
     "output_type": "stream",
     "text": [
      "/var/folders/xk/jz0njgws4vqcw913r_s9rxkr0000gn/T/ipykernel_62044/1636465878.py:42: RuntimeWarning: invalid value encountered in double_scalars\n",
      "  output_data['tf'] = h_data['tf'] / (h_data['tf'] + a_data['tf'])\n",
      "/var/folders/xk/jz0njgws4vqcw913r_s9rxkr0000gn/T/ipykernel_62044/1636465878.py:42: RuntimeWarning: invalid value encountered in double_scalars\n",
      "  output_data['tf'] = h_data['tf'] / (h_data['tf'] + a_data['tf'])\n"
     ]
    },
    {
     "name": "stdout",
     "output_type": "stream",
     "text": [
      "S23G01N202\n",
      "S23G01N203\n"
     ]
    },
    {
     "name": "stderr",
     "output_type": "stream",
     "text": [
      "/var/folders/xk/jz0njgws4vqcw913r_s9rxkr0000gn/T/ipykernel_62044/1636465878.py:42: RuntimeWarning: invalid value encountered in double_scalars\n",
      "  output_data['tf'] = h_data['tf'] / (h_data['tf'] + a_data['tf'])\n",
      "/var/folders/xk/jz0njgws4vqcw913r_s9rxkr0000gn/T/ipykernel_62044/1636465878.py:42: RuntimeWarning: invalid value encountered in double_scalars\n",
      "  output_data['tf'] = h_data['tf'] / (h_data['tf'] + a_data['tf'])\n"
     ]
    },
    {
     "name": "stdout",
     "output_type": "stream",
     "text": [
      "S23G01N204\n",
      "S23G01N205\n"
     ]
    },
    {
     "name": "stderr",
     "output_type": "stream",
     "text": [
      "/var/folders/xk/jz0njgws4vqcw913r_s9rxkr0000gn/T/ipykernel_62044/1636465878.py:42: RuntimeWarning: invalid value encountered in double_scalars\n",
      "  output_data['tf'] = h_data['tf'] / (h_data['tf'] + a_data['tf'])\n",
      "/var/folders/xk/jz0njgws4vqcw913r_s9rxkr0000gn/T/ipykernel_62044/1636465878.py:42: RuntimeWarning: invalid value encountered in double_scalars\n",
      "  output_data['tf'] = h_data['tf'] / (h_data['tf'] + a_data['tf'])\n"
     ]
    },
    {
     "name": "stdout",
     "output_type": "stream",
     "text": [
      "S23G01N206\n"
     ]
    },
    {
     "name": "stderr",
     "output_type": "stream",
     "text": [
      "/var/folders/xk/jz0njgws4vqcw913r_s9rxkr0000gn/T/ipykernel_62044/1636465878.py:25: RuntimeWarning: invalid value encountered in double_scalars\n",
      "  output_data['dk'] = h_data['dk'] / h_data['dkA']\n"
     ]
    },
    {
     "name": "stdout",
     "output_type": "stream",
     "text": [
      "S23G01N207\n"
     ]
    },
    {
     "name": "stderr",
     "output_type": "stream",
     "text": [
      "/var/folders/xk/jz0njgws4vqcw913r_s9rxkr0000gn/T/ipykernel_62044/1636465878.py:42: RuntimeWarning: invalid value encountered in double_scalars\n",
      "  output_data['tf'] = h_data['tf'] / (h_data['tf'] + a_data['tf'])\n",
      "/var/folders/xk/jz0njgws4vqcw913r_s9rxkr0000gn/T/ipykernel_62044/1636465878.py:42: RuntimeWarning: invalid value encountered in double_scalars\n",
      "  output_data['tf'] = h_data['tf'] / (h_data['tf'] + a_data['tf'])\n"
     ]
    },
    {
     "name": "stdout",
     "output_type": "stream",
     "text": [
      "S23G01N208\n"
     ]
    },
    {
     "name": "stderr",
     "output_type": "stream",
     "text": [
      "/var/folders/xk/jz0njgws4vqcw913r_s9rxkr0000gn/T/ipykernel_62044/1636465878.py:43: RuntimeWarning: invalid value encountered in double_scalars\n",
      "  output_data['gd'] = h_data['gd'] / (h_data['gd'] + a_data['gd'])\n",
      "/var/folders/xk/jz0njgws4vqcw913r_s9rxkr0000gn/T/ipykernel_62044/1636465878.py:43: RuntimeWarning: invalid value encountered in double_scalars\n",
      "  output_data['gd'] = h_data['gd'] / (h_data['gd'] + a_data['gd'])\n"
     ]
    },
    {
     "name": "stdout",
     "output_type": "stream",
     "text": [
      "S23G01N209\n"
     ]
    },
    {
     "name": "stderr",
     "output_type": "stream",
     "text": [
      "/var/folders/xk/jz0njgws4vqcw913r_s9rxkr0000gn/T/ipykernel_62044/1636465878.py:42: RuntimeWarning: invalid value encountered in double_scalars\n",
      "  output_data['tf'] = h_data['tf'] / (h_data['tf'] + a_data['tf'])\n",
      "/var/folders/xk/jz0njgws4vqcw913r_s9rxkr0000gn/T/ipykernel_62044/1636465878.py:42: RuntimeWarning: invalid value encountered in double_scalars\n",
      "  output_data['tf'] = h_data['tf'] / (h_data['tf'] + a_data['tf'])\n"
     ]
    },
    {
     "name": "stdout",
     "output_type": "stream",
     "text": [
      "S23G01N210\n",
      "S23G01N211\n"
     ]
    },
    {
     "name": "stderr",
     "output_type": "stream",
     "text": [
      "/var/folders/xk/jz0njgws4vqcw913r_s9rxkr0000gn/T/ipykernel_62044/1636465878.py:42: RuntimeWarning: invalid value encountered in double_scalars\n",
      "  output_data['tf'] = h_data['tf'] / (h_data['tf'] + a_data['tf'])\n",
      "/var/folders/xk/jz0njgws4vqcw913r_s9rxkr0000gn/T/ipykernel_62044/1636465878.py:42: RuntimeWarning: invalid value encountered in double_scalars\n",
      "  output_data['tf'] = h_data['tf'] / (h_data['tf'] + a_data['tf'])\n"
     ]
    },
    {
     "name": "stdout",
     "output_type": "stream",
     "text": [
      "S23G01N212\n"
     ]
    },
    {
     "name": "stderr",
     "output_type": "stream",
     "text": [
      "/var/folders/xk/jz0njgws4vqcw913r_s9rxkr0000gn/T/ipykernel_62044/1636465878.py:25: RuntimeWarning: invalid value encountered in double_scalars\n",
      "  output_data['dk'] = h_data['dk'] / h_data['dkA']\n",
      "/var/folders/xk/jz0njgws4vqcw913r_s9rxkr0000gn/T/ipykernel_62044/1636465878.py:42: RuntimeWarning: invalid value encountered in double_scalars\n",
      "  output_data['tf'] = h_data['tf'] / (h_data['tf'] + a_data['tf'])\n",
      "/var/folders/xk/jz0njgws4vqcw913r_s9rxkr0000gn/T/ipykernel_62044/1636465878.py:42: RuntimeWarning: invalid value encountered in double_scalars\n",
      "  output_data['tf'] = h_data['tf'] / (h_data['tf'] + a_data['tf'])\n"
     ]
    },
    {
     "name": "stdout",
     "output_type": "stream",
     "text": [
      "S23G01N213\n"
     ]
    },
    {
     "name": "stderr",
     "output_type": "stream",
     "text": [
      "/var/folders/xk/jz0njgws4vqcw913r_s9rxkr0000gn/T/ipykernel_62044/1636465878.py:42: RuntimeWarning: invalid value encountered in double_scalars\n",
      "  output_data['tf'] = h_data['tf'] / (h_data['tf'] + a_data['tf'])\n",
      "/var/folders/xk/jz0njgws4vqcw913r_s9rxkr0000gn/T/ipykernel_62044/1636465878.py:42: RuntimeWarning: invalid value encountered in double_scalars\n",
      "  output_data['tf'] = h_data['tf'] / (h_data['tf'] + a_data['tf'])\n"
     ]
    },
    {
     "name": "stdout",
     "output_type": "stream",
     "text": [
      "S23G01N214\n",
      "S23G01N215\n",
      "S23G01N216\n",
      "S23G01N217\n"
     ]
    },
    {
     "name": "stderr",
     "output_type": "stream",
     "text": [
      "/var/folders/xk/jz0njgws4vqcw913r_s9rxkr0000gn/T/ipykernel_62044/1636465878.py:43: RuntimeWarning: invalid value encountered in double_scalars\n",
      "  output_data['gd'] = h_data['gd'] / (h_data['gd'] + a_data['gd'])\n",
      "/var/folders/xk/jz0njgws4vqcw913r_s9rxkr0000gn/T/ipykernel_62044/1636465878.py:43: RuntimeWarning: invalid value encountered in double_scalars\n",
      "  output_data['gd'] = h_data['gd'] / (h_data['gd'] + a_data['gd'])\n"
     ]
    },
    {
     "name": "stdout",
     "output_type": "stream",
     "text": [
      "S23G01N218\n"
     ]
    },
    {
     "name": "stderr",
     "output_type": "stream",
     "text": [
      "/var/folders/xk/jz0njgws4vqcw913r_s9rxkr0000gn/T/ipykernel_62044/1636465878.py:25: RuntimeWarning: invalid value encountered in double_scalars\n",
      "  output_data['dk'] = h_data['dk'] / h_data['dkA']\n"
     ]
    },
    {
     "name": "stdout",
     "output_type": "stream",
     "text": [
      "S23G01N219\n",
      "S23G01N220\n",
      "S23G01N221\n",
      "S23G01N222\n"
     ]
    },
    {
     "name": "stderr",
     "output_type": "stream",
     "text": [
      "/var/folders/xk/jz0njgws4vqcw913r_s9rxkr0000gn/T/ipykernel_62044/1636465878.py:25: RuntimeWarning: invalid value encountered in double_scalars\n",
      "  output_data['dk'] = h_data['dk'] / h_data['dkA']\n"
     ]
    },
    {
     "name": "stdout",
     "output_type": "stream",
     "text": [
      "S23G01N223\n",
      "S23G01N224\n",
      "S23G01N225\n"
     ]
    },
    {
     "name": "stderr",
     "output_type": "stream",
     "text": [
      "/var/folders/xk/jz0njgws4vqcw913r_s9rxkr0000gn/T/ipykernel_62044/1636465878.py:25: RuntimeWarning: invalid value encountered in double_scalars\n",
      "  output_data['dk'] = h_data['dk'] / h_data['dkA']\n"
     ]
    },
    {
     "name": "stdout",
     "output_type": "stream",
     "text": [
      "S23G01N226\n"
     ]
    },
    {
     "name": "stderr",
     "output_type": "stream",
     "text": [
      "/var/folders/xk/jz0njgws4vqcw913r_s9rxkr0000gn/T/ipykernel_62044/1636465878.py:42: RuntimeWarning: invalid value encountered in double_scalars\n",
      "  output_data['tf'] = h_data['tf'] / (h_data['tf'] + a_data['tf'])\n",
      "/var/folders/xk/jz0njgws4vqcw913r_s9rxkr0000gn/T/ipykernel_62044/1636465878.py:42: RuntimeWarning: invalid value encountered in double_scalars\n",
      "  output_data['tf'] = h_data['tf'] / (h_data['tf'] + a_data['tf'])\n"
     ]
    },
    {
     "name": "stdout",
     "output_type": "stream",
     "text": [
      "S23G01N227\n"
     ]
    },
    {
     "name": "stderr",
     "output_type": "stream",
     "text": [
      "/var/folders/xk/jz0njgws4vqcw913r_s9rxkr0000gn/T/ipykernel_62044/1636465878.py:43: RuntimeWarning: invalid value encountered in double_scalars\n",
      "  output_data['gd'] = h_data['gd'] / (h_data['gd'] + a_data['gd'])\n",
      "/var/folders/xk/jz0njgws4vqcw913r_s9rxkr0000gn/T/ipykernel_62044/1636465878.py:43: RuntimeWarning: invalid value encountered in double_scalars\n",
      "  output_data['gd'] = h_data['gd'] / (h_data['gd'] + a_data['gd'])\n"
     ]
    },
    {
     "name": "stdout",
     "output_type": "stream",
     "text": [
      "S23G01N228\n",
      "S23G01N229\n",
      "S23G01N230\n"
     ]
    },
    {
     "name": "stderr",
     "output_type": "stream",
     "text": [
      "/var/folders/xk/jz0njgws4vqcw913r_s9rxkr0000gn/T/ipykernel_62044/1636465878.py:42: RuntimeWarning: invalid value encountered in double_scalars\n",
      "  output_data['tf'] = h_data['tf'] / (h_data['tf'] + a_data['tf'])\n",
      "/var/folders/xk/jz0njgws4vqcw913r_s9rxkr0000gn/T/ipykernel_62044/1636465878.py:42: RuntimeWarning: invalid value encountered in double_scalars\n",
      "  output_data['tf'] = h_data['tf'] / (h_data['tf'] + a_data['tf'])\n"
     ]
    },
    {
     "name": "stdout",
     "output_type": "stream",
     "text": [
      "S23G01N231\n",
      "S23G01N232\n"
     ]
    },
    {
     "name": "stderr",
     "output_type": "stream",
     "text": [
      "/var/folders/xk/jz0njgws4vqcw913r_s9rxkr0000gn/T/ipykernel_62044/1636465878.py:25: RuntimeWarning: invalid value encountered in double_scalars\n",
      "  output_data['dk'] = h_data['dk'] / h_data['dkA']\n"
     ]
    },
    {
     "name": "stdout",
     "output_type": "stream",
     "text": [
      "S23G01N233\n",
      "S23G01N234\n",
      "S23G01N235\n",
      "S23G01N236\n",
      "S23G01N237\n"
     ]
    },
    {
     "name": "stderr",
     "output_type": "stream",
     "text": [
      "/var/folders/xk/jz0njgws4vqcw913r_s9rxkr0000gn/T/ipykernel_62044/1636465878.py:25: RuntimeWarning: invalid value encountered in double_scalars\n",
      "  output_data['dk'] = h_data['dk'] / h_data['dkA']\n"
     ]
    },
    {
     "name": "stdout",
     "output_type": "stream",
     "text": [
      "S23G01N238\n"
     ]
    },
    {
     "name": "stderr",
     "output_type": "stream",
     "text": [
      "/var/folders/xk/jz0njgws4vqcw913r_s9rxkr0000gn/T/ipykernel_62044/1636465878.py:42: RuntimeWarning: invalid value encountered in double_scalars\n",
      "  output_data['tf'] = h_data['tf'] / (h_data['tf'] + a_data['tf'])\n",
      "/var/folders/xk/jz0njgws4vqcw913r_s9rxkr0000gn/T/ipykernel_62044/1636465878.py:42: RuntimeWarning: invalid value encountered in double_scalars\n",
      "  output_data['tf'] = h_data['tf'] / (h_data['tf'] + a_data['tf'])\n"
     ]
    },
    {
     "name": "stdout",
     "output_type": "stream",
     "text": [
      "S23G01N239\n",
      "S23G01N240\n"
     ]
    },
    {
     "name": "stderr",
     "output_type": "stream",
     "text": [
      "/var/folders/xk/jz0njgws4vqcw913r_s9rxkr0000gn/T/ipykernel_62044/1636465878.py:42: RuntimeWarning: invalid value encountered in double_scalars\n",
      "  output_data['tf'] = h_data['tf'] / (h_data['tf'] + a_data['tf'])\n",
      "/var/folders/xk/jz0njgws4vqcw913r_s9rxkr0000gn/T/ipykernel_62044/1636465878.py:43: RuntimeWarning: invalid value encountered in double_scalars\n",
      "  output_data['gd'] = h_data['gd'] / (h_data['gd'] + a_data['gd'])\n",
      "/var/folders/xk/jz0njgws4vqcw913r_s9rxkr0000gn/T/ipykernel_62044/1636465878.py:42: RuntimeWarning: invalid value encountered in double_scalars\n",
      "  output_data['tf'] = h_data['tf'] / (h_data['tf'] + a_data['tf'])\n",
      "/var/folders/xk/jz0njgws4vqcw913r_s9rxkr0000gn/T/ipykernel_62044/1636465878.py:43: RuntimeWarning: invalid value encountered in double_scalars\n",
      "  output_data['gd'] = h_data['gd'] / (h_data['gd'] + a_data['gd'])\n"
     ]
    },
    {
     "name": "stdout",
     "output_type": "stream",
     "text": [
      "S23G01N241\n",
      "S23G01N242\n",
      "S23G01N243\n"
     ]
    },
    {
     "name": "stderr",
     "output_type": "stream",
     "text": [
      "/var/folders/xk/jz0njgws4vqcw913r_s9rxkr0000gn/T/ipykernel_62044/1636465878.py:42: RuntimeWarning: invalid value encountered in double_scalars\n",
      "  output_data['tf'] = h_data['tf'] / (h_data['tf'] + a_data['tf'])\n",
      "/var/folders/xk/jz0njgws4vqcw913r_s9rxkr0000gn/T/ipykernel_62044/1636465878.py:42: RuntimeWarning: invalid value encountered in double_scalars\n",
      "  output_data['tf'] = h_data['tf'] / (h_data['tf'] + a_data['tf'])\n"
     ]
    },
    {
     "name": "stdout",
     "output_type": "stream",
     "text": [
      "S23G01N244\n",
      "S23G01N245\n"
     ]
    },
    {
     "name": "stderr",
     "output_type": "stream",
     "text": [
      "/var/folders/xk/jz0njgws4vqcw913r_s9rxkr0000gn/T/ipykernel_62044/1636465878.py:42: RuntimeWarning: invalid value encountered in double_scalars\n",
      "  output_data['tf'] = h_data['tf'] / (h_data['tf'] + a_data['tf'])\n",
      "/var/folders/xk/jz0njgws4vqcw913r_s9rxkr0000gn/T/ipykernel_62044/1636465878.py:42: RuntimeWarning: invalid value encountered in double_scalars\n",
      "  output_data['tf'] = h_data['tf'] / (h_data['tf'] + a_data['tf'])\n"
     ]
    },
    {
     "name": "stdout",
     "output_type": "stream",
     "text": [
      "S23G01N246\n",
      "S23G01N247\n"
     ]
    },
    {
     "name": "stderr",
     "output_type": "stream",
     "text": [
      "/var/folders/xk/jz0njgws4vqcw913r_s9rxkr0000gn/T/ipykernel_62044/1636465878.py:42: RuntimeWarning: invalid value encountered in double_scalars\n",
      "  output_data['tf'] = h_data['tf'] / (h_data['tf'] + a_data['tf'])\n",
      "/var/folders/xk/jz0njgws4vqcw913r_s9rxkr0000gn/T/ipykernel_62044/1636465878.py:42: RuntimeWarning: invalid value encountered in double_scalars\n",
      "  output_data['tf'] = h_data['tf'] / (h_data['tf'] + a_data['tf'])\n"
     ]
    },
    {
     "name": "stdout",
     "output_type": "stream",
     "text": [
      "S23G01N248\n"
     ]
    },
    {
     "name": "stderr",
     "output_type": "stream",
     "text": [
      "/var/folders/xk/jz0njgws4vqcw913r_s9rxkr0000gn/T/ipykernel_62044/1636465878.py:42: RuntimeWarning: invalid value encountered in double_scalars\n",
      "  output_data['tf'] = h_data['tf'] / (h_data['tf'] + a_data['tf'])\n",
      "/var/folders/xk/jz0njgws4vqcw913r_s9rxkr0000gn/T/ipykernel_62044/1636465878.py:42: RuntimeWarning: invalid value encountered in double_scalars\n",
      "  output_data['tf'] = h_data['tf'] / (h_data['tf'] + a_data['tf'])\n"
     ]
    },
    {
     "name": "stdout",
     "output_type": "stream",
     "text": [
      "S23G01N249\n",
      "S23G01N250\n",
      "S23G01N251\n",
      "S23G01N252\n"
     ]
    },
    {
     "name": "stderr",
     "output_type": "stream",
     "text": [
      "/var/folders/xk/jz0njgws4vqcw913r_s9rxkr0000gn/T/ipykernel_62044/1636465878.py:42: RuntimeWarning: invalid value encountered in double_scalars\n",
      "  output_data['tf'] = h_data['tf'] / (h_data['tf'] + a_data['tf'])\n",
      "/var/folders/xk/jz0njgws4vqcw913r_s9rxkr0000gn/T/ipykernel_62044/1636465878.py:42: RuntimeWarning: invalid value encountered in double_scalars\n",
      "  output_data['tf'] = h_data['tf'] / (h_data['tf'] + a_data['tf'])\n"
     ]
    },
    {
     "name": "stdout",
     "output_type": "stream",
     "text": [
      "S23G01N253\n",
      "S23G01N254\n",
      "S23G01N255\n"
     ]
    },
    {
     "name": "stderr",
     "output_type": "stream",
     "text": [
      "/var/folders/xk/jz0njgws4vqcw913r_s9rxkr0000gn/T/ipykernel_62044/1636465878.py:42: RuntimeWarning: invalid value encountered in double_scalars\n",
      "  output_data['tf'] = h_data['tf'] / (h_data['tf'] + a_data['tf'])\n",
      "/var/folders/xk/jz0njgws4vqcw913r_s9rxkr0000gn/T/ipykernel_62044/1636465878.py:42: RuntimeWarning: invalid value encountered in double_scalars\n",
      "  output_data['tf'] = h_data['tf'] / (h_data['tf'] + a_data['tf'])\n"
     ]
    },
    {
     "name": "stdout",
     "output_type": "stream",
     "text": [
      "S23G01N256\n",
      "S23G01N257\n"
     ]
    },
    {
     "name": "stderr",
     "output_type": "stream",
     "text": [
      "/var/folders/xk/jz0njgws4vqcw913r_s9rxkr0000gn/T/ipykernel_62044/1636465878.py:42: RuntimeWarning: invalid value encountered in double_scalars\n",
      "  output_data['tf'] = h_data['tf'] / (h_data['tf'] + a_data['tf'])\n",
      "/var/folders/xk/jz0njgws4vqcw913r_s9rxkr0000gn/T/ipykernel_62044/1636465878.py:42: RuntimeWarning: invalid value encountered in double_scalars\n",
      "  output_data['tf'] = h_data['tf'] / (h_data['tf'] + a_data['tf'])\n"
     ]
    },
    {
     "name": "stdout",
     "output_type": "stream",
     "text": [
      "S23G01N258\n",
      "S23G01N259\n",
      "S23G01N260\n",
      "S23G01N261\n"
     ]
    },
    {
     "name": "stderr",
     "output_type": "stream",
     "text": [
      "/var/folders/xk/jz0njgws4vqcw913r_s9rxkr0000gn/T/ipykernel_62044/1636465878.py:42: RuntimeWarning: invalid value encountered in double_scalars\n",
      "  output_data['tf'] = h_data['tf'] / (h_data['tf'] + a_data['tf'])\n",
      "/var/folders/xk/jz0njgws4vqcw913r_s9rxkr0000gn/T/ipykernel_62044/1636465878.py:42: RuntimeWarning: invalid value encountered in double_scalars\n",
      "  output_data['tf'] = h_data['tf'] / (h_data['tf'] + a_data['tf'])\n"
     ]
    },
    {
     "name": "stdout",
     "output_type": "stream",
     "text": [
      "S23G01N262\n"
     ]
    },
    {
     "name": "stderr",
     "output_type": "stream",
     "text": [
      "/var/folders/xk/jz0njgws4vqcw913r_s9rxkr0000gn/T/ipykernel_62044/1636465878.py:42: RuntimeWarning: invalid value encountered in double_scalars\n",
      "  output_data['tf'] = h_data['tf'] / (h_data['tf'] + a_data['tf'])\n",
      "/var/folders/xk/jz0njgws4vqcw913r_s9rxkr0000gn/T/ipykernel_62044/1636465878.py:42: RuntimeWarning: invalid value encountered in double_scalars\n",
      "  output_data['tf'] = h_data['tf'] / (h_data['tf'] + a_data['tf'])\n"
     ]
    },
    {
     "name": "stdout",
     "output_type": "stream",
     "text": [
      "S23G01N263\n"
     ]
    },
    {
     "name": "stderr",
     "output_type": "stream",
     "text": [
      "/var/folders/xk/jz0njgws4vqcw913r_s9rxkr0000gn/T/ipykernel_62044/1636465878.py:43: RuntimeWarning: invalid value encountered in double_scalars\n",
      "  output_data['gd'] = h_data['gd'] / (h_data['gd'] + a_data['gd'])\n",
      "/var/folders/xk/jz0njgws4vqcw913r_s9rxkr0000gn/T/ipykernel_62044/1636465878.py:43: RuntimeWarning: invalid value encountered in double_scalars\n",
      "  output_data['gd'] = h_data['gd'] / (h_data['gd'] + a_data['gd'])\n"
     ]
    },
    {
     "name": "stdout",
     "output_type": "stream",
     "text": [
      "S23G01N264\n",
      "S23G01N265\n"
     ]
    },
    {
     "name": "stderr",
     "output_type": "stream",
     "text": [
      "/var/folders/xk/jz0njgws4vqcw913r_s9rxkr0000gn/T/ipykernel_62044/1636465878.py:42: RuntimeWarning: invalid value encountered in double_scalars\n",
      "  output_data['tf'] = h_data['tf'] / (h_data['tf'] + a_data['tf'])\n",
      "/var/folders/xk/jz0njgws4vqcw913r_s9rxkr0000gn/T/ipykernel_62044/1636465878.py:42: RuntimeWarning: invalid value encountered in double_scalars\n",
      "  output_data['tf'] = h_data['tf'] / (h_data['tf'] + a_data['tf'])\n"
     ]
    },
    {
     "name": "stdout",
     "output_type": "stream",
     "text": [
      "S23G01N266\n",
      "S23G01N267\n",
      "S23G01N268\n"
     ]
    },
    {
     "name": "stderr",
     "output_type": "stream",
     "text": [
      "/var/folders/xk/jz0njgws4vqcw913r_s9rxkr0000gn/T/ipykernel_62044/1636465878.py:42: RuntimeWarning: invalid value encountered in double_scalars\n",
      "  output_data['tf'] = h_data['tf'] / (h_data['tf'] + a_data['tf'])\n",
      "/var/folders/xk/jz0njgws4vqcw913r_s9rxkr0000gn/T/ipykernel_62044/1636465878.py:42: RuntimeWarning: invalid value encountered in double_scalars\n",
      "  output_data['tf'] = h_data['tf'] / (h_data['tf'] + a_data['tf'])\n"
     ]
    },
    {
     "name": "stdout",
     "output_type": "stream",
     "text": [
      "S23G01N269\n",
      "S23G01N270\n"
     ]
    },
    {
     "name": "stderr",
     "output_type": "stream",
     "text": [
      "/var/folders/xk/jz0njgws4vqcw913r_s9rxkr0000gn/T/ipykernel_62044/1636465878.py:42: RuntimeWarning: invalid value encountered in double_scalars\n",
      "  output_data['tf'] = h_data['tf'] / (h_data['tf'] + a_data['tf'])\n",
      "/var/folders/xk/jz0njgws4vqcw913r_s9rxkr0000gn/T/ipykernel_62044/1636465878.py:42: RuntimeWarning: invalid value encountered in double_scalars\n",
      "  output_data['tf'] = h_data['tf'] / (h_data['tf'] + a_data['tf'])\n"
     ]
    },
    {
     "name": "stdout",
     "output_type": "stream",
     "text": [
      "S23G03N1\n"
     ]
    },
    {
     "name": "stderr",
     "output_type": "stream",
     "text": [
      "/var/folders/xk/jz0njgws4vqcw913r_s9rxkr0000gn/T/ipykernel_62044/1636465878.py:42: RuntimeWarning: invalid value encountered in double_scalars\n",
      "  output_data['tf'] = h_data['tf'] / (h_data['tf'] + a_data['tf'])\n",
      "/var/folders/xk/jz0njgws4vqcw913r_s9rxkr0000gn/T/ipykernel_62044/1636465878.py:42: RuntimeWarning: invalid value encountered in double_scalars\n",
      "  output_data['tf'] = h_data['tf'] / (h_data['tf'] + a_data['tf'])\n"
     ]
    },
    {
     "name": "stdout",
     "output_type": "stream",
     "text": [
      "S23G03N2\n"
     ]
    },
    {
     "name": "stderr",
     "output_type": "stream",
     "text": [
      "/var/folders/xk/jz0njgws4vqcw913r_s9rxkr0000gn/T/ipykernel_62044/1636465878.py:42: RuntimeWarning: invalid value encountered in double_scalars\n",
      "  output_data['tf'] = h_data['tf'] / (h_data['tf'] + a_data['tf'])\n",
      "/var/folders/xk/jz0njgws4vqcw913r_s9rxkr0000gn/T/ipykernel_62044/1636465878.py:42: RuntimeWarning: invalid value encountered in double_scalars\n",
      "  output_data['tf'] = h_data['tf'] / (h_data['tf'] + a_data['tf'])\n"
     ]
    },
    {
     "name": "stdout",
     "output_type": "stream",
     "text": [
      "S23G03N3\n"
     ]
    },
    {
     "name": "stderr",
     "output_type": "stream",
     "text": [
      "/var/folders/xk/jz0njgws4vqcw913r_s9rxkr0000gn/T/ipykernel_62044/1636465878.py:42: RuntimeWarning: invalid value encountered in double_scalars\n",
      "  output_data['tf'] = h_data['tf'] / (h_data['tf'] + a_data['tf'])\n",
      "/var/folders/xk/jz0njgws4vqcw913r_s9rxkr0000gn/T/ipykernel_62044/1636465878.py:42: RuntimeWarning: invalid value encountered in double_scalars\n",
      "  output_data['tf'] = h_data['tf'] / (h_data['tf'] + a_data['tf'])\n"
     ]
    },
    {
     "name": "stdout",
     "output_type": "stream",
     "text": [
      "S23G03N4\n"
     ]
    },
    {
     "name": "stderr",
     "output_type": "stream",
     "text": [
      "/var/folders/xk/jz0njgws4vqcw913r_s9rxkr0000gn/T/ipykernel_62044/1636465878.py:42: RuntimeWarning: invalid value encountered in double_scalars\n",
      "  output_data['tf'] = h_data['tf'] / (h_data['tf'] + a_data['tf'])\n",
      "/var/folders/xk/jz0njgws4vqcw913r_s9rxkr0000gn/T/ipykernel_62044/1636465878.py:42: RuntimeWarning: invalid value encountered in double_scalars\n",
      "  output_data['tf'] = h_data['tf'] / (h_data['tf'] + a_data['tf'])\n"
     ]
    },
    {
     "name": "stdout",
     "output_type": "stream",
     "text": [
      "S23G03N5\n"
     ]
    },
    {
     "name": "stderr",
     "output_type": "stream",
     "text": [
      "/var/folders/xk/jz0njgws4vqcw913r_s9rxkr0000gn/T/ipykernel_62044/1636465878.py:42: RuntimeWarning: invalid value encountered in double_scalars\n",
      "  output_data['tf'] = h_data['tf'] / (h_data['tf'] + a_data['tf'])\n",
      "/var/folders/xk/jz0njgws4vqcw913r_s9rxkr0000gn/T/ipykernel_62044/1636465878.py:42: RuntimeWarning: invalid value encountered in double_scalars\n",
      "  output_data['tf'] = h_data['tf'] / (h_data['tf'] + a_data['tf'])\n"
     ]
    },
    {
     "name": "stdout",
     "output_type": "stream",
     "text": [
      "S23G03N6\n"
     ]
    },
    {
     "name": "stderr",
     "output_type": "stream",
     "text": [
      "/var/folders/xk/jz0njgws4vqcw913r_s9rxkr0000gn/T/ipykernel_62044/1636465878.py:42: RuntimeWarning: invalid value encountered in double_scalars\n",
      "  output_data['tf'] = h_data['tf'] / (h_data['tf'] + a_data['tf'])\n",
      "/var/folders/xk/jz0njgws4vqcw913r_s9rxkr0000gn/T/ipykernel_62044/1636465878.py:42: RuntimeWarning: invalid value encountered in double_scalars\n",
      "  output_data['tf'] = h_data['tf'] / (h_data['tf'] + a_data['tf'])\n"
     ]
    },
    {
     "name": "stdout",
     "output_type": "stream",
     "text": [
      "S23G03N7\n"
     ]
    },
    {
     "name": "stderr",
     "output_type": "stream",
     "text": [
      "/var/folders/xk/jz0njgws4vqcw913r_s9rxkr0000gn/T/ipykernel_62044/1636465878.py:42: RuntimeWarning: invalid value encountered in double_scalars\n",
      "  output_data['tf'] = h_data['tf'] / (h_data['tf'] + a_data['tf'])\n",
      "/var/folders/xk/jz0njgws4vqcw913r_s9rxkr0000gn/T/ipykernel_62044/1636465878.py:42: RuntimeWarning: invalid value encountered in double_scalars\n",
      "  output_data['tf'] = h_data['tf'] / (h_data['tf'] + a_data['tf'])\n"
     ]
    },
    {
     "name": "stdout",
     "output_type": "stream",
     "text": [
      "S23G03N8\n"
     ]
    },
    {
     "name": "stderr",
     "output_type": "stream",
     "text": [
      "/var/folders/xk/jz0njgws4vqcw913r_s9rxkr0000gn/T/ipykernel_62044/1636465878.py:42: RuntimeWarning: invalid value encountered in double_scalars\n",
      "  output_data['tf'] = h_data['tf'] / (h_data['tf'] + a_data['tf'])\n",
      "/var/folders/xk/jz0njgws4vqcw913r_s9rxkr0000gn/T/ipykernel_62044/1636465878.py:42: RuntimeWarning: invalid value encountered in double_scalars\n",
      "  output_data['tf'] = h_data['tf'] / (h_data['tf'] + a_data['tf'])\n"
     ]
    },
    {
     "name": "stdout",
     "output_type": "stream",
     "text": [
      "S23G03N9\n",
      "S23G04N1\n",
      "S23G04N2\n",
      "S23G04N3\n",
      "S23G04N4\n",
      "S23G04N5\n",
      "S23G04N6\n"
     ]
    },
    {
     "name": "stderr",
     "output_type": "stream",
     "text": [
      "/var/folders/xk/jz0njgws4vqcw913r_s9rxkr0000gn/T/ipykernel_62044/1636465878.py:25: RuntimeWarning: invalid value encountered in double_scalars\n",
      "  output_data['dk'] = h_data['dk'] / h_data['dkA']\n",
      "/var/folders/xk/jz0njgws4vqcw913r_s9rxkr0000gn/T/ipykernel_62044/1636465878.py:42: RuntimeWarning: invalid value encountered in double_scalars\n",
      "  output_data['tf'] = h_data['tf'] / (h_data['tf'] + a_data['tf'])\n",
      "/var/folders/xk/jz0njgws4vqcw913r_s9rxkr0000gn/T/ipykernel_62044/1636465878.py:25: RuntimeWarning: invalid value encountered in double_scalars\n",
      "  output_data['dk'] = h_data['dk'] / h_data['dkA']\n",
      "/var/folders/xk/jz0njgws4vqcw913r_s9rxkr0000gn/T/ipykernel_62044/1636465878.py:42: RuntimeWarning: invalid value encountered in double_scalars\n",
      "  output_data['tf'] = h_data['tf'] / (h_data['tf'] + a_data['tf'])\n"
     ]
    },
    {
     "name": "stdout",
     "output_type": "stream",
     "text": [
      "S24G01N1\n"
     ]
    },
    {
     "name": "stderr",
     "output_type": "stream",
     "text": [
      "/var/folders/xk/jz0njgws4vqcw913r_s9rxkr0000gn/T/ipykernel_62044/1636465878.py:25: RuntimeWarning: invalid value encountered in double_scalars\n",
      "  output_data['dk'] = h_data['dk'] / h_data['dkA']\n",
      "/var/folders/xk/jz0njgws4vqcw913r_s9rxkr0000gn/T/ipykernel_62044/1636465878.py:42: RuntimeWarning: invalid value encountered in double_scalars\n",
      "  output_data['tf'] = h_data['tf'] / (h_data['tf'] + a_data['tf'])\n",
      "/var/folders/xk/jz0njgws4vqcw913r_s9rxkr0000gn/T/ipykernel_62044/1636465878.py:25: RuntimeWarning: invalid value encountered in double_scalars\n",
      "  output_data['dk'] = h_data['dk'] / h_data['dkA']\n",
      "/var/folders/xk/jz0njgws4vqcw913r_s9rxkr0000gn/T/ipykernel_62044/1636465878.py:42: RuntimeWarning: invalid value encountered in double_scalars\n",
      "  output_data['tf'] = h_data['tf'] / (h_data['tf'] + a_data['tf'])\n"
     ]
    },
    {
     "name": "stdout",
     "output_type": "stream",
     "text": [
      "S24G01N2\n"
     ]
    },
    {
     "name": "stderr",
     "output_type": "stream",
     "text": [
      "/var/folders/xk/jz0njgws4vqcw913r_s9rxkr0000gn/T/ipykernel_62044/1636465878.py:25: RuntimeWarning: invalid value encountered in double_scalars\n",
      "  output_data['dk'] = h_data['dk'] / h_data['dkA']\n",
      "/var/folders/xk/jz0njgws4vqcw913r_s9rxkr0000gn/T/ipykernel_62044/1636465878.py:42: RuntimeWarning: invalid value encountered in double_scalars\n",
      "  output_data['tf'] = h_data['tf'] / (h_data['tf'] + a_data['tf'])\n",
      "/var/folders/xk/jz0njgws4vqcw913r_s9rxkr0000gn/T/ipykernel_62044/1636465878.py:25: RuntimeWarning: invalid value encountered in double_scalars\n",
      "  output_data['dk'] = h_data['dk'] / h_data['dkA']\n",
      "/var/folders/xk/jz0njgws4vqcw913r_s9rxkr0000gn/T/ipykernel_62044/1636465878.py:42: RuntimeWarning: invalid value encountered in double_scalars\n",
      "  output_data['tf'] = h_data['tf'] / (h_data['tf'] + a_data['tf'])\n"
     ]
    },
    {
     "name": "stdout",
     "output_type": "stream",
     "text": [
      "S24G01N3\n"
     ]
    },
    {
     "name": "stderr",
     "output_type": "stream",
     "text": [
      "/var/folders/xk/jz0njgws4vqcw913r_s9rxkr0000gn/T/ipykernel_62044/1636465878.py:25: RuntimeWarning: invalid value encountered in double_scalars\n",
      "  output_data['dk'] = h_data['dk'] / h_data['dkA']\n",
      "/var/folders/xk/jz0njgws4vqcw913r_s9rxkr0000gn/T/ipykernel_62044/1636465878.py:25: RuntimeWarning: invalid value encountered in double_scalars\n",
      "  output_data['dk'] = h_data['dk'] / h_data['dkA']\n"
     ]
    },
    {
     "name": "stdout",
     "output_type": "stream",
     "text": [
      "S24G01N4\n"
     ]
    },
    {
     "name": "stderr",
     "output_type": "stream",
     "text": [
      "/var/folders/xk/jz0njgws4vqcw913r_s9rxkr0000gn/T/ipykernel_62044/1636465878.py:25: RuntimeWarning: invalid value encountered in double_scalars\n",
      "  output_data['dk'] = h_data['dk'] / h_data['dkA']\n",
      "/var/folders/xk/jz0njgws4vqcw913r_s9rxkr0000gn/T/ipykernel_62044/1636465878.py:25: RuntimeWarning: invalid value encountered in double_scalars\n",
      "  output_data['dk'] = h_data['dk'] / h_data['dkA']\n"
     ]
    },
    {
     "name": "stdout",
     "output_type": "stream",
     "text": [
      "S24G01N5\n"
     ]
    },
    {
     "name": "stderr",
     "output_type": "stream",
     "text": [
      "/var/folders/xk/jz0njgws4vqcw913r_s9rxkr0000gn/T/ipykernel_62044/1636465878.py:25: RuntimeWarning: invalid value encountered in double_scalars\n",
      "  output_data['dk'] = h_data['dk'] / h_data['dkA']\n",
      "/var/folders/xk/jz0njgws4vqcw913r_s9rxkr0000gn/T/ipykernel_62044/1636465878.py:42: RuntimeWarning: invalid value encountered in double_scalars\n",
      "  output_data['tf'] = h_data['tf'] / (h_data['tf'] + a_data['tf'])\n",
      "/var/folders/xk/jz0njgws4vqcw913r_s9rxkr0000gn/T/ipykernel_62044/1636465878.py:25: RuntimeWarning: invalid value encountered in double_scalars\n",
      "  output_data['dk'] = h_data['dk'] / h_data['dkA']\n",
      "/var/folders/xk/jz0njgws4vqcw913r_s9rxkr0000gn/T/ipykernel_62044/1636465878.py:42: RuntimeWarning: invalid value encountered in double_scalars\n",
      "  output_data['tf'] = h_data['tf'] / (h_data['tf'] + a_data['tf'])\n"
     ]
    },
    {
     "name": "stdout",
     "output_type": "stream",
     "text": [
      "S24G01N6\n"
     ]
    },
    {
     "name": "stderr",
     "output_type": "stream",
     "text": [
      "/var/folders/xk/jz0njgws4vqcw913r_s9rxkr0000gn/T/ipykernel_62044/1636465878.py:25: RuntimeWarning: invalid value encountered in double_scalars\n",
      "  output_data['dk'] = h_data['dk'] / h_data['dkA']\n",
      "/var/folders/xk/jz0njgws4vqcw913r_s9rxkr0000gn/T/ipykernel_62044/1636465878.py:42: RuntimeWarning: invalid value encountered in double_scalars\n",
      "  output_data['tf'] = h_data['tf'] / (h_data['tf'] + a_data['tf'])\n",
      "/var/folders/xk/jz0njgws4vqcw913r_s9rxkr0000gn/T/ipykernel_62044/1636465878.py:25: RuntimeWarning: invalid value encountered in double_scalars\n",
      "  output_data['dk'] = h_data['dk'] / h_data['dkA']\n",
      "/var/folders/xk/jz0njgws4vqcw913r_s9rxkr0000gn/T/ipykernel_62044/1636465878.py:42: RuntimeWarning: invalid value encountered in double_scalars\n",
      "  output_data['tf'] = h_data['tf'] / (h_data['tf'] + a_data['tf'])\n"
     ]
    },
    {
     "name": "stdout",
     "output_type": "stream",
     "text": [
      "S24G01N7\n"
     ]
    },
    {
     "name": "stderr",
     "output_type": "stream",
     "text": [
      "/var/folders/xk/jz0njgws4vqcw913r_s9rxkr0000gn/T/ipykernel_62044/1636465878.py:25: RuntimeWarning: invalid value encountered in double_scalars\n",
      "  output_data['dk'] = h_data['dk'] / h_data['dkA']\n",
      "/var/folders/xk/jz0njgws4vqcw913r_s9rxkr0000gn/T/ipykernel_62044/1636465878.py:43: RuntimeWarning: invalid value encountered in double_scalars\n",
      "  output_data['gd'] = h_data['gd'] / (h_data['gd'] + a_data['gd'])\n",
      "/var/folders/xk/jz0njgws4vqcw913r_s9rxkr0000gn/T/ipykernel_62044/1636465878.py:25: RuntimeWarning: invalid value encountered in double_scalars\n",
      "  output_data['dk'] = h_data['dk'] / h_data['dkA']\n",
      "/var/folders/xk/jz0njgws4vqcw913r_s9rxkr0000gn/T/ipykernel_62044/1636465878.py:43: RuntimeWarning: invalid value encountered in double_scalars\n",
      "  output_data['gd'] = h_data['gd'] / (h_data['gd'] + a_data['gd'])\n"
     ]
    },
    {
     "name": "stdout",
     "output_type": "stream",
     "text": [
      "S24G01N8\n"
     ]
    },
    {
     "name": "stderr",
     "output_type": "stream",
     "text": [
      "/var/folders/xk/jz0njgws4vqcw913r_s9rxkr0000gn/T/ipykernel_62044/1636465878.py:25: RuntimeWarning: invalid value encountered in double_scalars\n",
      "  output_data['dk'] = h_data['dk'] / h_data['dkA']\n",
      "/var/folders/xk/jz0njgws4vqcw913r_s9rxkr0000gn/T/ipykernel_62044/1636465878.py:25: RuntimeWarning: invalid value encountered in double_scalars\n",
      "  output_data['dk'] = h_data['dk'] / h_data['dkA']\n"
     ]
    },
    {
     "name": "stdout",
     "output_type": "stream",
     "text": [
      "S24G01N9\n"
     ]
    },
    {
     "name": "stderr",
     "output_type": "stream",
     "text": [
      "/var/folders/xk/jz0njgws4vqcw913r_s9rxkr0000gn/T/ipykernel_62044/1636465878.py:25: RuntimeWarning: invalid value encountered in double_scalars\n",
      "  output_data['dk'] = h_data['dk'] / h_data['dkA']\n",
      "/var/folders/xk/jz0njgws4vqcw913r_s9rxkr0000gn/T/ipykernel_62044/1636465878.py:42: RuntimeWarning: invalid value encountered in double_scalars\n",
      "  output_data['tf'] = h_data['tf'] / (h_data['tf'] + a_data['tf'])\n",
      "/var/folders/xk/jz0njgws4vqcw913r_s9rxkr0000gn/T/ipykernel_62044/1636465878.py:25: RuntimeWarning: invalid value encountered in double_scalars\n",
      "  output_data['dk'] = h_data['dk'] / h_data['dkA']\n",
      "/var/folders/xk/jz0njgws4vqcw913r_s9rxkr0000gn/T/ipykernel_62044/1636465878.py:42: RuntimeWarning: invalid value encountered in double_scalars\n",
      "  output_data['tf'] = h_data['tf'] / (h_data['tf'] + a_data['tf'])\n"
     ]
    },
    {
     "name": "stdout",
     "output_type": "stream",
     "text": [
      "S24G01N10\n"
     ]
    },
    {
     "name": "stderr",
     "output_type": "stream",
     "text": [
      "/var/folders/xk/jz0njgws4vqcw913r_s9rxkr0000gn/T/ipykernel_62044/1636465878.py:25: RuntimeWarning: invalid value encountered in double_scalars\n",
      "  output_data['dk'] = h_data['dk'] / h_data['dkA']\n",
      "/var/folders/xk/jz0njgws4vqcw913r_s9rxkr0000gn/T/ipykernel_62044/1636465878.py:42: RuntimeWarning: invalid value encountered in double_scalars\n",
      "  output_data['tf'] = h_data['tf'] / (h_data['tf'] + a_data['tf'])\n",
      "/var/folders/xk/jz0njgws4vqcw913r_s9rxkr0000gn/T/ipykernel_62044/1636465878.py:25: RuntimeWarning: invalid value encountered in double_scalars\n",
      "  output_data['dk'] = h_data['dk'] / h_data['dkA']\n",
      "/var/folders/xk/jz0njgws4vqcw913r_s9rxkr0000gn/T/ipykernel_62044/1636465878.py:42: RuntimeWarning: invalid value encountered in double_scalars\n",
      "  output_data['tf'] = h_data['tf'] / (h_data['tf'] + a_data['tf'])\n"
     ]
    },
    {
     "name": "stdout",
     "output_type": "stream",
     "text": [
      "S24G01N11\n"
     ]
    },
    {
     "name": "stderr",
     "output_type": "stream",
     "text": [
      "/var/folders/xk/jz0njgws4vqcw913r_s9rxkr0000gn/T/ipykernel_62044/1636465878.py:25: RuntimeWarning: invalid value encountered in double_scalars\n",
      "  output_data['dk'] = h_data['dk'] / h_data['dkA']\n",
      "/var/folders/xk/jz0njgws4vqcw913r_s9rxkr0000gn/T/ipykernel_62044/1636465878.py:42: RuntimeWarning: invalid value encountered in double_scalars\n",
      "  output_data['tf'] = h_data['tf'] / (h_data['tf'] + a_data['tf'])\n",
      "/var/folders/xk/jz0njgws4vqcw913r_s9rxkr0000gn/T/ipykernel_62044/1636465878.py:25: RuntimeWarning: invalid value encountered in double_scalars\n",
      "  output_data['dk'] = h_data['dk'] / h_data['dkA']\n",
      "/var/folders/xk/jz0njgws4vqcw913r_s9rxkr0000gn/T/ipykernel_62044/1636465878.py:42: RuntimeWarning: invalid value encountered in double_scalars\n",
      "  output_data['tf'] = h_data['tf'] / (h_data['tf'] + a_data['tf'])\n"
     ]
    },
    {
     "name": "stdout",
     "output_type": "stream",
     "text": [
      "S24G01N12\n"
     ]
    },
    {
     "name": "stderr",
     "output_type": "stream",
     "text": [
      "/var/folders/xk/jz0njgws4vqcw913r_s9rxkr0000gn/T/ipykernel_62044/1636465878.py:25: RuntimeWarning: invalid value encountered in double_scalars\n",
      "  output_data['dk'] = h_data['dk'] / h_data['dkA']\n",
      "/var/folders/xk/jz0njgws4vqcw913r_s9rxkr0000gn/T/ipykernel_62044/1636465878.py:42: RuntimeWarning: invalid value encountered in double_scalars\n",
      "  output_data['tf'] = h_data['tf'] / (h_data['tf'] + a_data['tf'])\n",
      "/var/folders/xk/jz0njgws4vqcw913r_s9rxkr0000gn/T/ipykernel_62044/1636465878.py:25: RuntimeWarning: invalid value encountered in double_scalars\n",
      "  output_data['dk'] = h_data['dk'] / h_data['dkA']\n",
      "/var/folders/xk/jz0njgws4vqcw913r_s9rxkr0000gn/T/ipykernel_62044/1636465878.py:42: RuntimeWarning: invalid value encountered in double_scalars\n",
      "  output_data['tf'] = h_data['tf'] / (h_data['tf'] + a_data['tf'])\n"
     ]
    },
    {
     "name": "stdout",
     "output_type": "stream",
     "text": [
      "S24G01N13\n"
     ]
    },
    {
     "name": "stderr",
     "output_type": "stream",
     "text": [
      "/var/folders/xk/jz0njgws4vqcw913r_s9rxkr0000gn/T/ipykernel_62044/1636465878.py:25: RuntimeWarning: invalid value encountered in double_scalars\n",
      "  output_data['dk'] = h_data['dk'] / h_data['dkA']\n",
      "/var/folders/xk/jz0njgws4vqcw913r_s9rxkr0000gn/T/ipykernel_62044/1636465878.py:42: RuntimeWarning: invalid value encountered in double_scalars\n",
      "  output_data['tf'] = h_data['tf'] / (h_data['tf'] + a_data['tf'])\n",
      "/var/folders/xk/jz0njgws4vqcw913r_s9rxkr0000gn/T/ipykernel_62044/1636465878.py:25: RuntimeWarning: invalid value encountered in double_scalars\n",
      "  output_data['dk'] = h_data['dk'] / h_data['dkA']\n",
      "/var/folders/xk/jz0njgws4vqcw913r_s9rxkr0000gn/T/ipykernel_62044/1636465878.py:42: RuntimeWarning: invalid value encountered in double_scalars\n",
      "  output_data['tf'] = h_data['tf'] / (h_data['tf'] + a_data['tf'])\n"
     ]
    },
    {
     "name": "stdout",
     "output_type": "stream",
     "text": [
      "S24G01N14\n"
     ]
    },
    {
     "name": "stderr",
     "output_type": "stream",
     "text": [
      "/var/folders/xk/jz0njgws4vqcw913r_s9rxkr0000gn/T/ipykernel_62044/1636465878.py:25: RuntimeWarning: invalid value encountered in double_scalars\n",
      "  output_data['dk'] = h_data['dk'] / h_data['dkA']\n",
      "/var/folders/xk/jz0njgws4vqcw913r_s9rxkr0000gn/T/ipykernel_62044/1636465878.py:42: RuntimeWarning: invalid value encountered in double_scalars\n",
      "  output_data['tf'] = h_data['tf'] / (h_data['tf'] + a_data['tf'])\n",
      "/var/folders/xk/jz0njgws4vqcw913r_s9rxkr0000gn/T/ipykernel_62044/1636465878.py:25: RuntimeWarning: invalid value encountered in double_scalars\n",
      "  output_data['dk'] = h_data['dk'] / h_data['dkA']\n",
      "/var/folders/xk/jz0njgws4vqcw913r_s9rxkr0000gn/T/ipykernel_62044/1636465878.py:42: RuntimeWarning: invalid value encountered in double_scalars\n",
      "  output_data['tf'] = h_data['tf'] / (h_data['tf'] + a_data['tf'])\n"
     ]
    },
    {
     "name": "stdout",
     "output_type": "stream",
     "text": [
      "S24G01N15\n"
     ]
    },
    {
     "name": "stderr",
     "output_type": "stream",
     "text": [
      "/var/folders/xk/jz0njgws4vqcw913r_s9rxkr0000gn/T/ipykernel_62044/1636465878.py:25: RuntimeWarning: invalid value encountered in double_scalars\n",
      "  output_data['dk'] = h_data['dk'] / h_data['dkA']\n",
      "/var/folders/xk/jz0njgws4vqcw913r_s9rxkr0000gn/T/ipykernel_62044/1636465878.py:42: RuntimeWarning: invalid value encountered in double_scalars\n",
      "  output_data['tf'] = h_data['tf'] / (h_data['tf'] + a_data['tf'])\n",
      "/var/folders/xk/jz0njgws4vqcw913r_s9rxkr0000gn/T/ipykernel_62044/1636465878.py:25: RuntimeWarning: invalid value encountered in double_scalars\n",
      "  output_data['dk'] = h_data['dk'] / h_data['dkA']\n",
      "/var/folders/xk/jz0njgws4vqcw913r_s9rxkr0000gn/T/ipykernel_62044/1636465878.py:42: RuntimeWarning: invalid value encountered in double_scalars\n",
      "  output_data['tf'] = h_data['tf'] / (h_data['tf'] + a_data['tf'])\n"
     ]
    },
    {
     "name": "stdout",
     "output_type": "stream",
     "text": [
      "S24G01N16\n"
     ]
    },
    {
     "name": "stderr",
     "output_type": "stream",
     "text": [
      "/var/folders/xk/jz0njgws4vqcw913r_s9rxkr0000gn/T/ipykernel_62044/1636465878.py:25: RuntimeWarning: invalid value encountered in double_scalars\n",
      "  output_data['dk'] = h_data['dk'] / h_data['dkA']\n",
      "/var/folders/xk/jz0njgws4vqcw913r_s9rxkr0000gn/T/ipykernel_62044/1636465878.py:42: RuntimeWarning: invalid value encountered in double_scalars\n",
      "  output_data['tf'] = h_data['tf'] / (h_data['tf'] + a_data['tf'])\n",
      "/var/folders/xk/jz0njgws4vqcw913r_s9rxkr0000gn/T/ipykernel_62044/1636465878.py:25: RuntimeWarning: invalid value encountered in double_scalars\n",
      "  output_data['dk'] = h_data['dk'] / h_data['dkA']\n",
      "/var/folders/xk/jz0njgws4vqcw913r_s9rxkr0000gn/T/ipykernel_62044/1636465878.py:42: RuntimeWarning: invalid value encountered in double_scalars\n",
      "  output_data['tf'] = h_data['tf'] / (h_data['tf'] + a_data['tf'])\n"
     ]
    },
    {
     "name": "stdout",
     "output_type": "stream",
     "text": [
      "S24G01N17\n"
     ]
    },
    {
     "name": "stderr",
     "output_type": "stream",
     "text": [
      "/var/folders/xk/jz0njgws4vqcw913r_s9rxkr0000gn/T/ipykernel_62044/1636465878.py:25: RuntimeWarning: invalid value encountered in double_scalars\n",
      "  output_data['dk'] = h_data['dk'] / h_data['dkA']\n",
      "/var/folders/xk/jz0njgws4vqcw913r_s9rxkr0000gn/T/ipykernel_62044/1636465878.py:42: RuntimeWarning: invalid value encountered in double_scalars\n",
      "  output_data['tf'] = h_data['tf'] / (h_data['tf'] + a_data['tf'])\n",
      "/var/folders/xk/jz0njgws4vqcw913r_s9rxkr0000gn/T/ipykernel_62044/1636465878.py:25: RuntimeWarning: invalid value encountered in double_scalars\n",
      "  output_data['dk'] = h_data['dk'] / h_data['dkA']\n",
      "/var/folders/xk/jz0njgws4vqcw913r_s9rxkr0000gn/T/ipykernel_62044/1636465878.py:42: RuntimeWarning: invalid value encountered in double_scalars\n",
      "  output_data['tf'] = h_data['tf'] / (h_data['tf'] + a_data['tf'])\n"
     ]
    },
    {
     "name": "stdout",
     "output_type": "stream",
     "text": [
      "S24G01N18\n"
     ]
    },
    {
     "name": "stderr",
     "output_type": "stream",
     "text": [
      "/var/folders/xk/jz0njgws4vqcw913r_s9rxkr0000gn/T/ipykernel_62044/1636465878.py:25: RuntimeWarning: invalid value encountered in double_scalars\n",
      "  output_data['dk'] = h_data['dk'] / h_data['dkA']\n",
      "/var/folders/xk/jz0njgws4vqcw913r_s9rxkr0000gn/T/ipykernel_62044/1636465878.py:42: RuntimeWarning: invalid value encountered in double_scalars\n",
      "  output_data['tf'] = h_data['tf'] / (h_data['tf'] + a_data['tf'])\n",
      "/var/folders/xk/jz0njgws4vqcw913r_s9rxkr0000gn/T/ipykernel_62044/1636465878.py:25: RuntimeWarning: invalid value encountered in double_scalars\n",
      "  output_data['dk'] = h_data['dk'] / h_data['dkA']\n",
      "/var/folders/xk/jz0njgws4vqcw913r_s9rxkr0000gn/T/ipykernel_62044/1636465878.py:42: RuntimeWarning: invalid value encountered in double_scalars\n",
      "  output_data['tf'] = h_data['tf'] / (h_data['tf'] + a_data['tf'])\n"
     ]
    },
    {
     "name": "stdout",
     "output_type": "stream",
     "text": [
      "S24G01N19\n"
     ]
    },
    {
     "name": "stderr",
     "output_type": "stream",
     "text": [
      "/var/folders/xk/jz0njgws4vqcw913r_s9rxkr0000gn/T/ipykernel_62044/1636465878.py:25: RuntimeWarning: invalid value encountered in double_scalars\n",
      "  output_data['dk'] = h_data['dk'] / h_data['dkA']\n",
      "/var/folders/xk/jz0njgws4vqcw913r_s9rxkr0000gn/T/ipykernel_62044/1636465878.py:25: RuntimeWarning: invalid value encountered in double_scalars\n",
      "  output_data['dk'] = h_data['dk'] / h_data['dkA']\n"
     ]
    },
    {
     "name": "stdout",
     "output_type": "stream",
     "text": [
      "S24G01N20\n"
     ]
    },
    {
     "name": "stderr",
     "output_type": "stream",
     "text": [
      "/var/folders/xk/jz0njgws4vqcw913r_s9rxkr0000gn/T/ipykernel_62044/1636465878.py:25: RuntimeWarning: invalid value encountered in double_scalars\n",
      "  output_data['dk'] = h_data['dk'] / h_data['dkA']\n",
      "/var/folders/xk/jz0njgws4vqcw913r_s9rxkr0000gn/T/ipykernel_62044/1636465878.py:25: RuntimeWarning: invalid value encountered in double_scalars\n",
      "  output_data['dk'] = h_data['dk'] / h_data['dkA']\n"
     ]
    },
    {
     "name": "stdout",
     "output_type": "stream",
     "text": [
      "S24G01N21\n"
     ]
    },
    {
     "name": "stderr",
     "output_type": "stream",
     "text": [
      "/var/folders/xk/jz0njgws4vqcw913r_s9rxkr0000gn/T/ipykernel_62044/1636465878.py:25: RuntimeWarning: invalid value encountered in double_scalars\n",
      "  output_data['dk'] = h_data['dk'] / h_data['dkA']\n",
      "/var/folders/xk/jz0njgws4vqcw913r_s9rxkr0000gn/T/ipykernel_62044/1636465878.py:42: RuntimeWarning: invalid value encountered in double_scalars\n",
      "  output_data['tf'] = h_data['tf'] / (h_data['tf'] + a_data['tf'])\n",
      "/var/folders/xk/jz0njgws4vqcw913r_s9rxkr0000gn/T/ipykernel_62044/1636465878.py:25: RuntimeWarning: invalid value encountered in double_scalars\n",
      "  output_data['dk'] = h_data['dk'] / h_data['dkA']\n",
      "/var/folders/xk/jz0njgws4vqcw913r_s9rxkr0000gn/T/ipykernel_62044/1636465878.py:42: RuntimeWarning: invalid value encountered in double_scalars\n",
      "  output_data['tf'] = h_data['tf'] / (h_data['tf'] + a_data['tf'])\n"
     ]
    },
    {
     "name": "stdout",
     "output_type": "stream",
     "text": [
      "S24G01N22\n"
     ]
    },
    {
     "name": "stderr",
     "output_type": "stream",
     "text": [
      "/var/folders/xk/jz0njgws4vqcw913r_s9rxkr0000gn/T/ipykernel_62044/1636465878.py:25: RuntimeWarning: invalid value encountered in double_scalars\n",
      "  output_data['dk'] = h_data['dk'] / h_data['dkA']\n",
      "/var/folders/xk/jz0njgws4vqcw913r_s9rxkr0000gn/T/ipykernel_62044/1636465878.py:42: RuntimeWarning: invalid value encountered in double_scalars\n",
      "  output_data['tf'] = h_data['tf'] / (h_data['tf'] + a_data['tf'])\n",
      "/var/folders/xk/jz0njgws4vqcw913r_s9rxkr0000gn/T/ipykernel_62044/1636465878.py:25: RuntimeWarning: invalid value encountered in double_scalars\n",
      "  output_data['dk'] = h_data['dk'] / h_data['dkA']\n",
      "/var/folders/xk/jz0njgws4vqcw913r_s9rxkr0000gn/T/ipykernel_62044/1636465878.py:42: RuntimeWarning: invalid value encountered in double_scalars\n",
      "  output_data['tf'] = h_data['tf'] / (h_data['tf'] + a_data['tf'])\n"
     ]
    },
    {
     "name": "stdout",
     "output_type": "stream",
     "text": [
      "S24G01N23\n"
     ]
    },
    {
     "name": "stderr",
     "output_type": "stream",
     "text": [
      "/var/folders/xk/jz0njgws4vqcw913r_s9rxkr0000gn/T/ipykernel_62044/1636465878.py:25: RuntimeWarning: invalid value encountered in double_scalars\n",
      "  output_data['dk'] = h_data['dk'] / h_data['dkA']\n",
      "/var/folders/xk/jz0njgws4vqcw913r_s9rxkr0000gn/T/ipykernel_62044/1636465878.py:25: RuntimeWarning: invalid value encountered in double_scalars\n",
      "  output_data['dk'] = h_data['dk'] / h_data['dkA']\n"
     ]
    },
    {
     "name": "stdout",
     "output_type": "stream",
     "text": [
      "S24G01N24\n"
     ]
    },
    {
     "name": "stderr",
     "output_type": "stream",
     "text": [
      "/var/folders/xk/jz0njgws4vqcw913r_s9rxkr0000gn/T/ipykernel_62044/1636465878.py:25: RuntimeWarning: invalid value encountered in double_scalars\n",
      "  output_data['dk'] = h_data['dk'] / h_data['dkA']\n",
      "/var/folders/xk/jz0njgws4vqcw913r_s9rxkr0000gn/T/ipykernel_62044/1636465878.py:25: RuntimeWarning: invalid value encountered in double_scalars\n",
      "  output_data['dk'] = h_data['dk'] / h_data['dkA']\n"
     ]
    },
    {
     "name": "stdout",
     "output_type": "stream",
     "text": [
      "S24G04N1\n"
     ]
    },
    {
     "name": "stderr",
     "output_type": "stream",
     "text": [
      "/var/folders/xk/jz0njgws4vqcw913r_s9rxkr0000gn/T/ipykernel_62044/1636465878.py:25: RuntimeWarning: invalid value encountered in double_scalars\n",
      "  output_data['dk'] = h_data['dk'] / h_data['dkA']\n",
      "/var/folders/xk/jz0njgws4vqcw913r_s9rxkr0000gn/T/ipykernel_62044/1636465878.py:43: RuntimeWarning: invalid value encountered in double_scalars\n",
      "  output_data['gd'] = h_data['gd'] / (h_data['gd'] + a_data['gd'])\n",
      "/var/folders/xk/jz0njgws4vqcw913r_s9rxkr0000gn/T/ipykernel_62044/1636465878.py:25: RuntimeWarning: invalid value encountered in double_scalars\n",
      "  output_data['dk'] = h_data['dk'] / h_data['dkA']\n",
      "/var/folders/xk/jz0njgws4vqcw913r_s9rxkr0000gn/T/ipykernel_62044/1636465878.py:43: RuntimeWarning: invalid value encountered in double_scalars\n",
      "  output_data['gd'] = h_data['gd'] / (h_data['gd'] + a_data['gd'])\n"
     ]
    },
    {
     "name": "stdout",
     "output_type": "stream",
     "text": [
      "S24G08N1\n"
     ]
    },
    {
     "name": "stderr",
     "output_type": "stream",
     "text": [
      "/var/folders/xk/jz0njgws4vqcw913r_s9rxkr0000gn/T/ipykernel_62044/1636465878.py:25: RuntimeWarning: invalid value encountered in double_scalars\n",
      "  output_data['dk'] = h_data['dk'] / h_data['dkA']\n",
      "/var/folders/xk/jz0njgws4vqcw913r_s9rxkr0000gn/T/ipykernel_62044/1636465878.py:42: RuntimeWarning: invalid value encountered in double_scalars\n",
      "  output_data['tf'] = h_data['tf'] / (h_data['tf'] + a_data['tf'])\n",
      "/var/folders/xk/jz0njgws4vqcw913r_s9rxkr0000gn/T/ipykernel_62044/1636465878.py:25: RuntimeWarning: invalid value encountered in double_scalars\n",
      "  output_data['dk'] = h_data['dk'] / h_data['dkA']\n",
      "/var/folders/xk/jz0njgws4vqcw913r_s9rxkr0000gn/T/ipykernel_62044/1636465878.py:42: RuntimeWarning: invalid value encountered in double_scalars\n",
      "  output_data['tf'] = h_data['tf'] / (h_data['tf'] + a_data['tf'])\n"
     ]
    },
    {
     "name": "stdout",
     "output_type": "stream",
     "text": [
      "S24G08N2\n"
     ]
    },
    {
     "name": "stderr",
     "output_type": "stream",
     "text": [
      "/var/folders/xk/jz0njgws4vqcw913r_s9rxkr0000gn/T/ipykernel_62044/1636465878.py:25: RuntimeWarning: invalid value encountered in double_scalars\n",
      "  output_data['dk'] = h_data['dk'] / h_data['dkA']\n",
      "/var/folders/xk/jz0njgws4vqcw913r_s9rxkr0000gn/T/ipykernel_62044/1636465878.py:25: RuntimeWarning: invalid value encountered in double_scalars\n",
      "  output_data['dk'] = h_data['dk'] / h_data['dkA']\n"
     ]
    },
    {
     "name": "stdout",
     "output_type": "stream",
     "text": [
      "S24G08N3\n"
     ]
    },
    {
     "name": "stderr",
     "output_type": "stream",
     "text": [
      "/var/folders/xk/jz0njgws4vqcw913r_s9rxkr0000gn/T/ipykernel_62044/1636465878.py:25: RuntimeWarning: invalid value encountered in double_scalars\n",
      "  output_data['dk'] = h_data['dk'] / h_data['dkA']\n",
      "/var/folders/xk/jz0njgws4vqcw913r_s9rxkr0000gn/T/ipykernel_62044/1636465878.py:42: RuntimeWarning: invalid value encountered in double_scalars\n",
      "  output_data['tf'] = h_data['tf'] / (h_data['tf'] + a_data['tf'])\n",
      "/var/folders/xk/jz0njgws4vqcw913r_s9rxkr0000gn/T/ipykernel_62044/1636465878.py:25: RuntimeWarning: invalid value encountered in double_scalars\n",
      "  output_data['dk'] = h_data['dk'] / h_data['dkA']\n",
      "/var/folders/xk/jz0njgws4vqcw913r_s9rxkr0000gn/T/ipykernel_62044/1636465878.py:42: RuntimeWarning: invalid value encountered in double_scalars\n",
      "  output_data['tf'] = h_data['tf'] / (h_data['tf'] + a_data['tf'])\n"
     ]
    },
    {
     "name": "stdout",
     "output_type": "stream",
     "text": [
      "S24G08N4\n"
     ]
    },
    {
     "name": "stderr",
     "output_type": "stream",
     "text": [
      "/var/folders/xk/jz0njgws4vqcw913r_s9rxkr0000gn/T/ipykernel_62044/1636465878.py:25: RuntimeWarning: invalid value encountered in double_scalars\n",
      "  output_data['dk'] = h_data['dk'] / h_data['dkA']\n",
      "/var/folders/xk/jz0njgws4vqcw913r_s9rxkr0000gn/T/ipykernel_62044/1636465878.py:25: RuntimeWarning: invalid value encountered in double_scalars\n",
      "  output_data['dk'] = h_data['dk'] / h_data['dkA']\n"
     ]
    },
    {
     "name": "stdout",
     "output_type": "stream",
     "text": [
      "S24G08N5\n"
     ]
    },
    {
     "name": "stderr",
     "output_type": "stream",
     "text": [
      "/var/folders/xk/jz0njgws4vqcw913r_s9rxkr0000gn/T/ipykernel_62044/1636465878.py:25: RuntimeWarning: invalid value encountered in double_scalars\n",
      "  output_data['dk'] = h_data['dk'] / h_data['dkA']\n",
      "/var/folders/xk/jz0njgws4vqcw913r_s9rxkr0000gn/T/ipykernel_62044/1636465878.py:43: RuntimeWarning: invalid value encountered in double_scalars\n",
      "  output_data['gd'] = h_data['gd'] / (h_data['gd'] + a_data['gd'])\n",
      "/var/folders/xk/jz0njgws4vqcw913r_s9rxkr0000gn/T/ipykernel_62044/1636465878.py:25: RuntimeWarning: invalid value encountered in double_scalars\n",
      "  output_data['dk'] = h_data['dk'] / h_data['dkA']\n",
      "/var/folders/xk/jz0njgws4vqcw913r_s9rxkr0000gn/T/ipykernel_62044/1636465878.py:43: RuntimeWarning: invalid value encountered in double_scalars\n",
      "  output_data['gd'] = h_data['gd'] / (h_data['gd'] + a_data['gd'])\n"
     ]
    },
    {
     "name": "stdout",
     "output_type": "stream",
     "text": [
      "S24G08N6\n"
     ]
    },
    {
     "name": "stderr",
     "output_type": "stream",
     "text": [
      "/var/folders/xk/jz0njgws4vqcw913r_s9rxkr0000gn/T/ipykernel_62044/1636465878.py:25: RuntimeWarning: invalid value encountered in double_scalars\n",
      "  output_data['dk'] = h_data['dk'] / h_data['dkA']\n",
      "/var/folders/xk/jz0njgws4vqcw913r_s9rxkr0000gn/T/ipykernel_62044/1636465878.py:25: RuntimeWarning: invalid value encountered in double_scalars\n",
      "  output_data['dk'] = h_data['dk'] / h_data['dkA']\n"
     ]
    },
    {
     "name": "stdout",
     "output_type": "stream",
     "text": [
      "S24G08N7\n"
     ]
    },
    {
     "name": "stderr",
     "output_type": "stream",
     "text": [
      "/var/folders/xk/jz0njgws4vqcw913r_s9rxkr0000gn/T/ipykernel_62044/1636465878.py:25: RuntimeWarning: invalid value encountered in double_scalars\n",
      "  output_data['dk'] = h_data['dk'] / h_data['dkA']\n",
      "/var/folders/xk/jz0njgws4vqcw913r_s9rxkr0000gn/T/ipykernel_62044/1636465878.py:43: RuntimeWarning: invalid value encountered in double_scalars\n",
      "  output_data['gd'] = h_data['gd'] / (h_data['gd'] + a_data['gd'])\n",
      "/var/folders/xk/jz0njgws4vqcw913r_s9rxkr0000gn/T/ipykernel_62044/1636465878.py:25: RuntimeWarning: invalid value encountered in double_scalars\n",
      "  output_data['dk'] = h_data['dk'] / h_data['dkA']\n",
      "/var/folders/xk/jz0njgws4vqcw913r_s9rxkr0000gn/T/ipykernel_62044/1636465878.py:43: RuntimeWarning: invalid value encountered in double_scalars\n",
      "  output_data['gd'] = h_data['gd'] / (h_data['gd'] + a_data['gd'])\n"
     ]
    },
    {
     "name": "stdout",
     "output_type": "stream",
     "text": [
      "S24G08N8\n"
     ]
    },
    {
     "name": "stderr",
     "output_type": "stream",
     "text": [
      "/var/folders/xk/jz0njgws4vqcw913r_s9rxkr0000gn/T/ipykernel_62044/1636465878.py:25: RuntimeWarning: invalid value encountered in double_scalars\n",
      "  output_data['dk'] = h_data['dk'] / h_data['dkA']\n",
      "/var/folders/xk/jz0njgws4vqcw913r_s9rxkr0000gn/T/ipykernel_62044/1636465878.py:42: RuntimeWarning: invalid value encountered in double_scalars\n",
      "  output_data['tf'] = h_data['tf'] / (h_data['tf'] + a_data['tf'])\n",
      "/var/folders/xk/jz0njgws4vqcw913r_s9rxkr0000gn/T/ipykernel_62044/1636465878.py:25: RuntimeWarning: invalid value encountered in double_scalars\n",
      "  output_data['dk'] = h_data['dk'] / h_data['dkA']\n",
      "/var/folders/xk/jz0njgws4vqcw913r_s9rxkr0000gn/T/ipykernel_62044/1636465878.py:42: RuntimeWarning: invalid value encountered in double_scalars\n",
      "  output_data['tf'] = h_data['tf'] / (h_data['tf'] + a_data['tf'])\n"
     ]
    },
    {
     "name": "stdout",
     "output_type": "stream",
     "text": [
      "S24G08N9\n",
      "S25G01N1\n"
     ]
    },
    {
     "name": "stderr",
     "output_type": "stream",
     "text": [
      "/var/folders/xk/jz0njgws4vqcw913r_s9rxkr0000gn/T/ipykernel_62044/1636465878.py:42: RuntimeWarning: invalid value encountered in double_scalars\n",
      "  output_data['tf'] = h_data['tf'] / (h_data['tf'] + a_data['tf'])\n",
      "/var/folders/xk/jz0njgws4vqcw913r_s9rxkr0000gn/T/ipykernel_62044/1636465878.py:42: RuntimeWarning: invalid value encountered in double_scalars\n",
      "  output_data['tf'] = h_data['tf'] / (h_data['tf'] + a_data['tf'])\n"
     ]
    },
    {
     "name": "stdout",
     "output_type": "stream",
     "text": [
      "S25G01N2\n"
     ]
    },
    {
     "name": "stderr",
     "output_type": "stream",
     "text": [
      "/var/folders/xk/jz0njgws4vqcw913r_s9rxkr0000gn/T/ipykernel_62044/1636465878.py:42: RuntimeWarning: invalid value encountered in double_scalars\n",
      "  output_data['tf'] = h_data['tf'] / (h_data['tf'] + a_data['tf'])\n",
      "/var/folders/xk/jz0njgws4vqcw913r_s9rxkr0000gn/T/ipykernel_62044/1636465878.py:42: RuntimeWarning: invalid value encountered in double_scalars\n",
      "  output_data['tf'] = h_data['tf'] / (h_data['tf'] + a_data['tf'])\n"
     ]
    },
    {
     "name": "stdout",
     "output_type": "stream",
     "text": [
      "S25G01N3\n",
      "S25G01N4\n",
      "S25G01N5\n"
     ]
    },
    {
     "name": "stderr",
     "output_type": "stream",
     "text": [
      "/var/folders/xk/jz0njgws4vqcw913r_s9rxkr0000gn/T/ipykernel_62044/1636465878.py:42: RuntimeWarning: invalid value encountered in double_scalars\n",
      "  output_data['tf'] = h_data['tf'] / (h_data['tf'] + a_data['tf'])\n",
      "/var/folders/xk/jz0njgws4vqcw913r_s9rxkr0000gn/T/ipykernel_62044/1636465878.py:42: RuntimeWarning: invalid value encountered in double_scalars\n",
      "  output_data['tf'] = h_data['tf'] / (h_data['tf'] + a_data['tf'])\n"
     ]
    },
    {
     "name": "stdout",
     "output_type": "stream",
     "text": [
      "S25G01N6\n"
     ]
    },
    {
     "name": "stderr",
     "output_type": "stream",
     "text": [
      "/var/folders/xk/jz0njgws4vqcw913r_s9rxkr0000gn/T/ipykernel_62044/1636465878.py:42: RuntimeWarning: invalid value encountered in double_scalars\n",
      "  output_data['tf'] = h_data['tf'] / (h_data['tf'] + a_data['tf'])\n",
      "/var/folders/xk/jz0njgws4vqcw913r_s9rxkr0000gn/T/ipykernel_62044/1636465878.py:42: RuntimeWarning: invalid value encountered in double_scalars\n",
      "  output_data['tf'] = h_data['tf'] / (h_data['tf'] + a_data['tf'])\n"
     ]
    },
    {
     "name": "stdout",
     "output_type": "stream",
     "text": [
      "S25G01N7\n"
     ]
    },
    {
     "name": "stderr",
     "output_type": "stream",
     "text": [
      "/var/folders/xk/jz0njgws4vqcw913r_s9rxkr0000gn/T/ipykernel_62044/1636465878.py:42: RuntimeWarning: invalid value encountered in double_scalars\n",
      "  output_data['tf'] = h_data['tf'] / (h_data['tf'] + a_data['tf'])\n",
      "/var/folders/xk/jz0njgws4vqcw913r_s9rxkr0000gn/T/ipykernel_62044/1636465878.py:42: RuntimeWarning: invalid value encountered in double_scalars\n",
      "  output_data['tf'] = h_data['tf'] / (h_data['tf'] + a_data['tf'])\n"
     ]
    },
    {
     "name": "stdout",
     "output_type": "stream",
     "text": [
      "S25G01N8\n",
      "S25G01N9\n"
     ]
    },
    {
     "name": "stderr",
     "output_type": "stream",
     "text": [
      "/var/folders/xk/jz0njgws4vqcw913r_s9rxkr0000gn/T/ipykernel_62044/1636465878.py:42: RuntimeWarning: invalid value encountered in double_scalars\n",
      "  output_data['tf'] = h_data['tf'] / (h_data['tf'] + a_data['tf'])\n",
      "/var/folders/xk/jz0njgws4vqcw913r_s9rxkr0000gn/T/ipykernel_62044/1636465878.py:42: RuntimeWarning: invalid value encountered in double_scalars\n",
      "  output_data['tf'] = h_data['tf'] / (h_data['tf'] + a_data['tf'])\n"
     ]
    },
    {
     "name": "stdout",
     "output_type": "stream",
     "text": [
      "S25G01N10\n",
      "S25G01N11\n"
     ]
    },
    {
     "name": "stderr",
     "output_type": "stream",
     "text": [
      "/var/folders/xk/jz0njgws4vqcw913r_s9rxkr0000gn/T/ipykernel_62044/1636465878.py:42: RuntimeWarning: invalid value encountered in double_scalars\n",
      "  output_data['tf'] = h_data['tf'] / (h_data['tf'] + a_data['tf'])\n",
      "/var/folders/xk/jz0njgws4vqcw913r_s9rxkr0000gn/T/ipykernel_62044/1636465878.py:42: RuntimeWarning: invalid value encountered in double_scalars\n",
      "  output_data['tf'] = h_data['tf'] / (h_data['tf'] + a_data['tf'])\n"
     ]
    },
    {
     "name": "stdout",
     "output_type": "stream",
     "text": [
      "S25G01N12\n"
     ]
    },
    {
     "name": "stderr",
     "output_type": "stream",
     "text": [
      "/var/folders/xk/jz0njgws4vqcw913r_s9rxkr0000gn/T/ipykernel_62044/1636465878.py:25: RuntimeWarning: invalid value encountered in double_scalars\n",
      "  output_data['dk'] = h_data['dk'] / h_data['dkA']\n"
     ]
    },
    {
     "name": "stdout",
     "output_type": "stream",
     "text": [
      "S25G01N13\n",
      "S25G01N14\n",
      "S25G01N15\n",
      "S25G01N16\n",
      "S25G01N17\n"
     ]
    },
    {
     "name": "stderr",
     "output_type": "stream",
     "text": [
      "/var/folders/xk/jz0njgws4vqcw913r_s9rxkr0000gn/T/ipykernel_62044/1636465878.py:42: RuntimeWarning: invalid value encountered in double_scalars\n",
      "  output_data['tf'] = h_data['tf'] / (h_data['tf'] + a_data['tf'])\n",
      "/var/folders/xk/jz0njgws4vqcw913r_s9rxkr0000gn/T/ipykernel_62044/1636465878.py:42: RuntimeWarning: invalid value encountered in double_scalars\n",
      "  output_data['tf'] = h_data['tf'] / (h_data['tf'] + a_data['tf'])\n"
     ]
    },
    {
     "name": "stdout",
     "output_type": "stream",
     "text": [
      "S25G01N18\n"
     ]
    },
    {
     "name": "stderr",
     "output_type": "stream",
     "text": [
      "/var/folders/xk/jz0njgws4vqcw913r_s9rxkr0000gn/T/ipykernel_62044/1636465878.py:42: RuntimeWarning: invalid value encountered in double_scalars\n",
      "  output_data['tf'] = h_data['tf'] / (h_data['tf'] + a_data['tf'])\n",
      "/var/folders/xk/jz0njgws4vqcw913r_s9rxkr0000gn/T/ipykernel_62044/1636465878.py:42: RuntimeWarning: invalid value encountered in double_scalars\n",
      "  output_data['tf'] = h_data['tf'] / (h_data['tf'] + a_data['tf'])\n"
     ]
    },
    {
     "name": "stdout",
     "output_type": "stream",
     "text": [
      "S25G01N19\n",
      "S25G01N20\n",
      "S25G01N21\n",
      "S25G01N22\n"
     ]
    },
    {
     "name": "stderr",
     "output_type": "stream",
     "text": [
      "/var/folders/xk/jz0njgws4vqcw913r_s9rxkr0000gn/T/ipykernel_62044/1636465878.py:42: RuntimeWarning: invalid value encountered in double_scalars\n",
      "  output_data['tf'] = h_data['tf'] / (h_data['tf'] + a_data['tf'])\n",
      "/var/folders/xk/jz0njgws4vqcw913r_s9rxkr0000gn/T/ipykernel_62044/1636465878.py:42: RuntimeWarning: invalid value encountered in double_scalars\n",
      "  output_data['tf'] = h_data['tf'] / (h_data['tf'] + a_data['tf'])\n"
     ]
    },
    {
     "name": "stdout",
     "output_type": "stream",
     "text": [
      "S25G01N23\n",
      "S25G01N24\n"
     ]
    },
    {
     "name": "stderr",
     "output_type": "stream",
     "text": [
      "/var/folders/xk/jz0njgws4vqcw913r_s9rxkr0000gn/T/ipykernel_62044/1636465878.py:42: RuntimeWarning: invalid value encountered in double_scalars\n",
      "  output_data['tf'] = h_data['tf'] / (h_data['tf'] + a_data['tf'])\n",
      "/var/folders/xk/jz0njgws4vqcw913r_s9rxkr0000gn/T/ipykernel_62044/1636465878.py:25: RuntimeWarning: invalid value encountered in double_scalars\n",
      "  output_data['dk'] = h_data['dk'] / h_data['dkA']\n",
      "/var/folders/xk/jz0njgws4vqcw913r_s9rxkr0000gn/T/ipykernel_62044/1636465878.py:42: RuntimeWarning: invalid value encountered in double_scalars\n",
      "  output_data['tf'] = h_data['tf'] / (h_data['tf'] + a_data['tf'])\n"
     ]
    },
    {
     "name": "stdout",
     "output_type": "stream",
     "text": [
      "S25G01N25\n",
      "S25G01N26\n"
     ]
    },
    {
     "name": "stderr",
     "output_type": "stream",
     "text": [
      "/var/folders/xk/jz0njgws4vqcw913r_s9rxkr0000gn/T/ipykernel_62044/1636465878.py:42: RuntimeWarning: invalid value encountered in double_scalars\n",
      "  output_data['tf'] = h_data['tf'] / (h_data['tf'] + a_data['tf'])\n",
      "/var/folders/xk/jz0njgws4vqcw913r_s9rxkr0000gn/T/ipykernel_62044/1636465878.py:42: RuntimeWarning: invalid value encountered in double_scalars\n",
      "  output_data['tf'] = h_data['tf'] / (h_data['tf'] + a_data['tf'])\n"
     ]
    },
    {
     "name": "stdout",
     "output_type": "stream",
     "text": [
      "S25G01N27\n"
     ]
    },
    {
     "name": "stderr",
     "output_type": "stream",
     "text": [
      "/var/folders/xk/jz0njgws4vqcw913r_s9rxkr0000gn/T/ipykernel_62044/1636465878.py:42: RuntimeWarning: invalid value encountered in double_scalars\n",
      "  output_data['tf'] = h_data['tf'] / (h_data['tf'] + a_data['tf'])\n",
      "/var/folders/xk/jz0njgws4vqcw913r_s9rxkr0000gn/T/ipykernel_62044/1636465878.py:42: RuntimeWarning: invalid value encountered in double_scalars\n",
      "  output_data['tf'] = h_data['tf'] / (h_data['tf'] + a_data['tf'])\n"
     ]
    },
    {
     "name": "stdout",
     "output_type": "stream",
     "text": [
      "S25G01N28\n",
      "S25G01N29\n",
      "S25G01N30\n"
     ]
    },
    {
     "name": "stderr",
     "output_type": "stream",
     "text": [
      "/var/folders/xk/jz0njgws4vqcw913r_s9rxkr0000gn/T/ipykernel_62044/1636465878.py:42: RuntimeWarning: invalid value encountered in double_scalars\n",
      "  output_data['tf'] = h_data['tf'] / (h_data['tf'] + a_data['tf'])\n",
      "/var/folders/xk/jz0njgws4vqcw913r_s9rxkr0000gn/T/ipykernel_62044/1636465878.py:42: RuntimeWarning: invalid value encountered in double_scalars\n",
      "  output_data['tf'] = h_data['tf'] / (h_data['tf'] + a_data['tf'])\n"
     ]
    },
    {
     "name": "stdout",
     "output_type": "stream",
     "text": [
      "S25G01N31\n"
     ]
    },
    {
     "name": "stderr",
     "output_type": "stream",
     "text": [
      "/var/folders/xk/jz0njgws4vqcw913r_s9rxkr0000gn/T/ipykernel_62044/1636465878.py:42: RuntimeWarning: invalid value encountered in double_scalars\n",
      "  output_data['tf'] = h_data['tf'] / (h_data['tf'] + a_data['tf'])\n",
      "/var/folders/xk/jz0njgws4vqcw913r_s9rxkr0000gn/T/ipykernel_62044/1636465878.py:42: RuntimeWarning: invalid value encountered in double_scalars\n",
      "  output_data['tf'] = h_data['tf'] / (h_data['tf'] + a_data['tf'])\n"
     ]
    },
    {
     "name": "stdout",
     "output_type": "stream",
     "text": [
      "S25G01N32\n"
     ]
    },
    {
     "name": "stderr",
     "output_type": "stream",
     "text": [
      "/var/folders/xk/jz0njgws4vqcw913r_s9rxkr0000gn/T/ipykernel_62044/1636465878.py:42: RuntimeWarning: invalid value encountered in double_scalars\n",
      "  output_data['tf'] = h_data['tf'] / (h_data['tf'] + a_data['tf'])\n",
      "/var/folders/xk/jz0njgws4vqcw913r_s9rxkr0000gn/T/ipykernel_62044/1636465878.py:42: RuntimeWarning: invalid value encountered in double_scalars\n",
      "  output_data['tf'] = h_data['tf'] / (h_data['tf'] + a_data['tf'])\n"
     ]
    },
    {
     "name": "stdout",
     "output_type": "stream",
     "text": [
      "S25G01N33\n",
      "S25G01N34\n",
      "S25G01N35\n"
     ]
    },
    {
     "name": "stderr",
     "output_type": "stream",
     "text": [
      "/var/folders/xk/jz0njgws4vqcw913r_s9rxkr0000gn/T/ipykernel_62044/1636465878.py:42: RuntimeWarning: invalid value encountered in double_scalars\n",
      "  output_data['tf'] = h_data['tf'] / (h_data['tf'] + a_data['tf'])\n",
      "/var/folders/xk/jz0njgws4vqcw913r_s9rxkr0000gn/T/ipykernel_62044/1636465878.py:42: RuntimeWarning: invalid value encountered in double_scalars\n",
      "  output_data['tf'] = h_data['tf'] / (h_data['tf'] + a_data['tf'])\n"
     ]
    },
    {
     "name": "stdout",
     "output_type": "stream",
     "text": [
      "S25G01N36\n"
     ]
    },
    {
     "name": "stderr",
     "output_type": "stream",
     "text": [
      "/var/folders/xk/jz0njgws4vqcw913r_s9rxkr0000gn/T/ipykernel_62044/1636465878.py:42: RuntimeWarning: invalid value encountered in double_scalars\n",
      "  output_data['tf'] = h_data['tf'] / (h_data['tf'] + a_data['tf'])\n",
      "/var/folders/xk/jz0njgws4vqcw913r_s9rxkr0000gn/T/ipykernel_62044/1636465878.py:42: RuntimeWarning: invalid value encountered in double_scalars\n",
      "  output_data['tf'] = h_data['tf'] / (h_data['tf'] + a_data['tf'])\n"
     ]
    },
    {
     "name": "stdout",
     "output_type": "stream",
     "text": [
      "S25G01N37\n"
     ]
    },
    {
     "name": "stderr",
     "output_type": "stream",
     "text": [
      "/var/folders/xk/jz0njgws4vqcw913r_s9rxkr0000gn/T/ipykernel_62044/1636465878.py:42: RuntimeWarning: invalid value encountered in double_scalars\n",
      "  output_data['tf'] = h_data['tf'] / (h_data['tf'] + a_data['tf'])\n",
      "/var/folders/xk/jz0njgws4vqcw913r_s9rxkr0000gn/T/ipykernel_62044/1636465878.py:42: RuntimeWarning: invalid value encountered in double_scalars\n",
      "  output_data['tf'] = h_data['tf'] / (h_data['tf'] + a_data['tf'])\n"
     ]
    },
    {
     "name": "stdout",
     "output_type": "stream",
     "text": [
      "S25G01N38\n"
     ]
    },
    {
     "name": "stderr",
     "output_type": "stream",
     "text": [
      "/var/folders/xk/jz0njgws4vqcw913r_s9rxkr0000gn/T/ipykernel_62044/1636465878.py:42: RuntimeWarning: invalid value encountered in double_scalars\n",
      "  output_data['tf'] = h_data['tf'] / (h_data['tf'] + a_data['tf'])\n",
      "/var/folders/xk/jz0njgws4vqcw913r_s9rxkr0000gn/T/ipykernel_62044/1636465878.py:42: RuntimeWarning: invalid value encountered in double_scalars\n",
      "  output_data['tf'] = h_data['tf'] / (h_data['tf'] + a_data['tf'])\n"
     ]
    },
    {
     "name": "stdout",
     "output_type": "stream",
     "text": [
      "S25G01N39\n",
      "S25G01N40\n"
     ]
    },
    {
     "name": "stderr",
     "output_type": "stream",
     "text": [
      "/var/folders/xk/jz0njgws4vqcw913r_s9rxkr0000gn/T/ipykernel_62044/1636465878.py:42: RuntimeWarning: invalid value encountered in double_scalars\n",
      "  output_data['tf'] = h_data['tf'] / (h_data['tf'] + a_data['tf'])\n",
      "/var/folders/xk/jz0njgws4vqcw913r_s9rxkr0000gn/T/ipykernel_62044/1636465878.py:42: RuntimeWarning: invalid value encountered in double_scalars\n",
      "  output_data['tf'] = h_data['tf'] / (h_data['tf'] + a_data['tf'])\n"
     ]
    },
    {
     "name": "stdout",
     "output_type": "stream",
     "text": [
      "S25G01N41\n",
      "S25G01N42\n"
     ]
    },
    {
     "name": "stderr",
     "output_type": "stream",
     "text": [
      "/var/folders/xk/jz0njgws4vqcw913r_s9rxkr0000gn/T/ipykernel_62044/1636465878.py:42: RuntimeWarning: invalid value encountered in double_scalars\n",
      "  output_data['tf'] = h_data['tf'] / (h_data['tf'] + a_data['tf'])\n",
      "/var/folders/xk/jz0njgws4vqcw913r_s9rxkr0000gn/T/ipykernel_62044/1636465878.py:42: RuntimeWarning: invalid value encountered in double_scalars\n",
      "  output_data['tf'] = h_data['tf'] / (h_data['tf'] + a_data['tf'])\n"
     ]
    },
    {
     "name": "stdout",
     "output_type": "stream",
     "text": [
      "S25G01N43\n",
      "S25G01N44\n"
     ]
    },
    {
     "name": "stderr",
     "output_type": "stream",
     "text": [
      "/var/folders/xk/jz0njgws4vqcw913r_s9rxkr0000gn/T/ipykernel_62044/1636465878.py:42: RuntimeWarning: invalid value encountered in double_scalars\n",
      "  output_data['tf'] = h_data['tf'] / (h_data['tf'] + a_data['tf'])\n",
      "/var/folders/xk/jz0njgws4vqcw913r_s9rxkr0000gn/T/ipykernel_62044/1636465878.py:42: RuntimeWarning: invalid value encountered in double_scalars\n",
      "  output_data['tf'] = h_data['tf'] / (h_data['tf'] + a_data['tf'])\n"
     ]
    },
    {
     "name": "stdout",
     "output_type": "stream",
     "text": [
      "S25G01N45\n",
      "S25G01N46\n"
     ]
    },
    {
     "name": "stderr",
     "output_type": "stream",
     "text": [
      "/var/folders/xk/jz0njgws4vqcw913r_s9rxkr0000gn/T/ipykernel_62044/1636465878.py:42: RuntimeWarning: invalid value encountered in double_scalars\n",
      "  output_data['tf'] = h_data['tf'] / (h_data['tf'] + a_data['tf'])\n",
      "/var/folders/xk/jz0njgws4vqcw913r_s9rxkr0000gn/T/ipykernel_62044/1636465878.py:42: RuntimeWarning: invalid value encountered in double_scalars\n",
      "  output_data['tf'] = h_data['tf'] / (h_data['tf'] + a_data['tf'])\n"
     ]
    },
    {
     "name": "stdout",
     "output_type": "stream",
     "text": [
      "S25G01N47\n"
     ]
    },
    {
     "name": "stderr",
     "output_type": "stream",
     "text": [
      "/var/folders/xk/jz0njgws4vqcw913r_s9rxkr0000gn/T/ipykernel_62044/1636465878.py:42: RuntimeWarning: invalid value encountered in double_scalars\n",
      "  output_data['tf'] = h_data['tf'] / (h_data['tf'] + a_data['tf'])\n",
      "/var/folders/xk/jz0njgws4vqcw913r_s9rxkr0000gn/T/ipykernel_62044/1636465878.py:42: RuntimeWarning: invalid value encountered in double_scalars\n",
      "  output_data['tf'] = h_data['tf'] / (h_data['tf'] + a_data['tf'])\n"
     ]
    },
    {
     "name": "stdout",
     "output_type": "stream",
     "text": [
      "S25G01N48\n",
      "S25G01N49\n"
     ]
    },
    {
     "name": "stderr",
     "output_type": "stream",
     "text": [
      "/var/folders/xk/jz0njgws4vqcw913r_s9rxkr0000gn/T/ipykernel_62044/1636465878.py:42: RuntimeWarning: invalid value encountered in double_scalars\n",
      "  output_data['tf'] = h_data['tf'] / (h_data['tf'] + a_data['tf'])\n",
      "/var/folders/xk/jz0njgws4vqcw913r_s9rxkr0000gn/T/ipykernel_62044/1636465878.py:42: RuntimeWarning: invalid value encountered in double_scalars\n",
      "  output_data['tf'] = h_data['tf'] / (h_data['tf'] + a_data['tf'])\n"
     ]
    },
    {
     "name": "stdout",
     "output_type": "stream",
     "text": [
      "S25G01N50\n"
     ]
    },
    {
     "name": "stderr",
     "output_type": "stream",
     "text": [
      "/var/folders/xk/jz0njgws4vqcw913r_s9rxkr0000gn/T/ipykernel_62044/1636465878.py:42: RuntimeWarning: invalid value encountered in double_scalars\n",
      "  output_data['tf'] = h_data['tf'] / (h_data['tf'] + a_data['tf'])\n",
      "/var/folders/xk/jz0njgws4vqcw913r_s9rxkr0000gn/T/ipykernel_62044/1636465878.py:42: RuntimeWarning: invalid value encountered in double_scalars\n",
      "  output_data['tf'] = h_data['tf'] / (h_data['tf'] + a_data['tf'])\n"
     ]
    },
    {
     "name": "stdout",
     "output_type": "stream",
     "text": [
      "S25G01N51\n",
      "S25G01N52\n",
      "S25G01N53\n"
     ]
    },
    {
     "name": "stderr",
     "output_type": "stream",
     "text": [
      "/var/folders/xk/jz0njgws4vqcw913r_s9rxkr0000gn/T/ipykernel_62044/1636465878.py:42: RuntimeWarning: invalid value encountered in double_scalars\n",
      "  output_data['tf'] = h_data['tf'] / (h_data['tf'] + a_data['tf'])\n",
      "/var/folders/xk/jz0njgws4vqcw913r_s9rxkr0000gn/T/ipykernel_62044/1636465878.py:42: RuntimeWarning: invalid value encountered in double_scalars\n",
      "  output_data['tf'] = h_data['tf'] / (h_data['tf'] + a_data['tf'])\n"
     ]
    },
    {
     "name": "stdout",
     "output_type": "stream",
     "text": [
      "S25G01N54\n"
     ]
    },
    {
     "name": "stderr",
     "output_type": "stream",
     "text": [
      "/var/folders/xk/jz0njgws4vqcw913r_s9rxkr0000gn/T/ipykernel_62044/1636465878.py:42: RuntimeWarning: invalid value encountered in double_scalars\n",
      "  output_data['tf'] = h_data['tf'] / (h_data['tf'] + a_data['tf'])\n",
      "/var/folders/xk/jz0njgws4vqcw913r_s9rxkr0000gn/T/ipykernel_62044/1636465878.py:42: RuntimeWarning: invalid value encountered in double_scalars\n",
      "  output_data['tf'] = h_data['tf'] / (h_data['tf'] + a_data['tf'])\n"
     ]
    },
    {
     "name": "stdout",
     "output_type": "stream",
     "text": [
      "S25G01N55\n"
     ]
    },
    {
     "name": "stderr",
     "output_type": "stream",
     "text": [
      "/var/folders/xk/jz0njgws4vqcw913r_s9rxkr0000gn/T/ipykernel_62044/1636465878.py:42: RuntimeWarning: invalid value encountered in double_scalars\n",
      "  output_data['tf'] = h_data['tf'] / (h_data['tf'] + a_data['tf'])\n",
      "/var/folders/xk/jz0njgws4vqcw913r_s9rxkr0000gn/T/ipykernel_62044/1636465878.py:42: RuntimeWarning: invalid value encountered in double_scalars\n",
      "  output_data['tf'] = h_data['tf'] / (h_data['tf'] + a_data['tf'])\n"
     ]
    },
    {
     "name": "stdout",
     "output_type": "stream",
     "text": [
      "S25G01N56\n",
      "S25G01N57\n",
      "S25G01N58\n"
     ]
    },
    {
     "name": "stderr",
     "output_type": "stream",
     "text": [
      "/var/folders/xk/jz0njgws4vqcw913r_s9rxkr0000gn/T/ipykernel_62044/1636465878.py:42: RuntimeWarning: invalid value encountered in double_scalars\n",
      "  output_data['tf'] = h_data['tf'] / (h_data['tf'] + a_data['tf'])\n",
      "/var/folders/xk/jz0njgws4vqcw913r_s9rxkr0000gn/T/ipykernel_62044/1636465878.py:42: RuntimeWarning: invalid value encountered in double_scalars\n",
      "  output_data['tf'] = h_data['tf'] / (h_data['tf'] + a_data['tf'])\n"
     ]
    },
    {
     "name": "stdout",
     "output_type": "stream",
     "text": [
      "S25G01N59\n"
     ]
    },
    {
     "name": "stderr",
     "output_type": "stream",
     "text": [
      "/var/folders/xk/jz0njgws4vqcw913r_s9rxkr0000gn/T/ipykernel_62044/1636465878.py:42: RuntimeWarning: invalid value encountered in double_scalars\n",
      "  output_data['tf'] = h_data['tf'] / (h_data['tf'] + a_data['tf'])\n",
      "/var/folders/xk/jz0njgws4vqcw913r_s9rxkr0000gn/T/ipykernel_62044/1636465878.py:42: RuntimeWarning: invalid value encountered in double_scalars\n",
      "  output_data['tf'] = h_data['tf'] / (h_data['tf'] + a_data['tf'])\n"
     ]
    },
    {
     "name": "stdout",
     "output_type": "stream",
     "text": [
      "S25G01N60\n"
     ]
    },
    {
     "name": "stderr",
     "output_type": "stream",
     "text": [
      "/var/folders/xk/jz0njgws4vqcw913r_s9rxkr0000gn/T/ipykernel_62044/1636465878.py:42: RuntimeWarning: invalid value encountered in double_scalars\n",
      "  output_data['tf'] = h_data['tf'] / (h_data['tf'] + a_data['tf'])\n",
      "/var/folders/xk/jz0njgws4vqcw913r_s9rxkr0000gn/T/ipykernel_62044/1636465878.py:42: RuntimeWarning: invalid value encountered in double_scalars\n",
      "  output_data['tf'] = h_data['tf'] / (h_data['tf'] + a_data['tf'])\n"
     ]
    },
    {
     "name": "stdout",
     "output_type": "stream",
     "text": [
      "S25G01N61\n",
      "S25G01N62\n"
     ]
    },
    {
     "name": "stderr",
     "output_type": "stream",
     "text": [
      "/var/folders/xk/jz0njgws4vqcw913r_s9rxkr0000gn/T/ipykernel_62044/1636465878.py:42: RuntimeWarning: invalid value encountered in double_scalars\n",
      "  output_data['tf'] = h_data['tf'] / (h_data['tf'] + a_data['tf'])\n",
      "/var/folders/xk/jz0njgws4vqcw913r_s9rxkr0000gn/T/ipykernel_62044/1636465878.py:42: RuntimeWarning: invalid value encountered in double_scalars\n",
      "  output_data['tf'] = h_data['tf'] / (h_data['tf'] + a_data['tf'])\n"
     ]
    },
    {
     "name": "stdout",
     "output_type": "stream",
     "text": [
      "S25G01N63\n"
     ]
    },
    {
     "name": "stderr",
     "output_type": "stream",
     "text": [
      "/var/folders/xk/jz0njgws4vqcw913r_s9rxkr0000gn/T/ipykernel_62044/1636465878.py:42: RuntimeWarning: invalid value encountered in double_scalars\n",
      "  output_data['tf'] = h_data['tf'] / (h_data['tf'] + a_data['tf'])\n",
      "/var/folders/xk/jz0njgws4vqcw913r_s9rxkr0000gn/T/ipykernel_62044/1636465878.py:42: RuntimeWarning: invalid value encountered in double_scalars\n",
      "  output_data['tf'] = h_data['tf'] / (h_data['tf'] + a_data['tf'])\n"
     ]
    },
    {
     "name": "stdout",
     "output_type": "stream",
     "text": [
      "S25G01N64\n"
     ]
    },
    {
     "name": "stderr",
     "output_type": "stream",
     "text": [
      "/var/folders/xk/jz0njgws4vqcw913r_s9rxkr0000gn/T/ipykernel_62044/1636465878.py:42: RuntimeWarning: invalid value encountered in double_scalars\n",
      "  output_data['tf'] = h_data['tf'] / (h_data['tf'] + a_data['tf'])\n",
      "/var/folders/xk/jz0njgws4vqcw913r_s9rxkr0000gn/T/ipykernel_62044/1636465878.py:42: RuntimeWarning: invalid value encountered in double_scalars\n",
      "  output_data['tf'] = h_data['tf'] / (h_data['tf'] + a_data['tf'])\n"
     ]
    },
    {
     "name": "stdout",
     "output_type": "stream",
     "text": [
      "S25G01N65\n"
     ]
    },
    {
     "name": "stderr",
     "output_type": "stream",
     "text": [
      "/var/folders/xk/jz0njgws4vqcw913r_s9rxkr0000gn/T/ipykernel_62044/1636465878.py:42: RuntimeWarning: invalid value encountered in double_scalars\n",
      "  output_data['tf'] = h_data['tf'] / (h_data['tf'] + a_data['tf'])\n",
      "/var/folders/xk/jz0njgws4vqcw913r_s9rxkr0000gn/T/ipykernel_62044/1636465878.py:42: RuntimeWarning: invalid value encountered in double_scalars\n",
      "  output_data['tf'] = h_data['tf'] / (h_data['tf'] + a_data['tf'])\n"
     ]
    },
    {
     "name": "stdout",
     "output_type": "stream",
     "text": [
      "S25G01N66\n",
      "S25G01N67\n"
     ]
    },
    {
     "name": "stderr",
     "output_type": "stream",
     "text": [
      "/var/folders/xk/jz0njgws4vqcw913r_s9rxkr0000gn/T/ipykernel_62044/1636465878.py:42: RuntimeWarning: invalid value encountered in double_scalars\n",
      "  output_data['tf'] = h_data['tf'] / (h_data['tf'] + a_data['tf'])\n",
      "/var/folders/xk/jz0njgws4vqcw913r_s9rxkr0000gn/T/ipykernel_62044/1636465878.py:42: RuntimeWarning: invalid value encountered in double_scalars\n",
      "  output_data['tf'] = h_data['tf'] / (h_data['tf'] + a_data['tf'])\n"
     ]
    },
    {
     "name": "stdout",
     "output_type": "stream",
     "text": [
      "S25G01N68\n"
     ]
    },
    {
     "name": "stderr",
     "output_type": "stream",
     "text": [
      "/var/folders/xk/jz0njgws4vqcw913r_s9rxkr0000gn/T/ipykernel_62044/1636465878.py:42: RuntimeWarning: invalid value encountered in double_scalars\n",
      "  output_data['tf'] = h_data['tf'] / (h_data['tf'] + a_data['tf'])\n",
      "/var/folders/xk/jz0njgws4vqcw913r_s9rxkr0000gn/T/ipykernel_62044/1636465878.py:42: RuntimeWarning: invalid value encountered in double_scalars\n",
      "  output_data['tf'] = h_data['tf'] / (h_data['tf'] + a_data['tf'])\n"
     ]
    },
    {
     "name": "stdout",
     "output_type": "stream",
     "text": [
      "S25G01N69\n",
      "S25G01N70\n",
      "S25G01N71\n"
     ]
    },
    {
     "name": "stderr",
     "output_type": "stream",
     "text": [
      "/var/folders/xk/jz0njgws4vqcw913r_s9rxkr0000gn/T/ipykernel_62044/1636465878.py:42: RuntimeWarning: invalid value encountered in double_scalars\n",
      "  output_data['tf'] = h_data['tf'] / (h_data['tf'] + a_data['tf'])\n",
      "/var/folders/xk/jz0njgws4vqcw913r_s9rxkr0000gn/T/ipykernel_62044/1636465878.py:42: RuntimeWarning: invalid value encountered in double_scalars\n",
      "  output_data['tf'] = h_data['tf'] / (h_data['tf'] + a_data['tf'])\n"
     ]
    },
    {
     "name": "stdout",
     "output_type": "stream",
     "text": [
      "S25G01N72\n"
     ]
    },
    {
     "name": "stderr",
     "output_type": "stream",
     "text": [
      "/var/folders/xk/jz0njgws4vqcw913r_s9rxkr0000gn/T/ipykernel_62044/1636465878.py:42: RuntimeWarning: invalid value encountered in double_scalars\n",
      "  output_data['tf'] = h_data['tf'] / (h_data['tf'] + a_data['tf'])\n",
      "/var/folders/xk/jz0njgws4vqcw913r_s9rxkr0000gn/T/ipykernel_62044/1636465878.py:42: RuntimeWarning: invalid value encountered in double_scalars\n",
      "  output_data['tf'] = h_data['tf'] / (h_data['tf'] + a_data['tf'])\n"
     ]
    },
    {
     "name": "stdout",
     "output_type": "stream",
     "text": [
      "S25G01N73\n"
     ]
    },
    {
     "name": "stderr",
     "output_type": "stream",
     "text": [
      "/var/folders/xk/jz0njgws4vqcw913r_s9rxkr0000gn/T/ipykernel_62044/1636465878.py:42: RuntimeWarning: invalid value encountered in double_scalars\n",
      "  output_data['tf'] = h_data['tf'] / (h_data['tf'] + a_data['tf'])\n",
      "/var/folders/xk/jz0njgws4vqcw913r_s9rxkr0000gn/T/ipykernel_62044/1636465878.py:42: RuntimeWarning: invalid value encountered in double_scalars\n",
      "  output_data['tf'] = h_data['tf'] / (h_data['tf'] + a_data['tf'])\n"
     ]
    },
    {
     "name": "stdout",
     "output_type": "stream",
     "text": [
      "S25G01N74\n",
      "S25G01N75\n"
     ]
    },
    {
     "name": "stderr",
     "output_type": "stream",
     "text": [
      "/var/folders/xk/jz0njgws4vqcw913r_s9rxkr0000gn/T/ipykernel_62044/1636465878.py:42: RuntimeWarning: invalid value encountered in double_scalars\n",
      "  output_data['tf'] = h_data['tf'] / (h_data['tf'] + a_data['tf'])\n",
      "/var/folders/xk/jz0njgws4vqcw913r_s9rxkr0000gn/T/ipykernel_62044/1636465878.py:42: RuntimeWarning: invalid value encountered in double_scalars\n",
      "  output_data['tf'] = h_data['tf'] / (h_data['tf'] + a_data['tf'])\n"
     ]
    },
    {
     "name": "stdout",
     "output_type": "stream",
     "text": [
      "S25G01N76\n"
     ]
    },
    {
     "name": "stderr",
     "output_type": "stream",
     "text": [
      "/var/folders/xk/jz0njgws4vqcw913r_s9rxkr0000gn/T/ipykernel_62044/1636465878.py:42: RuntimeWarning: invalid value encountered in double_scalars\n",
      "  output_data['tf'] = h_data['tf'] / (h_data['tf'] + a_data['tf'])\n",
      "/var/folders/xk/jz0njgws4vqcw913r_s9rxkr0000gn/T/ipykernel_62044/1636465878.py:42: RuntimeWarning: invalid value encountered in double_scalars\n",
      "  output_data['tf'] = h_data['tf'] / (h_data['tf'] + a_data['tf'])\n"
     ]
    },
    {
     "name": "stdout",
     "output_type": "stream",
     "text": [
      "S25G01N77\n",
      "S25G01N78\n"
     ]
    },
    {
     "name": "stderr",
     "output_type": "stream",
     "text": [
      "/var/folders/xk/jz0njgws4vqcw913r_s9rxkr0000gn/T/ipykernel_62044/1636465878.py:42: RuntimeWarning: invalid value encountered in double_scalars\n",
      "  output_data['tf'] = h_data['tf'] / (h_data['tf'] + a_data['tf'])\n",
      "/var/folders/xk/jz0njgws4vqcw913r_s9rxkr0000gn/T/ipykernel_62044/1636465878.py:42: RuntimeWarning: invalid value encountered in double_scalars\n",
      "  output_data['tf'] = h_data['tf'] / (h_data['tf'] + a_data['tf'])\n"
     ]
    },
    {
     "name": "stdout",
     "output_type": "stream",
     "text": [
      "S25G01N79\n"
     ]
    },
    {
     "name": "stderr",
     "output_type": "stream",
     "text": [
      "/var/folders/xk/jz0njgws4vqcw913r_s9rxkr0000gn/T/ipykernel_62044/1636465878.py:43: RuntimeWarning: invalid value encountered in double_scalars\n",
      "  output_data['gd'] = h_data['gd'] / (h_data['gd'] + a_data['gd'])\n",
      "/var/folders/xk/jz0njgws4vqcw913r_s9rxkr0000gn/T/ipykernel_62044/1636465878.py:43: RuntimeWarning: invalid value encountered in double_scalars\n",
      "  output_data['gd'] = h_data['gd'] / (h_data['gd'] + a_data['gd'])\n"
     ]
    },
    {
     "name": "stdout",
     "output_type": "stream",
     "text": [
      "S25G01N80\n",
      "S25G01N81\n"
     ]
    },
    {
     "name": "stderr",
     "output_type": "stream",
     "text": [
      "/var/folders/xk/jz0njgws4vqcw913r_s9rxkr0000gn/T/ipykernel_62044/1636465878.py:42: RuntimeWarning: invalid value encountered in double_scalars\n",
      "  output_data['tf'] = h_data['tf'] / (h_data['tf'] + a_data['tf'])\n",
      "/var/folders/xk/jz0njgws4vqcw913r_s9rxkr0000gn/T/ipykernel_62044/1636465878.py:42: RuntimeWarning: invalid value encountered in double_scalars\n",
      "  output_data['tf'] = h_data['tf'] / (h_data['tf'] + a_data['tf'])\n"
     ]
    },
    {
     "name": "stdout",
     "output_type": "stream",
     "text": [
      "S25G01N82\n",
      "S25G01N83\n"
     ]
    },
    {
     "name": "stderr",
     "output_type": "stream",
     "text": [
      "/var/folders/xk/jz0njgws4vqcw913r_s9rxkr0000gn/T/ipykernel_62044/1636465878.py:42: RuntimeWarning: invalid value encountered in double_scalars\n",
      "  output_data['tf'] = h_data['tf'] / (h_data['tf'] + a_data['tf'])\n",
      "/var/folders/xk/jz0njgws4vqcw913r_s9rxkr0000gn/T/ipykernel_62044/1636465878.py:42: RuntimeWarning: invalid value encountered in double_scalars\n",
      "  output_data['tf'] = h_data['tf'] / (h_data['tf'] + a_data['tf'])\n"
     ]
    },
    {
     "name": "stdout",
     "output_type": "stream",
     "text": [
      "S25G01N84\n"
     ]
    },
    {
     "name": "stderr",
     "output_type": "stream",
     "text": [
      "/var/folders/xk/jz0njgws4vqcw913r_s9rxkr0000gn/T/ipykernel_62044/1636465878.py:42: RuntimeWarning: invalid value encountered in double_scalars\n",
      "  output_data['tf'] = h_data['tf'] / (h_data['tf'] + a_data['tf'])\n",
      "/var/folders/xk/jz0njgws4vqcw913r_s9rxkr0000gn/T/ipykernel_62044/1636465878.py:42: RuntimeWarning: invalid value encountered in double_scalars\n",
      "  output_data['tf'] = h_data['tf'] / (h_data['tf'] + a_data['tf'])\n"
     ]
    },
    {
     "name": "stdout",
     "output_type": "stream",
     "text": [
      "S25G01N85\n"
     ]
    },
    {
     "name": "stderr",
     "output_type": "stream",
     "text": [
      "/var/folders/xk/jz0njgws4vqcw913r_s9rxkr0000gn/T/ipykernel_62044/1636465878.py:42: RuntimeWarning: invalid value encountered in double_scalars\n",
      "  output_data['tf'] = h_data['tf'] / (h_data['tf'] + a_data['tf'])\n",
      "/var/folders/xk/jz0njgws4vqcw913r_s9rxkr0000gn/T/ipykernel_62044/1636465878.py:42: RuntimeWarning: invalid value encountered in double_scalars\n",
      "  output_data['tf'] = h_data['tf'] / (h_data['tf'] + a_data['tf'])\n"
     ]
    },
    {
     "name": "stdout",
     "output_type": "stream",
     "text": [
      "S25G01N86\n",
      "S25G01N87\n"
     ]
    },
    {
     "name": "stderr",
     "output_type": "stream",
     "text": [
      "/var/folders/xk/jz0njgws4vqcw913r_s9rxkr0000gn/T/ipykernel_62044/1636465878.py:42: RuntimeWarning: invalid value encountered in double_scalars\n",
      "  output_data['tf'] = h_data['tf'] / (h_data['tf'] + a_data['tf'])\n",
      "/var/folders/xk/jz0njgws4vqcw913r_s9rxkr0000gn/T/ipykernel_62044/1636465878.py:42: RuntimeWarning: invalid value encountered in double_scalars\n",
      "  output_data['tf'] = h_data['tf'] / (h_data['tf'] + a_data['tf'])\n"
     ]
    },
    {
     "name": "stdout",
     "output_type": "stream",
     "text": [
      "S25G01N88\n",
      "S25G01N89\n"
     ]
    },
    {
     "name": "stderr",
     "output_type": "stream",
     "text": [
      "/var/folders/xk/jz0njgws4vqcw913r_s9rxkr0000gn/T/ipykernel_62044/1636465878.py:42: RuntimeWarning: invalid value encountered in double_scalars\n",
      "  output_data['tf'] = h_data['tf'] / (h_data['tf'] + a_data['tf'])\n",
      "/var/folders/xk/jz0njgws4vqcw913r_s9rxkr0000gn/T/ipykernel_62044/1636465878.py:42: RuntimeWarning: invalid value encountered in double_scalars\n",
      "  output_data['tf'] = h_data['tf'] / (h_data['tf'] + a_data['tf'])\n"
     ]
    },
    {
     "name": "stdout",
     "output_type": "stream",
     "text": [
      "S25G01N90\n"
     ]
    },
    {
     "name": "stderr",
     "output_type": "stream",
     "text": [
      "/var/folders/xk/jz0njgws4vqcw913r_s9rxkr0000gn/T/ipykernel_62044/1636465878.py:42: RuntimeWarning: invalid value encountered in double_scalars\n",
      "  output_data['tf'] = h_data['tf'] / (h_data['tf'] + a_data['tf'])\n",
      "/var/folders/xk/jz0njgws4vqcw913r_s9rxkr0000gn/T/ipykernel_62044/1636465878.py:42: RuntimeWarning: invalid value encountered in double_scalars\n",
      "  output_data['tf'] = h_data['tf'] / (h_data['tf'] + a_data['tf'])\n"
     ]
    },
    {
     "name": "stdout",
     "output_type": "stream",
     "text": [
      "S25G01N91\n",
      "S25G01N92\n"
     ]
    },
    {
     "name": "stderr",
     "output_type": "stream",
     "text": [
      "/var/folders/xk/jz0njgws4vqcw913r_s9rxkr0000gn/T/ipykernel_62044/1636465878.py:42: RuntimeWarning: invalid value encountered in double_scalars\n",
      "  output_data['tf'] = h_data['tf'] / (h_data['tf'] + a_data['tf'])\n",
      "/var/folders/xk/jz0njgws4vqcw913r_s9rxkr0000gn/T/ipykernel_62044/1636465878.py:42: RuntimeWarning: invalid value encountered in double_scalars\n",
      "  output_data['tf'] = h_data['tf'] / (h_data['tf'] + a_data['tf'])\n"
     ]
    },
    {
     "name": "stdout",
     "output_type": "stream",
     "text": [
      "S25G01N93\n",
      "S25G01N94\n"
     ]
    },
    {
     "name": "stderr",
     "output_type": "stream",
     "text": [
      "/var/folders/xk/jz0njgws4vqcw913r_s9rxkr0000gn/T/ipykernel_62044/1636465878.py:42: RuntimeWarning: invalid value encountered in double_scalars\n",
      "  output_data['tf'] = h_data['tf'] / (h_data['tf'] + a_data['tf'])\n",
      "/var/folders/xk/jz0njgws4vqcw913r_s9rxkr0000gn/T/ipykernel_62044/1636465878.py:42: RuntimeWarning: invalid value encountered in double_scalars\n",
      "  output_data['tf'] = h_data['tf'] / (h_data['tf'] + a_data['tf'])\n"
     ]
    },
    {
     "name": "stdout",
     "output_type": "stream",
     "text": [
      "S25G01N95\n"
     ]
    },
    {
     "name": "stderr",
     "output_type": "stream",
     "text": [
      "/var/folders/xk/jz0njgws4vqcw913r_s9rxkr0000gn/T/ipykernel_62044/1636465878.py:42: RuntimeWarning: invalid value encountered in double_scalars\n",
      "  output_data['tf'] = h_data['tf'] / (h_data['tf'] + a_data['tf'])\n",
      "/var/folders/xk/jz0njgws4vqcw913r_s9rxkr0000gn/T/ipykernel_62044/1636465878.py:42: RuntimeWarning: invalid value encountered in double_scalars\n",
      "  output_data['tf'] = h_data['tf'] / (h_data['tf'] + a_data['tf'])\n"
     ]
    },
    {
     "name": "stdout",
     "output_type": "stream",
     "text": [
      "S25G01N96\n",
      "S25G01N97\n"
     ]
    }
   ],
   "source": [
    "warnings.filterwarnings(action='ignore')\n",
    "db = DB.MYDB()\n",
    "data = player_model()\n",
    "data"
   ]
  },
  {
   "cell_type": "code",
   "execution_count": null,
   "metadata": {},
   "outputs": [],
   "source": [
    "data.to_csv(\"player_model\")"
   ]
  },
  {
   "cell_type": "code",
   "execution_count": null,
   "metadata": {},
   "outputs": [],
   "source": []
  }
 ],
 "metadata": {
  "interpreter": {
   "hash": "c7bc2c5d4b1c91b505209bd98bcdbbf5dd33a54f99a0a1f28442c34ebf4f9ae4"
  },
  "kernelspec": {
   "display_name": "Python 3.10.4 ('KBLPredict')",
   "language": "python",
   "name": "python3"
  },
  "language_info": {
   "codemirror_mode": {
    "name": "ipython",
    "version": 3
   },
   "file_extension": ".py",
   "mimetype": "text/x-python",
   "name": "python",
   "nbconvert_exporter": "python",
   "pygments_lexer": "ipython3",
   "version": "3.10.4"
  }
 },
 "nbformat": 4,
 "nbformat_minor": 0
}