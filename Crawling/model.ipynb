{
 "cells": [
  {
   "cell_type": "code",
   "execution_count": 1,
   "metadata": {
    "collapsed": true
   },
   "outputs": [],
   "source": [
    "import numpy as np\n",
    "import matplotlib.pyplot as plt\n",
    "import pandas as pd\n",
    "import seaborn as sns\n",
    "from sklearn.model_selection import train_test_split\n",
    "from sklearn.linear_model import LinearRegression\n",
    "from sklearn.metrics import mean_squared_error"
   ]
  },
  {
   "cell_type": "code",
   "execution_count": 2,
   "metadata": {
    "collapsed": false,
    "pycharm": {
     "name": "#%%\n"
    }
   },
   "outputs": [],
   "source": [
    "import pymysql\n",
    "import json\n",
    "import warnings\n",
    "import DB\n"
   ]
  },
  {
   "cell_type": "code",
   "execution_count": 3,
   "metadata": {
    "collapsed": false,
    "pycharm": {
     "name": "#%%\n"
    }
   },
   "outputs": [],
   "source": [
    "# db.cursor.execute('select * from team_record_merge')\n",
    "# data = pd.DataFrame(db.cursor.fetchall())\n"
   ]
  },
  {
   "cell_type": "code",
   "execution_count": 4,
   "metadata": {},
   "outputs": [],
   "source": [
    "# data = data.drop(3911) # 결측치 제거\n",
    "# data = data.drop(3258)"
   ]
  },
  {
   "cell_type": "code",
   "execution_count": 5,
   "metadata": {},
   "outputs": [],
   "source": [
    "def make_data(home, away):\n",
    "  result = pd.DataFrame()\n",
    "  # 어시스트 -> 어시스트 / 필드골 성공\n",
    "  for idx in range(home.shape[0]):\n",
    "    h_data, a_data = home.iloc[idx], away.iloc[idx]\n",
    "    output_data = {}\n",
    "    output_data['ast'] = h_data['ast'] / h_data['fgt']\n",
    "    # 2점\n",
    "    output_data['twop'] = h_data['fg'] / h_data['fgA']\n",
    "    # 3점\n",
    "    output_data['threep'] = h_data['threep'] / h_data['threepA']\n",
    "    # 자유투\n",
    "    output_data['freep'] = h_data['ft'] / h_data['ftA']\n",
    "    # 공격 리바\n",
    "    output_data['offr'] = h_data['offr'] / (h_data['offr'] + a_data['defr'])\n",
    "    # 속공\n",
    "    # output_data['tfb'] = h_data['tfb'] / h_data['fgt']\n",
    "    # 벤치득점\n",
    "    # output_data['bench'] = h_data['benchScoreCn'] / h_data['score']\n",
    "    # 속공득점\n",
    "    # output_data['tfbp'] = h_data['fbScoreCn'] / h_data['score']\n",
    "    # 페인트존 득점\n",
    "    output_data['ppp'] = h_data['pp'] / h_data['ppA']\n",
    "    # 덩크\n",
    "    output_data['dk'] = h_data['dk'] / h_data['dkA']\n",
    "    # 최다 연속 득점 비율\n",
    "    # output_data['maxContiScore'] = h_data['maxContiScoreCn'] / h_data['score']\n",
    "    # 최다 리드 점수차\n",
    "    # output_data['maxLeadScore'] = (h_data['score'] - a_data['score']) / h_data['maxLeadScoreCn']\n",
    "    # 득점 우위 시간\n",
    "    # output_data['scoreHighTime'] = h_data['scoreHighTimeCn'] / 2400\n",
    "    # 세컨찬스 득점\n",
    "    # output_data['secChanceScore'] = h_data['secChanceScoreCn'] / h_data['score']\n",
    "    # 턴오버\n",
    "    # output_data['to'] = (h_data['to'] + h_data['tto']) / (h_data['to'] + h_data['tto'] + a_data['to'] + a_data['tto'])\n",
    "    # output_data['to'] = (h_data['to'] + h_data['tto']) / (h_data['to'] + h_data['tto'] + a_data['to'] + a_data['tto'])\n",
    "\n",
    "    output_data['defr'] = h_data['defr'] / (a_data['offr'] + h_data['defr'])\n",
    "    output_data['stl'] = h_data['stl'] / (h_data['stl'] + a_data['stl'])\n",
    "    output_data['bs'] = h_data['bs'] / a_data['fgtA']\n",
    "    output_data['foul'] = h_data['foul'] / (h_data['foul'] + a_data['foul'])\n",
    "    output_data['tf'] = h_data['tf'] / (h_data['tf'] + a_data['tf'])\n",
    "    output_data['gd'] = h_data['gd'] / (h_data['gd'] + a_data['gd'])\n",
    "\n",
    "    output_data['score'] = h_data['score']\n",
    "    # output_data['teamR'] = h_data['teamR'] / (h_data['teamR'] + a_data['teamR'])\n",
    "    # result.append(output_data, ignore_index=True)\n",
    "    # print(output_data)\n",
    "    result = pd.concat([result, pd.DataFrame([output_data])], ignore_index=True)\n",
    "  return result"
   ]
  },
  {
   "cell_type": "code",
   "execution_count": 6,
   "metadata": {},
   "outputs": [],
   "source": [
    "def make_model(data):\n",
    "    h_data = pd.DataFrame()\n",
    "    a_data = pd.DataFrame()\n",
    "    # 어시스트 -> 어시스트 / 필드골 성공\n",
    "    h_data['ast'] = data['h_ast'] / data['h_fgt']\n",
    "    a_data['ast'] = data['a_ast'] / data['a_fgt']\n",
    "    # 2점\n",
    "    h_data['twop'] = data['h_fg'] / data['h_fgA']\n",
    "    a_data['twop'] = data['a_fg'] / data['a_fgA']\n",
    "\n",
    "    # 3점\n",
    "    h_data['threep'] = data['h_threep'] / data['h_threepA']\n",
    "    a_data['threep'] = data['a_threep'] / data['a_threepA']\n",
    "\n",
    "    # 자유투\n",
    "    h_data['freep'] = data['h_ft'] / data['h_ftA']\n",
    "    a_data['freep'] = data['a_ft'] / data['a_ftA']\n",
    "\n",
    "    # 공격 리바\n",
    "    h_data['offr'] = data['h_offr'] / (data['h_offr'] + data['a_defr'])\n",
    "    a_data['offr'] = data['a_offr'] / (data['a_offr'] + data['h_defr'])\n",
    "    # 속공\n",
    "    h_data['tfb'] = data['h_tfb'] / data['h_fgt']\n",
    "    a_data['tfb'] = data['a_tfb'] / data['a_fgt']\n",
    "\n",
    "    # 벤치득점\n",
    "    h_data['bench'] = data['h_benchScoreCn'] / data['h_score']\n",
    "    a_data['bench'] = data['a_benchScoreCn'] / data['a_score']\n",
    "\n",
    "\n",
    "    # 속공득점\n",
    "    h_data['tfbp'] = data['h_fbScoreCn'] / data['h_score']\n",
    "    a_data['tfbp'] = data['a_fbScoreCn'] / data['a_score']\n",
    "\n",
    "    # 페인트존 득점\n",
    "    h_data['ppp'] = data['h_pp'] / data['h_ppA']\n",
    "    a_data['ppp'] = data['a_pp'] / data['a_ppA']\n",
    "\n",
    "    # 덩크\n",
    "    h_data['dk'] = data['h_dk'] / data['h_dkA']\n",
    "    a_data['dk'] = data['a_dk'] / data['a_dkA']\n",
    "\n",
    "    # 최다 연속 득점 비율\n",
    "    h_data['maxContiScore'] = data['h_maxContiScoreCn'] / data['h_score']\n",
    "    a_data['maxContiScore'] = data['a_maxContiScoreCn'] / data['a_score']\n",
    "\n",
    "    # 최다 리드 점수차\n",
    "    # h_data['maxLeadScore'] = (data['h_score'] - data['a_score']) / data['h_maxLeadScoreCn']\n",
    "    # a_data['maxLeadScore'] = (data['a_score'] - data['h_score']) / data['a_maxLeadScoreCn']\n",
    "    # h_data[h_data['maxLeadScore'] < -1]\n",
    "\n",
    "    # 득점 우위 시간\n",
    "    h_data['scoreHighTime'] = data['h_scoreHighTimeCn'] / 2400\n",
    "    a_data['scoreHighTime'] = data['a_scoreHighTimeCn'] / 2400\n",
    "\n",
    "    # 세컨찬스 득점\n",
    "    h_data['secChanceScore'] = data['h_secChanceScoreCn'] / data['h_score']\n",
    "    a_data['secChanceScore'] = data['a_secChanceScoreCn'] / data['a_score']\n",
    "\n",
    "    # 턴오버\n",
    "    h_data['to'] = (data['h_to'] + data['h_tto']) / (data['h_to'] + data['h_tto'] + data['a_to'] + data['a_tto'])\n",
    "    a_data['to'] = (data['a_to'] + data['a_tto']) / (data['h_to'] + data['h_tto'] + data['a_to'] + data['a_tto'])\n",
    "\n",
    "    h_data['defr'] = data['h_defr'] / (data['a_offr'] + data['h_defr'])\n",
    "    a_data['defr'] = data['a_defr'] / (data['h_offr'] + data['a_defr'])\n",
    "    h_data['stl'] = data['h_stl'] / (data['h_stl'] + data['a_stl'])\n",
    "    a_data['stl'] = data['a_stl'] / (data['h_stl'] + data['a_stl'])\n",
    "    h_data['bs'] = data['h_bs'] / data['a_fgtA']\n",
    "    a_data['bs'] = data['a_bs'] / data['h_fgtA']\n",
    "    h_data['foul'] = data['h_foul'] / (data['h_foul'] + data['a_foul'])\n",
    "    a_data['foul'] = data['a_foul'] / (data['h_foul'] + data['a_foul'])\n",
    "    h_data['tf'] = data['h_tf'] / (data['h_tf'] + data['a_tf'])\n",
    "    a_data['tf'] = data['a_tf'] / (data['h_tf'] + data['a_tf'])\n",
    "    h_data['gd'] = data['h_gd'] / (data['h_gd'] + data['a_gd'])\n",
    "    a_data['gd'] = data['a_gd'] / (data['h_gd'] + data['a_gd'])\n",
    "    h_data['teamR'] = data['h_teamR'] / (data['h_teamR'] + data['a_teamR'])\n",
    "    a_data['teamR'] = data['a_teamR'] / (data['h_teamR'] + data['a_teamR'])\n",
    "\n",
    "    h_data = h_data.fillna(0)\n",
    "    h_data = h_data.replace([np.inf, -np.inf], 0)\n",
    "    h_data['score'] = data['h_score']\n",
    "\n",
    "    a_data = a_data.fillna(0)\n",
    "    a_data = a_data.replace([np.inf, -np.inf], 0)\n",
    "    a_data['score'] = data['a_score']\n",
    "\n",
    "    return h_data.append(a_data, ignore_index=True)"
   ]
  },
  {
   "cell_type": "code",
   "execution_count": 7,
   "metadata": {},
   "outputs": [],
   "source": [
    "#seasonKey : S19G01\n",
    "def get_keyplayer(seasonKey, team):\n",
    "    result = set()\n",
    "    season = str(int(seasonKey[1:3]) -2)\n",
    "    league = seasonKey[4:6]\n",
    "    seasonKey = 'S' + season + 'G' + league\n",
    "    db.cursor.execute('''SELECT *\n",
    "                        FROM player_avg_record\n",
    "                        WHERE seasonCode LIKE 'S{}%' and\n",
    "                        pcode IN (SELECT pcode\n",
    "                                    FROM player\n",
    "                                    WHERE tcode = '{}' and seasonCode = '{}');'''.format(season, team, season))\n",
    "    data = pd.DataFrame(db.cursor.fetchall())\n",
    "    if data.size != 0:\n",
    "        score_top_player = data.sort_values('score',ascending=False)['pcode'][:3]\n",
    "        ast_top_player = data.sort_values('ast')['pcode'][:3]\n",
    "        rb_top_player = data.sort_values('rb')['pcode'][:3]\n",
    "        for player in score_top_player:\n",
    "            result.add(player)\n",
    "        # result.add(score_top_player[0])\n",
    "        for player in ast_top_player:\n",
    "            if player in result:\n",
    "                continue\n",
    "            result.add(player)\n",
    "            # break\n",
    "        for player in rb_top_player:\n",
    "            if player in result:\n",
    "                continue\n",
    "            result.add(player)\n",
    "            # break\n",
    "        return result     \n",
    "    else:\n",
    "        return None"
   ]
  },
  {
   "cell_type": "code",
   "execution_count": 8,
   "metadata": {},
   "outputs": [],
   "source": [
    "def get_season_keyplayer(season):\n",
    "    # db = DB.MYDB()\n",
    "    db.cursor.execute(\"select tcode from team_code\")\n",
    "    tcodes = db.cursor.fetchall()\n",
    "    result = dict()\n",
    "    for tcode in tcodes:\n",
    "        tcode = tcode['tcode']\n",
    "        if tcode == '6':\n",
    "            tcode = '06'\n",
    "        db.cursor.execute('''SELECT *\n",
    "                        FROM player_avg_record\n",
    "                        WHERE seasonCode LIKE 'S{}%' and\n",
    "                        pcode IN (SELECT pcode\n",
    "                                    FROM player\n",
    "                                    WHERE tcode = '{}' and seasonCode = '{}');'''.format(season - 2, tcode, season))\n",
    "        data = pd.DataFrame(db.cursor.fetchall())\n",
    "        if data.size != 0:\n",
    "            score_top_player = data.sort_values('score',ascending=False)['pcode'][:3]\n",
    "            ast_top_player = data.sort_values('ast', ascending=False)['pcode'][:3]\n",
    "            rb_top_player = data.sort_values('rb', ascending=False)['pcode'][:3]\n",
    "            result[tcode] = set(score_top_player) | set(ast_top_player) | set(rb_top_player)\n",
    "    return result"
   ]
  },
  {
   "cell_type": "code",
   "execution_count": 9,
   "metadata": {},
   "outputs": [],
   "source": [
    "def get_recent(players, gameCode):\n",
    "    df = pd.DataFrame()\n",
    "    for player in players:\n",
    "        db.cursor.execute(\"\"\"\n",
    "                        SELECT b.*, a.gameDate \n",
    "                        FROM game_meta a, player_record b\n",
    "                        WHERE a.gmkey = b.gmkey and b.pcode = '{}' and b.gmkey < '{}'\n",
    "                        ORDER BY gameDate desc\n",
    "                        LIMIT 5\"\"\".format(player, gameCode))\n",
    "        temp = pd.DataFrame(db.cursor.fetchall())\n",
    "        df = pd.concat([df, temp])\n",
    "    return df\n",
    "        "
   ]
  },
  {
   "cell_type": "code",
   "execution_count": 13,
   "metadata": {},
   "outputs": [
    {
     "name": "stdout",
     "output_type": "stream",
     "text": [
      "Connect!\n"
     ]
    }
   ],
   "source": [
    "db = DB.MYDB()\n",
    "db.cursor.execute(\"SELECT gmkey, tcodeA, tcodeH FROM hygp.game_meta where gmkey > 'S19G01N1';\")\n",
    "records = db.cursor.fetchall()\n",
    "db.cursor.execute(\"SELECT gmkey, h_score, a_score FROM hygp.team_record_merge;\")\n",
    "scores = pd.DataFrame(db.cursor.fetchall())\n",
    "season_keyplayer = dict()\n",
    "for season in range(17, 41):\n",
    "    season_keyplayer[season] = get_season_keyplayer(season)\n",
    "    "
   ]
  },
  {
   "cell_type": "code",
   "execution_count": 11,
   "metadata": {},
   "outputs": [],
   "source": [
    "def player_model():\n",
    "    h_data = []\n",
    "    a_data = []\n",
    "    for idx, record in enumerate(records):\n",
    "        gmkey = record['gmkey']\n",
    "        season = int(gmkey[1:3])\n",
    "        score = scores[scores['gmkey'] == gmkey]\n",
    "        temp1 = dict(get_recent(season_keyplayer[season][record['tcodeH']], gmkey).mean(numeric_only=True))\n",
    "        temp1['score'] = score['h_score']\n",
    "        temp2 = dict(get_recent(season_keyplayer[season][record['tcodeA']], gmkey).mean(numeric_only=True))\n",
    "        temp2['score'] = score['a_score']\n",
    "        h_data.append(temp1)\n",
    "        a_data.append(temp2)\n",
    "        if idx % 100 == 0:\n",
    "            print(gmkey)\n",
    "            \n",
    "        # h_df = pd.DataFrame(get_recent(home_keyplayer, gmkey).mean(numeric_only=True)).transpose()\n",
    "        # a_df = pd.DataFrame(get_recent(away_keyplayer, gmkey).mean(numeric_only=True)).transpose()\n",
    "        # if h_df.size == 0 or a_df.size == 0:\n",
    "            # print(\"recent error :\", gmkey)\n",
    "        # h_df['score'] = score['h_score']\n",
    "        # if a_df is None:\n",
    "            # print(gmkey, away_keyplayer)\n",
    "        # a_df['score'] = score['a_score']\n",
    "        # model = pd.concat([model, make_data(h_df, a_df), make_data(a_df, h_df)])\n",
    "        # print(gmkey)\n",
    "    h_df = pd.DataFrame(h_data).to_csv(\"h_data.csv\")\n",
    "    a_df = pd.DataFrame(h_data).to_csv(\"a_data.csv\")\n",
    "    model = pd.concat([make_data(h_data, a_data), make_data(a_data, h_data)])\n",
    "    return model\n"
   ]
  },
  {
   "cell_type": "code",
   "execution_count": 12,
   "metadata": {},
   "outputs": [
    {
     "name": "stdout",
     "output_type": "stream",
     "text": [
      "S23G01N2\n",
      "S23G01N2\n",
      "S23G01N3\n",
      "S23G01N4\n",
      "S23G01N5\n",
      "S23G01N6\n",
      "S23G01N7\n",
      "S23G01N8\n",
      "S23G01N9\n",
      "S23G01N10\n"
     ]
    },
    {
     "ename": "KeyboardInterrupt",
     "evalue": "",
     "output_type": "error",
     "traceback": [
      "\u001B[0;31m---------------------------------------------------------------------------\u001B[0m",
      "\u001B[0;31mKeyboardInterrupt\u001B[0m                         Traceback (most recent call last)",
      "\u001B[1;32m/Users/grulsuitg/study/KBLPredict/Crawling/model.ipynb Cell 12'\u001B[0m in \u001B[0;36m<cell line: 2>\u001B[0;34m()\u001B[0m\n\u001B[1;32m      <a href='vscode-notebook-cell:/Users/grulsuitg/study/KBLPredict/Crawling/model.ipynb#ch0000012?line=0'>1</a>\u001B[0m warnings\u001B[39m.\u001B[39mfilterwarnings(action\u001B[39m=\u001B[39m\u001B[39m'\u001B[39m\u001B[39mignore\u001B[39m\u001B[39m'\u001B[39m)\n\u001B[0;32m----> <a href='vscode-notebook-cell:/Users/grulsuitg/study/KBLPredict/Crawling/model.ipynb#ch0000012?line=1'>2</a>\u001B[0m data \u001B[39m=\u001B[39m player_model()\n\u001B[1;32m      <a href='vscode-notebook-cell:/Users/grulsuitg/study/KBLPredict/Crawling/model.ipynb#ch0000012?line=2'>3</a>\u001B[0m data\n",
      "\u001B[1;32m/Users/grulsuitg/study/KBLPredict/Crawling/model.ipynb Cell 11'\u001B[0m in \u001B[0;36mplayer_model\u001B[0;34m()\u001B[0m\n\u001B[1;32m      <a href='vscode-notebook-cell:/Users/grulsuitg/study/KBLPredict/Crawling/model.ipynb#ch0000010?line=8'>9</a>\u001B[0m temp1 \u001B[39m=\u001B[39m \u001B[39mdict\u001B[39m(get_recent(season_keyplayer[season][record[\u001B[39m'\u001B[39m\u001B[39mtcodeH\u001B[39m\u001B[39m'\u001B[39m]], gmkey)\u001B[39m.\u001B[39mmean(numeric_only\u001B[39m=\u001B[39m\u001B[39mTrue\u001B[39;00m))\n\u001B[1;32m     <a href='vscode-notebook-cell:/Users/grulsuitg/study/KBLPredict/Crawling/model.ipynb#ch0000010?line=9'>10</a>\u001B[0m temp1[\u001B[39m'\u001B[39m\u001B[39mscore\u001B[39m\u001B[39m'\u001B[39m] \u001B[39m=\u001B[39m score[\u001B[39m'\u001B[39m\u001B[39mh_score\u001B[39m\u001B[39m'\u001B[39m]\n\u001B[0;32m---> <a href='vscode-notebook-cell:/Users/grulsuitg/study/KBLPredict/Crawling/model.ipynb#ch0000010?line=10'>11</a>\u001B[0m temp2 \u001B[39m=\u001B[39m \u001B[39mdict\u001B[39m(get_recent(season_keyplayer[season][record[\u001B[39m'\u001B[39;49m\u001B[39mtcodeA\u001B[39;49m\u001B[39m'\u001B[39;49m]], gmkey)\u001B[39m.\u001B[39mmean(numeric_only\u001B[39m=\u001B[39m\u001B[39mTrue\u001B[39;00m))\n\u001B[1;32m     <a href='vscode-notebook-cell:/Users/grulsuitg/study/KBLPredict/Crawling/model.ipynb#ch0000010?line=11'>12</a>\u001B[0m temp2[\u001B[39m'\u001B[39m\u001B[39mscore\u001B[39m\u001B[39m'\u001B[39m] \u001B[39m=\u001B[39m score[\u001B[39m'\u001B[39m\u001B[39ma_score\u001B[39m\u001B[39m'\u001B[39m]\n\u001B[1;32m     <a href='vscode-notebook-cell:/Users/grulsuitg/study/KBLPredict/Crawling/model.ipynb#ch0000010?line=12'>13</a>\u001B[0m h_data\u001B[39m.\u001B[39mappend(temp1)\n",
      "\u001B[1;32m/Users/grulsuitg/study/KBLPredict/Crawling/model.ipynb Cell 9'\u001B[0m in \u001B[0;36mget_recent\u001B[0;34m(players, gameCode)\u001B[0m\n\u001B[1;32m      <a href='vscode-notebook-cell:/Users/grulsuitg/study/KBLPredict/Crawling/model.ipynb#ch0000008?line=1'>2</a>\u001B[0m df \u001B[39m=\u001B[39m pd\u001B[39m.\u001B[39mDataFrame()\n\u001B[1;32m      <a href='vscode-notebook-cell:/Users/grulsuitg/study/KBLPredict/Crawling/model.ipynb#ch0000008?line=2'>3</a>\u001B[0m \u001B[39mfor\u001B[39;00m player \u001B[39min\u001B[39;00m players:\n\u001B[0;32m----> <a href='vscode-notebook-cell:/Users/grulsuitg/study/KBLPredict/Crawling/model.ipynb#ch0000008?line=3'>4</a>\u001B[0m     db\u001B[39m.\u001B[39;49mcursor\u001B[39m.\u001B[39;49mexecute(\u001B[39m\"\"\"\u001B[39;49m\n\u001B[1;32m      <a href='vscode-notebook-cell:/Users/grulsuitg/study/KBLPredict/Crawling/model.ipynb#ch0000008?line=4'>5</a>\u001B[0m \u001B[39m                    SELECT b.*, a.gameDate \u001B[39;49m\n\u001B[1;32m      <a href='vscode-notebook-cell:/Users/grulsuitg/study/KBLPredict/Crawling/model.ipynb#ch0000008?line=5'>6</a>\u001B[0m \u001B[39m                    FROM game_meta a, player_record b\u001B[39;49m\n\u001B[1;32m      <a href='vscode-notebook-cell:/Users/grulsuitg/study/KBLPredict/Crawling/model.ipynb#ch0000008?line=6'>7</a>\u001B[0m \u001B[39m                    WHERE a.gmkey = b.gmkey and b.pcode = \u001B[39;49m\u001B[39m'\u001B[39;49m\u001B[39m{}\u001B[39;49;00m\u001B[39m'\u001B[39;49m\u001B[39m and b.gmkey < \u001B[39;49m\u001B[39m'\u001B[39;49m\u001B[39m{}\u001B[39;49;00m\u001B[39m'\u001B[39;49m\n\u001B[1;32m      <a href='vscode-notebook-cell:/Users/grulsuitg/study/KBLPredict/Crawling/model.ipynb#ch0000008?line=7'>8</a>\u001B[0m \u001B[39m                    ORDER BY gameDate desc\u001B[39;49m\n\u001B[1;32m      <a href='vscode-notebook-cell:/Users/grulsuitg/study/KBLPredict/Crawling/model.ipynb#ch0000008?line=8'>9</a>\u001B[0m \u001B[39m                    LIMIT 5\u001B[39;49m\u001B[39m\"\"\"\u001B[39;49m\u001B[39m.\u001B[39;49mformat(player, gameCode))\n\u001B[1;32m     <a href='vscode-notebook-cell:/Users/grulsuitg/study/KBLPredict/Crawling/model.ipynb#ch0000008?line=9'>10</a>\u001B[0m     temp \u001B[39m=\u001B[39m pd\u001B[39m.\u001B[39mDataFrame(db\u001B[39m.\u001B[39mcursor\u001B[39m.\u001B[39mfetchall())\n\u001B[1;32m     <a href='vscode-notebook-cell:/Users/grulsuitg/study/KBLPredict/Crawling/model.ipynb#ch0000008?line=10'>11</a>\u001B[0m     df \u001B[39m=\u001B[39m pd\u001B[39m.\u001B[39mconcat([df, temp])\n",
      "File \u001B[0;32m~/.conda/envs/KBLPredict/lib/python3.10/site-packages/pymysql/cursors.py:148\u001B[0m, in \u001B[0;36mCursor.execute\u001B[0;34m(self, query, args)\u001B[0m\n\u001B[1;32m    <a href='file:///Users/grulsuitg/.conda/envs/KBLPredict/lib/python3.10/site-packages/pymysql/cursors.py?line=143'>144</a>\u001B[0m     \u001B[39mpass\u001B[39;00m\n\u001B[1;32m    <a href='file:///Users/grulsuitg/.conda/envs/KBLPredict/lib/python3.10/site-packages/pymysql/cursors.py?line=145'>146</a>\u001B[0m query \u001B[39m=\u001B[39m \u001B[39mself\u001B[39m\u001B[39m.\u001B[39mmogrify(query, args)\n\u001B[0;32m--> <a href='file:///Users/grulsuitg/.conda/envs/KBLPredict/lib/python3.10/site-packages/pymysql/cursors.py?line=147'>148</a>\u001B[0m result \u001B[39m=\u001B[39m \u001B[39mself\u001B[39;49m\u001B[39m.\u001B[39;49m_query(query)\n\u001B[1;32m    <a href='file:///Users/grulsuitg/.conda/envs/KBLPredict/lib/python3.10/site-packages/pymysql/cursors.py?line=148'>149</a>\u001B[0m \u001B[39mself\u001B[39m\u001B[39m.\u001B[39m_executed \u001B[39m=\u001B[39m query\n\u001B[1;32m    <a href='file:///Users/grulsuitg/.conda/envs/KBLPredict/lib/python3.10/site-packages/pymysql/cursors.py?line=149'>150</a>\u001B[0m \u001B[39mreturn\u001B[39;00m result\n",
      "File \u001B[0;32m~/.conda/envs/KBLPredict/lib/python3.10/site-packages/pymysql/cursors.py:310\u001B[0m, in \u001B[0;36mCursor._query\u001B[0;34m(self, q)\u001B[0m\n\u001B[1;32m    <a href='file:///Users/grulsuitg/.conda/envs/KBLPredict/lib/python3.10/site-packages/pymysql/cursors.py?line=307'>308</a>\u001B[0m \u001B[39mself\u001B[39m\u001B[39m.\u001B[39m_last_executed \u001B[39m=\u001B[39m q\n\u001B[1;32m    <a href='file:///Users/grulsuitg/.conda/envs/KBLPredict/lib/python3.10/site-packages/pymysql/cursors.py?line=308'>309</a>\u001B[0m \u001B[39mself\u001B[39m\u001B[39m.\u001B[39m_clear_result()\n\u001B[0;32m--> <a href='file:///Users/grulsuitg/.conda/envs/KBLPredict/lib/python3.10/site-packages/pymysql/cursors.py?line=309'>310</a>\u001B[0m conn\u001B[39m.\u001B[39;49mquery(q)\n\u001B[1;32m    <a href='file:///Users/grulsuitg/.conda/envs/KBLPredict/lib/python3.10/site-packages/pymysql/cursors.py?line=310'>311</a>\u001B[0m \u001B[39mself\u001B[39m\u001B[39m.\u001B[39m_do_get_result()\n\u001B[1;32m    <a href='file:///Users/grulsuitg/.conda/envs/KBLPredict/lib/python3.10/site-packages/pymysql/cursors.py?line=311'>312</a>\u001B[0m \u001B[39mreturn\u001B[39;00m \u001B[39mself\u001B[39m\u001B[39m.\u001B[39mrowcount\n",
      "File \u001B[0;32m~/.conda/envs/KBLPredict/lib/python3.10/site-packages/pymysql/connections.py:548\u001B[0m, in \u001B[0;36mConnection.query\u001B[0;34m(self, sql, unbuffered)\u001B[0m\n\u001B[1;32m    <a href='file:///Users/grulsuitg/.conda/envs/KBLPredict/lib/python3.10/site-packages/pymysql/connections.py?line=545'>546</a>\u001B[0m     sql \u001B[39m=\u001B[39m sql\u001B[39m.\u001B[39mencode(\u001B[39mself\u001B[39m\u001B[39m.\u001B[39mencoding, \u001B[39m\"\u001B[39m\u001B[39msurrogateescape\u001B[39m\u001B[39m\"\u001B[39m)\n\u001B[1;32m    <a href='file:///Users/grulsuitg/.conda/envs/KBLPredict/lib/python3.10/site-packages/pymysql/connections.py?line=546'>547</a>\u001B[0m \u001B[39mself\u001B[39m\u001B[39m.\u001B[39m_execute_command(COMMAND\u001B[39m.\u001B[39mCOM_QUERY, sql)\n\u001B[0;32m--> <a href='file:///Users/grulsuitg/.conda/envs/KBLPredict/lib/python3.10/site-packages/pymysql/connections.py?line=547'>548</a>\u001B[0m \u001B[39mself\u001B[39m\u001B[39m.\u001B[39m_affected_rows \u001B[39m=\u001B[39m \u001B[39mself\u001B[39;49m\u001B[39m.\u001B[39;49m_read_query_result(unbuffered\u001B[39m=\u001B[39;49munbuffered)\n\u001B[1;32m    <a href='file:///Users/grulsuitg/.conda/envs/KBLPredict/lib/python3.10/site-packages/pymysql/connections.py?line=548'>549</a>\u001B[0m \u001B[39mreturn\u001B[39;00m \u001B[39mself\u001B[39m\u001B[39m.\u001B[39m_affected_rows\n",
      "File \u001B[0;32m~/.conda/envs/KBLPredict/lib/python3.10/site-packages/pymysql/connections.py:775\u001B[0m, in \u001B[0;36mConnection._read_query_result\u001B[0;34m(self, unbuffered)\u001B[0m\n\u001B[1;32m    <a href='file:///Users/grulsuitg/.conda/envs/KBLPredict/lib/python3.10/site-packages/pymysql/connections.py?line=772'>773</a>\u001B[0m \u001B[39melse\u001B[39;00m:\n\u001B[1;32m    <a href='file:///Users/grulsuitg/.conda/envs/KBLPredict/lib/python3.10/site-packages/pymysql/connections.py?line=773'>774</a>\u001B[0m     result \u001B[39m=\u001B[39m MySQLResult(\u001B[39mself\u001B[39m)\n\u001B[0;32m--> <a href='file:///Users/grulsuitg/.conda/envs/KBLPredict/lib/python3.10/site-packages/pymysql/connections.py?line=774'>775</a>\u001B[0m     result\u001B[39m.\u001B[39;49mread()\n\u001B[1;32m    <a href='file:///Users/grulsuitg/.conda/envs/KBLPredict/lib/python3.10/site-packages/pymysql/connections.py?line=775'>776</a>\u001B[0m \u001B[39mself\u001B[39m\u001B[39m.\u001B[39m_result \u001B[39m=\u001B[39m result\n\u001B[1;32m    <a href='file:///Users/grulsuitg/.conda/envs/KBLPredict/lib/python3.10/site-packages/pymysql/connections.py?line=776'>777</a>\u001B[0m \u001B[39mif\u001B[39;00m result\u001B[39m.\u001B[39mserver_status \u001B[39mis\u001B[39;00m \u001B[39mnot\u001B[39;00m \u001B[39mNone\u001B[39;00m:\n",
      "File \u001B[0;32m~/.conda/envs/KBLPredict/lib/python3.10/site-packages/pymysql/connections.py:1156\u001B[0m, in \u001B[0;36mMySQLResult.read\u001B[0;34m(self)\u001B[0m\n\u001B[1;32m   <a href='file:///Users/grulsuitg/.conda/envs/KBLPredict/lib/python3.10/site-packages/pymysql/connections.py?line=1153'>1154</a>\u001B[0m \u001B[39mdef\u001B[39;00m \u001B[39mread\u001B[39m(\u001B[39mself\u001B[39m):\n\u001B[1;32m   <a href='file:///Users/grulsuitg/.conda/envs/KBLPredict/lib/python3.10/site-packages/pymysql/connections.py?line=1154'>1155</a>\u001B[0m     \u001B[39mtry\u001B[39;00m:\n\u001B[0;32m-> <a href='file:///Users/grulsuitg/.conda/envs/KBLPredict/lib/python3.10/site-packages/pymysql/connections.py?line=1155'>1156</a>\u001B[0m         first_packet \u001B[39m=\u001B[39m \u001B[39mself\u001B[39;49m\u001B[39m.\u001B[39;49mconnection\u001B[39m.\u001B[39;49m_read_packet()\n\u001B[1;32m   <a href='file:///Users/grulsuitg/.conda/envs/KBLPredict/lib/python3.10/site-packages/pymysql/connections.py?line=1157'>1158</a>\u001B[0m         \u001B[39mif\u001B[39;00m first_packet\u001B[39m.\u001B[39mis_ok_packet():\n\u001B[1;32m   <a href='file:///Users/grulsuitg/.conda/envs/KBLPredict/lib/python3.10/site-packages/pymysql/connections.py?line=1158'>1159</a>\u001B[0m             \u001B[39mself\u001B[39m\u001B[39m.\u001B[39m_read_ok_packet(first_packet)\n",
      "File \u001B[0;32m~/.conda/envs/KBLPredict/lib/python3.10/site-packages/pymysql/connections.py:692\u001B[0m, in \u001B[0;36mConnection._read_packet\u001B[0;34m(self, packet_type)\u001B[0m\n\u001B[1;32m    <a href='file:///Users/grulsuitg/.conda/envs/KBLPredict/lib/python3.10/site-packages/pymysql/connections.py?line=689'>690</a>\u001B[0m buff \u001B[39m=\u001B[39m \u001B[39mbytearray\u001B[39m()\n\u001B[1;32m    <a href='file:///Users/grulsuitg/.conda/envs/KBLPredict/lib/python3.10/site-packages/pymysql/connections.py?line=690'>691</a>\u001B[0m \u001B[39mwhile\u001B[39;00m \u001B[39mTrue\u001B[39;00m:\n\u001B[0;32m--> <a href='file:///Users/grulsuitg/.conda/envs/KBLPredict/lib/python3.10/site-packages/pymysql/connections.py?line=691'>692</a>\u001B[0m     packet_header \u001B[39m=\u001B[39m \u001B[39mself\u001B[39;49m\u001B[39m.\u001B[39;49m_read_bytes(\u001B[39m4\u001B[39;49m)\n\u001B[1;32m    <a href='file:///Users/grulsuitg/.conda/envs/KBLPredict/lib/python3.10/site-packages/pymysql/connections.py?line=692'>693</a>\u001B[0m     \u001B[39m# if DEBUG: dump_packet(packet_header)\u001B[39;00m\n\u001B[1;32m    <a href='file:///Users/grulsuitg/.conda/envs/KBLPredict/lib/python3.10/site-packages/pymysql/connections.py?line=694'>695</a>\u001B[0m     btrl, btrh, packet_number \u001B[39m=\u001B[39m struct\u001B[39m.\u001B[39munpack(\u001B[39m\"\u001B[39m\u001B[39m<HBB\u001B[39m\u001B[39m\"\u001B[39m, packet_header)\n",
      "File \u001B[0;32m~/.conda/envs/KBLPredict/lib/python3.10/site-packages/pymysql/connections.py:732\u001B[0m, in \u001B[0;36mConnection._read_bytes\u001B[0;34m(self, num_bytes)\u001B[0m\n\u001B[1;32m    <a href='file:///Users/grulsuitg/.conda/envs/KBLPredict/lib/python3.10/site-packages/pymysql/connections.py?line=729'>730</a>\u001B[0m \u001B[39mwhile\u001B[39;00m \u001B[39mTrue\u001B[39;00m:\n\u001B[1;32m    <a href='file:///Users/grulsuitg/.conda/envs/KBLPredict/lib/python3.10/site-packages/pymysql/connections.py?line=730'>731</a>\u001B[0m     \u001B[39mtry\u001B[39;00m:\n\u001B[0;32m--> <a href='file:///Users/grulsuitg/.conda/envs/KBLPredict/lib/python3.10/site-packages/pymysql/connections.py?line=731'>732</a>\u001B[0m         data \u001B[39m=\u001B[39m \u001B[39mself\u001B[39;49m\u001B[39m.\u001B[39;49m_rfile\u001B[39m.\u001B[39;49mread(num_bytes)\n\u001B[1;32m    <a href='file:///Users/grulsuitg/.conda/envs/KBLPredict/lib/python3.10/site-packages/pymysql/connections.py?line=732'>733</a>\u001B[0m         \u001B[39mbreak\u001B[39;00m\n\u001B[1;32m    <a href='file:///Users/grulsuitg/.conda/envs/KBLPredict/lib/python3.10/site-packages/pymysql/connections.py?line=733'>734</a>\u001B[0m     \u001B[39mexcept\u001B[39;00m (\u001B[39mIOError\u001B[39;00m, \u001B[39mOSError\u001B[39;00m) \u001B[39mas\u001B[39;00m e:\n",
      "File \u001B[0;32m~/.conda/envs/KBLPredict/lib/python3.10/socket.py:705\u001B[0m, in \u001B[0;36mSocketIO.readinto\u001B[0;34m(self, b)\u001B[0m\n\u001B[1;32m    <a href='file:///Users/grulsuitg/.conda/envs/KBLPredict/lib/python3.10/socket.py?line=702'>703</a>\u001B[0m \u001B[39mwhile\u001B[39;00m \u001B[39mTrue\u001B[39;00m:\n\u001B[1;32m    <a href='file:///Users/grulsuitg/.conda/envs/KBLPredict/lib/python3.10/socket.py?line=703'>704</a>\u001B[0m     \u001B[39mtry\u001B[39;00m:\n\u001B[0;32m--> <a href='file:///Users/grulsuitg/.conda/envs/KBLPredict/lib/python3.10/socket.py?line=704'>705</a>\u001B[0m         \u001B[39mreturn\u001B[39;00m \u001B[39mself\u001B[39;49m\u001B[39m.\u001B[39;49m_sock\u001B[39m.\u001B[39;49mrecv_into(b)\n\u001B[1;32m    <a href='file:///Users/grulsuitg/.conda/envs/KBLPredict/lib/python3.10/socket.py?line=705'>706</a>\u001B[0m     \u001B[39mexcept\u001B[39;00m timeout:\n\u001B[1;32m    <a href='file:///Users/grulsuitg/.conda/envs/KBLPredict/lib/python3.10/socket.py?line=706'>707</a>\u001B[0m         \u001B[39mself\u001B[39m\u001B[39m.\u001B[39m_timeout_occurred \u001B[39m=\u001B[39m \u001B[39mTrue\u001B[39;00m\n",
      "\u001B[0;31mKeyboardInterrupt\u001B[0m: "
     ]
    }
   ],
   "source": [
    "warnings.filterwarnings(action='ignore')\n",
    "data = player_model()\n",
    "data"
   ]
  },
  {
   "cell_type": "code",
   "execution_count": null,
   "metadata": {},
   "outputs": [],
   "source": [
    "data.to_csv(\"player_model\")"
   ]
  },
  {
   "cell_type": "code",
   "execution_count": null,
   "metadata": {},
   "outputs": [],
   "source": [
    "X = data.iloc[:, :-1]\n",
    "y = data.iloc[:, -1]"
   ]
  },
  {
   "cell_type": "code",
   "execution_count": null,
   "metadata": {},
   "outputs": [],
   "source": [
    "X_train, X_test, y_train, y_test = train_test_split(X, y, test_size=0.2, random_state=0)"
   ]
  },
  {
   "cell_type": "code",
   "execution_count": null,
   "metadata": {},
   "outputs": [],
   "source": [
    "model = LinearRegression()\n",
    "model.fit(X_train, y_train)"
   ]
  },
  {
   "cell_type": "code",
   "execution_count": null,
   "metadata": {},
   "outputs": [],
   "source": [
    "y_predict = model.predict(X_test)\n",
    "mean_squared_error(y_predict, y_test, squared = False)\n",
    "model.score(X_test, y_test)"
   ]
  }
 ],
 "metadata": {
  "interpreter": {
   "hash": "c7bc2c5d4b1c91b505209bd98bcdbbf5dd33a54f99a0a1f28442c34ebf4f9ae4"
  },
  "kernelspec": {
   "display_name": "Python 3.10.4 ('KBLPredict')",
   "language": "python",
   "name": "python3"
  },
  "language_info": {
   "codemirror_mode": {
    "name": "ipython",
    "version": 3
   },
   "file_extension": ".py",
   "mimetype": "text/x-python",
   "name": "python",
   "nbconvert_exporter": "python",
   "pygments_lexer": "ipython3",
   "version": "3.10.4"
  }
 },
 "nbformat": 4,
 "nbformat_minor": 0
}