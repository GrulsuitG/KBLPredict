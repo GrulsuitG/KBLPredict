{
 "cells": [
  {
   "cell_type": "code",
   "execution_count": 1,
   "metadata": {
    "collapsed": true
   },
   "outputs": [],
   "source": [
    "import numpy as np\n",
    "import matplotlib.pyplot as plt\n",
    "import pandas as pd\n",
    "import seaborn as sns\n",
    "from sklearn.model_selection import train_test_split\n",
    "from sklearn.linear_model import LinearRegression\n",
    "from sklearn.metrics import mean_squared_error"
   ]
  },
  {
   "cell_type": "code",
   "execution_count": 2,
   "metadata": {
    "collapsed": false,
    "pycharm": {
     "name": "#%%\n"
    }
   },
   "outputs": [],
   "source": [
    "import pymysql\n",
    "import json\n",
    "import DB\n"
   ]
  },
  {
   "cell_type": "code",
   "execution_count": 3,
   "metadata": {
    "collapsed": false,
    "pycharm": {
     "name": "#%%\n"
    }
   },
   "outputs": [
    {
     "name": "stdout",
     "output_type": "stream",
     "text": [
      "Connect!\n"
     ]
    }
   ],
   "source": [
    "db = DB.MYDB()\n",
    "db.cursor.execute('select * from team_record_merge')\n",
    "data = pd.DataFrame(db.cursor.fetchall())\n"
   ]
  },
  {
   "cell_type": "code",
   "execution_count": null,
   "metadata": {},
   "outputs": [],
   "source": [
    "data = data.drop(3911) # 결측치 제거\n",
    "data = data.drop(3258)"
   ]
  },
  {
   "cell_type": "code",
   "execution_count": null,
   "metadata": {},
   "outputs": [],
   "source": [
    "def make_data(home, away):\n",
    "  result = pd.DataFrame()\n",
    "  # 어시스트 -> 어시스트 / 필드골 성공\n",
    "  for idx in range(home.size):\n",
    "    h_data, a_data = home.iloc[idx], away.iloc[idx]\n",
    "    output_data = {}\n",
    "    output_data['ast'] = h_data['ast'] / h_data['fgt']\n",
    "    # 2점\n",
    "    output_data['twop'] = h_data['fg'] / h_data['fgA']\n",
    "    # 3점\n",
    "    output_data['threep'] = h_data['threep'] / h_data['threepA']\n",
    "    # 자유투\n",
    "    output_data['freep'] = h_data['ft'] / h_data['ftA']\n",
    "    # 공격 리바\n",
    "    output_data['offr'] = h_data['offr'] / (h_data['offr'] + a_data['defr'])\n",
    "    # 속공\n",
    "    output_data['tfb'] = h_data['tfb'] / h_data['fgt']\n",
    "    # 벤치득점\n",
    "    output_data['bench'] = h_data['benchScoreCn'] / h_data['score']\n",
    "    # 속공득점\n",
    "    output_data['tfbp'] = h_data['fbScoreCn'] / h_data['score']\n",
    "    # 페인트존 득점\n",
    "    output_data['ppp'] = h_data['pp'] / h_data['ppA']\n",
    "    # 덩크\n",
    "    output_data['dk'] = h_data['dk'] / h_data['dkA']\n",
    "    # 최다 연속 득점 비율\n",
    "    output_data['maxContiScore'] = h_data['maxContiScoreCn'] / h_data['score']\n",
    "    # 최다 리드 점수차\n",
    "    # output_data['maxLeadScore'] = (h_data['score'] - a_data['score']) / h_data['maxLeadScoreCn']\n",
    "    # 득점 우위 시간\n",
    "    output_data['scoreHighTime'] = h_data['scoreHighTimeCn'] / 2400\n",
    "    # 세컨찬스 득점\n",
    "    output_data['secChanceScore'] = h_data['secChanceScoreCn'] / h_data['score']\n",
    "    # 턴오버\n",
    "    output_data['to'] = (h_data['to'] + h_data['tto']) / (h_data['to'] + h_data['tto'] + a_data['to'] + a_data['tto'])\n",
    "\n",
    "    output_data['defr'] = h_data['defr'] / (a_data['offr'] + h_data['defr'])\n",
    "    output_data['stl'] = h_data['stl'] / (h_data['stl'] + a_data['stl'])\n",
    "    output_data['bs'] = h_data['bs'] / a_data['fgtA']\n",
    "    output_data['foul'] = h_data['foul'] / (h_data['foul'] + a_data['foul'])\n",
    "    output_data['tf'] = h_data['tf'] / (h_data['tf'] + a_data['tf'])\n",
    "    output_data['gd'] = h_data['gd'] / (h_data['gd'] + a_data['gd'])\n",
    "    output_data['teamR'] = h_data['teamR'] / (h_data['teamR'] + a_data['teamR'])\n",
    "    result.append(output_data, ignore_index=True)\n",
    "  return output_data"
   ]
  },
  {
   "cell_type": "code",
   "execution_count": null,
   "metadata": {},
   "outputs": [],
   "source": [
    "def make_model(data):\n",
    "    h_data = pd.DataFrame()\n",
    "    a_data = pd.DataFrame()\n",
    "    # 어시스트 -> 어시스트 / 필드골 성공\n",
    "    h_data['ast'] = data['h_ast'] / data['h_fgt']\n",
    "    a_data['ast'] = data['a_ast'] / data['a_fgt']\n",
    "    # 2점\n",
    "    h_data['twop'] = data['h_fg'] / data['h_fgA']\n",
    "    a_data['twop'] = data['a_fg'] / data['a_fgA']\n",
    "\n",
    "    # 3점\n",
    "    h_data['threep'] = data['h_threep'] / data['h_threepA']\n",
    "    a_data['threep'] = data['a_threep'] / data['a_threepA']\n",
    "\n",
    "    # 자유투\n",
    "    h_data['freep'] = data['h_ft'] / data['h_ftA']\n",
    "    a_data['freep'] = data['a_ft'] / data['a_ftA']\n",
    "\n",
    "    # 공격 리바\n",
    "    h_data['offr'] = data['h_offr'] / (data['h_offr'] + data['a_defr'])\n",
    "    a_data['offr'] = data['a_offr'] / (data['a_offr'] + data['h_defr'])\n",
    "    # 속공\n",
    "    h_data['tfb'] = data['h_tfb'] / data['h_fgt']\n",
    "    a_data['tfb'] = data['a_tfb'] / data['a_fgt']\n",
    "\n",
    "    # 벤치득점\n",
    "    h_data['bench'] = data['h_benchScoreCn'] / data['h_score']\n",
    "    a_data['bench'] = data['a_benchScoreCn'] / data['a_score']\n",
    "\n",
    "\n",
    "    # 속공득점\n",
    "    h_data['tfbp'] = data['h_fbScoreCn'] / data['h_score']\n",
    "    a_data['tfbp'] = data['a_fbScoreCn'] / data['a_score']\n",
    "\n",
    "    # 페인트존 득점\n",
    "    h_data['ppp'] = data['h_pp'] / data['h_ppA']\n",
    "    a_data['ppp'] = data['a_pp'] / data['a_ppA']\n",
    "\n",
    "    # 덩크\n",
    "    h_data['dk'] = data['h_dk'] / data['h_dkA']\n",
    "    a_data['dk'] = data['a_dk'] / data['a_dkA']\n",
    "\n",
    "    # 최다 연속 득점 비율\n",
    "    h_data['maxContiScore'] = data['h_maxContiScoreCn'] / data['h_score']\n",
    "    a_data['maxContiScore'] = data['a_maxContiScoreCn'] / data['a_score']\n",
    "\n",
    "    # 최다 리드 점수차\n",
    "    # h_data['maxLeadScore'] = (data['h_score'] - data['a_score']) / data['h_maxLeadScoreCn']\n",
    "    # a_data['maxLeadScore'] = (data['a_score'] - data['h_score']) / data['a_maxLeadScoreCn']\n",
    "    # h_data[h_data['maxLeadScore'] < -1]\n",
    "\n",
    "    # 득점 우위 시간\n",
    "    h_data['scoreHighTime'] = data['h_scoreHighTimeCn'] / 2400\n",
    "    a_data['scoreHighTime'] = data['a_scoreHighTimeCn'] / 2400\n",
    "\n",
    "    # 세컨찬스 득점\n",
    "    h_data['secChanceScore'] = data['h_secChanceScoreCn'] / data['h_score']\n",
    "    a_data['secChanceScore'] = data['a_secChanceScoreCn'] / data['a_score']\n",
    "\n",
    "    # 턴오버\n",
    "    h_data['to'] = (data['h_to'] + data['h_tto']) / (data['h_to'] + data['h_tto'] + data['a_to'] + data['a_tto'])\n",
    "    a_data['to'] = (data['a_to'] + data['a_tto']) / (data['h_to'] + data['h_tto'] + data['a_to'] + data['a_tto'])\n",
    "\n",
    "    h_data['defr'] = data['h_defr'] / (data['a_offr'] + data['h_defr'])\n",
    "    a_data['defr'] = data['a_defr'] / (data['h_offr'] + data['a_defr'])\n",
    "    h_data['stl'] = data['h_stl'] / (data['h_stl'] + data['a_stl'])\n",
    "    a_data['stl'] = data['a_stl'] / (data['h_stl'] + data['a_stl'])\n",
    "    h_data['bs'] = data['h_bs'] / data['a_fgtA']\n",
    "    a_data['bs'] = data['a_bs'] / data['h_fgtA']\n",
    "    h_data['foul'] = data['h_foul'] / (data['h_foul'] + data['a_foul'])\n",
    "    a_data['foul'] = data['a_foul'] / (data['h_foul'] + data['a_foul'])\n",
    "    h_data['tf'] = data['h_tf'] / (data['h_tf'] + data['a_tf'])\n",
    "    a_data['tf'] = data['a_tf'] / (data['h_tf'] + data['a_tf'])\n",
    "    h_data['gd'] = data['h_gd'] / (data['h_gd'] + data['a_gd'])\n",
    "    a_data['gd'] = data['a_gd'] / (data['h_gd'] + data['a_gd'])\n",
    "    h_data['teamR'] = data['h_teamR'] / (data['h_teamR'] + data['a_teamR'])\n",
    "    a_data['teamR'] = data['a_teamR'] / (data['h_teamR'] + data['a_teamR'])\n",
    "\n",
    "    h_data = h_data.fillna(0)\n",
    "    h_data = h_data.replace([np.inf, -np.inf], 0)\n",
    "    h_data['score'] = data['h_score']\n",
    "\n",
    "    a_data = a_data.fillna(0)\n",
    "    a_data = a_data.replace([np.inf, -np.inf], 0)\n",
    "    a_data['score'] = data['a_score']\n",
    "\n",
    "    return h_data.append(a_data, ignore_index=True)"
   ]
  },
  {
   "cell_type": "code",
   "execution_count": null,
   "metadata": {},
   "outputs": [],
   "source": [
    "def get_keyplayer(seasonKey, team):\n",
    "    result = set()\n",
    "    season = str(int(seasonKey[1:3]) -2)\n",
    "    league = seasonKey[4:6]\n",
    "    seasonKey = 'S' + season + 'G' + league\n",
    "    db.cursor.execute('''SELECT *\n",
    "                        FROM player_avg_record\n",
    "                        WHERE seasonCode LIKE '{}' and\n",
    "                        pcode IN (SELECT pcode\n",
    "                                    FROM player\n",
    "                                    WHERE tcode = '{}' and seasonCode = '{}');'''.format(seasonKey, team, season))\n",
    "    data = pd.DataFrame(db.cursor.fetchall())\n",
    "    if data is not None:\n",
    "        score_top_player = data.sort_values('score',ascending=False)['pcode'][:3]\n",
    "        ast_top_player = data.sort_values('ast')['pcode'][:3]\n",
    "        rb_top_player = data.sort_values('rb')['pcode'][:3]\n",
    "        result.append(score_top_player[0])\n",
    "        for player in ast_top_player:\n",
    "            if player in result:\n",
    "                continue\n",
    "            result.append(player)\n",
    "            break\n",
    "        for player in rb_top_player:\n",
    "            if player in result:\n",
    "                continue\n",
    "            result.append(player)\n",
    "            break\n",
    "    return result     "
   ]
  },
  {
   "cell_type": "code",
   "execution_count": 15,
   "metadata": {},
   "outputs": [
    {
     "name": "stdout",
     "output_type": "stream",
     "text": [
      "   player_record_idx       gmKey   pcode  ast  bs  defr  dk  dkA  ef  fb  ...  \\\n",
      "0              81094  S39G01N167  291242    0   2     6   1    1   0   0  ...   \n",
      "1              80927  S39G01N160  291242    4   1    15   0    0   0   0  ...   \n",
      "2              80783  S39G01N154  291242    1   1    11   4    4   0   0  ...   \n",
      "3              80663  S39G01N149  291242    2   2     5   2    2   0   0  ...   \n",
      "4              80520  S39G01N143  291242    0   2    11   1    1   1   0  ...   \n",
      "5              81111  S39G01N167  291503    0   0     0   0    0   0   0  ...   \n",
      "6              80907  S39G01N159  291503    0   0     5   0    0   0   0  ...   \n",
      "7              80811  S39G01N155  291503    0   1     2   0    0   0   0  ...   \n",
      "8              80739  S39G01N152  291503    0   0     0   0    0   0   0  ...   \n",
      "9              80655  S39G01N148  291503    1   0     0   0    0   0   0  ...   \n",
      "\n",
      "   threep  threepA  to  wft  woft  startFlag  home_away  rb  score  gameDate  \n",
      "0       0        2   2    3     2          1          2   6     10  20220122  \n",
      "1       1        3   4    0     2          1          1  18     31  20220119  \n",
      "2       2        2   2    0     1          1          2  16     35  20220110  \n",
      "3       3        3   5    1     2          1          2   6     35  20220108  \n",
      "4       0        1   2    3     0          1          1  13     18  20220105  \n",
      "5       0        1   1    2     0          0          1   0      5  20220122  \n",
      "6       1        1   1    0     0          0          2   6      3  20220118  \n",
      "7       0        1   2    1     0          0          2   2      5  20220111  \n",
      "8       0        0   0    0     0          0          2   0      0  20220109  \n",
      "9       0        0   0    0     1          0          1   0      9  20220108  \n",
      "\n",
      "[10 rows x 40 columns]\n"
     ]
    },
    {
     "name": "stderr",
     "output_type": "stream",
     "text": [
      "/var/folders/xk/jz0njgws4vqcw913r_s9rxkr0000gn/T/ipykernel_62044/2454008101.py:10: FutureWarning: The frame.append method is deprecated and will be removed from pandas in a future version. Use pandas.concat instead.\n",
      "  df = df.append(db.cursor.fetchall(), ignore_index=True)\n",
      "/var/folders/xk/jz0njgws4vqcw913r_s9rxkr0000gn/T/ipykernel_62044/2454008101.py:10: FutureWarning: The frame.append method is deprecated and will be removed from pandas in a future version. Use pandas.concat instead.\n",
      "  df = df.append(db.cursor.fetchall(), ignore_index=True)\n"
     ]
    }
   ],
   "source": [
    "def get_recent(players, gameCode):\n",
    "    df = pd.DataFrame()\n",
    "    for player in players:\n",
    "        db.cursor.execute(\"\"\"\n",
    "                        SELECT b.*, a.gameDate \n",
    "                        FROM game_meta a, player_record b\n",
    "                        WHERE a.gmkey = b.gmkey and b.pcode = '{}' and b.gmkey < '{}'\n",
    "                        ORDER BY gameDate desc\n",
    "                        LIMIT 5\"\"\".format(player, gameCode))\n",
    "        df = df.append(db.cursor.fetchall(), ignore_index=True)\n",
    "        "
   ]
  },
  {
   "cell_type": "code",
   "execution_count": null,
   "metadata": {},
   "outputs": [],
   "source": [
    "merge_data = make_model(data)\n",
    "merge_data\n",
    "# make_data(h_data, a_data)"
   ]
  },
  {
   "cell_type": "code",
   "execution_count": null,
   "metadata": {},
   "outputs": [],
   "source": []
  }
 ],
 "metadata": {
  "interpreter": {
   "hash": "c7bc2c5d4b1c91b505209bd98bcdbbf5dd33a54f99a0a1f28442c34ebf4f9ae4"
  },
  "kernelspec": {
   "display_name": "Python 3.10.4 ('KBLPredict')",
   "language": "python",
   "name": "python3"
  },
  "language_info": {
   "codemirror_mode": {
    "name": "ipython",
    "version": 3
   },
   "file_extension": ".py",
   "mimetype": "text/x-python",
   "name": "python",
   "nbconvert_exporter": "python",
   "pygments_lexer": "ipython3",
   "version": "3.10.4"
  }
 },
 "nbformat": 4,
 "nbformat_minor": 0
}
