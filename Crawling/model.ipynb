{
 "cells": [
  {
   "cell_type": "code",
   "execution_count": 2,
   "metadata": {
    "collapsed": true,
    "pycharm": {
     "name": "#%%\n"
    }
   },
   "outputs": [],
   "source": [
    "import numpy as np\n",
    "import matplotlib.pyplot as plt\n",
    "import pandas as pd\n",
    "import seaborn as sns\n",
    "from sklearn.model_selection import train_test_split\n",
    "from sklearn.linear_model import LinearRegression\n",
    "from sklearn.metrics import mean_squared_error\n",
    "from sklearn.tree import DecisionTreeRegressor"
   ]
  },
  {
   "cell_type": "code",
   "execution_count": 3,
   "metadata": {
    "collapsed": false,
    "pycharm": {
     "name": "#%%\n"
    }
   },
   "outputs": [],
   "source": [
    "import pymysql\n",
    "import json\n",
    "import warnings\n",
    "import DB\n",
    "warnings.filterwarnings(action='ignore')"
   ]
  },
  {
   "cell_type": "code",
   "execution_count": 69,
   "metadata": {
    "pycharm": {
     "name": "#%%\n"
    }
   },
   "outputs": [],
   "source": [
    "def team_player_concat(team, player, team_rate):\n",
    "  player_rate = 1 - team_rate\n",
    "  output_data = pd.DataFrame()\n",
    "  output_data['gmkey'] = team['gmkey']\n",
    "  output_data['ast'] = team_rate * team['ast'] + player_rate * player['ast']\n",
    "  # 2점\n",
    "  output_data['twop'] = team_rate * team['twop'] + player_rate * player['twop']\n",
    "  # 3점\n",
    "  output_data['threep'] = team_rate * team['threep'] + player_rate * player['threep']\n",
    "  # 자유투\n",
    "  output_data['freep'] = team_rate * team['freep'] + player_rate * player['freep']\n",
    "  # 공격 리바\n",
    "  output_data['offr'] = team_rate * team['offr'] + player_rate * player['offr']\n",
    "  # 속공\n",
    "  # output_data['tfb'] = team['tfb'] / team['fgt']\n",
    "  # 벤치득점\n",
    "  # output_data['bench'] = team['benchScoreCn'] / team['score']\n",
    "  # 속공득점\n",
    "  # output_data['tfbp'] = team['fbScoreCn'] / team['score']\n",
    "  # 페인트존 득점\n",
    "  output_data['ppp'] = team_rate * team['ppp'] + player_rate * player['ppp']\n",
    "  # 덩크\n",
    "  output_data['dk'] = team_rate * team['dk'] + player_rate * player['dk']\n",
    "  # 최다 연속 득점 비율\n",
    "  # output_data['maxContiScore'] = team['maxContiScoreCn'] / team['score']\n",
    "  # 최다 리드 점수차\n",
    "  # output_data['maxLeadScore'] = (team['score'] - player['score']) / team['maxLeadScoreCn']\n",
    "  # 득점 우위 시간\n",
    "  # output_data['scoreHighTime'] = team['scoreHighTimeCn'] / 2400\n",
    "  # 세컨찬스 득점\n",
    "  # output_data['secChanceScore'] = team['secChanceScoreCn'] / team['score']\n",
    "  # 턴오버\n",
    "  # output_data['to'] = (team['to'] + team['tto']) / (team['to'] + team['tto'] + player['to'] + player['tto'])\n",
    "  # output_data['to'] = (team['to'] + team['tto']) / (team['to'] + team['tto'] + player['to'] + player['tto'])\n",
    "\n",
    "  output_data['defr'] = team_rate * team['defr'] + player_rate * player['defr']\n",
    "  output_data['stl'] = team_rate * team['stl'] + player_rate * player['stl']\n",
    "  output_data['bs'] = team_rate * team['bs'] + player_rate * player['bs']\n",
    "  output_data['foul'] = team_rate * team['foul'] + player_rate * player['foul']\n",
    "  output_data['tf'] = team_rate * team['tf'] + player_rate * player['tf']\n",
    "  output_data['gd'] = team_rate * team['gd'] + player_rate * player['gd']\n",
    "\n",
    "  output_data['score'] = team['score']\n",
    "  output_data.to_csv(\"concat_data.csv\")\n",
    "  # output_data['teamR'] = team['teamR'] / (team['teamR'] + player['teamR'])\n",
    "  # result.append(output_data, ignore_index=True)\n",
    "  # print(output_data)\n",
    "  # result = pd.concat([result, pd.DataFrame([output_data])], ignore_index=True)\n",
    "  return output_data"
   ]
  },
  {
   "cell_type": "code",
   "execution_count": 65,
   "metadata": {},
   "outputs": [],
   "source": [
    "def calculate_data(h_data, a_data):\n",
    "  output_data = pd.DataFrame()\n",
    "  output_data['gmkey'] = h_data['gmkey']\n",
    "  output_data['ast'] = h_data['ast'] / h_data['fgt']\n",
    "  # 2점\n",
    "  output_data['twop'] = h_data['fg'] / h_data['fgA']\n",
    "  # 3점\n",
    "  output_data['threep'] = h_data['threep'] / h_data['threepA']\n",
    "  # 자유투\n",
    "  output_data['freep'] = h_data['ft'] / h_data['ftA']\n",
    "  # 공격 리바\n",
    "  output_data['offr'] = h_data['offr'] / (h_data['offr'] + a_data['defr'])\n",
    "  # 속공\n",
    "  # output_data['tfb'] = h_data['tfb'] / h_data['fgt']\n",
    "  # 벤치득점\n",
    "  # output_data['bench'] = h_data['benchScoreCn'] / h_data['score']\n",
    "  # 속공득점\n",
    "  # output_data['tfbp'] = h_data['fbScoreCn'] / h_data['score']\n",
    "  # 페인트존 득점\n",
    "  output_data['ppp'] = h_data['pp'] / h_data['ppA']\n",
    "  # 덩크\n",
    "  output_data['dk'] = h_data['dk'] / h_data['dkA']\n",
    "  # 최다 연속 득점 비율\n",
    "  # output_data['maxContiScore'] = h_data['maxContiScoreCn'] / h_data['score']\n",
    "  # 최다 리드 점수차\n",
    "  # output_data['maxLeadScore'] = (h_data['score'] - a_data['score']) / h_data['maxLeadScoreCn']\n",
    "  # 득점 우위 시간\n",
    "  # output_data['scoreHighTime'] = h_data['scoreHighTimeCn'] / 2400\n",
    "  # 세컨찬스 득점\n",
    "  # output_data['secChanceScore'] = h_data['secChanceScoreCn'] / h_data['score']\n",
    "  # 턴오버\n",
    "  # output_data['to'] = (h_data['to'] + h_data['tto']) / (h_data['to'] + h_data['tto'] + a_data['to'] + a_data['tto'])\n",
    "  # output_data['to'] = (h_data['to'] + h_data['tto']) / (h_data['to'] + h_data['tto'] + a_data['to'] + a_data['tto'])\n",
    "\n",
    "  output_data['defr'] = h_data['defr'] / (a_data['offr'] + h_data['defr'])\n",
    "  output_data['stl'] = h_data['stl'] / (h_data['stl'] + a_data['stl'])\n",
    "  output_data['bs'] = h_data['bs'] / a_data['fgtA']\n",
    "  output_data['foul'] = h_data['foul'] / (h_data['foul'] + a_data['foul'])\n",
    "  output_data['tf'] = h_data['tf'] / (h_data['tf'] + a_data['tf'])\n",
    "  output_data['gd'] = h_data['gd'] / (h_data['gd'] + a_data['gd'])\n",
    "\n",
    "  output_data['score'] = h_data['score']\n",
    "  \n",
    "  # output_data['teamR'] = h_data['teamR'] / (h_data['teamR'] + a_data['teamR'])\n",
    "  # result.append(output_data, ignore_index=True)\n",
    "  # print(output_data)\n",
    "  # result = pd.concat([result, pd.DataFrame([output_data])], ignore_index=True)\n",
    "  return output_data\n"
   ]
  },
  {
   "cell_type": "code",
   "execution_count": null,
   "metadata": {},
   "outputs": [],
   "source": [
    "# def get_keyplayer_data_inmemory():\n",
    "player_record = pd.read_csv('player_record.csv', delimiter=';')\n",
    "db = DB.MYDB()\n",
    "db.cursor.execute(\"select * from game_meta where gameDate >= '20101015'\")\n",
    "meta_data = db.cursor.fetchall()\n",
    "for idx, meta in enumerate(meta_data):\n",
    "    gmkey = meta['gmkey']\n",
    "    \n",
    "    print(player_record[player_record['gmkey'] < gmkey])\n",
    "    # print(idx, meta)\n",
    "    break\n",
    "db.db.close()\n",
    "# get_keyplayer_data_inmemory()"
   ]
  },
  {
   "cell_type": "code",
   "execution_count": null,
   "metadata": {
    "pycharm": {
     "name": "#%%\n"
    }
   },
   "outputs": [],
   "source": [
    "def naive_model():\n",
    "    db = DB.MYDB()\n",
    "    db.cursor.execute(\"select * from team_record where home_away = 'H' and gmkey >= 'S17' order by gmkey\")\n",
    "    team_hdata = pd.DataFrame(db.cursor.fetchall())\n",
    "    team_hdata = team_hdata.drop(team_hdata[team_hdata['gmkey'].isin(['S37G13N10', 'S37G13N2', 'S39G13N2', 'S39G13N5'])].index)\n",
    "    team_hdata = team_hdata.reset_index(drop=True)\n",
    "    db.cursor.execute(\"select * from team_record where home_away = 'A' and gmkey >= 'S17' order by gmkey\")\n",
    "    team_adata = pd.DataFrame(db.cursor.fetchall())\n",
    "    team_adata = team_adata.drop(team_adata[team_adata['gmkey'].isin(['S37G13N10', 'S37G13N2', 'S39G13N2', 'S39G13N5'])].index)\n",
    "    team_adata = team_adata.reset_index(drop=True)\n",
    "    db.db.close()\n",
    "\n",
    "    player_hdata = pd.read_csv('h_data.csv', index_col=0)\n",
    "    player_adata = pd.read_csv('a_data.csv', index_col=0)\n",
    "\n",
    "    player_hdata.sort_values(by='gmkey', inplace=True)\n",
    "    player_adata.sort_values(by='gmkey', inplace=True)\n",
    "    team_hdata.sort_values(by='gmkey', inplace=True)\n",
    "    team_adata.sort_values(by='gmkey', inplace=True)\n",
    "\n",
    "    home_result = team_player_concat(calculate_data(team_hdata,team_adata), calculate_data(player_hdata, player_adata), 0)\n",
    "    away_result = team_player_concat(calculate_data(team_adata,team_hdata), calculate_data(player_adata, player_hdata), 0)\n",
    "    data = pd.concat([home_result, away_result], ignore_index=True)\n",
    "    data.fillna(0, inplace=True)\n",
    "    data.drop(columns='gmkey', inplace=True)\n",
    "\n",
    "    return data\n"
   ]
  },
  {
   "cell_type": "code",
   "execution_count": 60,
   "metadata": {},
   "outputs": [
    {
     "data": {
      "text/plain": [
       "(Index([], dtype='object'),\n",
       " Index(['gmkey', 'tcode', 'score', 'loss', 'benchScoreCn', 'bf', 'bs', 'defr',\n",
       "        'dk', 'dkA', 'ef', 'fb', 'fbScoreCn', 'fg', 'fgA', 'fgt', 'fgtA',\n",
       "        'foul', 'foulout', 'ft', 'ftA', 'gd', 'idf', 'inout', 'inout1',\n",
       "        'maxContiScoreCn', 'maxLeadScoreCn', 'offr', 'playMin', 'playSec', 'pp',\n",
       "        'ppA', 'pscore', 'rb', 'scoreHighTimeCn', 'secChanceScoreCn', 'ast',\n",
       "        'teamR', 'tf', 'tfb', 'threep', 'threepA', 'to', 'tto',\n",
       "        'turnoverScoreCn', 'wft', 'woft', 'stl'],\n",
       "       dtype='object'))"
      ]
     },
     "execution_count": 60,
     "metadata": {},
     "output_type": "execute_result"
    }
   ],
   "source": [
    "team_record = pd.read_csv('recent_avg_record_update1.csv', index_col=0)\n",
    "player_record = pd.read_csv('player_recent_avg_record.csv', index_col=0)\n",
    "player_record.columns, team_record.columns"
   ]
  },
  {
   "cell_type": "code",
   "execution_count": 58,
   "metadata": {},
   "outputs": [
    {
     "data": {
      "text/html": [
       "<div>\n",
       "<style scoped>\n",
       "    .dataframe tbody tr th:only-of-type {\n",
       "        vertical-align: middle;\n",
       "    }\n",
       "\n",
       "    .dataframe tbody tr th {\n",
       "        vertical-align: top;\n",
       "    }\n",
       "\n",
       "    .dataframe thead th {\n",
       "        text-align: right;\n",
       "    }\n",
       "</style>\n",
       "<table border=\"1\" class=\"dataframe\">\n",
       "  <thead>\n",
       "    <tr style=\"text-align: right;\">\n",
       "      <th></th>\n",
       "      <th>tcode</th>\n",
       "      <th>gmkey</th>\n",
       "    </tr>\n",
       "    <tr>\n",
       "      <th>Unnamed: 0</th>\n",
       "      <th></th>\n",
       "      <th></th>\n",
       "    </tr>\n",
       "  </thead>\n",
       "  <tbody>\n",
       "    <tr>\n",
       "      <th>7195</th>\n",
       "      <td>75</td>\n",
       "      <td>S39G13N2</td>\n",
       "    </tr>\n",
       "  </tbody>\n",
       "</table>\n",
       "</div>"
      ],
      "text/plain": [
       "            tcode     gmkey\n",
       "Unnamed: 0                 \n",
       "7195           75  S39G13N2"
      ]
     },
     "execution_count": 58,
     "metadata": {},
     "output_type": "execute_result"
    }
   ],
   "source": [
    "team_record[team_record['gmkey'] == 'S39G13N2'][['tcode', 'gmkey']]"
   ]
  },
  {
   "cell_type": "code",
   "execution_count": 57,
   "metadata": {},
   "outputs": [
    {
     "data": {
      "text/html": [
       "<div>\n",
       "<style scoped>\n",
       "    .dataframe tbody tr th:only-of-type {\n",
       "        vertical-align: middle;\n",
       "    }\n",
       "\n",
       "    .dataframe tbody tr th {\n",
       "        vertical-align: top;\n",
       "    }\n",
       "\n",
       "    .dataframe thead th {\n",
       "        text-align: right;\n",
       "    }\n",
       "</style>\n",
       "<table border=\"1\" class=\"dataframe\">\n",
       "  <thead>\n",
       "    <tr style=\"text-align: right;\">\n",
       "      <th></th>\n",
       "      <th>tcode</th>\n",
       "      <th>gmkey</th>\n",
       "    </tr>\n",
       "  </thead>\n",
       "  <tbody>\n",
       "    <tr>\n",
       "      <th>540</th>\n",
       "      <td>18</td>\n",
       "      <td>S18G01N1</td>\n",
       "    </tr>\n",
       "    <tr>\n",
       "      <th>3071</th>\n",
       "      <td>19</td>\n",
       "      <td>S26G01N2</td>\n",
       "    </tr>\n",
       "    <tr>\n",
       "      <th>3072</th>\n",
       "      <td>26</td>\n",
       "      <td>S26G01N2</td>\n",
       "    </tr>\n",
       "    <tr>\n",
       "      <th>3073</th>\n",
       "      <td>27</td>\n",
       "      <td>S26G01N3</td>\n",
       "    </tr>\n",
       "    <tr>\n",
       "      <th>3074</th>\n",
       "      <td>29</td>\n",
       "      <td>S26G01N3</td>\n",
       "    </tr>\n",
       "    <tr>\n",
       "      <th>3695</th>\n",
       "      <td>22</td>\n",
       "      <td>S28G01N2</td>\n",
       "    </tr>\n",
       "    <tr>\n",
       "      <th>3696</th>\n",
       "      <td>28</td>\n",
       "      <td>S28G01N2</td>\n",
       "    </tr>\n",
       "    <tr>\n",
       "      <th>3697</th>\n",
       "      <td>21</td>\n",
       "      <td>S28G01N3</td>\n",
       "    </tr>\n",
       "    <tr>\n",
       "      <th>3698</th>\n",
       "      <td>31</td>\n",
       "      <td>S28G01N3</td>\n",
       "    </tr>\n",
       "    <tr>\n",
       "      <th>5961</th>\n",
       "      <td>19</td>\n",
       "      <td>S36G01N1</td>\n",
       "    </tr>\n",
       "    <tr>\n",
       "      <th>5962</th>\n",
       "      <td>36</td>\n",
       "      <td>S36G01N1</td>\n",
       "    </tr>\n",
       "    <tr>\n",
       "      <th>6593</th>\n",
       "      <td>30</td>\n",
       "      <td>S37G13N2</td>\n",
       "    </tr>\n",
       "    <tr>\n",
       "      <th>6594</th>\n",
       "      <td>75</td>\n",
       "      <td>S37G13N2</td>\n",
       "    </tr>\n",
       "    <tr>\n",
       "      <th>7201</th>\n",
       "      <td>64</td>\n",
       "      <td>S39G13N2</td>\n",
       "    </tr>\n",
       "    <tr>\n",
       "      <th>7202</th>\n",
       "      <td>75</td>\n",
       "      <td>S39G13N2</td>\n",
       "    </tr>\n",
       "    <tr>\n",
       "      <th>7227</th>\n",
       "      <td>36</td>\n",
       "      <td>S40G01N1</td>\n",
       "    </tr>\n",
       "    <tr>\n",
       "      <th>7228</th>\n",
       "      <td>68</td>\n",
       "      <td>S40G01N1</td>\n",
       "    </tr>\n",
       "  </tbody>\n",
       "</table>\n",
       "</div>"
      ],
      "text/plain": [
       "      tcode     gmkey\n",
       "540      18  S18G01N1\n",
       "3071     19  S26G01N2\n",
       "3072     26  S26G01N2\n",
       "3073     27  S26G01N3\n",
       "3074     29  S26G01N3\n",
       "3695     22  S28G01N2\n",
       "3696     28  S28G01N2\n",
       "3697     21  S28G01N3\n",
       "3698     31  S28G01N3\n",
       "5961     19  S36G01N1\n",
       "5962     36  S36G01N1\n",
       "6593     30  S37G13N2\n",
       "6594     75  S37G13N2\n",
       "7201     64  S39G13N2\n",
       "7202     75  S39G13N2\n",
       "7227     36  S40G01N1\n",
       "7228     68  S40G01N1"
      ]
     },
     "execution_count": 57,
     "metadata": {},
     "output_type": "execute_result"
    }
   ],
   "source": [
    "index = ['S18G01N1', 'S26G01N2', 'S26G01N3', 'S28G01N2', 'S28G01N3',\n",
    "       'S36G01N1', 'S37G13N2', 'S39G13N2', 'S40G01N1']\n",
    "player_record[player_record['gmkey'].isin(index)][['tcode', 'gmkey']]"
   ]
  },
  {
   "cell_type": "code",
   "execution_count": 50,
   "metadata": {},
   "outputs": [
    {
     "data": {
      "text/plain": [
       "270    S18G01N1\n",
       "Name: gmkey, dtype: object"
      ]
     },
     "execution_count": 50,
     "metadata": {},
     "output_type": "execute_result"
    }
   ],
   "source": [
    "t = player_record.groupby('gmkey', as_index=False).count()\n",
    "t[t['tcode'] != 2]['gmkey']"
   ]
  },
  {
   "cell_type": "code",
   "execution_count": 70,
   "metadata": {},
   "outputs": [],
   "source": [
    "#최근 5경기 기록으로 모델 생성\n",
    "def recent_5_model(save=False):\n",
    "    team_record = pd.read_csv('recent_avg_record_update1.csv', index_col=0)\n",
    "    player_record = pd.read_csv('player_recent_avg_record.csv', index_col=0)\n",
    "\n",
    "    #  gmkey = ['S18G01N1', 'S26G01N2', 'S26G01N3', 'S28G01N2', 'S28G01N3', 'S36G01N1', 'S37G13N2', 'S39G13N2', 'S40G01N1']\n",
    "    #  tcode = ['24'      , '26'      , '27'      , '28'      , '31'      , '36'      , '75'      , '64'      , '68'      ]\n",
    "    player_record = player_record.drop(index = [3072, 3073, 3696, 3698, 5962, 6594, 7201, 7228])\n",
    "\n",
    "    team_record.sort_values(['gmkey', 'tcode'], inplace=True)\n",
    "    team_record.reset_index(inplace=True)\n",
    "    player_record.sort_values(['gmkey', 'tcode'], inplace=True)\n",
    "    player_record.reset_index(inplace=True)\n",
    "\n",
    "    h_team_data = team_record[team_record.index % 2 == 0].reset_index()\n",
    "    a_team_data = team_record[team_record.index % 2 != 0].reset_index()\n",
    "    h_player_data = team_record[team_record.index % 2 == 0].reset_index()\n",
    "    a_player_data = team_record[team_record.index % 2 != 0].reset_index()\n",
    "\n",
    "    team_data = pd.concat([calculate_data(h_team_data, a_team_data), calculate_data(a_team_data, h_team_data)], ignore_index=True)\n",
    "    player_data = pd.concat([calculate_data(h_player_data, a_player_data), calculate_data(a_player_data, h_player_data)], ignore_index=True)\n",
    "    if save:\n",
    "        team_data.to_csv('team_calculate_date.csv')\n",
    "        player_data.to_csv('player_calculate_date.csv')\n",
    "\n",
    "    data = team_player_concat(team_data,player_data, 0.5)\n",
    "    data.drop(columns='gmkey', inplace=True)\n",
    "    data.fillna(0, inplace=True)\n",
    "\n",
    "    return data\n"
   ]
  },
  {
   "cell_type": "code",
   "execution_count": 71,
   "metadata": {
    "pycharm": {
     "name": "#%%\n"
    }
   },
   "outputs": [
    {
     "data": {
      "text/plain": [
       "0.031871503996834916"
      ]
     },
     "execution_count": 71,
     "metadata": {},
     "output_type": "execute_result"
    }
   ],
   "source": [
    "#선형 회귀\n",
    "data = recent_5_model()\n",
    "X = data.iloc[:, :-1]\n",
    "y = data.iloc[:, -1]\n",
    "X_train, X_test, y_train, y_test = train_test_split(X, y, test_size=0.2, random_state=0)\n",
    "model = LinearRegression()\n",
    "model.fit(X_train, y_train)\n",
    "y_predict = model.predict(X_test)\n",
    "mean_squared_error(y_predict, y_test, squared = False)\n",
    "model.score(X_test, y_test)\n",
    "\n"
   ]
  },
  {
   "cell_type": "code",
   "execution_count": 332,
   "metadata": {
    "pycharm": {
     "name": "#%%\n"
    }
   },
   "outputs": [
    {
     "data": {
      "text/plain": [
       "{'ast': 0.07883,\n",
       " 'twop': 0.08972,\n",
       " 'threep': 0.07672,\n",
       " 'freep': 0.0915,\n",
       " 'offr': 0.08256,\n",
       " 'ppp': 0.08034,\n",
       " 'dk': 0.04158,\n",
       " 'defr': 0.08288,\n",
       " 'stl': 0.07612,\n",
       " 'bs': 0.0902,\n",
       " 'foul': 0.11199,\n",
       " 'tf': 0.02462,\n",
       " 'gd': 0.07294}"
      ]
     },
     "execution_count": 332,
     "metadata": {},
     "output_type": "execute_result"
    }
   ],
   "source": [
    "#Decision Tree를 통한 중요한 feature 파악\n",
    "features = X.columns.tolist()\n",
    "\n",
    "tree = DecisionTreeRegressor()\n",
    "tree.fit(X_train, y_train)\n",
    "\n",
    "# Extracting the importances by sklearn \n",
    "importances_sk = tree.feature_importances_\n",
    "\n",
    "# Creating a dataframe with the feature importance by sklearn\n",
    "feature_importance_sk = {}\n",
    "for i, feature in enumerate(features):\n",
    "    feature_importance_sk[feature] = round(importances_sk[i],5)\n",
    "feature_importance_sk"
   ]
  }
 ],
 "metadata": {
  "interpreter": {
   "hash": "c7bc2c5d4b1c91b505209bd98bcdbbf5dd33a54f99a0a1f28442c34ebf4f9ae4"
  },
  "kernelspec": {
   "display_name": "Python 3.10.4 ('KBLPredict')",
   "language": "python",
   "name": "python3"
  },
  "language_info": {
   "codemirror_mode": {
    "name": "ipython",
    "version": 3
   },
   "file_extension": ".py",
   "mimetype": "text/x-python",
   "name": "python",
   "nbconvert_exporter": "python",
   "pygments_lexer": "ipython3",
   "version": "3.10.4"
  }
 },
 "nbformat": 4,
 "nbformat_minor": 0
}
