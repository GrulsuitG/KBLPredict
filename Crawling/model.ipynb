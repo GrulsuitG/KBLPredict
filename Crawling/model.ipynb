{
 "cells": [
  {
   "cell_type": "code",
   "execution_count": 2,
   "metadata": {
    "collapsed": true,
    "pycharm": {
     "name": "#%%\n"
    }
   },
   "outputs": [],
   "source": [
    "import numpy as np\n",
    "import matplotlib.pyplot as plt\n",
    "import pandas as pd\n",
    "import seaborn as sns\n",
    "from sklearn.model_selection import train_test_split\n",
    "from sklearn.linear_model import LinearRegression\n",
    "from sklearn.metrics import mean_squared_error"
   ]
  },
  {
   "cell_type": "code",
   "execution_count": 3,
   "metadata": {
    "collapsed": false,
    "pycharm": {
     "name": "#%%\n"
    }
   },
   "outputs": [],
   "source": [
    "import pymysql\n",
    "import json\n",
    "import warnings\n",
    "import DB\n",
    "warnings.filterwarnings(action='ignore')\n"
   ]
  },
  {
   "cell_type": "code",
   "execution_count": 201,
   "metadata": {
    "collapsed": false,
    "pycharm": {
     "name": "#%%\n"
    }
   },
   "outputs": [
    {
     "name": "stdout",
     "output_type": "stream",
     "text": [
      "Connect!\n"
     ]
    }
   ],
   "source": [
    "db = DB.MYDB()\n",
    "db.cursor.execute(\"select * from team_record where home_away = 'H' and gmkey >= 'S17' order by gmkey\")\n",
    "team_hdata = pd.DataFrame(db.cursor.fetchall())\n",
    "team_hdata = team_hdata.drop(team_hdata[team_hdata['gmkey'].isin(['S37G13N10', 'S37G13N2', 'S39G13N2', 'S39G13N5'])].index)\n",
    "team_hdata = team_hdata.reset_index(drop=True)\n",
    "db.cursor.execute(\"select * from team_record where home_away = 'A' and gmkey >= 'S17' order by gmkey\")\n",
    "team_adata = pd.DataFrame(db.cursor.fetchall())\n",
    "team_adata = team_adata.drop(team_adata[team_adata['gmkey'].isin(['S37G13N10', 'S37G13N2', 'S39G13N2', 'S39G13N5'])].index)\n",
    "team_adata = team_adata.reset_index(drop=True)\n",
    "db.db.close()\n"
   ]
  },
  {
   "cell_type": "code",
   "execution_count": 102,
   "metadata": {
    "pycharm": {
     "name": "#%%\n"
    }
   },
   "outputs": [],
   "source": [
    "def calculate_data(h_data, a_data):\n",
    "  output_data = pd.DataFrame()\n",
    "  output_data['gmkey'] = h_data['gmkey']\n",
    "  output_data['ast'] = h_data['ast'] / h_data['fgt']\n",
    "  # 2점\n",
    "  output_data['twop'] = h_data['fg'] / h_data['fgA']\n",
    "  # 3점\n",
    "  output_data['threep'] = h_data['threep'] / h_data['threepA']\n",
    "  # 자유투\n",
    "  output_data['freep'] = h_data['ft'] / h_data['ftA']\n",
    "  # 공격 리바\n",
    "  output_data['offr'] = h_data['offr'] / (h_data['offr'] + a_data['defr'])\n",
    "  # 속공\n",
    "  # output_data['tfb'] = h_data['tfb'] / h_data['fgt']\n",
    "  # 벤치득점\n",
    "  # output_data['bench'] = h_data['benchScoreCn'] / h_data['score']\n",
    "  # 속공득점\n",
    "  # output_data['tfbp'] = h_data['fbScoreCn'] / h_data['score']\n",
    "  # 페인트존 득점\n",
    "  output_data['ppp'] = h_data['pp'] / h_data['ppA']\n",
    "  # 덩크\n",
    "  output_data['dk'] = h_data['dk'] / h_data['dkA']\n",
    "  # 최다 연속 득점 비율\n",
    "  # output_data['maxContiScore'] = h_data['maxContiScoreCn'] / h_data['score']\n",
    "  # 최다 리드 점수차\n",
    "  # output_data['maxLeadScore'] = (h_data['score'] - a_data['score']) / h_data['maxLeadScoreCn']\n",
    "  # 득점 우위 시간\n",
    "  # output_data['scoreHighTime'] = h_data['scoreHighTimeCn'] / 2400\n",
    "  # 세컨찬스 득점\n",
    "  # output_data['secChanceScore'] = h_data['secChanceScoreCn'] / h_data['score']\n",
    "  # 턴오버\n",
    "  # output_data['to'] = (h_data['to'] + h_data['tto']) / (h_data['to'] + h_data['tto'] + a_data['to'] + a_data['tto'])\n",
    "  # output_data['to'] = (h_data['to'] + h_data['tto']) / (h_data['to'] + h_data['tto'] + a_data['to'] + a_data['tto'])\n",
    "\n",
    "  output_data['defr'] = h_data['defr'] / (a_data['offr'] + h_data['defr'])\n",
    "  output_data['stl'] = h_data['stl'] / (h_data['stl'] + a_data['stl'])\n",
    "  output_data['bs'] = h_data['bs'] / a_data['fgtA']\n",
    "  output_data['foul'] = h_data['foul'] / (h_data['foul'] + a_data['foul'])\n",
    "  output_data['tf'] = h_data['tf'] / (h_data['tf'] + a_data['tf'])\n",
    "  output_data['gd'] = h_data['gd'] / (h_data['gd'] + a_data['gd'])\n",
    "\n",
    "  output_data['score'] = h_data['score']\n",
    "  \n",
    "  # output_data['teamR'] = h_data['teamR'] / (h_data['teamR'] + a_data['teamR'])\n",
    "  # result.append(output_data, ignore_index=True)\n",
    "  # print(output_data)\n",
    "  # result = pd.concat([result, pd.DataFrame([output_data])], ignore_index=True)\n",
    "  return output_data"
   ]
  },
  {
   "cell_type": "code",
   "execution_count": 153,
   "metadata": {
    "pycharm": {
     "name": "#%%\n"
    }
   },
   "outputs": [],
   "source": [
    "def team_player_concat(team, player, team_rate):\n",
    "  player_rate = 1 - team_rate\n",
    "  output_data = pd.DataFrame()\n",
    "  # output_data['gmkey'] = team['gmkey']\n",
    "  output_data['ast'] = team_rate * team['ast'] + player_rate * player['ast']\n",
    "  # 2점\n",
    "  output_data['twop'] = team_rate * team['twop'] + player_rate * player['twop']\n",
    "  # 3점\n",
    "  output_data['threep'] = team_rate * team['threep'] + player_rate * player['threep']\n",
    "  # 자유투\n",
    "  output_data['freep'] = team_rate * team['freep'] + player_rate * player['freep']\n",
    "  # 공격 리바\n",
    "  output_data['offr'] = team_rate * team['offr'] + player_rate * player['offr']\n",
    "  # 속공\n",
    "  # output_data['tfb'] = team['tfb'] / team['fgt']\n",
    "  # 벤치득점\n",
    "  # output_data['bench'] = team['benchScoreCn'] / team['score']\n",
    "  # 속공득점\n",
    "  # output_data['tfbp'] = team['fbScoreCn'] / team['score']\n",
    "  # 페인트존 득점\n",
    "  output_data['ppp'] = team_rate * team['ppp'] + player_rate * player['ppp']\n",
    "  # 덩크\n",
    "  output_data['dk'] = team_rate * team['dk'] + player_rate * player['dk']\n",
    "  # 최다 연속 득점 비율\n",
    "  # output_data['maxContiScore'] = team['maxContiScoreCn'] / team['score']\n",
    "  # 최다 리드 점수차\n",
    "  # output_data['maxLeadScore'] = (team['score'] - player['score']) / team['maxLeadScoreCn']\n",
    "  # 득점 우위 시간\n",
    "  # output_data['scoreHighTime'] = team['scoreHighTimeCn'] / 2400\n",
    "  # 세컨찬스 득점\n",
    "  # output_data['secChanceScore'] = team['secChanceScoreCn'] / team['score']\n",
    "  # 턴오버\n",
    "  # output_data['to'] = (team['to'] + team['tto']) / (team['to'] + team['tto'] + player['to'] + player['tto'])\n",
    "  # output_data['to'] = (team['to'] + team['tto']) / (team['to'] + team['tto'] + player['to'] + player['tto'])\n",
    "\n",
    "  output_data['defr'] = team_rate * team['defr'] + player_rate * player['defr']\n",
    "  output_data['stl'] = team_rate * team['stl'] + player_rate * player['stl']\n",
    "  output_data['bs'] = team_rate * team['bs'] + player_rate * player['bs']\n",
    "  output_data['foul'] = team_rate * team['foul'] + player_rate * player['foul']\n",
    "  output_data['tf'] = team_rate * team['tf'] + player_rate * player['tf']\n",
    "  output_data['gd'] = team_rate * team['gd'] + player_rate * player['gd']\n",
    "\n",
    "  output_data['score'] = team['score']\n",
    "  \n",
    "  # output_data['teamR'] = team['teamR'] / (team['teamR'] + player['teamR'])\n",
    "  # result.append(output_data, ignore_index=True)\n",
    "  # print(output_data)\n",
    "  # result = pd.concat([result, pd.DataFrame([output_data])], ignore_index=True)\n",
    "  return output_data"
   ]
  },
  {
   "cell_type": "code",
   "execution_count": 73,
   "metadata": {
    "pycharm": {
     "name": "#%%\n"
    }
   },
   "outputs": [],
   "source": [
    "def make_model(data):\n",
    "    h_data = pd.DataFrame()\n",
    "    a_data = pd.DataFrame()\n",
    "    # 어시스트 -> 어시스트 / 필드골 성공\n",
    "    h_data['ast'] = data['h_ast'] / data['h_fgt']\n",
    "    a_data['ast'] = data['a_ast'] / data['a_fgt']\n",
    "    # 2점\n",
    "    h_data['twop'] = data['h_fg'] / data['h_fgA']\n",
    "    a_data['twop'] = data['a_fg'] / data['a_fgA']\n",
    "\n",
    "    # 3점\n",
    "    h_data['threep'] = data['h_threep'] / data['h_threepA']\n",
    "    a_data['threep'] = data['a_threep'] / data['a_threepA']\n",
    "\n",
    "    # 자유투\n",
    "    h_data['freep'] = data['h_ft'] / data['h_ftA']\n",
    "    a_data['freep'] = data['a_ft'] / data['a_ftA']\n",
    "\n",
    "    # 공격 리바\n",
    "    h_data['offr'] = data['h_offr'] / (data['h_offr'] + data['a_defr'])\n",
    "    a_data['offr'] = data['a_offr'] / (data['a_offr'] + data['h_defr'])\n",
    "    # 속공\n",
    "    h_data['tfb'] = data['h_tfb'] / data['h_fgt']\n",
    "    a_data['tfb'] = data['a_tfb'] / data['a_fgt']\n",
    "\n",
    "    # 벤치득점\n",
    "    h_data['bench'] = data['h_benchScoreCn'] / data['h_score']\n",
    "    a_data['bench'] = data['a_benchScoreCn'] / data['a_score']\n",
    "\n",
    "\n",
    "    # 속공득점\n",
    "    h_data['tfbp'] = data['h_fbScoreCn'] / data['h_score']\n",
    "    a_data['tfbp'] = data['a_fbScoreCn'] / data['a_score']\n",
    "\n",
    "    # 페인트존 득점\n",
    "    h_data['ppp'] = data['h_pp'] / data['h_ppA']\n",
    "    a_data['ppp'] = data['a_pp'] / data['a_ppA']\n",
    "\n",
    "    # 덩크\n",
    "    h_data['dk'] = data['h_dk'] / data['h_dkA']\n",
    "    a_data['dk'] = data['a_dk'] / data['a_dkA']\n",
    "\n",
    "    # 최다 연속 득점 비율\n",
    "    h_data['maxContiScore'] = data['h_maxContiScoreCn'] / data['h_score']\n",
    "    a_data['maxContiScore'] = data['a_maxContiScoreCn'] / data['a_score']\n",
    "\n",
    "    # 최다 리드 점수차\n",
    "    # h_data['maxLeadScore'] = (data['h_score'] - data['a_score']) / data['h_maxLeadScoreCn']\n",
    "    # a_data['maxLeadScore'] = (data['a_score'] - data['h_score']) / data['a_maxLeadScoreCn']\n",
    "    # h_data[h_data['maxLeadScore'] < -1]\n",
    "\n",
    "    # 득점 우위 시간\n",
    "    h_data['scoreHighTime'] = data['h_scoreHighTimeCn'] / 2400\n",
    "    a_data['scoreHighTime'] = data['a_scoreHighTimeCn'] / 2400\n",
    "\n",
    "    # 세컨찬스 득점\n",
    "    h_data['secChanceScore'] = data['h_secChanceScoreCn'] / data['h_score']\n",
    "    a_data['secChanceScore'] = data['a_secChanceScoreCn'] / data['a_score']\n",
    "\n",
    "    # 턴오버\n",
    "    h_data['to'] = (data['h_to'] + data['h_tto']) / (data['h_to'] + data['h_tto'] + data['a_to'] + data['a_tto'])\n",
    "    a_data['to'] = (data['a_to'] + data['a_tto']) / (data['h_to'] + data['h_tto'] + data['a_to'] + data['a_tto'])\n",
    "\n",
    "    h_data['defr'] = data['h_defr'] / (data['a_offr'] + data['h_defr'])\n",
    "    a_data['defr'] = data['a_defr'] / (data['h_offr'] + data['a_defr'])\n",
    "    h_data['stl'] = data['h_stl'] / (data['h_stl'] + data['a_stl'])\n",
    "    a_data['stl'] = data['a_stl'] / (data['h_stl'] + data['a_stl'])\n",
    "    h_data['bs'] = data['h_bs'] / data['a_fgtA']\n",
    "    a_data['bs'] = data['a_bs'] / data['h_fgtA']\n",
    "    h_data['foul'] = data['h_foul'] / (data['h_foul'] + data['a_foul'])\n",
    "    a_data['foul'] = data['a_foul'] / (data['h_foul'] + data['a_foul'])\n",
    "    h_data['tf'] = data['h_tf'] / (data['h_tf'] + data['a_tf'])\n",
    "    a_data['tf'] = data['a_tf'] / (data['h_tf'] + data['a_tf'])\n",
    "    h_data['gd'] = data['h_gd'] / (data['h_gd'] + data['a_gd'])\n",
    "    a_data['gd'] = data['a_gd'] / (data['h_gd'] + data['a_gd'])\n",
    "    h_data['teamR'] = data['h_teamR'] / (data['h_teamR'] + data['a_teamR'])\n",
    "    a_data['teamR'] = data['a_teamR'] / (data['h_teamR'] + data['a_teamR'])\n",
    "\n",
    "    # h_data = h_data.fillna(0)\n",
    "    # h_data = h_data.replace([np.inf, -np.inf], 0)\n",
    "    h_data['score'] = data['h_score']\n",
    "    # h_data['gmkey'] = data['gmkey']\n",
    "\n",
    "    # a_data = a_data.fillna(0)\n",
    "    # a_data = a_data.replace([np.inf, -np.inf], 0)\n",
    "    a_data['score'] = data['a_score']\n",
    "    # a_data['gmkey'] = data['gmkey']\n",
    "    return pd.concat([h_data, a_data], ignore_index=True)"
   ]
  },
  {
   "cell_type": "code",
   "execution_count": 6,
   "metadata": {
    "pycharm": {
     "name": "#%%\n"
    }
   },
   "outputs": [],
   "source": [
    "#seasonKey Example : S19G01\n",
    "def get_keyplayer(seasonKey, team):\n",
    "    result = set()\n",
    "    season = str(int(seasonKey[1:3]) -2)\n",
    "    league = seasonKey[4:6]\n",
    "    seasonKey = 'S' + season + 'G' + league\n",
    "    db.cursor.execute('''SELECT *\n",
    "                        FROM player_avg_record\n",
    "                        WHERE seasonCode LIKE 'S{}%' and\n",
    "                        pcode IN (SELECT pcode\n",
    "                                    FROM player\n",
    "                                    WHERE tcode = '{}' and seasonCode = '{}');'''.format(season, team, season))\n",
    "    data = pd.DataFrame(db.cursor.fetchall())\n",
    "    if data.size != 0:\n",
    "        score_top_player = data.sort_values('score',ascending=False)['pcode'][:3]\n",
    "        ast_top_player = data.sort_values('ast')['pcode'][:3]\n",
    "        rb_top_player = data.sort_values('rb')['pcode'][:3]\n",
    "        for player in score_top_player:\n",
    "            result.add(player)\n",
    "        # result.add(score_top_player[0])\n",
    "        for player in ast_top_player:\n",
    "            if player in result:\n",
    "                continue\n",
    "            result.add(player)\n",
    "            # break\n",
    "        for player in rb_top_player:\n",
    "            if player in result:\n",
    "                continue\n",
    "            result.add(player)\n",
    "            # break\n",
    "        return result     \n",
    "    else:\n",
    "        return None"
   ]
  },
  {
   "cell_type": "code",
   "execution_count": 5,
   "metadata": {
    "pycharm": {
     "name": "#%%\n"
    }
   },
   "outputs": [],
   "source": [
    "def get_season_keyplayer(season):\n",
    "    # db = DB.MYDB()\n",
    "    result = dict()\n",
    "    seasonCode = 'S' + str(season) + 'G01'\n",
    "    for tcode in tcodes:\n",
    "        tcode = str(tcode['tcode'])\n",
    "        # if tcode == '75':\n",
    "            # tcode = '29'\n",
    "        # db.cursor.execute('''SELECT *\n",
    "        #                 FROM player_avg_record\n",
    "        #                 WHERE seasonCode LIKE 'S{}%' and\n",
    "        #                 pcode IN (SELECT pcode\n",
    "        #                             FROM player\n",
    "        #                             WHERE tcode = '{}' and seasonCode = '{}');'''.format(season - 2, tcode, season))\n",
    "        db.cursor.execute('''SELECT *\n",
    "                        FROM (\n",
    "                            SELECT p.*, rank() over(partition by p.pcode order by p.seasonCode desc) as a\n",
    "                            FROM player_avg_record as p\n",
    "                            WHERE seasonCode < '{}' and\n",
    "                                pcode IN (SELECT pcode\n",
    "                                            FROM player\n",
    "                                            WHERE tcode = '{}' and seasonCode = '{}')\n",
    "                            ) as rankrow\n",
    "                        where rankrow.a <=1;\n",
    "        '''.format(seasonCode, tcode, season))\n",
    "        data = pd.DataFrame(db.cursor.fetchall())\n",
    "        if data.size != 0:\n",
    "            score_top_player = data.sort_values('score',ascending=False)['pcode'][:1]\n",
    "            ast_top_player = data.sort_values('ast', ascending=False)['pcode'][:1]\n",
    "            rb_top_player = data.sort_values('rb', ascending=False)['pcode'][:1]\n",
    "            result[tcode] = set(score_top_player) | set(ast_top_player) | set(rb_top_player)\n",
    "    return result"
   ]
  },
  {
   "cell_type": "code",
   "execution_count": 42,
   "metadata": {
    "pycharm": {
     "name": "#%%\n"
    }
   },
   "outputs": [
    {
     "name": "stdout",
     "output_type": "stream",
     "text": [
      "Connect!\n"
     ]
    },
    {
     "ename": "ProgrammingError",
     "evalue": "(1064, \"You have an error in your SQL syntax; check the manual that corresponds to your MySQL server version for the right syntax to use near ')\\n                            ) as rankrow\\n                        where rankrow' at line 6\")",
     "output_type": "error",
     "traceback": [
      "\u001b[0;31m---------------------------------------------------------------------------\u001b[0m",
      "\u001b[0;31mProgrammingError\u001b[0m                          Traceback (most recent call last)",
      "\u001b[1;32m/Users/grulsuitg/study/KBLPredict/Crawling/model.ipynb Cell 9'\u001b[0m in \u001b[0;36m<cell line: 24>\u001b[0;34m()\u001b[0m\n\u001b[1;32m     <a href='vscode-notebook-cell:/Users/grulsuitg/study/KBLPredict/Crawling/model.ipynb#ch0000008?line=21'>22</a>\u001b[0m     \u001b[39mreturn\u001b[39;00m pd\u001b[39m.\u001b[39mDataFrame(db\u001b[39m.\u001b[39mcursor\u001b[39m.\u001b[39mfetchall())\n\u001b[1;32m     <a href='vscode-notebook-cell:/Users/grulsuitg/study/KBLPredict/Crawling/model.ipynb#ch0000008?line=22'>23</a>\u001b[0m db \u001b[39m=\u001b[39m DB\u001b[39m.\u001b[39mMYDB()\n\u001b[0;32m---> <a href='vscode-notebook-cell:/Users/grulsuitg/study/KBLPredict/Crawling/model.ipynb#ch0000008?line=23'>24</a>\u001b[0m get_recent_players({\u001b[39m'\u001b[39;49m\u001b[39m250039\u001b[39;49m\u001b[39m'\u001b[39;49m}, \u001b[39m'\u001b[39;49m\u001b[39m20210101\u001b[39;49m\u001b[39m'\u001b[39;49m, db)\n\u001b[1;32m     <a href='vscode-notebook-cell:/Users/grulsuitg/study/KBLPredict/Crawling/model.ipynb#ch0000008?line=24'>25</a>\u001b[0m db\u001b[39m.\u001b[39mdb\u001b[39m.\u001b[39mclose()\n",
      "\u001b[1;32m/Users/grulsuitg/study/KBLPredict/Crawling/model.ipynb Cell 9'\u001b[0m in \u001b[0;36mget_recent_players\u001b[0;34m(players, gameDate, db)\u001b[0m\n\u001b[1;32m      <a href='vscode-notebook-cell:/Users/grulsuitg/study/KBLPredict/Crawling/model.ipynb#ch0000008?line=2'>3</a>\u001b[0m df \u001b[39m=\u001b[39m []\n\u001b[1;32m      <a href='vscode-notebook-cell:/Users/grulsuitg/study/KBLPredict/Crawling/model.ipynb#ch0000008?line=3'>4</a>\u001b[0m \u001b[39m# db = DB.MYDB()\u001b[39;00m\n\u001b[1;32m      <a href='vscode-notebook-cell:/Users/grulsuitg/study/KBLPredict/Crawling/model.ipynb#ch0000008?line=4'>5</a>\u001b[0m \u001b[39m# for player in players:\u001b[39;00m\n\u001b[1;32m      <a href='vscode-notebook-cell:/Users/grulsuitg/study/KBLPredict/Crawling/model.ipynb#ch0000008?line=5'>6</a>\u001b[0m     \u001b[39m# db.cursor.execute(\"\"\"\u001b[39;00m\n\u001b[0;32m   (...)\u001b[0m\n\u001b[1;32m     <a href='vscode-notebook-cell:/Users/grulsuitg/study/KBLPredict/Crawling/model.ipynb#ch0000008?line=9'>10</a>\u001b[0m     \u001b[39m#                 ORDER BY gameDate desc\u001b[39;00m\n\u001b[1;32m     <a href='vscode-notebook-cell:/Users/grulsuitg/study/KBLPredict/Crawling/model.ipynb#ch0000008?line=10'>11</a>\u001b[0m     \u001b[39m#                 LIMIT 5\"\"\".format(player, gameCode))\u001b[39;00m\n\u001b[0;32m---> <a href='vscode-notebook-cell:/Users/grulsuitg/study/KBLPredict/Crawling/model.ipynb#ch0000008?line=11'>12</a>\u001b[0m db\u001b[39m.\u001b[39;49mcursor\u001b[39m.\u001b[39;49mexecute(\u001b[39m\"\"\"\u001b[39;49m\n\u001b[1;32m     <a href='vscode-notebook-cell:/Users/grulsuitg/study/KBLPredict/Crawling/model.ipynb#ch0000008?line=12'>13</a>\u001b[0m \u001b[39m                    select *\u001b[39;49m\n\u001b[1;32m     <a href='vscode-notebook-cell:/Users/grulsuitg/study/KBLPredict/Crawling/model.ipynb#ch0000008?line=13'>14</a>\u001b[0m \u001b[39m                    from (\u001b[39;49m\n\u001b[1;32m     <a href='vscode-notebook-cell:/Users/grulsuitg/study/KBLPredict/Crawling/model.ipynb#ch0000008?line=14'>15</a>\u001b[0m \u001b[39m                        SELECT b.*, a.gameDate, rank() over(partition by b.pcode order by gameDate desc) as a\u001b[39;49m\n\u001b[1;32m     <a href='vscode-notebook-cell:/Users/grulsuitg/study/KBLPredict/Crawling/model.ipynb#ch0000008?line=15'>16</a>\u001b[0m \u001b[39m                        FROM game_meta a, player_record b\u001b[39;49m\n\u001b[1;32m     <a href='vscode-notebook-cell:/Users/grulsuitg/study/KBLPredict/Crawling/model.ipynb#ch0000008?line=16'>17</a>\u001b[0m \u001b[39m                        WHERE a.gmkey = b.gmkey and a.gameDate < \u001b[39;49m\u001b[39m'\u001b[39;49m\u001b[39m{}\u001b[39;49;00m\u001b[39m'\u001b[39;49m\n\u001b[1;32m     <a href='vscode-notebook-cell:/Users/grulsuitg/study/KBLPredict/Crawling/model.ipynb#ch0000008?line=17'>18</a>\u001b[0m \u001b[39m                            and b.pcode in \u001b[39;49m\u001b[39m{}\u001b[39;49;00m\n\u001b[1;32m     <a href='vscode-notebook-cell:/Users/grulsuitg/study/KBLPredict/Crawling/model.ipynb#ch0000008?line=18'>19</a>\u001b[0m \u001b[39m                        ) as rankrow\u001b[39;49m\n\u001b[1;32m     <a href='vscode-notebook-cell:/Users/grulsuitg/study/KBLPredict/Crawling/model.ipynb#ch0000008?line=19'>20</a>\u001b[0m \u001b[39m                    where rankrow.a <=5;\u001b[39;49m\u001b[39m\"\"\"\u001b[39;49m\u001b[39m.\u001b[39;49mformat(gameDate, \u001b[39mtuple\u001b[39;49m(players)))\n\u001b[1;32m     <a href='vscode-notebook-cell:/Users/grulsuitg/study/KBLPredict/Crawling/model.ipynb#ch0000008?line=20'>21</a>\u001b[0m \u001b[39m# db.db.close()\u001b[39;00m\n\u001b[1;32m     <a href='vscode-notebook-cell:/Users/grulsuitg/study/KBLPredict/Crawling/model.ipynb#ch0000008?line=21'>22</a>\u001b[0m \u001b[39mreturn\u001b[39;00m pd\u001b[39m.\u001b[39mDataFrame(db\u001b[39m.\u001b[39mcursor\u001b[39m.\u001b[39mfetchall())\n",
      "File \u001b[0;32m~/.conda/envs/KBLPredict/lib/python3.10/site-packages/pymysql/cursors.py:148\u001b[0m, in \u001b[0;36mCursor.execute\u001b[0;34m(self, query, args)\u001b[0m\n\u001b[1;32m    144\u001b[0m     \u001b[39mpass\u001b[39;00m\n\u001b[1;32m    146\u001b[0m query \u001b[39m=\u001b[39m \u001b[39mself\u001b[39m\u001b[39m.\u001b[39mmogrify(query, args)\n\u001b[0;32m--> 148\u001b[0m result \u001b[39m=\u001b[39m \u001b[39mself\u001b[39;49m\u001b[39m.\u001b[39;49m_query(query)\n\u001b[1;32m    149\u001b[0m \u001b[39mself\u001b[39m\u001b[39m.\u001b[39m_executed \u001b[39m=\u001b[39m query\n\u001b[1;32m    150\u001b[0m \u001b[39mreturn\u001b[39;00m result\n",
      "File \u001b[0;32m~/.conda/envs/KBLPredict/lib/python3.10/site-packages/pymysql/cursors.py:310\u001b[0m, in \u001b[0;36mCursor._query\u001b[0;34m(self, q)\u001b[0m\n\u001b[1;32m    308\u001b[0m \u001b[39mself\u001b[39m\u001b[39m.\u001b[39m_last_executed \u001b[39m=\u001b[39m q\n\u001b[1;32m    309\u001b[0m \u001b[39mself\u001b[39m\u001b[39m.\u001b[39m_clear_result()\n\u001b[0;32m--> 310\u001b[0m conn\u001b[39m.\u001b[39;49mquery(q)\n\u001b[1;32m    311\u001b[0m \u001b[39mself\u001b[39m\u001b[39m.\u001b[39m_do_get_result()\n\u001b[1;32m    312\u001b[0m \u001b[39mreturn\u001b[39;00m \u001b[39mself\u001b[39m\u001b[39m.\u001b[39mrowcount\n",
      "File \u001b[0;32m~/.conda/envs/KBLPredict/lib/python3.10/site-packages/pymysql/connections.py:548\u001b[0m, in \u001b[0;36mConnection.query\u001b[0;34m(self, sql, unbuffered)\u001b[0m\n\u001b[1;32m    546\u001b[0m     sql \u001b[39m=\u001b[39m sql\u001b[39m.\u001b[39mencode(\u001b[39mself\u001b[39m\u001b[39m.\u001b[39mencoding, \u001b[39m\"\u001b[39m\u001b[39msurrogateescape\u001b[39m\u001b[39m\"\u001b[39m)\n\u001b[1;32m    547\u001b[0m \u001b[39mself\u001b[39m\u001b[39m.\u001b[39m_execute_command(COMMAND\u001b[39m.\u001b[39mCOM_QUERY, sql)\n\u001b[0;32m--> 548\u001b[0m \u001b[39mself\u001b[39m\u001b[39m.\u001b[39m_affected_rows \u001b[39m=\u001b[39m \u001b[39mself\u001b[39;49m\u001b[39m.\u001b[39;49m_read_query_result(unbuffered\u001b[39m=\u001b[39;49munbuffered)\n\u001b[1;32m    549\u001b[0m \u001b[39mreturn\u001b[39;00m \u001b[39mself\u001b[39m\u001b[39m.\u001b[39m_affected_rows\n",
      "File \u001b[0;32m~/.conda/envs/KBLPredict/lib/python3.10/site-packages/pymysql/connections.py:775\u001b[0m, in \u001b[0;36mConnection._read_query_result\u001b[0;34m(self, unbuffered)\u001b[0m\n\u001b[1;32m    773\u001b[0m \u001b[39melse\u001b[39;00m:\n\u001b[1;32m    774\u001b[0m     result \u001b[39m=\u001b[39m MySQLResult(\u001b[39mself\u001b[39m)\n\u001b[0;32m--> 775\u001b[0m     result\u001b[39m.\u001b[39;49mread()\n\u001b[1;32m    776\u001b[0m \u001b[39mself\u001b[39m\u001b[39m.\u001b[39m_result \u001b[39m=\u001b[39m result\n\u001b[1;32m    777\u001b[0m \u001b[39mif\u001b[39;00m result\u001b[39m.\u001b[39mserver_status \u001b[39mis\u001b[39;00m \u001b[39mnot\u001b[39;00m \u001b[39mNone\u001b[39;00m:\n",
      "File \u001b[0;32m~/.conda/envs/KBLPredict/lib/python3.10/site-packages/pymysql/connections.py:1156\u001b[0m, in \u001b[0;36mMySQLResult.read\u001b[0;34m(self)\u001b[0m\n\u001b[1;32m   1154\u001b[0m \u001b[39mdef\u001b[39;00m \u001b[39mread\u001b[39m(\u001b[39mself\u001b[39m):\n\u001b[1;32m   1155\u001b[0m     \u001b[39mtry\u001b[39;00m:\n\u001b[0;32m-> 1156\u001b[0m         first_packet \u001b[39m=\u001b[39m \u001b[39mself\u001b[39;49m\u001b[39m.\u001b[39;49mconnection\u001b[39m.\u001b[39;49m_read_packet()\n\u001b[1;32m   1158\u001b[0m         \u001b[39mif\u001b[39;00m first_packet\u001b[39m.\u001b[39mis_ok_packet():\n\u001b[1;32m   1159\u001b[0m             \u001b[39mself\u001b[39m\u001b[39m.\u001b[39m_read_ok_packet(first_packet)\n",
      "File \u001b[0;32m~/.conda/envs/KBLPredict/lib/python3.10/site-packages/pymysql/connections.py:725\u001b[0m, in \u001b[0;36mConnection._read_packet\u001b[0;34m(self, packet_type)\u001b[0m\n\u001b[1;32m    723\u001b[0m     \u001b[39mif\u001b[39;00m \u001b[39mself\u001b[39m\u001b[39m.\u001b[39m_result \u001b[39mis\u001b[39;00m \u001b[39mnot\u001b[39;00m \u001b[39mNone\u001b[39;00m \u001b[39mand\u001b[39;00m \u001b[39mself\u001b[39m\u001b[39m.\u001b[39m_result\u001b[39m.\u001b[39munbuffered_active \u001b[39mis\u001b[39;00m \u001b[39mTrue\u001b[39;00m:\n\u001b[1;32m    724\u001b[0m         \u001b[39mself\u001b[39m\u001b[39m.\u001b[39m_result\u001b[39m.\u001b[39munbuffered_active \u001b[39m=\u001b[39m \u001b[39mFalse\u001b[39;00m\n\u001b[0;32m--> 725\u001b[0m     packet\u001b[39m.\u001b[39;49mraise_for_error()\n\u001b[1;32m    726\u001b[0m \u001b[39mreturn\u001b[39;00m packet\n",
      "File \u001b[0;32m~/.conda/envs/KBLPredict/lib/python3.10/site-packages/pymysql/protocol.py:221\u001b[0m, in \u001b[0;36mMysqlPacket.raise_for_error\u001b[0;34m(self)\u001b[0m\n\u001b[1;32m    219\u001b[0m \u001b[39mif\u001b[39;00m DEBUG:\n\u001b[1;32m    220\u001b[0m     \u001b[39mprint\u001b[39m(\u001b[39m\"\u001b[39m\u001b[39merrno =\u001b[39m\u001b[39m\"\u001b[39m, errno)\n\u001b[0;32m--> 221\u001b[0m err\u001b[39m.\u001b[39;49mraise_mysql_exception(\u001b[39mself\u001b[39;49m\u001b[39m.\u001b[39;49m_data)\n",
      "File \u001b[0;32m~/.conda/envs/KBLPredict/lib/python3.10/site-packages/pymysql/err.py:143\u001b[0m, in \u001b[0;36mraise_mysql_exception\u001b[0;34m(data)\u001b[0m\n\u001b[1;32m    141\u001b[0m \u001b[39mif\u001b[39;00m errorclass \u001b[39mis\u001b[39;00m \u001b[39mNone\u001b[39;00m:\n\u001b[1;32m    142\u001b[0m     errorclass \u001b[39m=\u001b[39m InternalError \u001b[39mif\u001b[39;00m errno \u001b[39m<\u001b[39m \u001b[39m1000\u001b[39m \u001b[39melse\u001b[39;00m OperationalError\n\u001b[0;32m--> 143\u001b[0m \u001b[39mraise\u001b[39;00m errorclass(errno, errval)\n",
      "\u001b[0;31mProgrammingError\u001b[0m: (1064, \"You have an error in your SQL syntax; check the manual that corresponds to your MySQL server version for the right syntax to use near ')\\n                            ) as rankrow\\n                        where rankrow' at line 6\")"
     ]
    }
   ],
   "source": [
    "def get_recent_players(players, gameDate, db):\n",
    "    # df = pd.DataFrame()\n",
    "    df = []\n",
    "    # db = DB.MYDB()\n",
    "    # for player in players:\n",
    "        # db.cursor.execute(\"\"\"\n",
    "        #                 SELECT b.*, a.gameDate \n",
    "        #                 FROM game_meta a, player_record b\n",
    "        #                 WHERE a.gmkey = b.gmkey and b.pcode = '{}' and b.gmkey < '{}'\n",
    "        #                 ORDER BY gameDate desc\n",
    "        #                 LIMIT 5\"\"\".format(player, gameCode))\n",
    "    db.cursor.execute(\"\"\"\n",
    "                        select *\n",
    "                        from (\n",
    "                            SELECT b.*, a.gameDate, rank() over(partition by b.pcode order by gameDate desc) as a\n",
    "                            FROM game_meta a, player_record b\n",
    "                            WHERE a.gmkey = b.gmkey and a.gameDate < '{}'\n",
    "                                and b.pcode in {}\n",
    "                            ) as rankrow\n",
    "                        where rankrow.a <=5;\"\"\".format(gameDate, tuple(players)))\n",
    "    # db.db.close()\n",
    "    return pd.DataFrame(db.cursor.fetchall())\n"
   ]
  },
  {
   "cell_type": "code",
   "execution_count": 37,
   "metadata": {
    "collapsed": false,
    "pycharm": {
     "name": "#%%\n"
    }
   },
   "outputs": [],
   "source": [
    "def get_keyplayer_game_record():\n",
    "    db = DB.MYDB()\n",
    "    df = pd.DataFrame()\n",
    "    for season in season_keyplayer:\n",
    "        for tcode in season_keyplayer[season]:\n",
    "            pcode = season_keyplayer[season][tcode]\n",
    "            print(season, pcode)\n",
    "            db.cursor.execute(\"\"\"\n",
    "                                SELECT * FROM hygp.player_record a join game_meta b on a.gmkey = b.gmkey\n",
    "                                where (b.tcodeH = '{}' or b.tcodeA = '{}') and a.gmkey >= 'S17'\n",
    "                                and a.pcode in {};\n",
    "                                \"\"\".format(tcode, tcode, tuple(pcode)))\n",
    "            data = pd.DataFrame(db.cursor.fetchall())\n",
    "            df = pd.concat([df, data.groupby(['gmkey']).mean()], ignore_index=True)\n",
    "        \n",
    "    db.db.close()\n",
    "\n",
    "    return df\n",
    "            \n",
    "\n"
   ]
  },
  {
   "cell_type": "code",
   "execution_count": 38,
   "metadata": {},
   "outputs": [
    {
     "name": "stdout",
     "output_type": "stream",
     "text": [
      "Connect!\n",
      "17 {'290346', '650014'}\n",
      "17 {'230083', '210074'}\n",
      "17 {'250039'}\n"
     ]
    },
    {
     "ename": "ProgrammingError",
     "evalue": "(1064, \"You have an error in your SQL syntax; check the manual that corresponds to your MySQL server version for the right syntax to use near ')' at line 3\")",
     "output_type": "error",
     "traceback": [
      "\u001b[0;31m---------------------------------------------------------------------------\u001b[0m",
      "\u001b[0;31mProgrammingError\u001b[0m                          Traceback (most recent call last)",
      "\u001b[1;32m/Users/grulsuitg/study/KBLPredict/Crawling/model.ipynb Cell 11'\u001b[0m in \u001b[0;36m<cell line: 1>\u001b[0;34m()\u001b[0m\n\u001b[0;32m----> <a href='vscode-notebook-cell:/Users/grulsuitg/study/KBLPredict/Crawling/model.ipynb#ch0000025?line=0'>1</a>\u001b[0m df \u001b[39m=\u001b[39m get_keyplayer_game_record()\n\u001b[1;32m      <a href='vscode-notebook-cell:/Users/grulsuitg/study/KBLPredict/Crawling/model.ipynb#ch0000025?line=1'>2</a>\u001b[0m \u001b[39mprint\u001b[39m(df)\n",
      "\u001b[1;32m/Users/grulsuitg/study/KBLPredict/Crawling/model.ipynb Cell 10'\u001b[0m in \u001b[0;36mget_keyplayer_game_record\u001b[0;34m()\u001b[0m\n\u001b[1;32m      <a href='vscode-notebook-cell:/Users/grulsuitg/study/KBLPredict/Crawling/model.ipynb#ch0000009?line=5'>6</a>\u001b[0m pcode \u001b[39m=\u001b[39m season_keyplayer[season][tcode]\n\u001b[1;32m      <a href='vscode-notebook-cell:/Users/grulsuitg/study/KBLPredict/Crawling/model.ipynb#ch0000009?line=6'>7</a>\u001b[0m \u001b[39mprint\u001b[39m(season, pcode)\n\u001b[0;32m----> <a href='vscode-notebook-cell:/Users/grulsuitg/study/KBLPredict/Crawling/model.ipynb#ch0000009?line=7'>8</a>\u001b[0m db\u001b[39m.\u001b[39;49mcursor\u001b[39m.\u001b[39;49mexecute(\u001b[39m\"\"\"\u001b[39;49m\n\u001b[1;32m      <a href='vscode-notebook-cell:/Users/grulsuitg/study/KBLPredict/Crawling/model.ipynb#ch0000009?line=8'>9</a>\u001b[0m \u001b[39m                    SELECT * FROM hygp.player_record a join game_meta b on a.gmkey = b.gmkey\u001b[39;49m\n\u001b[1;32m     <a href='vscode-notebook-cell:/Users/grulsuitg/study/KBLPredict/Crawling/model.ipynb#ch0000009?line=9'>10</a>\u001b[0m \u001b[39m                    where (b.tcodeH = \u001b[39;49m\u001b[39m'\u001b[39;49m\u001b[39m{}\u001b[39;49;00m\u001b[39m'\u001b[39;49m\u001b[39m or b.tcodeA = \u001b[39;49m\u001b[39m'\u001b[39;49m\u001b[39m{}\u001b[39;49;00m\u001b[39m'\u001b[39;49m\u001b[39m) and a.gmkey >= \u001b[39;49m\u001b[39m'\u001b[39;49m\u001b[39mS17\u001b[39;49m\u001b[39m'\u001b[39;49m\n\u001b[1;32m     <a href='vscode-notebook-cell:/Users/grulsuitg/study/KBLPredict/Crawling/model.ipynb#ch0000009?line=10'>11</a>\u001b[0m \u001b[39m                    and a.pcode in \u001b[39;49m\u001b[39m{}\u001b[39;49;00m\u001b[39m;\u001b[39;49m\n\u001b[1;32m     <a href='vscode-notebook-cell:/Users/grulsuitg/study/KBLPredict/Crawling/model.ipynb#ch0000009?line=11'>12</a>\u001b[0m \u001b[39m                    \u001b[39;49m\u001b[39m\"\"\"\u001b[39;49m\u001b[39m.\u001b[39;49mformat(tcode, tcode, \u001b[39mtuple\u001b[39;49m(pcode)))\n\u001b[1;32m     <a href='vscode-notebook-cell:/Users/grulsuitg/study/KBLPredict/Crawling/model.ipynb#ch0000009?line=12'>13</a>\u001b[0m data \u001b[39m=\u001b[39m pd\u001b[39m.\u001b[39mDataFrame(db\u001b[39m.\u001b[39mcursor\u001b[39m.\u001b[39mfetchall())\n\u001b[1;32m     <a href='vscode-notebook-cell:/Users/grulsuitg/study/KBLPredict/Crawling/model.ipynb#ch0000009?line=13'>14</a>\u001b[0m df \u001b[39m=\u001b[39m pd\u001b[39m.\u001b[39mconcat([df, data\u001b[39m.\u001b[39mgroupby([\u001b[39m'\u001b[39m\u001b[39mgmkey\u001b[39m\u001b[39m'\u001b[39m])\u001b[39m.\u001b[39mmean()], ignore_index\u001b[39m=\u001b[39m\u001b[39mTrue\u001b[39;00m)\n",
      "File \u001b[0;32m~/.conda/envs/KBLPredict/lib/python3.10/site-packages/pymysql/cursors.py:148\u001b[0m, in \u001b[0;36mCursor.execute\u001b[0;34m(self, query, args)\u001b[0m\n\u001b[1;32m    144\u001b[0m     \u001b[39mpass\u001b[39;00m\n\u001b[1;32m    146\u001b[0m query \u001b[39m=\u001b[39m \u001b[39mself\u001b[39m\u001b[39m.\u001b[39mmogrify(query, args)\n\u001b[0;32m--> 148\u001b[0m result \u001b[39m=\u001b[39m \u001b[39mself\u001b[39;49m\u001b[39m.\u001b[39;49m_query(query)\n\u001b[1;32m    149\u001b[0m \u001b[39mself\u001b[39m\u001b[39m.\u001b[39m_executed \u001b[39m=\u001b[39m query\n\u001b[1;32m    150\u001b[0m \u001b[39mreturn\u001b[39;00m result\n",
      "File \u001b[0;32m~/.conda/envs/KBLPredict/lib/python3.10/site-packages/pymysql/cursors.py:310\u001b[0m, in \u001b[0;36mCursor._query\u001b[0;34m(self, q)\u001b[0m\n\u001b[1;32m    308\u001b[0m \u001b[39mself\u001b[39m\u001b[39m.\u001b[39m_last_executed \u001b[39m=\u001b[39m q\n\u001b[1;32m    309\u001b[0m \u001b[39mself\u001b[39m\u001b[39m.\u001b[39m_clear_result()\n\u001b[0;32m--> 310\u001b[0m conn\u001b[39m.\u001b[39;49mquery(q)\n\u001b[1;32m    311\u001b[0m \u001b[39mself\u001b[39m\u001b[39m.\u001b[39m_do_get_result()\n\u001b[1;32m    312\u001b[0m \u001b[39mreturn\u001b[39;00m \u001b[39mself\u001b[39m\u001b[39m.\u001b[39mrowcount\n",
      "File \u001b[0;32m~/.conda/envs/KBLPredict/lib/python3.10/site-packages/pymysql/connections.py:548\u001b[0m, in \u001b[0;36mConnection.query\u001b[0;34m(self, sql, unbuffered)\u001b[0m\n\u001b[1;32m    546\u001b[0m     sql \u001b[39m=\u001b[39m sql\u001b[39m.\u001b[39mencode(\u001b[39mself\u001b[39m\u001b[39m.\u001b[39mencoding, \u001b[39m\"\u001b[39m\u001b[39msurrogateescape\u001b[39m\u001b[39m\"\u001b[39m)\n\u001b[1;32m    547\u001b[0m \u001b[39mself\u001b[39m\u001b[39m.\u001b[39m_execute_command(COMMAND\u001b[39m.\u001b[39mCOM_QUERY, sql)\n\u001b[0;32m--> 548\u001b[0m \u001b[39mself\u001b[39m\u001b[39m.\u001b[39m_affected_rows \u001b[39m=\u001b[39m \u001b[39mself\u001b[39;49m\u001b[39m.\u001b[39;49m_read_query_result(unbuffered\u001b[39m=\u001b[39;49munbuffered)\n\u001b[1;32m    549\u001b[0m \u001b[39mreturn\u001b[39;00m \u001b[39mself\u001b[39m\u001b[39m.\u001b[39m_affected_rows\n",
      "File \u001b[0;32m~/.conda/envs/KBLPredict/lib/python3.10/site-packages/pymysql/connections.py:775\u001b[0m, in \u001b[0;36mConnection._read_query_result\u001b[0;34m(self, unbuffered)\u001b[0m\n\u001b[1;32m    773\u001b[0m \u001b[39melse\u001b[39;00m:\n\u001b[1;32m    774\u001b[0m     result \u001b[39m=\u001b[39m MySQLResult(\u001b[39mself\u001b[39m)\n\u001b[0;32m--> 775\u001b[0m     result\u001b[39m.\u001b[39;49mread()\n\u001b[1;32m    776\u001b[0m \u001b[39mself\u001b[39m\u001b[39m.\u001b[39m_result \u001b[39m=\u001b[39m result\n\u001b[1;32m    777\u001b[0m \u001b[39mif\u001b[39;00m result\u001b[39m.\u001b[39mserver_status \u001b[39mis\u001b[39;00m \u001b[39mnot\u001b[39;00m \u001b[39mNone\u001b[39;00m:\n",
      "File \u001b[0;32m~/.conda/envs/KBLPredict/lib/python3.10/site-packages/pymysql/connections.py:1156\u001b[0m, in \u001b[0;36mMySQLResult.read\u001b[0;34m(self)\u001b[0m\n\u001b[1;32m   1154\u001b[0m \u001b[39mdef\u001b[39;00m \u001b[39mread\u001b[39m(\u001b[39mself\u001b[39m):\n\u001b[1;32m   1155\u001b[0m     \u001b[39mtry\u001b[39;00m:\n\u001b[0;32m-> 1156\u001b[0m         first_packet \u001b[39m=\u001b[39m \u001b[39mself\u001b[39;49m\u001b[39m.\u001b[39;49mconnection\u001b[39m.\u001b[39;49m_read_packet()\n\u001b[1;32m   1158\u001b[0m         \u001b[39mif\u001b[39;00m first_packet\u001b[39m.\u001b[39mis_ok_packet():\n\u001b[1;32m   1159\u001b[0m             \u001b[39mself\u001b[39m\u001b[39m.\u001b[39m_read_ok_packet(first_packet)\n",
      "File \u001b[0;32m~/.conda/envs/KBLPredict/lib/python3.10/site-packages/pymysql/connections.py:725\u001b[0m, in \u001b[0;36mConnection._read_packet\u001b[0;34m(self, packet_type)\u001b[0m\n\u001b[1;32m    723\u001b[0m     \u001b[39mif\u001b[39;00m \u001b[39mself\u001b[39m\u001b[39m.\u001b[39m_result \u001b[39mis\u001b[39;00m \u001b[39mnot\u001b[39;00m \u001b[39mNone\u001b[39;00m \u001b[39mand\u001b[39;00m \u001b[39mself\u001b[39m\u001b[39m.\u001b[39m_result\u001b[39m.\u001b[39munbuffered_active \u001b[39mis\u001b[39;00m \u001b[39mTrue\u001b[39;00m:\n\u001b[1;32m    724\u001b[0m         \u001b[39mself\u001b[39m\u001b[39m.\u001b[39m_result\u001b[39m.\u001b[39munbuffered_active \u001b[39m=\u001b[39m \u001b[39mFalse\u001b[39;00m\n\u001b[0;32m--> 725\u001b[0m     packet\u001b[39m.\u001b[39;49mraise_for_error()\n\u001b[1;32m    726\u001b[0m \u001b[39mreturn\u001b[39;00m packet\n",
      "File \u001b[0;32m~/.conda/envs/KBLPredict/lib/python3.10/site-packages/pymysql/protocol.py:221\u001b[0m, in \u001b[0;36mMysqlPacket.raise_for_error\u001b[0;34m(self)\u001b[0m\n\u001b[1;32m    219\u001b[0m \u001b[39mif\u001b[39;00m DEBUG:\n\u001b[1;32m    220\u001b[0m     \u001b[39mprint\u001b[39m(\u001b[39m\"\u001b[39m\u001b[39merrno =\u001b[39m\u001b[39m\"\u001b[39m, errno)\n\u001b[0;32m--> 221\u001b[0m err\u001b[39m.\u001b[39;49mraise_mysql_exception(\u001b[39mself\u001b[39;49m\u001b[39m.\u001b[39;49m_data)\n",
      "File \u001b[0;32m~/.conda/envs/KBLPredict/lib/python3.10/site-packages/pymysql/err.py:143\u001b[0m, in \u001b[0;36mraise_mysql_exception\u001b[0;34m(data)\u001b[0m\n\u001b[1;32m    141\u001b[0m \u001b[39mif\u001b[39;00m errorclass \u001b[39mis\u001b[39;00m \u001b[39mNone\u001b[39;00m:\n\u001b[1;32m    142\u001b[0m     errorclass \u001b[39m=\u001b[39m InternalError \u001b[39mif\u001b[39;00m errno \u001b[39m<\u001b[39m \u001b[39m1000\u001b[39m \u001b[39melse\u001b[39;00m OperationalError\n\u001b[0;32m--> 143\u001b[0m \u001b[39mraise\u001b[39;00m errorclass(errno, errval)\n",
      "\u001b[0;31mProgrammingError\u001b[0m: (1064, \"You have an error in your SQL syntax; check the manual that corresponds to your MySQL server version for the right syntax to use near ')' at line 3\")"
     ]
    }
   ],
   "source": [
    "df = get_keyplayer_game_record()\n",
    "print(df)\n",
    "# season_keyplayer['37']['06']\n",
    "# tcode = '17'\n",
    "# pcode = {'250039'}\n",
    "# print(\"\"\"SELECT * FROM hygp.player_record a join game_meta b on a.gmkey = b.gmkey\n",
    "#                                 where (b.tcodeH = '{}' or b.tcodeA = '{}') \n",
    "#                                 and a.pcode in {} and a.gmkey >= 'S17';\n",
    "#                                 \"\"\".format(tcode, tcode, tuple(pcode)))\n",
    "                                "
   ]
  },
  {
   "cell_type": "code",
   "execution_count": 7,
   "metadata": {
    "pycharm": {
     "name": "#%%\n"
    }
   },
   "outputs": [
    {
     "name": "stdout",
     "output_type": "stream",
     "text": [
      "Connect!\n"
     ]
    }
   ],
   "source": [
    "db = DB.MYDB()\n",
    "db.cursor.execute(\"SELECT gmkey, tcodeA, tcodeH, gameDate FROM hygp.game_meta where gmkey >= 'S17G01N1' order by gmkey;\")\n",
    "records = db.cursor.fetchall()\n",
    "db.cursor.execute(\"SELECT gmkey, score, loss FROM hygp.team_record where home_away = 'H' and gmkey >= 'S17' order by gmkey;\")\n",
    "scores = db.cursor.fetchall()\n",
    "db.cursor.execute(\"select tcode from team_code\")\n",
    "tcodes = db.cursor.fetchall()\n",
    "season_keyplayer = dict()\n",
    "for season in range(17, 41):\n",
    "    season_keyplayer[str(season)] = get_season_keyplayer(season)\n",
    "db.db.close()\n",
    "    "
   ]
  },
  {
   "cell_type": "code",
   "execution_count": 40,
   "metadata": {
    "pycharm": {
     "name": "#%%\n"
    }
   },
   "outputs": [],
   "source": [
    "def get_recent_team(team, gameDate, db):\n",
    "    db.cursor.execute(\"\"\"select b.*, a.gameDate \n",
    "                        from game_meta a, team_record b\n",
    "                        where a.gmkey = b.gmkey and a.gameDate <'{}'\n",
    "                            and b.tcode = '{}'\n",
    "                        order by a.gameDate desc\n",
    "                        limit 5\"\"\".format(gameDate, team))\n",
    "    # db.db.close()\n",
    "    return pd.DataFrame(db.cursor.fetchall())\n"
   ]
  },
  {
   "cell_type": "code",
   "execution_count": 46,
   "metadata": {
    "pycharm": {
     "name": "#%%\n"
    }
   },
   "outputs": [],
   "source": [
    "def make_player_recent_data():\n",
    "    h_data = []\n",
    "    a_data = []\n",
    "    db = DB.MYDB()\n",
    "    for idx, (record, score) in enumerate(zip(records, scores)):\n",
    "        gmkey = record['gmkey']\n",
    "        gameDate = record['gameDate']\n",
    "        season = gmkey[1:3]\n",
    "        h_score = score['score']\n",
    "        a_score = score['loss']\n",
    "        tcodeH = record['tcodeH']\n",
    "        tcodeA = record['tcodeA']\n",
    "        if gmkey != score['gmkey']:\n",
    "            print('index error', gmkey, score['gmkey'])\n",
    "        if tcodeH == '75' or tcodeA == '75': #예외처리\n",
    "            continue\n",
    "        try:\n",
    "            temp1 = dict(get_recent_players(season_keyplayer[season][tcodeH], gameDate, db).mean(numeric_only=True))\n",
    "            temp1['score'] = h_score\n",
    "            temp1['gmkey'] = gmkey\n",
    "            temp2 = dict(get_recent_players(season_keyplayer[season][tcodeA], gameDate, db).mean(numeric_only=True))\n",
    "            temp2['score'] = a_score\n",
    "            temp2['gmkey'] = gmkey\n",
    "\n",
    "            h_data.append(temp1)\n",
    "            a_data.append(temp2)\n",
    "        except Exception as e:\n",
    "            print(\"error \", gmkey)\n",
    "        if idx % 100 == 0:\n",
    "            print(gmkey)\n",
    "        \n",
    "\n",
    "    h_df = pd.DataFrame(h_data).to_csv(\"h_data.csv\")\n",
    "    a_df = pd.DataFrame(h_data).to_csv(\"a_data.csv\")\n",
    "    # model = pd.concat([make_data(h_data, a_data), make_data(a_data, h_data)])\n",
    "    # return model\n",
    "    db.db.close()\n"
   ]
  },
  {
   "cell_type": "code",
   "execution_count": 47,
   "metadata": {
    "pycharm": {
     "name": "#%%\n"
    }
   },
   "outputs": [],
   "source": [
    "def make_team_recent_data():\n",
    "    h_data = []\n",
    "    a_data = []\n",
    "    db = DB.MYDB()\n",
    "    for idx, (record, score) in enumerate(zip(records, scores)):\n",
    "        gmkey = record['gmkey']\n",
    "        gameDate = record['gameDate']\n",
    "        h_score = score['score']\n",
    "        a_score = score['loss']\n",
    "        if gmkey != score['gmkey']:\n",
    "            print('index error', gmkey, score['gmkey'])\n",
    "        if record['tcodeH'] == '75' or record['tcodeA'] == '75': #예외처리\n",
    "            continue\n",
    "        try:\n",
    "            temp1 = dict(get_recent_team(record['tcodeH'], gameDate, db).mean(numeric_only=True))\n",
    "            temp1['score'] = h_score\n",
    "            temp1['gmkey'] = gmkey\n",
    "            temp2 = dict(get_recent_team(record['tcodeA'], gameDate, db).mean(numeric_only=True))\n",
    "            temp2['score'] = a_score\n",
    "            temp2['gmkey'] = gmkey\n",
    "\n",
    "            h_data.append(temp1)\n",
    "            a_data.append(temp2)\n",
    "        except Exception as e:\n",
    "            print(\"error \", gmkey)\n",
    "            e.with_traceback()\n",
    "        if idx % 100 == 0:\n",
    "            print(gmkey)\n",
    "        \n",
    "\n",
    "    h_df = pd.DataFrame(h_data).to_csv(\"team_h_data_recent5.csv\")\n",
    "    a_df = pd.DataFrame(h_data).to_csv(\"team_a_data_recent5.csv\")\n",
    "    # model = pd.concat([make_data(h_data, a_data), make_data(a_data, h_data)])\n",
    "    # return model\n",
    "    db.db.close()"
   ]
  },
  {
   "cell_type": "code",
   "execution_count": 48,
   "metadata": {
    "pycharm": {
     "name": "#%%\n"
    }
   },
   "outputs": [
    {
     "name": "stdout",
     "output_type": "stream",
     "text": [
      "Connect!\n",
      "S17G01N1\n",
      "error  S17G01N105\n",
      "error  S17G01N108\n",
      "error  S17G01N109\n",
      "error  S17G01N111\n",
      "error  S17G01N112\n",
      "error  S17G01N116\n",
      "error  S17G01N12\n"
     ]
    },
    {
     "ename": "KeyboardInterrupt",
     "evalue": "",
     "output_type": "error",
     "traceback": [
      "\u001b[0;31m---------------------------------------------------------------------------\u001b[0m",
      "\u001b[0;31mKeyboardInterrupt\u001b[0m                         Traceback (most recent call last)",
      "\u001b[1;32m/Users/grulsuitg/study/KBLPredict/Crawling/model.ipynb Cell 16'\u001b[0m in \u001b[0;36m<cell line: 1>\u001b[0;34m()\u001b[0m\n\u001b[0;32m----> <a href='vscode-notebook-cell:/Users/grulsuitg/study/KBLPredict/Crawling/model.ipynb#ch0000014?line=0'>1</a>\u001b[0m make_player_recent_data()\n",
      "\u001b[1;32m/Users/grulsuitg/study/KBLPredict/Crawling/model.ipynb Cell 14'\u001b[0m in \u001b[0;36mmake_player_recent_data\u001b[0;34m()\u001b[0m\n\u001b[1;32m     <a href='vscode-notebook-cell:/Users/grulsuitg/study/KBLPredict/Crawling/model.ipynb#ch0000012?line=15'>16</a>\u001b[0m     \u001b[39mcontinue\u001b[39;00m\n\u001b[1;32m     <a href='vscode-notebook-cell:/Users/grulsuitg/study/KBLPredict/Crawling/model.ipynb#ch0000012?line=16'>17</a>\u001b[0m \u001b[39mtry\u001b[39;00m:\n\u001b[0;32m---> <a href='vscode-notebook-cell:/Users/grulsuitg/study/KBLPredict/Crawling/model.ipynb#ch0000012?line=17'>18</a>\u001b[0m     temp1 \u001b[39m=\u001b[39m \u001b[39mdict\u001b[39m(get_recent_players(season_keyplayer[season][tcodeH], gameDate, db)\u001b[39m.\u001b[39mmean(numeric_only\u001b[39m=\u001b[39m\u001b[39mTrue\u001b[39;00m))\n\u001b[1;32m     <a href='vscode-notebook-cell:/Users/grulsuitg/study/KBLPredict/Crawling/model.ipynb#ch0000012?line=18'>19</a>\u001b[0m     temp1[\u001b[39m'\u001b[39m\u001b[39mscore\u001b[39m\u001b[39m'\u001b[39m] \u001b[39m=\u001b[39m h_score\n\u001b[1;32m     <a href='vscode-notebook-cell:/Users/grulsuitg/study/KBLPredict/Crawling/model.ipynb#ch0000012?line=19'>20</a>\u001b[0m     temp1[\u001b[39m'\u001b[39m\u001b[39mgmkey\u001b[39m\u001b[39m'\u001b[39m] \u001b[39m=\u001b[39m gmkey\n",
      "\u001b[1;32m/Users/grulsuitg/study/KBLPredict/Crawling/model.ipynb Cell 9'\u001b[0m in \u001b[0;36mget_recent_players\u001b[0;34m(players, gameDate, db)\u001b[0m\n\u001b[1;32m      <a href='vscode-notebook-cell:/Users/grulsuitg/study/KBLPredict/Crawling/model.ipynb#ch0000008?line=2'>3</a>\u001b[0m df \u001b[39m=\u001b[39m []\n\u001b[1;32m      <a href='vscode-notebook-cell:/Users/grulsuitg/study/KBLPredict/Crawling/model.ipynb#ch0000008?line=3'>4</a>\u001b[0m \u001b[39m# db = DB.MYDB()\u001b[39;00m\n\u001b[1;32m      <a href='vscode-notebook-cell:/Users/grulsuitg/study/KBLPredict/Crawling/model.ipynb#ch0000008?line=4'>5</a>\u001b[0m \u001b[39m# for player in players:\u001b[39;00m\n\u001b[1;32m      <a href='vscode-notebook-cell:/Users/grulsuitg/study/KBLPredict/Crawling/model.ipynb#ch0000008?line=5'>6</a>\u001b[0m     \u001b[39m# db.cursor.execute(\"\"\"\u001b[39;00m\n\u001b[0;32m   (...)\u001b[0m\n\u001b[1;32m     <a href='vscode-notebook-cell:/Users/grulsuitg/study/KBLPredict/Crawling/model.ipynb#ch0000008?line=9'>10</a>\u001b[0m     \u001b[39m#                 ORDER BY gameDate desc\u001b[39;00m\n\u001b[1;32m     <a href='vscode-notebook-cell:/Users/grulsuitg/study/KBLPredict/Crawling/model.ipynb#ch0000008?line=10'>11</a>\u001b[0m     \u001b[39m#                 LIMIT 5\"\"\".format(player, gameCode))\u001b[39;00m\n\u001b[0;32m---> <a href='vscode-notebook-cell:/Users/grulsuitg/study/KBLPredict/Crawling/model.ipynb#ch0000008?line=11'>12</a>\u001b[0m db\u001b[39m.\u001b[39;49mcursor\u001b[39m.\u001b[39;49mexecute(\u001b[39m\"\"\"\u001b[39;49m\n\u001b[1;32m     <a href='vscode-notebook-cell:/Users/grulsuitg/study/KBLPredict/Crawling/model.ipynb#ch0000008?line=12'>13</a>\u001b[0m \u001b[39m                    select *\u001b[39;49m\n\u001b[1;32m     <a href='vscode-notebook-cell:/Users/grulsuitg/study/KBLPredict/Crawling/model.ipynb#ch0000008?line=13'>14</a>\u001b[0m \u001b[39m                    from (\u001b[39;49m\n\u001b[1;32m     <a href='vscode-notebook-cell:/Users/grulsuitg/study/KBLPredict/Crawling/model.ipynb#ch0000008?line=14'>15</a>\u001b[0m \u001b[39m                        SELECT b.*, a.gameDate, rank() over(partition by b.pcode order by gameDate desc) as a\u001b[39;49m\n\u001b[1;32m     <a href='vscode-notebook-cell:/Users/grulsuitg/study/KBLPredict/Crawling/model.ipynb#ch0000008?line=15'>16</a>\u001b[0m \u001b[39m                        FROM game_meta a, player_record b\u001b[39;49m\n\u001b[1;32m     <a href='vscode-notebook-cell:/Users/grulsuitg/study/KBLPredict/Crawling/model.ipynb#ch0000008?line=16'>17</a>\u001b[0m \u001b[39m                        WHERE a.gmkey = b.gmkey and a.gameDate < \u001b[39;49m\u001b[39m'\u001b[39;49m\u001b[39m{}\u001b[39;49;00m\u001b[39m'\u001b[39;49m\n\u001b[1;32m     <a href='vscode-notebook-cell:/Users/grulsuitg/study/KBLPredict/Crawling/model.ipynb#ch0000008?line=17'>18</a>\u001b[0m \u001b[39m                            and b.pcode in \u001b[39;49m\u001b[39m{}\u001b[39;49;00m\n\u001b[1;32m     <a href='vscode-notebook-cell:/Users/grulsuitg/study/KBLPredict/Crawling/model.ipynb#ch0000008?line=18'>19</a>\u001b[0m \u001b[39m                        ) as rankrow\u001b[39;49m\n\u001b[1;32m     <a href='vscode-notebook-cell:/Users/grulsuitg/study/KBLPredict/Crawling/model.ipynb#ch0000008?line=19'>20</a>\u001b[0m \u001b[39m                    where rankrow.a <=5;\u001b[39;49m\u001b[39m\"\"\"\u001b[39;49m\u001b[39m.\u001b[39;49mformat(gameDate, \u001b[39mtuple\u001b[39;49m(players)))\n\u001b[1;32m     <a href='vscode-notebook-cell:/Users/grulsuitg/study/KBLPredict/Crawling/model.ipynb#ch0000008?line=20'>21</a>\u001b[0m \u001b[39m# db.db.close()\u001b[39;00m\n\u001b[1;32m     <a href='vscode-notebook-cell:/Users/grulsuitg/study/KBLPredict/Crawling/model.ipynb#ch0000008?line=21'>22</a>\u001b[0m \u001b[39mreturn\u001b[39;00m pd\u001b[39m.\u001b[39mDataFrame(db\u001b[39m.\u001b[39mcursor\u001b[39m.\u001b[39mfetchall())\n",
      "File \u001b[0;32m~/.conda/envs/KBLPredict/lib/python3.10/site-packages/pymysql/cursors.py:148\u001b[0m, in \u001b[0;36mCursor.execute\u001b[0;34m(self, query, args)\u001b[0m\n\u001b[1;32m    144\u001b[0m     \u001b[39mpass\u001b[39;00m\n\u001b[1;32m    146\u001b[0m query \u001b[39m=\u001b[39m \u001b[39mself\u001b[39m\u001b[39m.\u001b[39mmogrify(query, args)\n\u001b[0;32m--> 148\u001b[0m result \u001b[39m=\u001b[39m \u001b[39mself\u001b[39;49m\u001b[39m.\u001b[39;49m_query(query)\n\u001b[1;32m    149\u001b[0m \u001b[39mself\u001b[39m\u001b[39m.\u001b[39m_executed \u001b[39m=\u001b[39m query\n\u001b[1;32m    150\u001b[0m \u001b[39mreturn\u001b[39;00m result\n",
      "File \u001b[0;32m~/.conda/envs/KBLPredict/lib/python3.10/site-packages/pymysql/cursors.py:310\u001b[0m, in \u001b[0;36mCursor._query\u001b[0;34m(self, q)\u001b[0m\n\u001b[1;32m    308\u001b[0m \u001b[39mself\u001b[39m\u001b[39m.\u001b[39m_last_executed \u001b[39m=\u001b[39m q\n\u001b[1;32m    309\u001b[0m \u001b[39mself\u001b[39m\u001b[39m.\u001b[39m_clear_result()\n\u001b[0;32m--> 310\u001b[0m conn\u001b[39m.\u001b[39;49mquery(q)\n\u001b[1;32m    311\u001b[0m \u001b[39mself\u001b[39m\u001b[39m.\u001b[39m_do_get_result()\n\u001b[1;32m    312\u001b[0m \u001b[39mreturn\u001b[39;00m \u001b[39mself\u001b[39m\u001b[39m.\u001b[39mrowcount\n",
      "File \u001b[0;32m~/.conda/envs/KBLPredict/lib/python3.10/site-packages/pymysql/connections.py:548\u001b[0m, in \u001b[0;36mConnection.query\u001b[0;34m(self, sql, unbuffered)\u001b[0m\n\u001b[1;32m    546\u001b[0m     sql \u001b[39m=\u001b[39m sql\u001b[39m.\u001b[39mencode(\u001b[39mself\u001b[39m\u001b[39m.\u001b[39mencoding, \u001b[39m\"\u001b[39m\u001b[39msurrogateescape\u001b[39m\u001b[39m\"\u001b[39m)\n\u001b[1;32m    547\u001b[0m \u001b[39mself\u001b[39m\u001b[39m.\u001b[39m_execute_command(COMMAND\u001b[39m.\u001b[39mCOM_QUERY, sql)\n\u001b[0;32m--> 548\u001b[0m \u001b[39mself\u001b[39m\u001b[39m.\u001b[39m_affected_rows \u001b[39m=\u001b[39m \u001b[39mself\u001b[39;49m\u001b[39m.\u001b[39;49m_read_query_result(unbuffered\u001b[39m=\u001b[39;49munbuffered)\n\u001b[1;32m    549\u001b[0m \u001b[39mreturn\u001b[39;00m \u001b[39mself\u001b[39m\u001b[39m.\u001b[39m_affected_rows\n",
      "File \u001b[0;32m~/.conda/envs/KBLPredict/lib/python3.10/site-packages/pymysql/connections.py:775\u001b[0m, in \u001b[0;36mConnection._read_query_result\u001b[0;34m(self, unbuffered)\u001b[0m\n\u001b[1;32m    773\u001b[0m \u001b[39melse\u001b[39;00m:\n\u001b[1;32m    774\u001b[0m     result \u001b[39m=\u001b[39m MySQLResult(\u001b[39mself\u001b[39m)\n\u001b[0;32m--> 775\u001b[0m     result\u001b[39m.\u001b[39;49mread()\n\u001b[1;32m    776\u001b[0m \u001b[39mself\u001b[39m\u001b[39m.\u001b[39m_result \u001b[39m=\u001b[39m result\n\u001b[1;32m    777\u001b[0m \u001b[39mif\u001b[39;00m result\u001b[39m.\u001b[39mserver_status \u001b[39mis\u001b[39;00m \u001b[39mnot\u001b[39;00m \u001b[39mNone\u001b[39;00m:\n",
      "File \u001b[0;32m~/.conda/envs/KBLPredict/lib/python3.10/site-packages/pymysql/connections.py:1156\u001b[0m, in \u001b[0;36mMySQLResult.read\u001b[0;34m(self)\u001b[0m\n\u001b[1;32m   1154\u001b[0m \u001b[39mdef\u001b[39;00m \u001b[39mread\u001b[39m(\u001b[39mself\u001b[39m):\n\u001b[1;32m   1155\u001b[0m     \u001b[39mtry\u001b[39;00m:\n\u001b[0;32m-> 1156\u001b[0m         first_packet \u001b[39m=\u001b[39m \u001b[39mself\u001b[39;49m\u001b[39m.\u001b[39;49mconnection\u001b[39m.\u001b[39;49m_read_packet()\n\u001b[1;32m   1158\u001b[0m         \u001b[39mif\u001b[39;00m first_packet\u001b[39m.\u001b[39mis_ok_packet():\n\u001b[1;32m   1159\u001b[0m             \u001b[39mself\u001b[39m\u001b[39m.\u001b[39m_read_ok_packet(first_packet)\n",
      "File \u001b[0;32m~/.conda/envs/KBLPredict/lib/python3.10/site-packages/pymysql/connections.py:692\u001b[0m, in \u001b[0;36mConnection._read_packet\u001b[0;34m(self, packet_type)\u001b[0m\n\u001b[1;32m    690\u001b[0m buff \u001b[39m=\u001b[39m \u001b[39mbytearray\u001b[39m()\n\u001b[1;32m    691\u001b[0m \u001b[39mwhile\u001b[39;00m \u001b[39mTrue\u001b[39;00m:\n\u001b[0;32m--> 692\u001b[0m     packet_header \u001b[39m=\u001b[39m \u001b[39mself\u001b[39;49m\u001b[39m.\u001b[39;49m_read_bytes(\u001b[39m4\u001b[39;49m)\n\u001b[1;32m    693\u001b[0m     \u001b[39m# if DEBUG: dump_packet(packet_header)\u001b[39;00m\n\u001b[1;32m    695\u001b[0m     btrl, btrh, packet_number \u001b[39m=\u001b[39m struct\u001b[39m.\u001b[39munpack(\u001b[39m\"\u001b[39m\u001b[39m<HBB\u001b[39m\u001b[39m\"\u001b[39m, packet_header)\n",
      "File \u001b[0;32m~/.conda/envs/KBLPredict/lib/python3.10/site-packages/pymysql/connections.py:732\u001b[0m, in \u001b[0;36mConnection._read_bytes\u001b[0;34m(self, num_bytes)\u001b[0m\n\u001b[1;32m    730\u001b[0m \u001b[39mwhile\u001b[39;00m \u001b[39mTrue\u001b[39;00m:\n\u001b[1;32m    731\u001b[0m     \u001b[39mtry\u001b[39;00m:\n\u001b[0;32m--> 732\u001b[0m         data \u001b[39m=\u001b[39m \u001b[39mself\u001b[39;49m\u001b[39m.\u001b[39;49m_rfile\u001b[39m.\u001b[39;49mread(num_bytes)\n\u001b[1;32m    733\u001b[0m         \u001b[39mbreak\u001b[39;00m\n\u001b[1;32m    734\u001b[0m     \u001b[39mexcept\u001b[39;00m (\u001b[39mIOError\u001b[39;00m, \u001b[39mOSError\u001b[39;00m) \u001b[39mas\u001b[39;00m e:\n",
      "File \u001b[0;32m~/.conda/envs/KBLPredict/lib/python3.10/socket.py:705\u001b[0m, in \u001b[0;36mSocketIO.readinto\u001b[0;34m(self, b)\u001b[0m\n\u001b[1;32m    703\u001b[0m \u001b[39mwhile\u001b[39;00m \u001b[39mTrue\u001b[39;00m:\n\u001b[1;32m    704\u001b[0m     \u001b[39mtry\u001b[39;00m:\n\u001b[0;32m--> 705\u001b[0m         \u001b[39mreturn\u001b[39;00m \u001b[39mself\u001b[39;49m\u001b[39m.\u001b[39;49m_sock\u001b[39m.\u001b[39;49mrecv_into(b)\n\u001b[1;32m    706\u001b[0m     \u001b[39mexcept\u001b[39;00m timeout:\n\u001b[1;32m    707\u001b[0m         \u001b[39mself\u001b[39m\u001b[39m.\u001b[39m_timeout_occurred \u001b[39m=\u001b[39m \u001b[39mTrue\u001b[39;00m\n",
      "\u001b[0;31mKeyboardInterrupt\u001b[0m: "
     ]
    }
   ],
   "source": [
    "make_player_recent_data()"
   ]
  },
  {
   "cell_type": "code",
   "execution_count": 167,
   "metadata": {
    "pycharm": {
     "name": "#%%\n"
    }
   },
   "outputs": [],
   "source": [
    "player_hdata = pd.read_csv('h_data.csv', index_col=0)\n",
    "player_adata = pd.read_csv('a_data.csv', index_col=0)\n",
    "# result = calculate_data(h_data,a_data)\n",
    "# player_data = pd.concat([calculate_data(h_data,a_data), calculate_data(a_data,h_data)], ignore_index=True)"
   ]
  },
  {
   "cell_type": "code",
   "execution_count": 202,
   "metadata": {
    "pycharm": {
     "name": "#%%\n"
    }
   },
   "outputs": [],
   "source": [
    "player_hdata.sort_values(by='gmkey', inplace=True)\n",
    "player_adata.sort_values(by='gmkey', inplace=True)\n",
    "team_hdata.sort_values(by='gmkey', inplace=True)\n",
    "team_adata.sort_values(by='gmkey', inplace=True)"
   ]
  },
  {
   "cell_type": "code",
   "execution_count": 221,
   "metadata": {
    "pycharm": {
     "name": "#%%\n"
    }
   },
   "outputs": [
    {
     "data": {
      "text/html": [
       "<div>\n",
       "<style scoped>\n",
       "    .dataframe tbody tr th:only-of-type {\n",
       "        vertical-align: middle;\n",
       "    }\n",
       "\n",
       "    .dataframe tbody tr th {\n",
       "        vertical-align: top;\n",
       "    }\n",
       "\n",
       "    .dataframe thead th {\n",
       "        text-align: right;\n",
       "    }\n",
       "</style>\n",
       "<table border=\"1\" class=\"dataframe\">\n",
       "  <thead>\n",
       "    <tr style=\"text-align: right;\">\n",
       "      <th></th>\n",
       "      <th>gmkey</th>\n",
       "      <th>ast</th>\n",
       "      <th>twop</th>\n",
       "      <th>threep</th>\n",
       "      <th>freep</th>\n",
       "      <th>offr</th>\n",
       "      <th>ppp</th>\n",
       "      <th>dk</th>\n",
       "      <th>defr</th>\n",
       "      <th>stl</th>\n",
       "      <th>bs</th>\n",
       "      <th>foul</th>\n",
       "      <th>tf</th>\n",
       "      <th>gd</th>\n",
       "      <th>score</th>\n",
       "    </tr>\n",
       "  </thead>\n",
       "  <tbody>\n",
       "    <tr>\n",
       "      <th>0</th>\n",
       "      <td>S17G01N1</td>\n",
       "      <td>0.683333</td>\n",
       "      <td>0.545455</td>\n",
       "      <td>0.315789</td>\n",
       "      <td>0.771429</td>\n",
       "      <td>0.338462</td>\n",
       "      <td>0.659091</td>\n",
       "      <td>0.0</td>\n",
       "      <td>0.661538</td>\n",
       "      <td>0.5</td>\n",
       "      <td>0.029851</td>\n",
       "      <td>0.5</td>\n",
       "      <td>NaN</td>\n",
       "      <td>0.5</td>\n",
       "      <td>99</td>\n",
       "    </tr>\n",
       "    <tr>\n",
       "      <th>1</th>\n",
       "      <td>S17G01N10</td>\n",
       "      <td>0.746479</td>\n",
       "      <td>0.480392</td>\n",
       "      <td>0.366667</td>\n",
       "      <td>0.757576</td>\n",
       "      <td>0.154930</td>\n",
       "      <td>0.486111</td>\n",
       "      <td>1.0</td>\n",
       "      <td>0.845070</td>\n",
       "      <td>0.5</td>\n",
       "      <td>0.037037</td>\n",
       "      <td>0.5</td>\n",
       "      <td>NaN</td>\n",
       "      <td>0.5</td>\n",
       "      <td>90</td>\n",
       "    </tr>\n",
       "    <tr>\n",
       "      <th>2</th>\n",
       "      <td>S17G01N100</td>\n",
       "      <td>0.454545</td>\n",
       "      <td>0.477064</td>\n",
       "      <td>0.350000</td>\n",
       "      <td>0.829787</td>\n",
       "      <td>0.434211</td>\n",
       "      <td>0.559322</td>\n",
       "      <td>NaN</td>\n",
       "      <td>0.565789</td>\n",
       "      <td>0.5</td>\n",
       "      <td>0.046980</td>\n",
       "      <td>0.5</td>\n",
       "      <td>NaN</td>\n",
       "      <td>NaN</td>\n",
       "      <td>75</td>\n",
       "    </tr>\n",
       "    <tr>\n",
       "      <th>3</th>\n",
       "      <td>S17G01N101</td>\n",
       "      <td>0.863636</td>\n",
       "      <td>0.507463</td>\n",
       "      <td>0.263158</td>\n",
       "      <td>0.647059</td>\n",
       "      <td>0.147541</td>\n",
       "      <td>0.555556</td>\n",
       "      <td>NaN</td>\n",
       "      <td>0.852459</td>\n",
       "      <td>0.5</td>\n",
       "      <td>0.057143</td>\n",
       "      <td>0.5</td>\n",
       "      <td>NaN</td>\n",
       "      <td>NaN</td>\n",
       "      <td>92</td>\n",
       "    </tr>\n",
       "    <tr>\n",
       "      <th>4</th>\n",
       "      <td>S17G01N102</td>\n",
       "      <td>0.454545</td>\n",
       "      <td>0.612245</td>\n",
       "      <td>0.428571</td>\n",
       "      <td>0.754098</td>\n",
       "      <td>0.318584</td>\n",
       "      <td>0.684685</td>\n",
       "      <td>1.0</td>\n",
       "      <td>0.681416</td>\n",
       "      <td>0.5</td>\n",
       "      <td>0.119048</td>\n",
       "      <td>0.5</td>\n",
       "      <td>NaN</td>\n",
       "      <td>NaN</td>\n",
       "      <td>73</td>\n",
       "    </tr>\n",
       "    <tr>\n",
       "      <th>...</th>\n",
       "      <td>...</td>\n",
       "      <td>...</td>\n",
       "      <td>...</td>\n",
       "      <td>...</td>\n",
       "      <td>...</td>\n",
       "      <td>...</td>\n",
       "      <td>...</td>\n",
       "      <td>...</td>\n",
       "      <td>...</td>\n",
       "      <td>...</td>\n",
       "      <td>...</td>\n",
       "      <td>...</td>\n",
       "      <td>...</td>\n",
       "      <td>...</td>\n",
       "      <td>...</td>\n",
       "    </tr>\n",
       "    <tr>\n",
       "      <th>7827</th>\n",
       "      <td>S40G01N5</td>\n",
       "      <td>0.230769</td>\n",
       "      <td>0.368421</td>\n",
       "      <td>0.375000</td>\n",
       "      <td>0.500000</td>\n",
       "      <td>0.205882</td>\n",
       "      <td>0.545455</td>\n",
       "      <td>NaN</td>\n",
       "      <td>0.794118</td>\n",
       "      <td>0.5</td>\n",
       "      <td>0.085714</td>\n",
       "      <td>0.5</td>\n",
       "      <td>NaN</td>\n",
       "      <td>NaN</td>\n",
       "      <td>72</td>\n",
       "    </tr>\n",
       "    <tr>\n",
       "      <th>7828</th>\n",
       "      <td>S40G01N6</td>\n",
       "      <td>1.050000</td>\n",
       "      <td>0.460000</td>\n",
       "      <td>0.447368</td>\n",
       "      <td>0.812500</td>\n",
       "      <td>0.040000</td>\n",
       "      <td>0.515152</td>\n",
       "      <td>NaN</td>\n",
       "      <td>0.960000</td>\n",
       "      <td>0.5</td>\n",
       "      <td>0.000000</td>\n",
       "      <td>0.5</td>\n",
       "      <td>NaN</td>\n",
       "      <td>0.5</td>\n",
       "      <td>80</td>\n",
       "    </tr>\n",
       "    <tr>\n",
       "      <th>7829</th>\n",
       "      <td>S40G01N7</td>\n",
       "      <td>1.109375</td>\n",
       "      <td>0.611765</td>\n",
       "      <td>0.413793</td>\n",
       "      <td>0.388889</td>\n",
       "      <td>0.285714</td>\n",
       "      <td>0.676471</td>\n",
       "      <td>NaN</td>\n",
       "      <td>0.714286</td>\n",
       "      <td>0.5</td>\n",
       "      <td>0.035088</td>\n",
       "      <td>0.5</td>\n",
       "      <td>NaN</td>\n",
       "      <td>NaN</td>\n",
       "      <td>77</td>\n",
       "    </tr>\n",
       "    <tr>\n",
       "      <th>7830</th>\n",
       "      <td>S40G01N8</td>\n",
       "      <td>0.388889</td>\n",
       "      <td>0.333333</td>\n",
       "      <td>0.350000</td>\n",
       "      <td>0.400000</td>\n",
       "      <td>0.385965</td>\n",
       "      <td>0.416667</td>\n",
       "      <td>NaN</td>\n",
       "      <td>0.614035</td>\n",
       "      <td>0.5</td>\n",
       "      <td>0.094340</td>\n",
       "      <td>0.5</td>\n",
       "      <td>NaN</td>\n",
       "      <td>NaN</td>\n",
       "      <td>92</td>\n",
       "    </tr>\n",
       "    <tr>\n",
       "      <th>7831</th>\n",
       "      <td>S40G01N9</td>\n",
       "      <td>0.505747</td>\n",
       "      <td>0.554688</td>\n",
       "      <td>0.253968</td>\n",
       "      <td>0.769231</td>\n",
       "      <td>0.217949</td>\n",
       "      <td>0.623529</td>\n",
       "      <td>NaN</td>\n",
       "      <td>0.782051</td>\n",
       "      <td>0.5</td>\n",
       "      <td>0.036649</td>\n",
       "      <td>0.5</td>\n",
       "      <td>NaN</td>\n",
       "      <td>NaN</td>\n",
       "      <td>138</td>\n",
       "    </tr>\n",
       "  </tbody>\n",
       "</table>\n",
       "<p>7832 rows × 15 columns</p>\n",
       "</div>"
      ],
      "text/plain": [
       "           gmkey       ast      twop    threep     freep      offr       ppp  \\\n",
       "0       S17G01N1  0.683333  0.545455  0.315789  0.771429  0.338462  0.659091   \n",
       "1      S17G01N10  0.746479  0.480392  0.366667  0.757576  0.154930  0.486111   \n",
       "2     S17G01N100  0.454545  0.477064  0.350000  0.829787  0.434211  0.559322   \n",
       "3     S17G01N101  0.863636  0.507463  0.263158  0.647059  0.147541  0.555556   \n",
       "4     S17G01N102  0.454545  0.612245  0.428571  0.754098  0.318584  0.684685   \n",
       "...          ...       ...       ...       ...       ...       ...       ...   \n",
       "7827    S40G01N5  0.230769  0.368421  0.375000  0.500000  0.205882  0.545455   \n",
       "7828    S40G01N6  1.050000  0.460000  0.447368  0.812500  0.040000  0.515152   \n",
       "7829    S40G01N7  1.109375  0.611765  0.413793  0.388889  0.285714  0.676471   \n",
       "7830    S40G01N8  0.388889  0.333333  0.350000  0.400000  0.385965  0.416667   \n",
       "7831    S40G01N9  0.505747  0.554688  0.253968  0.769231  0.217949  0.623529   \n",
       "\n",
       "       dk      defr  stl        bs  foul  tf   gd  score  \n",
       "0     0.0  0.661538  0.5  0.029851   0.5 NaN  0.5     99  \n",
       "1     1.0  0.845070  0.5  0.037037   0.5 NaN  0.5     90  \n",
       "2     NaN  0.565789  0.5  0.046980   0.5 NaN  NaN     75  \n",
       "3     NaN  0.852459  0.5  0.057143   0.5 NaN  NaN     92  \n",
       "4     1.0  0.681416  0.5  0.119048   0.5 NaN  NaN     73  \n",
       "...   ...       ...  ...       ...   ...  ..  ...    ...  \n",
       "7827  NaN  0.794118  0.5  0.085714   0.5 NaN  NaN     72  \n",
       "7828  NaN  0.960000  0.5  0.000000   0.5 NaN  0.5     80  \n",
       "7829  NaN  0.714286  0.5  0.035088   0.5 NaN  NaN     77  \n",
       "7830  NaN  0.614035  0.5  0.094340   0.5 NaN  NaN     92  \n",
       "7831  NaN  0.782051  0.5  0.036649   0.5 NaN  NaN    138  \n",
       "\n",
       "[7832 rows x 15 columns]"
      ]
     },
     "execution_count": 221,
     "metadata": {},
     "output_type": "execute_result"
    }
   ],
   "source": [
    "home_result = team_player_concat(calculate_data(team_hdata,team_adata), calculate_data(player_hdata, player_adata), 0)\n",
    "away_result = team_player_concat(calculate_data(team_adata,team_hdata), calculate_data(player_adata, player_hdata), 0)\n",
    "result = pd.concat([home_result, away_result], ignore_index=True)\n",
    "result"
   ]
  },
  {
   "cell_type": "code",
   "execution_count": 222,
   "metadata": {
    "pycharm": {
     "name": "#%%\n"
    }
   },
   "outputs": [],
   "source": [
    "# data1 = result.replace(0, 0.1)\n",
    "data1 = result.fillna(0)\n",
    "data1 = data1.drop(columns='gmkey')"
   ]
  },
  {
   "cell_type": "code",
   "execution_count": 223,
   "metadata": {
    "pycharm": {
     "name": "#%%\n"
    }
   },
   "outputs": [],
   "source": [
    "X = data1.iloc[:, :-1]\n",
    "y = data1.iloc[:, -1]"
   ]
  },
  {
   "cell_type": "code",
   "execution_count": 224,
   "metadata": {
    "pycharm": {
     "name": "#%%\n"
    }
   },
   "outputs": [],
   "source": [
    "X_train, X_test, y_train, y_test = train_test_split(X, y, test_size=0.2, random_state=0)"
   ]
  },
  {
   "cell_type": "code",
   "execution_count": 225,
   "metadata": {
    "pycharm": {
     "name": "#%%\n"
    }
   },
   "outputs": [
    {
     "data": {
      "text/plain": [
       "LinearRegression()"
      ]
     },
     "execution_count": 225,
     "metadata": {},
     "output_type": "execute_result"
    }
   ],
   "source": [
    "model = LinearRegression()\n",
    "model.fit(X_train, y_train)"
   ]
  },
  {
   "cell_type": "code",
   "execution_count": 226,
   "metadata": {
    "pycharm": {
     "name": "#%%\n"
    }
   },
   "outputs": [
    {
     "data": {
      "text/plain": [
       "11.464793688620365"
      ]
     },
     "execution_count": 226,
     "metadata": {},
     "output_type": "execute_result"
    }
   ],
   "source": [
    "y_predict = model.predict(X_test)\n",
    "mean_squared_error(y_predict, y_test, squared = False)"
   ]
  },
  {
   "cell_type": "code",
   "execution_count": 227,
   "metadata": {
    "pycharm": {
     "name": "#%%\n"
    }
   },
   "outputs": [
    {
     "data": {
      "text/plain": [
       "0.03651125142163203"
      ]
     },
     "execution_count": 227,
     "metadata": {},
     "output_type": "execute_result"
    }
   ],
   "source": [
    "model.score(X_test, y_test)\n"
   ]
  },
  {
   "cell_type": "code",
   "execution_count": null,
   "metadata": {
    "pycharm": {
     "name": "#%%\n"
    }
   },
   "outputs": [],
   "source": []
  }
 ],
 "metadata": {
  "interpreter": {
   "hash": "c7bc2c5d4b1c91b505209bd98bcdbbf5dd33a54f99a0a1f28442c34ebf4f9ae4"
  },
  "kernelspec": {
   "display_name": "Python 3.10.4 ('KBLPredict')",
   "language": "python",
   "name": "python3"
  },
  "language_info": {
   "codemirror_mode": {
    "name": "ipython",
    "version": 3
   },
   "file_extension": ".py",
   "mimetype": "text/x-python",
   "name": "python",
   "nbconvert_exporter": "python",
   "pygments_lexer": "ipython3",
   "version": "3.10.4"
  }
 },
 "nbformat": 4,
 "nbformat_minor": 0
}
