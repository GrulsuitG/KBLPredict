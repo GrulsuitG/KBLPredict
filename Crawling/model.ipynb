{
 "cells": [
  {
   "cell_type": "code",
   "execution_count": 2,
   "metadata": {
    "collapsed": true,
    "pycharm": {
     "name": "#%%\n"
    }
   },
   "outputs": [],
   "source": [
    "import numpy as np\n",
    "import matplotlib.pyplot as plt\n",
    "import pandas as pd\n",
    "import seaborn as sns\n",
    "from sklearn.model_selection import train_test_split\n",
    "from sklearn.linear_model import LinearRegression\n",
    "from sklearn.metrics import mean_squared_error\n",
    "from sklearn.tree import DecisionTreeRegressor"
   ]
  },
  {
   "cell_type": "code",
   "execution_count": 3,
   "metadata": {
    "collapsed": false,
    "pycharm": {
     "name": "#%%\n"
    }
   },
   "outputs": [],
   "source": [
    "import pymysql\n",
    "import json\n",
    "import warnings\n",
    "import DB\n",
    "warnings.filterwarnings(action='ignore')"
   ]
  },
  {
   "cell_type": "code",
   "execution_count": 4,
   "metadata": {
    "pycharm": {
     "name": "#%%\n"
    }
   },
   "outputs": [],
   "source": [
    "def team_player_concat(team, player, team_rate):\n",
    "  player_rate = 1 - team_rate\n",
    "  output_data = pd.DataFrame()\n",
    "  output_data['gmkey'] = team['gmkey']\n",
    "  output_data['ast'] = team_rate * team['ast'] + player_rate * player['ast']\n",
    "  # 2점\n",
    "  output_data['twop'] = team_rate * team['twop'] + player_rate * player['twop']\n",
    "  # 3점\n",
    "  output_data['threep'] = team_rate * team['threep'] + player_rate * player['threep']\n",
    "  # 자유투\n",
    "  output_data['freep'] = team_rate * team['freep'] + player_rate * player['freep']\n",
    "  # 공격 리바\n",
    "  output_data['offr'] = team_rate * team['offr'] + player_rate * player['offr']\n",
    "  # 속공\n",
    "  # output_data['tfb'] = team['tfb'] / team['fgt']\n",
    "  # 벤치득점\n",
    "  # output_data['bench'] = team['benchScoreCn'] / team['score']\n",
    "  # 속공득점\n",
    "  # output_data['tfbp'] = team['fbScoreCn'] / team['score']\n",
    "  # 페인트존 득점\n",
    "  output_data['ppp'] = team_rate * team['ppp'] + player_rate * player['ppp']\n",
    "  # 덩크\n",
    "  output_data['dk'] = team_rate * team['dk'] + player_rate * player['dk']\n",
    "  # 최다 연속 득점 비율\n",
    "  # output_data['maxContiScore'] = team['maxContiScoreCn'] / team['score']\n",
    "  # 최다 리드 점수차\n",
    "  # output_data['maxLeadScore'] = (team['score'] - player['score']) / team['maxLeadScoreCn']\n",
    "  # 득점 우위 시간\n",
    "  # output_data['scoreHighTime'] = team['scoreHighTimeCn'] / 2400\n",
    "  # 세컨찬스 득점\n",
    "  # output_data['secChanceScore'] = team['secChanceScoreCn'] / team['score']\n",
    "  # 턴오버\n",
    "  # output_data['to'] = (team['to'] + team['tto']) / (team['to'] + team['tto'] + player['to'] + player['tto'])\n",
    "  # output_data['to'] = (team['to'] + team['tto']) / (team['to'] + team['tto'] + player['to'] + player['tto'])\n",
    "\n",
    "  output_data['defr'] = team_rate * team['defr'] + player_rate * player['defr']\n",
    "  output_data['stl'] = team_rate * team['stl'] + player_rate * player['stl']\n",
    "  output_data['bs'] = team_rate * team['bs'] + player_rate * player['bs']\n",
    "  output_data['foul'] = team_rate * team['foul'] + player_rate * player['foul']\n",
    "  output_data['tf'] = team_rate * team['tf'] + player_rate * player['tf']\n",
    "  output_data['gd'] = team_rate * team['gd'] + player_rate * player['gd']\n",
    "\n",
    "  output_data['score'] = team['score']\n",
    "  \n",
    "  # output_data['teamR'] = team['teamR'] / (team['teamR'] + player['teamR'])\n",
    "  # result.append(output_data, ignore_index=True)\n",
    "  # print(output_data)\n",
    "  # result = pd.concat([result, pd.DataFrame([output_data])], ignore_index=True)\n",
    "  return output_data"
   ]
  },
  {
   "cell_type": "code",
   "execution_count": 189,
   "metadata": {},
   "outputs": [],
   "source": [
    "def calculate_data(h_data, a_data):\n",
    "  output_data = pd.DataFrame()\n",
    "  output_data['gmkey'] = h_data['gmkey']\n",
    "  output_data['ast'] = h_data['ast'] / h_data['fgt']\n",
    "  # 2점\n",
    "  output_data['twop'] = h_data['fg'] / h_data['fgA']\n",
    "  # 3점\n",
    "  output_data['threep'] = h_data['threep'] / h_data['threepA']\n",
    "  # 자유투\n",
    "  output_data['freep'] = h_data['ft'] / h_data['ftA']\n",
    "  # 공격 리바\n",
    "  output_data['offr'] = h_data['offr'] / (h_data['offr'] + a_data['defr'])\n",
    "  # 속공\n",
    "  # output_data['tfb'] = h_data['tfb'] / h_data['fgt']\n",
    "  # 벤치득점\n",
    "  # output_data['bench'] = h_data['benchScoreCn'] / h_data['score']\n",
    "  # 속공득점\n",
    "  # output_data['tfbp'] = h_data['fbScoreCn'] / h_data['score']\n",
    "  # 페인트존 득점\n",
    "  output_data['ppp'] = h_data['pp'] / h_data['ppA']\n",
    "  # 덩크\n",
    "  output_data['dk'] = h_data['dk'] / h_data['dkA']\n",
    "  # 최다 연속 득점 비율\n",
    "  # output_data['maxContiScore'] = h_data['maxContiScoreCn'] / h_data['score']\n",
    "  # 최다 리드 점수차\n",
    "  # output_data['maxLeadScore'] = (h_data['score'] - a_data['score']) / h_data['maxLeadScoreCn']\n",
    "  # 득점 우위 시간\n",
    "  # output_data['scoreHighTime'] = h_data['scoreHighTimeCn'] / 2400\n",
    "  # 세컨찬스 득점\n",
    "  # output_data['secChanceScore'] = h_data['secChanceScoreCn'] / h_data['score']\n",
    "  # 턴오버\n",
    "  # output_data['to'] = (h_data['to'] + h_data['tto']) / (h_data['to'] + h_data['tto'] + a_data['to'] + a_data['tto'])\n",
    "  # output_data['to'] = (h_data['to'] + h_data['tto']) / (h_data['to'] + h_data['tto'] + a_data['to'] + a_data['tto'])\n",
    "\n",
    "  output_data['defr'] = h_data['defr'] / (a_data['offr'] + h_data['defr'])\n",
    "  output_data['stl'] = h_data['stl'] / (h_data['stl'] + a_data['stl'])\n",
    "  output_data['bs'] = h_data['bs'] / a_data['fgtA']\n",
    "  output_data['foul'] = h_data['foul'] / (h_data['foul'] + a_data['foul'])\n",
    "  output_data['tf'] = h_data['tf'] / (h_data['tf'] + a_data['tf'])\n",
    "  output_data['gd'] = h_data['gd'] / (h_data['gd'] + a_data['gd'])\n",
    "\n",
    "  output_data['score'] = h_data['score']\n",
    "  \n",
    "  # output_data['teamR'] = h_data['teamR'] / (h_data['teamR'] + a_data['teamR'])\n",
    "  # result.append(output_data, ignore_index=True)\n",
    "  # print(output_data)\n",
    "  # result = pd.concat([result, pd.DataFrame([output_data])], ignore_index=True)\n",
    "  return output_data\n"
   ]
  },
  {
   "cell_type": "code",
   "execution_count": null,
   "metadata": {},
   "outputs": [],
   "source": [
    "# def get_keyplayer_data_inmemory():\n",
    "player_record = pd.read_csv('player_record.csv', delimiter=';')\n",
    "db = DB.MYDB()\n",
    "db.cursor.execute(\"select * from game_meta where gameDate >= '20101015'\")\n",
    "meta_data = db.cursor.fetchall()\n",
    "for idx, meta in enumerate(meta_data):\n",
    "    gmkey = meta['gmkey']\n",
    "    \n",
    "    print(player_record[player_record['gmkey'] < gmkey])\n",
    "    # print(idx, meta)\n",
    "    break\n",
    "db.db.close()\n",
    "# get_keyplayer_data_inmemory()"
   ]
  },
  {
   "cell_type": "code",
   "execution_count": null,
   "metadata": {
    "pycharm": {
     "name": "#%%\n"
    }
   },
   "outputs": [],
   "source": [
    "def naive_model():\n",
    "    db = DB.MYDB()\n",
    "    db.cursor.execute(\"select * from team_record where home_away = 'H' and gmkey >= 'S17' order by gmkey\")\n",
    "    team_hdata = pd.DataFrame(db.cursor.fetchall())\n",
    "    team_hdata = team_hdata.drop(team_hdata[team_hdata['gmkey'].isin(['S37G13N10', 'S37G13N2', 'S39G13N2', 'S39G13N5'])].index)\n",
    "    team_hdata = team_hdata.reset_index(drop=True)\n",
    "    db.cursor.execute(\"select * from team_record where home_away = 'A' and gmkey >= 'S17' order by gmkey\")\n",
    "    team_adata = pd.DataFrame(db.cursor.fetchall())\n",
    "    team_adata = team_adata.drop(team_adata[team_adata['gmkey'].isin(['S37G13N10', 'S37G13N2', 'S39G13N2', 'S39G13N5'])].index)\n",
    "    team_adata = team_adata.reset_index(drop=True)\n",
    "    db.db.close()\n",
    "\n",
    "    player_hdata = pd.read_csv('h_data.csv', index_col=0)\n",
    "    player_adata = pd.read_csv('a_data.csv', index_col=0)\n",
    "\n",
    "    player_hdata.sort_values(by='gmkey', inplace=True)\n",
    "    player_adata.sort_values(by='gmkey', inplace=True)\n",
    "    team_hdata.sort_values(by='gmkey', inplace=True)\n",
    "    team_adata.sort_values(by='gmkey', inplace=True)\n",
    "\n",
    "    home_result = team_player_concat(calculate_data(team_hdata,team_adata), calculate_data(player_hdata, player_adata), 0)\n",
    "    away_result = team_player_concat(calculate_data(team_adata,team_hdata), calculate_data(player_adata, player_hdata), 0)\n",
    "    data = pd.concat([home_result, away_result], ignore_index=True)\n",
    "    data.fillna(0, inplace=True)\n",
    "    data.drop(columns='gmkey', inplace=True)\n",
    "\n",
    "    return data\n"
   ]
  },
  {
   "cell_type": "code",
   "execution_count": 319,
   "metadata": {},
   "outputs": [],
   "source": [
    "#최근 5경기 기록으로 모델 생성\n",
    "def recent_5_model(save=False):\n",
    "    team_record = pd.read_csv('team_recent_avg_record.csv', index_col=0)\n",
    "    player_record = pd.read_csv('player_recent_avg_record.csv', index_col=0)\n",
    "\n",
    "    player_record = player_record.drop(index = [541, 3073, 3075, 3697, 3699, 6595, 7202, 7229])\n",
    "\n",
    "    team_record.sort_values('gmkey', inplace=True)\n",
    "    team_record.reset_index(inplace=True)\n",
    "    player_record.sort_values('gmkey', inplace=True)\n",
    "    player_record.reset_index(inplace=True)\n",
    "\n",
    "    h_team_data = team_record[team_record.index % 2 == 0].reset_index()\n",
    "    a_team_data = team_record[team_record.index % 2 != 0].reset_index()\n",
    "    h_player_data = team_record[team_record.index % 2 == 0].reset_index()\n",
    "    a_player_data = team_record[team_record.index % 2 != 0].reset_index()\n",
    "\n",
    "    team_data = pd.concat([calculate_data(h_team_data, a_team_data), calculate_data(a_team_data, h_team_data)], ignore_index=True)\n",
    "    player_data = pd.concat([calculate_data(h_player_data, a_player_data), calculate_data(a_player_data, h_player_data)], ignore_index=True)\n",
    "    if save:\n",
    "        team_data.to_csv('team_calculate_date.csv')\n",
    "        player_data.to_csv('player_calculate_date.csv')\n",
    "\n",
    "    data = team_player_concat(team_data,player_data, 0.5)\n",
    "    data.drop(columns='gmkey', inplace=True)\n",
    "    data.fillna(0, inplace=True)\n",
    "\n",
    "    return data\n"
   ]
  },
  {
   "cell_type": "code",
   "execution_count": 323,
   "metadata": {
    "pycharm": {
     "name": "#%%\n"
    }
   },
   "outputs": [
    {
     "data": {
      "text/plain": [
       "0.006739551445622882"
      ]
     },
     "execution_count": 323,
     "metadata": {},
     "output_type": "execute_result"
    }
   ],
   "source": [
    "#선형 회귀\n",
    "data = recent_5_model()\n",
    "X = data.iloc[:, :-1]\n",
    "y = data.iloc[:, -1]\n",
    "X_train, X_test, y_train, y_test = train_test_split(X, y, test_size=0.2, random_state=0)\n",
    "model = LinearRegression()\n",
    "model.fit(X_train, y_train)\n",
    "y_predict = model.predict(X_test)\n",
    "mean_squared_error(y_predict, y_test, squared = False)\n",
    "model.score(X_test, y_test)\n",
    "\n"
   ]
  },
  {
   "cell_type": "code",
   "execution_count": 332,
   "metadata": {
    "pycharm": {
     "name": "#%%\n"
    }
   },
   "outputs": [
    {
     "data": {
      "text/plain": [
       "{'ast': 0.07883,\n",
       " 'twop': 0.08972,\n",
       " 'threep': 0.07672,\n",
       " 'freep': 0.0915,\n",
       " 'offr': 0.08256,\n",
       " 'ppp': 0.08034,\n",
       " 'dk': 0.04158,\n",
       " 'defr': 0.08288,\n",
       " 'stl': 0.07612,\n",
       " 'bs': 0.0902,\n",
       " 'foul': 0.11199,\n",
       " 'tf': 0.02462,\n",
       " 'gd': 0.07294}"
      ]
     },
     "execution_count": 332,
     "metadata": {},
     "output_type": "execute_result"
    }
   ],
   "source": [
    "#Decision Tree를 통한 중요한 feature 파악\n",
    "features = X.columns.tolist()\n",
    "\n",
    "tree = DecisionTreeRegressor()\n",
    "tree.fit(X_train, y_train)\n",
    "\n",
    "# Extracting the importances by sklearn \n",
    "importances_sk = tree.feature_importances_\n",
    "\n",
    "# Creating a dataframe with the feature importance by sklearn\n",
    "feature_importance_sk = {}\n",
    "for i, feature in enumerate(features):\n",
    "    feature_importance_sk[feature] = round(importances_sk[i],5)\n",
    "feature_importance_sk"
   ]
  }
 ],
 "metadata": {
  "interpreter": {
   "hash": "c7bc2c5d4b1c91b505209bd98bcdbbf5dd33a54f99a0a1f28442c34ebf4f9ae4"
  },
  "kernelspec": {
   "display_name": "Python 3.10.4 ('KBLPredict')",
   "language": "python",
   "name": "python3"
  },
  "language_info": {
   "codemirror_mode": {
    "name": "ipython",
    "version": 3
   },
   "file_extension": ".py",
   "mimetype": "text/x-python",
   "name": "python",
   "nbconvert_exporter": "python",
   "pygments_lexer": "ipython3",
   "version": "3.10.4"
  }
 },
 "nbformat": 4,
 "nbformat_minor": 0
}
